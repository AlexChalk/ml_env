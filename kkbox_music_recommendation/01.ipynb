{
 "cells": [
  {
   "cell_type": "code",
   "execution_count": 1,
   "id": "e1108cbb-cf4a-4ba2-a448-3adbb2ccf976",
   "metadata": {},
   "outputs": [],
   "source": [
    "try: import fastkaggle\n",
    "except ModuleNotFoundError:\n",
    "    !pip install -Uq fastkaggle fastai py7zr scikit-learn"
   ]
  },
  {
   "cell_type": "code",
   "execution_count": 2,
   "id": "b8ac0cf0-1940-4697-ab59-28bc295ed937",
   "metadata": {},
   "outputs": [],
   "source": [
    "from fastkaggle import *"
   ]
  },
  {
   "cell_type": "code",
   "execution_count": 3,
   "id": "595598f8-40e7-46a8-9e1f-63806360e161",
   "metadata": {},
   "outputs": [],
   "source": [
    "# for working with paths in Python, I recommend using `pathlib.Path`\n",
    "from pathlib import Path\n",
    "\n",
    "cred_path = Path('~/.kaggle/kaggle.json').expanduser()\n",
    "if not iskaggle and not cred_path.exists():\n",
    "    creds = ''\n",
    "    cred_path.parent.mkdir(exist_ok=True)\n",
    "    cred_path.write_text(creds)\n",
    "    cred_path.chmod(0o600)"
   ]
  },
  {
   "cell_type": "code",
   "execution_count": 4,
   "id": "a76bfabb-7412-4bfe-82e2-b06550b67d31",
   "metadata": {},
   "outputs": [
    {
     "name": "stdout",
     "output_type": "stream",
     "text": [
      "Warning: Your Kaggle API key is readable by other users on this system! To fix this, you can run 'chmod 600 /home/adc/.kaggle/kaggle.json'\n"
     ]
    }
   ],
   "source": [
    "comp = 'kkbox-music-recommendation-challenge'\n",
    "\n",
    "path = setup_comp(comp, install='fastai')"
   ]
  },
  {
   "cell_type": "code",
   "execution_count": 5,
   "id": "1689e644-d791-4466-84a7-49d0134a4798",
   "metadata": {},
   "outputs": [
    {
     "data": {
      "text/plain": [
       "Path('kkbox-music-recommendation-challenge')"
      ]
     },
     "execution_count": 5,
     "metadata": {},
     "output_type": "execute_result"
    }
   ],
   "source": [
    "path"
   ]
  },
  {
   "cell_type": "code",
   "execution_count": 6,
   "id": "f540eae7-1edf-42cc-9f9f-9d43063c7e65",
   "metadata": {},
   "outputs": [
    {
     "data": {
      "text/plain": [
       "(#12) [Path('kkbox-music-recommendation-challenge/train.csv'),Path('kkbox-music-recommendation-challenge/test.csv.7z'),Path('kkbox-music-recommendation-challenge/test.csv'),Path('kkbox-music-recommendation-challenge/songs.csv.7z'),Path('kkbox-music-recommendation-challenge/sample_submission.csv.7z'),Path('kkbox-music-recommendation-challenge/train.csv.7z'),Path('kkbox-music-recommendation-challenge/sample_submission.csv'),Path('kkbox-music-recommendation-challenge/members.csv.7z'),Path('kkbox-music-recommendation-challenge/song_extra_info.csv'),Path('kkbox-music-recommendation-challenge/songs.csv')...]"
      ]
     },
     "execution_count": 6,
     "metadata": {},
     "output_type": "execute_result"
    }
   ],
   "source": [
    "from fastai.tabular.all import *\n",
    "from fastai.collab import *\n",
    "\n",
    "path.ls()"
   ]
  },
  {
   "cell_type": "code",
   "execution_count": 7,
   "id": "ba2e0fc9-c79b-4029-9890-f911994499a3",
   "metadata": {},
   "outputs": [],
   "source": [
    "def is_extracted(file):\n",
    "    return os.path.isfile(os.path.splitext(file)[0])\n",
    "\n",
    "for file in path.ls(file_exts=\".7z\"):\n",
    "    if not is_extracted(file):\n",
    "        !py7zr x {str(file)} {str(path)}"
   ]
  },
  {
   "cell_type": "code",
   "execution_count": 8,
   "id": "eced8870-bcfe-491d-b195-273bbeb6bc09",
   "metadata": {},
   "outputs": [
    {
     "data": {
      "text/plain": [
       "(#6) [Path('kkbox-music-recommendation-challenge/train.csv'),Path('kkbox-music-recommendation-challenge/test.csv'),Path('kkbox-music-recommendation-challenge/sample_submission.csv'),Path('kkbox-music-recommendation-challenge/song_extra_info.csv'),Path('kkbox-music-recommendation-challenge/songs.csv'),Path('kkbox-music-recommendation-challenge/members.csv')]"
      ]
     },
     "execution_count": 8,
     "metadata": {},
     "output_type": "execute_result"
    }
   ],
   "source": [
    "path.ls(file_exts=\".csv\")"
   ]
  },
  {
   "cell_type": "code",
   "execution_count": 9,
   "id": "9d24d19f-a488-48bb-99ae-f27264ab5159",
   "metadata": {},
   "outputs": [
    {
     "data": {
      "text/html": [
       "<div>\n",
       "<style scoped>\n",
       "    .dataframe tbody tr th:only-of-type {\n",
       "        vertical-align: middle;\n",
       "    }\n",
       "\n",
       "    .dataframe tbody tr th {\n",
       "        vertical-align: top;\n",
       "    }\n",
       "\n",
       "    .dataframe thead th {\n",
       "        text-align: right;\n",
       "    }\n",
       "</style>\n",
       "<table border=\"1\" class=\"dataframe\">\n",
       "  <thead>\n",
       "    <tr style=\"text-align: right;\">\n",
       "      <th></th>\n",
       "      <th>msno</th>\n",
       "      <th>song_id</th>\n",
       "      <th>target</th>\n",
       "    </tr>\n",
       "  </thead>\n",
       "  <tbody>\n",
       "    <tr>\n",
       "      <th>0</th>\n",
       "      <td>FGtllVqz18RPiwJj/edr2gV78zirAiY/9SmYvia+kCg=</td>\n",
       "      <td>BBzumQNXUHKdEBOB7mAJuzok+IJA1c2Ryg/yzTF6tik=</td>\n",
       "      <td>1</td>\n",
       "    </tr>\n",
       "    <tr>\n",
       "      <th>1</th>\n",
       "      <td>Xumu+NIjS6QYVxDS4/t3SawvJ7viT9hPKXmf0RtLNx8=</td>\n",
       "      <td>bhp/MpSNoqoxOIB+/l8WPqu6jldth4DIpCm3ayXnJqM=</td>\n",
       "      <td>1</td>\n",
       "    </tr>\n",
       "    <tr>\n",
       "      <th>2</th>\n",
       "      <td>Xumu+NIjS6QYVxDS4/t3SawvJ7viT9hPKXmf0RtLNx8=</td>\n",
       "      <td>JNWfrrC7zNN7BdMpsISKa4Mw+xVJYNnxXh3/Epw7QgY=</td>\n",
       "      <td>1</td>\n",
       "    </tr>\n",
       "    <tr>\n",
       "      <th>3</th>\n",
       "      <td>Xumu+NIjS6QYVxDS4/t3SawvJ7viT9hPKXmf0RtLNx8=</td>\n",
       "      <td>2A87tzfnJTSWqD7gIZHisolhe4DMdzkbd6LzO1KHjNs=</td>\n",
       "      <td>1</td>\n",
       "    </tr>\n",
       "    <tr>\n",
       "      <th>4</th>\n",
       "      <td>FGtllVqz18RPiwJj/edr2gV78zirAiY/9SmYvia+kCg=</td>\n",
       "      <td>3qm6XTZ6MOCU11x8FIVbAGH5l5uMkT3/ZalWG1oo2Gc=</td>\n",
       "      <td>1</td>\n",
       "    </tr>\n",
       "  </tbody>\n",
       "</table>\n",
       "</div>"
      ],
      "text/plain": [
       "                                           msno  \\\n",
       "0  FGtllVqz18RPiwJj/edr2gV78zirAiY/9SmYvia+kCg=   \n",
       "1  Xumu+NIjS6QYVxDS4/t3SawvJ7viT9hPKXmf0RtLNx8=   \n",
       "2  Xumu+NIjS6QYVxDS4/t3SawvJ7viT9hPKXmf0RtLNx8=   \n",
       "3  Xumu+NIjS6QYVxDS4/t3SawvJ7viT9hPKXmf0RtLNx8=   \n",
       "4  FGtllVqz18RPiwJj/edr2gV78zirAiY/9SmYvia+kCg=   \n",
       "\n",
       "                                        song_id  target  \n",
       "0  BBzumQNXUHKdEBOB7mAJuzok+IJA1c2Ryg/yzTF6tik=       1  \n",
       "1  bhp/MpSNoqoxOIB+/l8WPqu6jldth4DIpCm3ayXnJqM=       1  \n",
       "2  JNWfrrC7zNN7BdMpsISKa4Mw+xVJYNnxXh3/Epw7QgY=       1  \n",
       "3  2A87tzfnJTSWqD7gIZHisolhe4DMdzkbd6LzO1KHjNs=       1  \n",
       "4  3qm6XTZ6MOCU11x8FIVbAGH5l5uMkT3/ZalWG1oo2Gc=       1  "
      ]
     },
     "execution_count": 9,
     "metadata": {},
     "output_type": "execute_result"
    }
   ],
   "source": [
    "songs = pd.read_csv(path/'train.csv', usecols=('msno', 'song_id', 'target'))\n",
    "\n",
    "songs.head()"
   ]
  },
  {
   "cell_type": "code",
   "execution_count": 10,
   "id": "0ad1642c-0c9b-44f8-a738-c51c7a7b0736",
   "metadata": {},
   "outputs": [
    {
     "data": {
      "text/html": [
       "<table border=\"1\" class=\"dataframe\">\n",
       "  <thead>\n",
       "    <tr style=\"text-align: right;\">\n",
       "      <th></th>\n",
       "      <th>msno</th>\n",
       "      <th>song_id</th>\n",
       "      <th>target</th>\n",
       "    </tr>\n",
       "  </thead>\n",
       "  <tbody>\n",
       "    <tr>\n",
       "      <th>0</th>\n",
       "      <td>0qGVUqIDcZThY+22IUv0/pOg2sm4Iyp6Wd1iCfRgEY8=</td>\n",
       "      <td>q5/Vwifgv0SGdEIyiMU2F0pIXkeCIW3w2xB8n4iMoS0=</td>\n",
       "      <td>0</td>\n",
       "    </tr>\n",
       "    <tr>\n",
       "      <th>1</th>\n",
       "      <td>1m91HsZUO53drOd2CmAT2nf4JnK4xxBfbzPNTu9pkjU=</td>\n",
       "      <td>IAMssZwAZGXDggbsJjV1VwCh7egNAL3lOhQ+DMn3SPA=</td>\n",
       "      <td>0</td>\n",
       "    </tr>\n",
       "    <tr>\n",
       "      <th>2</th>\n",
       "      <td>yogrNKLmo60UsSS72+ajiVfkZ2npnU23mk+vb1mIh5A=</td>\n",
       "      <td>8Ckw1wek5d6oEsNUoM4P5iag86TaEmyLwdtrckL0Re8=</td>\n",
       "      <td>1</td>\n",
       "    </tr>\n",
       "    <tr>\n",
       "      <th>3</th>\n",
       "      <td>k4FVXwOW+H6GP5GPklub7jE6bgX4E5Xg9uIxq+BI9iY=</td>\n",
       "      <td>2fooclHv05bXUTZlXgMyTOV9XO8Sy3JxaqpVVegL5zA=</td>\n",
       "      <td>1</td>\n",
       "    </tr>\n",
       "    <tr>\n",
       "      <th>4</th>\n",
       "      <td>XHJRZV5Xgcub4dNGuzRj5tVfDD1iwrtoXmdQOWtlc3U=</td>\n",
       "      <td>ymW1JPg84aFXM9n1bdJxOgSNLDaS4az9vatElxPlX8Q=</td>\n",
       "      <td>1</td>\n",
       "    </tr>\n",
       "    <tr>\n",
       "      <th>5</th>\n",
       "      <td>Ubvy10B61+1rQVsLLx44nWY5kgn5RIluaeMvyIIabJg=</td>\n",
       "      <td>brP+NZle0tDO3xL852wQFZhCj+nGEFuZkh06sfzYqIo=</td>\n",
       "      <td>0</td>\n",
       "    </tr>\n",
       "    <tr>\n",
       "      <th>6</th>\n",
       "      <td>pi+cpDKsAi8XIqjhUitYHDFI0EGIsahYe7zHGNpMivI=</td>\n",
       "      <td>Nw+ig6CustlmE55ZY6v7ygN/mNNEEum6L83xKPu3lUA=</td>\n",
       "      <td>1</td>\n",
       "    </tr>\n",
       "    <tr>\n",
       "      <th>7</th>\n",
       "      <td>JvtKNwRL9xBP6OXdcgBTgKMhPsBIJdqgFH4lgJ8EgXg=</td>\n",
       "      <td>nW60n6qAGoytY/yX4w0r1IT462C9Xs/ZxbV6MLDSpUk=</td>\n",
       "      <td>1</td>\n",
       "    </tr>\n",
       "    <tr>\n",
       "      <th>8</th>\n",
       "      <td>yiGYGWyGrCYHlMOtPv65urw9RfdH43PNGzu8TRaO+m8=</td>\n",
       "      <td>k8s6aRatZAv/w4exkA4Oa8r75gBrxG0z3CHdb9Lrexc=</td>\n",
       "      <td>0</td>\n",
       "    </tr>\n",
       "    <tr>\n",
       "      <th>9</th>\n",
       "      <td>JG+yp/g5BBaDKLq9a1kj3I1BBdBhSamUY/kvYx69o10=</td>\n",
       "      <td>PvLTaCIacL4PBi0BwrwW5uBBBQPnYCuv2uhm9siDPgo=</td>\n",
       "      <td>0</td>\n",
       "    </tr>\n",
       "  </tbody>\n",
       "</table>"
      ],
      "text/plain": [
       "<IPython.core.display.HTML object>"
      ]
     },
     "metadata": {},
     "output_type": "display_data"
    }
   ],
   "source": [
    "dls = CollabDataLoaders.from_df(songs, bs=64)\n",
    "dls.show_batch()"
   ]
  },
  {
   "cell_type": "code",
   "execution_count": 11,
   "id": "d93d1a34-ebbd-4c4d-84cd-b8c713bdf642",
   "metadata": {},
   "outputs": [],
   "source": [
    "from sklearn.metrics import roc_auc_score\n",
    "\n",
    "def roc_metric(pred, target):\n",
    "    return roc_auc_score(to_np(target.squeeze()), to_np(pred))\n",
    "\n",
    "learn = collab_learner(dls, y_range=(-0.1, 1.1), metrics=roc_metric)"
   ]
  },
  {
   "cell_type": "code",
   "execution_count": null,
   "id": "8b04e46a-8ff3-451e-bb80-e104b8c54318",
   "metadata": {},
   "outputs": [],
   "source": [
    "learn.fit_one_cycle(12, 1e-1, wd=0.1)"
   ]
  },
  {
   "cell_type": "code",
   "execution_count": null,
   "id": "a89940c9-0967-405a-978c-03aa975e81c3",
   "metadata": {},
   "outputs": [],
   "source": [
    "learn.model"
   ]
  },
  {
   "cell_type": "code",
   "execution_count": null,
   "id": "4a5f26ef-ba98-4e12-84ff-3e7d9af316ae",
   "metadata": {},
   "outputs": [],
   "source": [
    "torch.save(learn.model.state_dict(), '01.pth')\n",
    "# learn.model.load_state_dict(torch.load('01.pth'))"
   ]
  },
  {
   "cell_type": "code",
   "execution_count": null,
   "id": "261b9623-7ec5-4dca-ad2e-cb9ae9600839",
   "metadata": {},
   "outputs": [],
   "source": [
    "test_df = pd.read_csv(path/'test.csv', usecols=('msno', 'song_id', 'id'))\n",
    "\n",
    "test_df.head()"
   ]
  },
  {
   "cell_type": "code",
   "execution_count": null,
   "id": "634a7f7a-56f5-4870-bf87-bfe951bb2afa",
   "metadata": {},
   "outputs": [],
   "source": [
    "test_dl = learn.dls.test_dl(test_df)\n",
    "output = learn.get_preds(dl=test_dl, with_decoded=True)\n",
    "output"
   ]
  },
  {
   "cell_type": "code",
   "execution_count": null,
   "id": "3b920a90-d6b0-4203-a42a-949e3ac099c3",
   "metadata": {},
   "outputs": [],
   "source": [
    "probs,_,indexes = output"
   ]
  },
  {
   "cell_type": "code",
   "execution_count": null,
   "id": "e50349b2-1231-4ecd-94fc-0ccb4f24f8fb",
   "metadata": {},
   "outputs": [],
   "source": [
    "sample_submission = pd.read_csv(path/'sample_submission.csv')\n",
    "sample_submission"
   ]
  },
  {
   "cell_type": "code",
   "execution_count": null,
   "id": "bc4b58ef-2ec4-4a30-abcb-14f2eaf9e22d",
   "metadata": {},
   "outputs": [],
   "source": [
    "probs = torch.clip(probs, 0, 1)\n",
    "test_df['target'] = probs\n",
    "\n",
    "sub_df = test_df[['id','target']]\n",
    "sub_df.to_csv(f'submission.csv', index=False)"
   ]
  },
  {
   "cell_type": "code",
   "execution_count": null,
   "id": "4a6727d8-3c41-48f5-a370-c7ffeb464030",
   "metadata": {},
   "outputs": [],
   "source": [
    "!head submission.csv"
   ]
  },
  {
   "cell_type": "code",
   "execution_count": null,
   "id": "0014f80c-d5f4-4fe0-bec4-a6d905f00e06",
   "metadata": {},
   "outputs": [],
   "source": [
    "if not iskaggle:\n",
    "    from kaggle import api\n",
    "    api.competition_submit_cli('submission.csv', 'kkbox-recommendation-3', comp)"
   ]
  },
  {
   "cell_type": "code",
   "execution_count": 5,
   "id": "2d55d64f-05c6-41c1-93b4-ccd814fa2602",
   "metadata": {},
   "outputs": [
    {
     "name": "stdout",
     "output_type": "stream",
     "text": [
      "Kernel version 1 successfully pushed.  Please check progress at https://www.kaggle.com/code/alexchalk/poisonous-mushrooms-submission-05\n"
     ]
    }
   ],
   "source": [
    "if not iskaggle:\n",
    "    push_notebook('alexchalk', 'poisonous-mushrooms-submission-05',\n",
    "                  title='Poisonous Mushrooms Submission 05',\n",
    "                  file='02.ipynb',\n",
    "                  competition=comp, private=True, gpu=False)"
   ]
  },
  {
   "cell_type": "code",
   "execution_count": null,
   "id": "35caff40-d145-4765-8767-64e1a39eac81",
   "metadata": {},
   "outputs": [],
   "source": []
  }
 ],
 "metadata": {
  "kernelspec": {
   "display_name": "Python ML",
   "language": "python",
   "name": "python3"
  },
  "language_info": {
   "codemirror_mode": {
    "name": "ipython",
    "version": 3
   },
   "file_extension": ".py",
   "mimetype": "text/x-python",
   "name": "python",
   "nbconvert_exporter": "python",
   "pygments_lexer": "ipython3",
   "version": "3.11.9"
  }
 },
 "nbformat": 4,
 "nbformat_minor": 5
}
