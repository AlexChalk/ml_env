{
 "cells": [
  {
   "cell_type": "code",
   "execution_count": 1,
   "id": "e1108cbb-cf4a-4ba2-a448-3adbb2ccf976",
   "metadata": {},
   "outputs": [
    {
     "name": "stdout",
     "output_type": "stream",
     "text": [
      "\u001b[33mWARNING: Running pip as the 'root' user can result in broken permissions and conflicting behaviour with the system package manager. It is recommended to use a virtual environment instead: https://pip.pypa.io/warnings/venv\u001b[0m\u001b[33m\n",
      "\u001b[0m"
     ]
    }
   ],
   "source": [
    "try: import fastkaggle\n",
    "except ModuleNotFoundError:\n",
    "    !pip install -Uq fastkaggle fastai py7zr scikit-learn"
   ]
  },
  {
   "cell_type": "code",
   "execution_count": 2,
   "id": "b8ac0cf0-1940-4697-ab59-28bc295ed937",
   "metadata": {},
   "outputs": [],
   "source": [
    "from fastkaggle import *\n",
    "import gc"
   ]
  },
  {
   "cell_type": "code",
   "execution_count": 3,
   "id": "595598f8-40e7-46a8-9e1f-63806360e161",
   "metadata": {},
   "outputs": [],
   "source": [
    "# for working with paths in Python, I recommend using `pathlib.Path`\n",
    "from pathlib import Path\n",
    "\n",
    "cred_path = Path('~/.kaggle/kaggle.json').expanduser()\n",
    "if not iskaggle and not cred_path.exists():\n",
    "    creds = ''\n",
    "    cred_path.parent.mkdir(exist_ok=True)\n",
    "    cred_path.write_text(creds)\n",
    "    cred_path.chmod(0o600)"
   ]
  },
  {
   "cell_type": "code",
   "execution_count": 4,
   "id": "a76bfabb-7412-4bfe-82e2-b06550b67d31",
   "metadata": {},
   "outputs": [
    {
     "name": "stdout",
     "output_type": "stream",
     "text": [
      "Downloading kkbox-music-recommendation-challenge.zip to /notebooks\n"
     ]
    },
    {
     "name": "stderr",
     "output_type": "stream",
     "text": [
      "100%|██████████| 345M/345M [00:06<00:00, 56.4MB/s] \n"
     ]
    },
    {
     "name": "stdout",
     "output_type": "stream",
     "text": [
      "\n"
     ]
    }
   ],
   "source": [
    "comp = 'kkbox-music-recommendation-challenge'\n",
    "\n",
    "path = setup_comp(comp, install='fastai')"
   ]
  },
  {
   "cell_type": "code",
   "execution_count": 5,
   "id": "1689e644-d791-4466-84a7-49d0134a4798",
   "metadata": {},
   "outputs": [
    {
     "data": {
      "text/plain": [
       "Path('kkbox-music-recommendation-challenge')"
      ]
     },
     "execution_count": 5,
     "metadata": {},
     "output_type": "execute_result"
    }
   ],
   "source": [
    "path"
   ]
  },
  {
   "cell_type": "code",
   "execution_count": 6,
   "id": "f540eae7-1edf-42cc-9f9f-9d43063c7e65",
   "metadata": {},
   "outputs": [
    {
     "data": {
      "text/plain": [
       "(#6) [Path('kkbox-music-recommendation-challenge/train.csv.7z'),Path('kkbox-music-recommendation-challenge/members.csv.7z'),Path('kkbox-music-recommendation-challenge/songs.csv.7z'),Path('kkbox-music-recommendation-challenge/test.csv.7z'),Path('kkbox-music-recommendation-challenge/song_extra_info.csv.7z'),Path('kkbox-music-recommendation-challenge/sample_submission.csv.7z')]"
      ]
     },
     "execution_count": 6,
     "metadata": {},
     "output_type": "execute_result"
    }
   ],
   "source": [
    "from fastai.tabular.all import *\n",
    "from fastai.collab import *\n",
    "\n",
    "path.ls()"
   ]
  },
  {
   "cell_type": "code",
   "execution_count": 7,
   "id": "ba2e0fc9-c79b-4029-9890-f911994499a3",
   "metadata": {},
   "outputs": [],
   "source": [
    "def is_extracted(file):\n",
    "    return os.path.isfile(os.path.splitext(file)[0])\n",
    "\n",
    "for file in path.ls(file_exts=\".7z\"):\n",
    "    if not is_extracted(file):\n",
    "        !py7zr x {str(file)} {str(path)}"
   ]
  },
  {
   "cell_type": "code",
   "execution_count": 8,
   "id": "eced8870-bcfe-491d-b195-273bbeb6bc09",
   "metadata": {},
   "outputs": [
    {
     "data": {
      "text/plain": [
       "(#6) [Path('kkbox-music-recommendation-challenge/songs.csv'),Path('kkbox-music-recommendation-challenge/song_extra_info.csv'),Path('kkbox-music-recommendation-challenge/sample_submission.csv'),Path('kkbox-music-recommendation-challenge/members.csv'),Path('kkbox-music-recommendation-challenge/test.csv'),Path('kkbox-music-recommendation-challenge/train.csv')]"
      ]
     },
     "execution_count": 8,
     "metadata": {},
     "output_type": "execute_result"
    }
   ],
   "source": [
    "path.ls(file_exts=\".csv\")"
   ]
  },
  {
   "cell_type": "code",
   "execution_count": 9,
   "id": "9d24d19f-a488-48bb-99ae-f27264ab5159",
   "metadata": {},
   "outputs": [
    {
     "data": {
      "text/html": [
       "<div>\n",
       "<style scoped>\n",
       "    .dataframe tbody tr th:only-of-type {\n",
       "        vertical-align: middle;\n",
       "    }\n",
       "\n",
       "    .dataframe tbody tr th {\n",
       "        vertical-align: top;\n",
       "    }\n",
       "\n",
       "    .dataframe thead th {\n",
       "        text-align: right;\n",
       "    }\n",
       "</style>\n",
       "<table border=\"1\" class=\"dataframe\">\n",
       "  <thead>\n",
       "    <tr style=\"text-align: right;\">\n",
       "      <th></th>\n",
       "      <th>msno</th>\n",
       "      <th>song_id</th>\n",
       "      <th>target</th>\n",
       "    </tr>\n",
       "  </thead>\n",
       "  <tbody>\n",
       "    <tr>\n",
       "      <th>0</th>\n",
       "      <td>FGtllVqz18RPiwJj/edr2gV78zirAiY/9SmYvia+kCg=</td>\n",
       "      <td>BBzumQNXUHKdEBOB7mAJuzok+IJA1c2Ryg/yzTF6tik=</td>\n",
       "      <td>1</td>\n",
       "    </tr>\n",
       "    <tr>\n",
       "      <th>1</th>\n",
       "      <td>Xumu+NIjS6QYVxDS4/t3SawvJ7viT9hPKXmf0RtLNx8=</td>\n",
       "      <td>bhp/MpSNoqoxOIB+/l8WPqu6jldth4DIpCm3ayXnJqM=</td>\n",
       "      <td>1</td>\n",
       "    </tr>\n",
       "    <tr>\n",
       "      <th>2</th>\n",
       "      <td>Xumu+NIjS6QYVxDS4/t3SawvJ7viT9hPKXmf0RtLNx8=</td>\n",
       "      <td>JNWfrrC7zNN7BdMpsISKa4Mw+xVJYNnxXh3/Epw7QgY=</td>\n",
       "      <td>1</td>\n",
       "    </tr>\n",
       "    <tr>\n",
       "      <th>3</th>\n",
       "      <td>Xumu+NIjS6QYVxDS4/t3SawvJ7viT9hPKXmf0RtLNx8=</td>\n",
       "      <td>2A87tzfnJTSWqD7gIZHisolhe4DMdzkbd6LzO1KHjNs=</td>\n",
       "      <td>1</td>\n",
       "    </tr>\n",
       "    <tr>\n",
       "      <th>4</th>\n",
       "      <td>FGtllVqz18RPiwJj/edr2gV78zirAiY/9SmYvia+kCg=</td>\n",
       "      <td>3qm6XTZ6MOCU11x8FIVbAGH5l5uMkT3/ZalWG1oo2Gc=</td>\n",
       "      <td>1</td>\n",
       "    </tr>\n",
       "  </tbody>\n",
       "</table>\n",
       "</div>"
      ],
      "text/plain": [
       "                                           msno  \\\n",
       "0  FGtllVqz18RPiwJj/edr2gV78zirAiY/9SmYvia+kCg=   \n",
       "1  Xumu+NIjS6QYVxDS4/t3SawvJ7viT9hPKXmf0RtLNx8=   \n",
       "2  Xumu+NIjS6QYVxDS4/t3SawvJ7viT9hPKXmf0RtLNx8=   \n",
       "3  Xumu+NIjS6QYVxDS4/t3SawvJ7viT9hPKXmf0RtLNx8=   \n",
       "4  FGtllVqz18RPiwJj/edr2gV78zirAiY/9SmYvia+kCg=   \n",
       "\n",
       "                                        song_id  target  \n",
       "0  BBzumQNXUHKdEBOB7mAJuzok+IJA1c2Ryg/yzTF6tik=       1  \n",
       "1  bhp/MpSNoqoxOIB+/l8WPqu6jldth4DIpCm3ayXnJqM=       1  \n",
       "2  JNWfrrC7zNN7BdMpsISKa4Mw+xVJYNnxXh3/Epw7QgY=       1  \n",
       "3  2A87tzfnJTSWqD7gIZHisolhe4DMdzkbd6LzO1KHjNs=       1  \n",
       "4  3qm6XTZ6MOCU11x8FIVbAGH5l5uMkT3/ZalWG1oo2Gc=       1  "
      ]
     },
     "execution_count": 9,
     "metadata": {},
     "output_type": "execute_result"
    }
   ],
   "source": [
    "songs = pd.read_csv(path/'train.csv', usecols=('msno', 'song_id', 'target'))\n",
    "\n",
    "songs.head()"
   ]
  },
  {
   "cell_type": "code",
   "execution_count": 10,
   "id": "0ad1642c-0c9b-44f8-a738-c51c7a7b0736",
   "metadata": {},
   "outputs": [
    {
     "data": {
      "text/html": [
       "<table border=\"1\" class=\"dataframe\">\n",
       "  <thead>\n",
       "    <tr style=\"text-align: right;\">\n",
       "      <th></th>\n",
       "      <th>msno</th>\n",
       "      <th>song_id</th>\n",
       "      <th>target</th>\n",
       "    </tr>\n",
       "  </thead>\n",
       "  <tbody>\n",
       "    <tr>\n",
       "      <th>0</th>\n",
       "      <td>FWlfL4RQkWXDTzs5+/l5hQKEJTT2owvu6EifcFdtggA=</td>\n",
       "      <td>At7ayZb8zrkdvXw+EBt7z5e4IZRe0JhfOC8HqzzA0sg=</td>\n",
       "      <td>1</td>\n",
       "    </tr>\n",
       "    <tr>\n",
       "      <th>1</th>\n",
       "      <td>Jd8Z/drETPjM3LGQ9HXyny+5G4VY76/2eEKAHQEGGWI=</td>\n",
       "      <td>E/b+7QWv/HguM/u4uQXY1/2jeiFsxst6FRK2shsNHiU=</td>\n",
       "      <td>0</td>\n",
       "    </tr>\n",
       "    <tr>\n",
       "      <th>2</th>\n",
       "      <td>I6BWuX+5GHb/f6O+y9Bt97A9KrX4hzn6Tj4Ga8jz/xM=</td>\n",
       "      <td>ZISVKxx7B/9L73xZ4xlQluOixjbqBMxyG3q+kEi76oY=</td>\n",
       "      <td>1</td>\n",
       "    </tr>\n",
       "    <tr>\n",
       "      <th>3</th>\n",
       "      <td>jft7pSzm46OHjKJxMeXWSdtORRv1eBxThVAhJq+icwY=</td>\n",
       "      <td>JTMsJNPcL2ambkp1Z/MeBEnFEzZEOKetdLPrJxHf7v8=</td>\n",
       "      <td>0</td>\n",
       "    </tr>\n",
       "    <tr>\n",
       "      <th>4</th>\n",
       "      <td>GL6IfpVeklljPUNgIwOh4j7MYDNwK7H+bg/w+W+oO5E=</td>\n",
       "      <td>GKgBgCnz9R8OWDdGeYgQS0TPHe8no8VWvxj4+4PSjao=</td>\n",
       "      <td>1</td>\n",
       "    </tr>\n",
       "    <tr>\n",
       "      <th>5</th>\n",
       "      <td>OtFfoISRCGiLHdMnyWFSMzN9SlwT7y8G4l92sMWYN6g=</td>\n",
       "      <td>+Sm75wnBf/sjm/QMUAFx8N+Ae04kWCXGlgH50tTeM6c=</td>\n",
       "      <td>0</td>\n",
       "    </tr>\n",
       "    <tr>\n",
       "      <th>6</th>\n",
       "      <td>2aY4fVvcDt6tfVFp2DJZ5gEXWlMPTUQWUgEe9Fut0mw=</td>\n",
       "      <td>CYQ38DzaKqRnuEfAB5kuQmFborYHWzbqO/7Bvny/2Mg=</td>\n",
       "      <td>0</td>\n",
       "    </tr>\n",
       "    <tr>\n",
       "      <th>7</th>\n",
       "      <td>/A6sqt60VJBGT59/JZXPvBXKY9uW/5GofKHv8f9hKco=</td>\n",
       "      <td>4weA5ndJkDSo7zM38+4t7NT+CJ/5omnZYVHf/IDe+Qk=</td>\n",
       "      <td>1</td>\n",
       "    </tr>\n",
       "    <tr>\n",
       "      <th>8</th>\n",
       "      <td>yCCT+QckrmYll48S7BBzCLGn8HekGPwXsTaRYpV5qCk=</td>\n",
       "      <td>IWEzXZ8nCiKZHbQl9fJmOjYRxHfSkhcm7AQbV5j4/J0=</td>\n",
       "      <td>0</td>\n",
       "    </tr>\n",
       "    <tr>\n",
       "      <th>9</th>\n",
       "      <td>5/kRuQO50xlgEWz7pNQLhlQnpE0sjua+gjrmy8X+ues=</td>\n",
       "      <td>RBu+exsgC2/E1g0e+i6UnQmRseAUB8cdznbQu2Tafco=</td>\n",
       "      <td>1</td>\n",
       "    </tr>\n",
       "  </tbody>\n",
       "</table>"
      ],
      "text/plain": [
       "<IPython.core.display.HTML object>"
      ]
     },
     "metadata": {},
     "output_type": "display_data"
    }
   ],
   "source": [
    "dls = CollabDataLoaders.from_df(songs, bs=512)\n",
    "dls.show_batch()"
   ]
  },
  {
   "cell_type": "code",
   "execution_count": 11,
   "id": "d93d1a34-ebbd-4c4d-84cd-b8c713bdf642",
   "metadata": {},
   "outputs": [],
   "source": [
    "from sklearn.metrics import roc_auc_score\n",
    "\n",
    "def roc_metric(pred, target):\n",
    "    return roc_auc_score(to_np(target.squeeze()), to_np(torch.clip(pred,0,1)))\n",
    "\n",
    "learn = collab_learner(dls, y_range=(-0.1, 1.1), metrics=roc_metric)"
   ]
  },
  {
   "cell_type": "code",
   "execution_count": 12,
   "id": "8b04e46a-8ff3-451e-bb80-e104b8c54318",
   "metadata": {
    "editable": true,
    "slideshow": {
     "slide_type": ""
    },
    "tags": []
   },
   "outputs": [
    {
     "data": {
      "text/html": [
       "\n",
       "<style>\n",
       "    /* Turns off some styling */\n",
       "    progress {\n",
       "        /* gets rid of default border in Firefox and Opera. */\n",
       "        border: none;\n",
       "        /* Needs to be in here for Safari polyfill so background images work as expected. */\n",
       "        background-size: auto;\n",
       "    }\n",
       "    progress:not([value]), progress:not([value])::-webkit-progress-bar {\n",
       "        background: repeating-linear-gradient(45deg, #7e7e7e, #7e7e7e 10px, #5c5c5c 10px, #5c5c5c 20px);\n",
       "    }\n",
       "    .progress-bar-interrupted, .progress-bar-interrupted::-webkit-progress-bar {\n",
       "        background: #F44336;\n",
       "    }\n",
       "</style>\n"
      ],
      "text/plain": [
       "<IPython.core.display.HTML object>"
      ]
     },
     "metadata": {},
     "output_type": "display_data"
    },
    {
     "data": {
      "text/html": [
       "<table border=\"1\" class=\"dataframe\">\n",
       "  <thead>\n",
       "    <tr style=\"text-align: left;\">\n",
       "      <th>epoch</th>\n",
       "      <th>train_loss</th>\n",
       "      <th>valid_loss</th>\n",
       "      <th>roc_metric</th>\n",
       "      <th>time</th>\n",
       "    </tr>\n",
       "  </thead>\n",
       "  <tbody>\n",
       "    <tr>\n",
       "      <td>0</td>\n",
       "      <td>0.211276</td>\n",
       "      <td>0.217323</td>\n",
       "      <td>0.720072</td>\n",
       "      <td>02:04</td>\n",
       "    </tr>\n",
       "  </tbody>\n",
       "</table>"
      ],
      "text/plain": [
       "<IPython.core.display.HTML object>"
      ]
     },
     "metadata": {},
     "output_type": "display_data"
    }
   ],
   "source": [
    "learn.fit_one_cycle(1, 1e-1, wd=0.1)"
   ]
  },
  {
   "cell_type": "code",
   "execution_count": 15,
   "id": "4a5f26ef-ba98-4e12-84ff-3e7d9af316ae",
   "metadata": {},
   "outputs": [],
   "source": [
    "torch.save(learn.model.state_dict(), '01.pth')\n",
    "# learn.model.load_state_dict(torch.load('01.pth'))\n",
    "# learn.model.load_state_dict(torch.load('01.pth', map_location=torch.device('cpu')))"
   ]
  },
  {
   "cell_type": "code",
   "execution_count": 16,
   "id": "72f1128b-9fb8-4810-870c-4bfa2f13d7de",
   "metadata": {},
   "outputs": [
    {
     "data": {
      "text/plain": [
       "EmbeddingDotBias(\n",
       "  (u_weight): Embedding(30756, 50)\n",
       "  (i_weight): Embedding(359967, 50)\n",
       "  (u_bias): Embedding(30756, 1)\n",
       "  (i_bias): Embedding(359967, 1)\n",
       ")"
      ]
     },
     "execution_count": 16,
     "metadata": {},
     "output_type": "execute_result"
    }
   ],
   "source": [
    "learn.model"
   ]
  },
  {
   "cell_type": "code",
   "execution_count": 17,
   "id": "3249edfd-0400-49bc-bd7a-63bf3f838c9a",
   "metadata": {
    "editable": true,
    "slideshow": {
     "slide_type": ""
    },
    "tags": []
   },
   "outputs": [
    {
     "data": {
      "text/html": [
       "<div>\n",
       "<style scoped>\n",
       "    .dataframe tbody tr th:only-of-type {\n",
       "        vertical-align: middle;\n",
       "    }\n",
       "\n",
       "    .dataframe tbody tr th {\n",
       "        vertical-align: top;\n",
       "    }\n",
       "\n",
       "    .dataframe thead th {\n",
       "        text-align: right;\n",
       "    }\n",
       "</style>\n",
       "<table border=\"1\" class=\"dataframe\">\n",
       "  <thead>\n",
       "    <tr style=\"text-align: right;\">\n",
       "      <th></th>\n",
       "      <th>msno</th>\n",
       "      <th>song_id</th>\n",
       "      <th>target</th>\n",
       "      <th>song_length</th>\n",
       "      <th>genre_ids</th>\n",
       "      <th>artist_name</th>\n",
       "      <th>composer</th>\n",
       "      <th>lyricist</th>\n",
       "      <th>language</th>\n",
       "      <th>name</th>\n",
       "      <th>...</th>\n",
       "      <th>registration_init_timeDay</th>\n",
       "      <th>registration_init_timeDayofweek</th>\n",
       "      <th>registration_init_timeDayofyear</th>\n",
       "      <th>registration_init_timeIs_month_end</th>\n",
       "      <th>registration_init_timeIs_month_start</th>\n",
       "      <th>registration_init_timeIs_quarter_end</th>\n",
       "      <th>registration_init_timeIs_quarter_start</th>\n",
       "      <th>registration_init_timeIs_year_end</th>\n",
       "      <th>registration_init_timeIs_year_start</th>\n",
       "      <th>registration_init_timeElapsed</th>\n",
       "    </tr>\n",
       "  </thead>\n",
       "  <tbody>\n",
       "    <tr>\n",
       "      <th>0</th>\n",
       "      <td>FGtllVqz18RPiwJj/edr2gV78zirAiY/9SmYvia+kCg=</td>\n",
       "      <td>BBzumQNXUHKdEBOB7mAJuzok+IJA1c2Ryg/yzTF6tik=</td>\n",
       "      <td>1</td>\n",
       "      <td>206471.0</td>\n",
       "      <td>359</td>\n",
       "      <td>Bastille</td>\n",
       "      <td>Dan Smith| Mark Crew</td>\n",
       "      <td>NaN</td>\n",
       "      <td>52.0</td>\n",
       "      <td>Good Grief</td>\n",
       "      <td>...</td>\n",
       "      <td>1</td>\n",
       "      <td>3</td>\n",
       "      <td>1</td>\n",
       "      <td>False</td>\n",
       "      <td>True</td>\n",
       "      <td>False</td>\n",
       "      <td>True</td>\n",
       "      <td>False</td>\n",
       "      <td>True</td>\n",
       "      <td>0.0</td>\n",
       "    </tr>\n",
       "    <tr>\n",
       "      <th>1</th>\n",
       "      <td>Xumu+NIjS6QYVxDS4/t3SawvJ7viT9hPKXmf0RtLNx8=</td>\n",
       "      <td>bhp/MpSNoqoxOIB+/l8WPqu6jldth4DIpCm3ayXnJqM=</td>\n",
       "      <td>1</td>\n",
       "      <td>284584.0</td>\n",
       "      <td>1259</td>\n",
       "      <td>Various Artists</td>\n",
       "      <td>NaN</td>\n",
       "      <td>NaN</td>\n",
       "      <td>52.0</td>\n",
       "      <td>Lords of Cardboard</td>\n",
       "      <td>...</td>\n",
       "      <td>1</td>\n",
       "      <td>3</td>\n",
       "      <td>1</td>\n",
       "      <td>False</td>\n",
       "      <td>True</td>\n",
       "      <td>False</td>\n",
       "      <td>True</td>\n",
       "      <td>False</td>\n",
       "      <td>True</td>\n",
       "      <td>0.0</td>\n",
       "    </tr>\n",
       "    <tr>\n",
       "      <th>2</th>\n",
       "      <td>Xumu+NIjS6QYVxDS4/t3SawvJ7viT9hPKXmf0RtLNx8=</td>\n",
       "      <td>JNWfrrC7zNN7BdMpsISKa4Mw+xVJYNnxXh3/Epw7QgY=</td>\n",
       "      <td>1</td>\n",
       "      <td>225396.0</td>\n",
       "      <td>1259</td>\n",
       "      <td>Nas</td>\n",
       "      <td>N. Jones、W. Adams、J. Lordan、D. Ingle</td>\n",
       "      <td>NaN</td>\n",
       "      <td>52.0</td>\n",
       "      <td>Hip Hop Is Dead(Album Version (Edited))</td>\n",
       "      <td>...</td>\n",
       "      <td>1</td>\n",
       "      <td>3</td>\n",
       "      <td>1</td>\n",
       "      <td>False</td>\n",
       "      <td>True</td>\n",
       "      <td>False</td>\n",
       "      <td>True</td>\n",
       "      <td>False</td>\n",
       "      <td>True</td>\n",
       "      <td>0.0</td>\n",
       "    </tr>\n",
       "    <tr>\n",
       "      <th>3</th>\n",
       "      <td>Xumu+NIjS6QYVxDS4/t3SawvJ7viT9hPKXmf0RtLNx8=</td>\n",
       "      <td>2A87tzfnJTSWqD7gIZHisolhe4DMdzkbd6LzO1KHjNs=</td>\n",
       "      <td>1</td>\n",
       "      <td>255512.0</td>\n",
       "      <td>1019</td>\n",
       "      <td>Soundway</td>\n",
       "      <td>Kwadwo Donkoh</td>\n",
       "      <td>NaN</td>\n",
       "      <td>-1.0</td>\n",
       "      <td>Disco Africa</td>\n",
       "      <td>...</td>\n",
       "      <td>1</td>\n",
       "      <td>3</td>\n",
       "      <td>1</td>\n",
       "      <td>False</td>\n",
       "      <td>True</td>\n",
       "      <td>False</td>\n",
       "      <td>True</td>\n",
       "      <td>False</td>\n",
       "      <td>True</td>\n",
       "      <td>0.0</td>\n",
       "    </tr>\n",
       "    <tr>\n",
       "      <th>4</th>\n",
       "      <td>FGtllVqz18RPiwJj/edr2gV78zirAiY/9SmYvia+kCg=</td>\n",
       "      <td>3qm6XTZ6MOCU11x8FIVbAGH5l5uMkT3/ZalWG1oo2Gc=</td>\n",
       "      <td>1</td>\n",
       "      <td>187802.0</td>\n",
       "      <td>1011</td>\n",
       "      <td>Brett Young</td>\n",
       "      <td>Brett Young| Kelly Archer| Justin Ebach</td>\n",
       "      <td>NaN</td>\n",
       "      <td>52.0</td>\n",
       "      <td>Sleep Without You</td>\n",
       "      <td>...</td>\n",
       "      <td>1</td>\n",
       "      <td>3</td>\n",
       "      <td>1</td>\n",
       "      <td>False</td>\n",
       "      <td>True</td>\n",
       "      <td>False</td>\n",
       "      <td>True</td>\n",
       "      <td>False</td>\n",
       "      <td>True</td>\n",
       "      <td>0.0</td>\n",
       "    </tr>\n",
       "  </tbody>\n",
       "</table>\n",
       "<p>5 rows × 128 columns</p>\n",
       "</div>"
      ],
      "text/plain": [
       "                                           msno  \\\n",
       "0  FGtllVqz18RPiwJj/edr2gV78zirAiY/9SmYvia+kCg=   \n",
       "1  Xumu+NIjS6QYVxDS4/t3SawvJ7viT9hPKXmf0RtLNx8=   \n",
       "2  Xumu+NIjS6QYVxDS4/t3SawvJ7viT9hPKXmf0RtLNx8=   \n",
       "3  Xumu+NIjS6QYVxDS4/t3SawvJ7viT9hPKXmf0RtLNx8=   \n",
       "4  FGtllVqz18RPiwJj/edr2gV78zirAiY/9SmYvia+kCg=   \n",
       "\n",
       "                                        song_id  target  song_length  \\\n",
       "0  BBzumQNXUHKdEBOB7mAJuzok+IJA1c2Ryg/yzTF6tik=       1     206471.0   \n",
       "1  bhp/MpSNoqoxOIB+/l8WPqu6jldth4DIpCm3ayXnJqM=       1     284584.0   \n",
       "2  JNWfrrC7zNN7BdMpsISKa4Mw+xVJYNnxXh3/Epw7QgY=       1     225396.0   \n",
       "3  2A87tzfnJTSWqD7gIZHisolhe4DMdzkbd6LzO1KHjNs=       1     255512.0   \n",
       "4  3qm6XTZ6MOCU11x8FIVbAGH5l5uMkT3/ZalWG1oo2Gc=       1     187802.0   \n",
       "\n",
       "  genre_ids      artist_name                                 composer  \\\n",
       "0       359         Bastille                     Dan Smith| Mark Crew   \n",
       "1      1259  Various Artists                                      NaN   \n",
       "2      1259              Nas     N. Jones、W. Adams、J. Lordan、D. Ingle   \n",
       "3      1019         Soundway                            Kwadwo Donkoh   \n",
       "4      1011      Brett Young  Brett Young| Kelly Archer| Justin Ebach   \n",
       "\n",
       "  lyricist  language                                     name  ...  \\\n",
       "0      NaN      52.0                               Good Grief  ...   \n",
       "1      NaN      52.0                       Lords of Cardboard  ...   \n",
       "2      NaN      52.0  Hip Hop Is Dead(Album Version (Edited))  ...   \n",
       "3      NaN      -1.0                             Disco Africa  ...   \n",
       "4      NaN      52.0                        Sleep Without You  ...   \n",
       "\n",
       "   registration_init_timeDay  registration_init_timeDayofweek  \\\n",
       "0                          1                                3   \n",
       "1                          1                                3   \n",
       "2                          1                                3   \n",
       "3                          1                                3   \n",
       "4                          1                                3   \n",
       "\n",
       "  registration_init_timeDayofyear  registration_init_timeIs_month_end  \\\n",
       "0                               1                               False   \n",
       "1                               1                               False   \n",
       "2                               1                               False   \n",
       "3                               1                               False   \n",
       "4                               1                               False   \n",
       "\n",
       "   registration_init_timeIs_month_start  registration_init_timeIs_quarter_end  \\\n",
       "0                                  True                                 False   \n",
       "1                                  True                                 False   \n",
       "2                                  True                                 False   \n",
       "3                                  True                                 False   \n",
       "4                                  True                                 False   \n",
       "\n",
       "   registration_init_timeIs_quarter_start  registration_init_timeIs_year_end  \\\n",
       "0                                    True                              False   \n",
       "1                                    True                              False   \n",
       "2                                    True                              False   \n",
       "3                                    True                              False   \n",
       "4                                    True                              False   \n",
       "\n",
       "   registration_init_timeIs_year_start  registration_init_timeElapsed  \n",
       "0                                 True                            0.0  \n",
       "1                                 True                            0.0  \n",
       "2                                 True                            0.0  \n",
       "3                                 True                            0.0  \n",
       "4                                 True                            0.0  \n",
       "\n",
       "[5 rows x 128 columns]"
      ]
     },
     "execution_count": 17,
     "metadata": {},
     "output_type": "execute_result"
    }
   ],
   "source": [
    "def merge_data(songs):\n",
    "    song_data_0 = pd.read_csv(path/'songs.csv')\n",
    "    with_song_0 = pd.merge(songs, song_data_0, how='left', on='song_id')\n",
    "    del song_data_0\n",
    "    del songs\n",
    "    gc.collect()\n",
    "    \n",
    "    song_data_1 = pd.read_csv(path/'song_extra_info.csv')\n",
    "    with_song_1 = pd.merge(with_song_0, song_data_1, how='left', on='song_id')\n",
    "    del with_song_0\n",
    "    del song_data_1\n",
    "    gc.collect()\n",
    "    \n",
    "    members = pd.read_csv(path/'members.csv')\n",
    "    with_members = pd.merge(with_song_1, members, how='left', on='msno')\n",
    "    del with_song_1\n",
    "    del members\n",
    "    gc.collect()\n",
    "    \n",
    "    song_bias_df = pd.DataFrame({\n",
    "        'song_id': learn.dls.classes['song_id'],\n",
    "        'song_bias': to_np(learn.model.i_bias.weight.squeeze()),\n",
    "    })\n",
    "    song_weights_df = pd.DataFrame([\n",
    "        {\n",
    "            'song_id': song_id,\n",
    "            **{f'song_weight_{i+1}': weight for i, weight in enumerate(weights)}\n",
    "        }\n",
    "        for song_id, weights in zip(learn.dls.classes['song_id'], learn.model.i_weight.weight.tolist())\n",
    "    ])\n",
    "    song_embeddings_df = pd.merge(song_bias_df, song_weights_df, on='song_id', how='left')\n",
    "\n",
    "    del song_bias_df\n",
    "    del song_weights_df\n",
    "    gc.collect()\n",
    "\n",
    "    with_song_embeddings = pd.merge(with_members, song_embeddings_df, how='left', on='song_id')\n",
    "    del with_members\n",
    "    del song_embeddings_df\n",
    "    gc.collect()\n",
    "    \n",
    "    user_bias_df = pd.DataFrame({\n",
    "        'msno': learn.dls.classes['msno'],\n",
    "        'user_bias': to_np(learn.model.u_bias.weight.squeeze()),\n",
    "    })\n",
    "    user_weights_df = pd.DataFrame([\n",
    "        {\n",
    "            'msno': msno,\n",
    "            **{f'user_weight_{i+1}': weight for i, weight in enumerate(weights)}\n",
    "        }\n",
    "        for msno, weights in zip(learn.dls.classes['msno'], learn.model.u_weight.weight.tolist())\n",
    "    ])\n",
    "    user_embeddings_df = pd.merge(user_bias_df, user_weights_df, on='msno', how='left')\n",
    "\n",
    "    del user_bias_df\n",
    "    del user_weights_df\n",
    "    gc.collect()\n",
    "\n",
    "    \n",
    "    with_member_embeddings = pd.merge(with_song_embeddings, user_embeddings_df, how='left', on='msno')\n",
    "    del with_song_embeddings\n",
    "    del user_embeddings_df\n",
    "    gc.collect()\n",
    "    \n",
    "    all_data = with_member_embeddings\n",
    "    \n",
    "    del all_data['expiration_date']\n",
    "    del all_data['registered_via']\n",
    "    del all_data['isrc']\n",
    "    all_data = add_datepart(all_data, 'registration_init_time')\n",
    "    gc.collect()\n",
    "\n",
    "    return all_data\n",
    "\n",
    "all_data = merge_data(songs)\n",
    "\n",
    "gc.collect()\n",
    "\n",
    "all_data.head()"
   ]
  },
  {
   "cell_type": "code",
   "execution_count": 20,
   "id": "65fad4e9-e524-41c3-97e7-5bcfe27de67b",
   "metadata": {},
   "outputs": [],
   "source": [
    "cat_names = ['msno', 'song_id', 'genre_ids', 'artist_name', 'composer', 'lyricist', 'language', 'name', 'city', 'gender', 'registration_init_timeYear', 'registration_init_timeMonth', 'registration_init_timeWeek', 'registration_init_timeDay', 'registration_init_timeDayofweek', 'registration_init_timeDayofyear', 'registration_init_timeIs_month_end', 'registration_init_timeIs_month_start', 'registration_init_timeIs_quarter_end', 'registration_init_timeIs_quarter_start', 'registration_init_timeIs_year_end', 'registration_init_timeIs_year_start']\n",
    "cont_names = ['bd', 'song_length', 'registration_init_timeElapsed', 'song_bias', 'song_weight_1', 'song_weight_2', 'song_weight_3', 'song_weight_4', 'song_weight_5', 'song_weight_6', 'song_weight_7', 'song_weight_8', 'song_weight_9', 'song_weight_10', 'song_weight_11', 'song_weight_12', 'song_weight_13', 'song_weight_14', 'song_weight_15', 'song_weight_16', 'song_weight_17', 'song_weight_18', 'song_weight_19', 'song_weight_20', 'song_weight_21', 'song_weight_22', 'song_weight_23', 'song_weight_24', 'song_weight_25', 'song_weight_26', 'song_weight_27', 'song_weight_28', 'song_weight_29', 'song_weight_30', 'song_weight_31', 'song_weight_32', 'song_weight_33', 'song_weight_34', 'song_weight_35', 'song_weight_36', 'song_weight_37', 'song_weight_38', 'song_weight_39', 'song_weight_40', 'song_weight_41', 'song_weight_42', 'song_weight_43', 'song_weight_44', 'song_weight_45', 'song_weight_46', 'song_weight_47', 'song_weight_48', 'song_weight_49', 'song_weight_50', 'user_bias', 'user_weight_1', 'user_weight_2', 'user_weight_3', 'user_weight_4', 'user_weight_5', 'user_weight_6', 'user_weight_7', 'user_weight_8', 'user_weight_9', 'user_weight_10', 'user_weight_11', 'user_weight_12', 'user_weight_13', 'user_weight_14', 'user_weight_15', 'user_weight_16', 'user_weight_17', 'user_weight_18', 'user_weight_19', 'user_weight_20', 'user_weight_21', 'user_weight_22', 'user_weight_23', 'user_weight_24', 'user_weight_25', 'user_weight_26', 'user_weight_27', 'user_weight_28', 'user_weight_29', 'user_weight_30', 'user_weight_31', 'user_weight_32', 'user_weight_33', 'user_weight_34', 'user_weight_35', 'user_weight_36', 'user_weight_37', 'user_weight_38', 'user_weight_39', 'user_weight_40', 'user_weight_41', 'user_weight_42', 'user_weight_43', 'user_weight_44', 'user_weight_45', 'user_weight_46', 'user_weight_47', 'user_weight_48', 'user_weight_49', 'user_weight_50']\n",
    "dep = 'target'"
   ]
  },
  {
   "cell_type": "code",
   "execution_count": null,
   "id": "462cbe4d-ca43-4231-a932-6f8c33079814",
   "metadata": {
    "editable": true,
    "slideshow": {
     "slide_type": ""
    },
    "tags": []
   },
   "outputs": [],
   "source": [
    "def tabularify(data, is_train=True):\n",
    "    y_names = None;\n",
    "    splits = None;\n",
    "    \n",
    "    if is_train:\n",
    "        y_names = dep;\n",
    "        splits = RandomSplitter(valid_pct=0.2)(range_of(data));\n",
    "        \n",
    "    return TabularPandas(data,\n",
    "                         procs=[Categorify, FillMissing,Normalize],\n",
    "                         cat_names=cat_names,\n",
    "                         cont_names=cont_names,\n",
    "                         y_names=y_names,\n",
    "                         splits=splits)\n",
    "\n",
    "to = tabularify(all_data)\n",
    "\n",
    "X_train, y_train = to.train.xs, to.train.ys.values.ravel()\n",
    "X_valid, y_valid = to.valid.xs, to.valid.ys.values.ravel()\n",
    "\n",
    "del all_data\n",
    "del to\n",
    "\n",
    "gc.collect()"
   ]
  },
  {
   "cell_type": "code",
   "execution_count": null,
   "id": "95f76ad3-a1bc-472e-88bc-c62e552d66d3",
   "metadata": {},
   "outputs": [],
   "source": [
    "from sklearn.ensemble import RandomForestClassifier\n",
    "from sklearn.metrics import matthews_corrcoef\n",
    "\n",
    "rf = RandomForestClassifier(100, min_samples_leaf=5)\n",
    "rf.fit(X_train, y_train)\n",
    "\n",
    "del X_train\n",
    "del y_train\n",
    "gc.collect()\n",
    "\n",
    "matthews_corrcoef(y_valid, rf.predict(X_valid))"
   ]
  },
  {
   "cell_type": "code",
   "execution_count": null,
   "id": "261b9623-7ec5-4dca-ad2e-cb9ae9600839",
   "metadata": {},
   "outputs": [],
   "source": [
    "del X_valid\n",
    "del y_valid\n",
    "gc.collect()\n",
    "\n",
    "test_df = pd.read_csv(path/'test.csv', usecols=('msno', 'song_id', 'id'))\n",
    "\n",
    "test_data = merge_data(test_df)\n",
    "\n",
    "test_data.head()"
   ]
  },
  {
   "cell_type": "code",
   "execution_count": null,
   "id": "a83f77ad-71fb-46e5-9c26-218c33d8b05a",
   "metadata": {},
   "outputs": [],
   "source": [
    "to_test = tabularify(test_data, is_train=False)\n",
    "X_test = to_test.train.xs"
   ]
  },
  {
   "cell_type": "code",
   "execution_count": null,
   "id": "634a7f7a-56f5-4870-bf87-bfe951bb2afa",
   "metadata": {},
   "outputs": [],
   "source": [
    "output = rf.predict(X_test)\n",
    "\n",
    "del to_test\n",
    "del X_test\n",
    "gc.collect()\n",
    "\n",
    "test_df['target'] = torch.clip(output, 0, 1)"
   ]
  },
  {
   "cell_type": "code",
   "execution_count": null,
   "id": "e50349b2-1231-4ecd-94fc-0ccb4f24f8fb",
   "metadata": {},
   "outputs": [],
   "source": [
    "sample_submission = pd.read_csv(path/'sample_submission.csv')\n",
    "sample_submission"
   ]
  },
  {
   "cell_type": "code",
   "execution_count": null,
   "id": "bc4b58ef-2ec4-4a30-abcb-14f2eaf9e22d",
   "metadata": {},
   "outputs": [],
   "source": [
    "test_df['target'] = torch.clip(output, 0, 1)\n",
    "\n",
    "sub_df = test_df[['id','target']]\n",
    "sub_df.to_csv(f'submission.csv', index=False)"
   ]
  },
  {
   "cell_type": "code",
   "execution_count": null,
   "id": "4a6727d8-3c41-48f5-a370-c7ffeb464030",
   "metadata": {},
   "outputs": [],
   "source": [
    "!head submission.csv"
   ]
  },
  {
   "cell_type": "code",
   "execution_count": null,
   "id": "0014f80c-d5f4-4fe0-bec4-a6d905f00e06",
   "metadata": {},
   "outputs": [],
   "source": [
    "if not iskaggle:\n",
    "    from kaggle import api\n",
    "    api.competition_submit_cli('submission.csv', 'kkbox-recommendation-6', comp)"
   ]
  },
  {
   "cell_type": "code",
   "execution_count": 5,
   "id": "2d55d64f-05c6-41c1-93b4-ccd814fa2602",
   "metadata": {},
   "outputs": [
    {
     "name": "stdout",
     "output_type": "stream",
     "text": [
      "Kernel version 1 successfully pushed.  Please check progress at https://www.kaggle.com/code/alexchalk/poisonous-mushrooms-submission-05\n"
     ]
    }
   ],
   "source": [
    "if not iskaggle:\n",
    "    push_notebook('alexchalk', 'poisonous-mushrooms-submission-05',\n",
    "                  title='Poisonous Mushrooms Submission 05',\n",
    "                  file='02.ipynb',\n",
    "                  competition=comp, private=True, gpu=False)"
   ]
  },
  {
   "cell_type": "code",
   "execution_count": null,
   "id": "35caff40-d145-4765-8767-64e1a39eac81",
   "metadata": {},
   "outputs": [],
   "source": []
  }
 ],
 "metadata": {
  "kernelspec": {
   "display_name": "Python 3 (ipykernel)",
   "language": "python",
   "name": "python3"
  },
  "language_info": {
   "codemirror_mode": {
    "name": "ipython",
    "version": 3
   },
   "file_extension": ".py",
   "mimetype": "text/x-python",
   "name": "python",
   "nbconvert_exporter": "python",
   "pygments_lexer": "ipython3",
   "version": "3.9.13"
  }
 },
 "nbformat": 4,
 "nbformat_minor": 5
}
