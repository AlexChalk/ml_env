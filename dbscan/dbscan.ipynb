{
 "cells": [
  {
   "cell_type": "markdown",
   "metadata": {},
   "source": [
    "# DBScan"
   ]
  },
  {
   "cell_type": "code",
   "execution_count": 1,
   "metadata": {},
   "outputs": [],
   "source": [
    "import math, matplotlib.pyplot as plt, operator, torch\n",
    "from functools import partial"
   ]
  },
  {
   "cell_type": "code",
   "execution_count": 2,
   "metadata": {},
   "outputs": [],
   "source": [
    "torch.manual_seed(42)\n",
    "torch.set_printoptions(precision=3, linewidth=140, sci_mode=False)"
   ]
  },
  {
   "cell_type": "markdown",
   "metadata": {},
   "source": [
    "## Create data"
   ]
  },
  {
   "cell_type": "code",
   "execution_count": 3,
   "metadata": {},
   "outputs": [],
   "source": [
    "n_clusters = 6\n",
    "n_samples = 250"
   ]
  },
  {
   "cell_type": "markdown",
   "metadata": {},
   "source": [
    "To generate our data, we're going to pick 6 random points, which we'll call centroids, and for each point we're going to generate 250 random points about it."
   ]
  },
  {
   "cell_type": "code",
   "execution_count": 4,
   "metadata": {},
   "outputs": [],
   "source": [
    "centroids = torch.rand(n_clusters, 2)*70-35"
   ]
  },
  {
   "cell_type": "code",
   "execution_count": 5,
   "metadata": {},
   "outputs": [],
   "source": [
    "from torch.distributions.multivariate_normal import MultivariateNormal\n",
    "from torch import tensor"
   ]
  },
  {
   "cell_type": "code",
   "execution_count": 6,
   "metadata": {},
   "outputs": [
    {
     "data": {
      "text/plain": [
       "tensor([[5., 0.],\n",
       "        [0., 5.]])"
      ]
     },
     "execution_count": 6,
     "metadata": {},
     "output_type": "execute_result"
    }
   ],
   "source": [
    "torch.diag(tensor([5.,5.]))"
   ]
  },
  {
   "cell_type": "code",
   "execution_count": 7,
   "metadata": {},
   "outputs": [],
   "source": [
    "def sample(m): return MultivariateNormal(m, torch.diag(tensor([5.,5.]))).sample((n_samples,))"
   ]
  },
  {
   "cell_type": "code",
   "execution_count": 8,
   "metadata": {},
   "outputs": [],
   "source": [
    "slices = [sample(c) for c in centroids]"
   ]
  },
  {
   "cell_type": "code",
   "execution_count": 9,
   "metadata": {},
   "outputs": [],
   "source": [
    "def plot_data(data, ax=None):\n",
    "    if ax is None: _,ax = plt.subplots()\n",
    "    for group in data:\n",
    "        ax.scatter(group[:,0], group[:,1], s=1)"
   ]
  },
  {
   "cell_type": "code",
   "execution_count": 10,
   "metadata": {},
   "outputs": [
    {
     "data": {
      "image/png": "[encoded data removed]",
      "text/plain": [
       "<Figure size 640x480 with 1 Axes>"
      ]
     },
     "metadata": {},
     "output_type": "display_data"
    }
   ],
   "source": [
    "plot_data(slices)"
   ]
  },
  {
   "cell_type": "code",
   "execution_count": 11,
   "metadata": {},
   "outputs": [
    {
     "data": {
      "text/plain": [
       "torch.Size([1500, 2])"
      ]
     },
     "execution_count": 11,
     "metadata": {},
     "output_type": "execute_result"
    }
   ],
   "source": [
    "data = torch.cat(slices)\n",
    "data.shape"
   ]
  },
  {
   "cell_type": "code",
   "execution_count": 12,
   "metadata": {},
   "outputs": [
    {
     "data": {
      "text/plain": [
       "torch.Size([1500])"
      ]
     },
     "execution_count": 12,
     "metadata": {},
     "output_type": "execute_result"
    }
   ],
   "source": [
    "data[:,0].shape # all xs, [:,1] all ys"
   ]
  },
  {
   "cell_type": "code",
   "execution_count": 13,
   "metadata": {},
   "outputs": [],
   "source": [
    "def plot_func(f):\n",
    "    x = torch.linspace(0,10,100)\n",
    "    plt.plot(x, f(x))"
   ]
  },
  {
   "cell_type": "markdown",
   "metadata": {},
   "source": [
    "## DBScan Definition"
   ]
  },
  {
   "cell_type": "markdown",
   "metadata": {},
   "source": [
    "Consider a set of points in some space to be clustered. Let ε be a parameter specifying the radius of a neighborhood with respect to some point. For the purpose of DBSCAN clustering, the points are classified as core points, (directly-) reachable points and outliers, as follows:\n",
    "\n",
    "- A point p is a core point if at least minPts points are within distance ε of it (including p).\n",
    "- A point q is directly reachable from p if point q is within distance ε from core point p. Points are only said to be directly reachable from core points.\n",
    "- A point q is reachable from p if there is a path p1, ..., pn with p1 = p and pn = q, where each pi+1 is directly reachable from pi. Note that this implies that the initial point and all points on the path must be core points, with the possible exception of q.\n",
    "- All points not reachable from any other point are outliers or noise points.\n",
    "\n",
    "Now if p is a core point, then it forms a cluster together with all points (core or non-core) that are reachable from it. Each cluster contains at least one core point; non-core points can be part of a cluster, but they form its \"edge\", since they cannot be used to reach more points. \n",
    "\n",
    "A cluster [then] satisfies two properties:\n",
    "\n",
    "1. All points within the cluster are mutually density-connected.\n",
    "2. If a point is density-reachable from some point of the cluster, it is part of the cluster as well.\n",
    "\n",
    "The DBSCAN algorithm can be abstracted into the following steps:\n",
    "\n",
    "1. Find the points in the ε (eps) neighborhood of every point, and identify the core points with more than minPts neighbors.\n",
    "2. Find the connected components of core points on the neighbor graph, ignoring all non-core points.\n",
    "3. Assign each non-core point to a nearby cluster if the cluster is an ε (eps) neighbor, otherwise assign it to noise.\n",
    "\n",
    "https://en.wikipedia.org/wiki/DBSCAN#Abstract_algorithm"
   ]
  },
  {
   "cell_type": "markdown",
   "metadata": {},
   "source": [
    "## Non-parallelized implementation"
   ]
  },
  {
   "cell_type": "code",
   "execution_count": 14,
   "metadata": {},
   "outputs": [],
   "source": [
    "eps = 0.5 # max distance to be considered neighbours\n",
    "min_pts = 5 # min points"
   ]
  },
  {
   "cell_type": "code",
   "execution_count": 15,
   "metadata": {},
   "outputs": [],
   "source": [
    "X = data.clone()\n",
    "x = data[:5]"
   ]
  },
  {
   "cell_type": "code",
   "execution_count": 16,
   "metadata": {},
   "outputs": [
    {
     "data": {
      "text/plain": [
       "torch.Size([2])"
      ]
     },
     "execution_count": 16,
     "metadata": {},
     "output_type": "execute_result"
    }
   ],
   "source": [
    "data[0].shape"
   ]
  },
  {
   "cell_type": "code",
   "execution_count": 17,
   "metadata": {},
   "outputs": [],
   "source": [
    "def is_neighbour(point, other_points, eps):\n",
    "    return (((point-other_points)**2).sum(dim=1) <= eps)"
   ]
  },
  {
   "cell_type": "code",
   "execution_count": 18,
   "metadata": {},
   "outputs": [
    {
     "data": {
      "text/plain": [
       "True"
      ]
     },
     "execution_count": 18,
     "metadata": {},
     "output_type": "execute_result"
    }
   ],
   "source": [
    "foo = {}\n",
    "\"bar\" not in foo"
   ]
  },
  {
   "cell_type": "code",
   "execution_count": 19,
   "metadata": {},
   "outputs": [
    {
     "name": "stdout",
     "output_type": "stream",
     "text": [
      "tensor(0) tensor([26.204, 26.349])\n",
      "tensor(72) tensor([25.807, 26.060])\n",
      "tensor(151) tensor([26.459, 26.723])\n",
      "tensor(182) tensor([26.446, 26.410])\n",
      "tensor(194) tensor([26.814, 26.671])\n",
      "tensor(208) tensor([26.085, 25.912])\n",
      "tensor(215) tensor([26.843, 26.434])\n",
      "tensor(221) tensor([25.865, 26.078])\n",
      "tensor(233) tensor([26.895, 26.417])\n",
      "tensor(239) tensor([25.534, 26.495])\n"
     ]
    }
   ],
   "source": [
    "for i in torch.nonzero(is_neighbour(x[0], X, eps)).squeeze():\n",
    "    print(i, X[i])"
   ]
  },
  {
   "cell_type": "code",
   "execution_count": 20,
   "metadata": {},
   "outputs": [
    {
     "data": {
      "text/plain": [
       "[0, 72, 151, 182, 194, 208, 215, 221, 233, 239]"
      ]
     },
     "execution_count": 20,
     "metadata": {},
     "output_type": "execute_result"
    }
   ],
   "source": [
    "torch.nonzero(is_neighbour(x[0], X, 0.5)).squeeze().tolist()"
   ]
  },
  {
   "cell_type": "code",
   "execution_count": 21,
   "metadata": {},
   "outputs": [
    {
     "data": {
      "text/plain": [
       "tensor([ True, False, False,  ..., False, False, False])"
      ]
     },
     "execution_count": 21,
     "metadata": {},
     "output_type": "execute_result"
    }
   ],
   "source": [
    "is_neighbour(x[0], X, 0.5)"
   ]
  },
  {
   "cell_type": "code",
   "execution_count": 22,
   "metadata": {},
   "outputs": [],
   "source": [
    "def is_neighbour(point, other_points, eps):\n",
    "    return (((point-other_points)**2).sum(dim=1).sqrt() <= eps)\n",
    "\n",
    "def build_groups(group_data, group_count, data_length):\n",
    "    groups = []\n",
    "    \n",
    "    for i in range(1, group_count):\n",
    "        group_indexes = list(filter(lambda key: group_data[key] == i, group_data.keys()))\n",
    "        group = X[group_indexes]\n",
    "        groups.append(group)\n",
    "\n",
    "    noise_indexes = list(filter(lambda key: key not in group_data or group_data[key] == \"noise\", list(range(0, data_length)))) # only expecting \"not in\" scenario if called as callback\n",
    "\n",
    "    if len(noise_indexes) > 0:\n",
    "        noise = X[noise_indexes]\n",
    "        groups.append(noise)\n",
    "\n",
    "    return groups\n",
    "\n",
    "def dbscan(data, eps=0.5, min_pts=5, callback=lambda point_to_group, group_count, data_length: None):\n",
    "    n = len(data)\n",
    "    X = data.clone()\n",
    "\n",
    "    point_to_group = {}\n",
    "    group_label = 0\n",
    "    \n",
    "    for i in range(0, n):\n",
    "        if i in point_to_group:\n",
    "            continue\n",
    "        \n",
    "        datum = X[i]\n",
    "\n",
    "        is_core_point = is_neighbour(datum, X, eps).sum() - 1 >= min_pts # subtract one as datapoint itself will also register as neighbour but shouldn't be counted\n",
    "        \n",
    "        if not is_core_point:\n",
    "            point_to_group[i] = \"noise\"\n",
    "            continue\n",
    "\n",
    "        group_label = group_label + 1\n",
    "        \n",
    "        point_to_group[i] = group_label\n",
    "\n",
    "        neighbour_indexes = torch.nonzero(is_neighbour(datum, X, eps)).squeeze().tolist()\n",
    "\n",
    "        for ni in neighbour_indexes:\n",
    "            if ni in point_to_group and point_to_group[ni] == \"noise\":\n",
    "                point_to_group[ni] = group_label\n",
    "\n",
    "            if ni in point_to_group:\n",
    "                continue\n",
    "\n",
    "            point_to_group[ni] = group_label\n",
    "\n",
    "            is_core_point = is_neighbour(X[ni], X, eps).sum() - 1 >= min_pts\n",
    "\n",
    "            if is_core_point:\n",
    "                recursed_neighbour_indexes = torch.nonzero(is_neighbour(X[ni], X, eps)).squeeze().tolist()\n",
    "                recursed_neighbour_indexes = list(set(recursed_neighbour_indexes).difference(set(neighbour_indexes)))\n",
    "    \n",
    "                neighbour_indexes.extend(recursed_neighbour_indexes)\n",
    "\n",
    "        callback(point_to_group, group_label+1, n)\n",
    "\n",
    "    return build_groups(point_to_group, group_label+1, n)"
   ]
  },
  {
   "cell_type": "code",
   "execution_count": 23,
   "metadata": {},
   "outputs": [
    {
     "data": {
      "text/plain": [
       "tensor([[26.204, 26.349],\n",
       "        [25.807, 26.060],\n",
       "        [26.459, 26.723],\n",
       "        [26.446, 26.410],\n",
       "        [26.085, 25.912]])"
      ]
     },
     "execution_count": 23,
     "metadata": {},
     "output_type": "execute_result"
    }
   ],
   "source": [
    "clusters = dbscan(X, eps=0.5, min_pts=5)\n",
    "clusters[0][:5]"
   ]
  },
  {
   "cell_type": "code",
   "execution_count": 24,
   "metadata": {},
   "outputs": [
    {
     "data": {
      "image/png": "[encoded data removed]",
      "text/plain": [
       "<Figure size 640x480 with 1 Axes>"
      ]
     },
     "metadata": {},
     "output_type": "display_data"
    }
   ],
   "source": [
    "plot_data(clusters)"
   ]
  },
  {
   "cell_type": "markdown",
   "metadata": {},
   "source": [
    "## Animation"
   ]
  },
  {
   "cell_type": "code",
   "execution_count": 25,
   "metadata": {},
   "outputs": [],
   "source": [
    "from matplotlib.animation import FuncAnimation\n",
    "from IPython.display import HTML"
   ]
  },
  {
   "cell_type": "code",
   "execution_count": 26,
   "metadata": {},
   "outputs": [],
   "source": [
    "intermediary_groups = []\n",
    "\n",
    "def callback(group_data, group_count, data_length):\n",
    "    intermediary_groups.append(build_groups(group_data, group_count, data_length))\n",
    "\n",
    "dbscan(X, eps=0.5, min_pts=5, callback=callback)\n",
    "\n",
    "final_group_len = len(intermediary_groups[-1])\n",
    "group_count = len(intermediary_groups)"
   ]
  },
  {
   "cell_type": "code",
   "execution_count": 27,
   "metadata": {},
   "outputs": [],
   "source": [
    "group_iterator = iter(intermediary_groups)\n",
    "\n",
    "def plot_fn(d):\n",
    "    ax.clear()\n",
    "    \n",
    "    next_data = next(group_iterator)\n",
    "    group_len = len(next_data)\n",
    "\n",
    "    noise_group = next_data.pop()\n",
    "\n",
    "    next_data.extend([torch.empty(0, 2) for _ in range(final_group_len-group_len)]) # pad to keep group count and animation colours consistent\n",
    "    \n",
    "    next_data.append(noise_group)\n",
    "\n",
    "    return plot_data(next_data, ax)"
   ]
  },
  {
   "cell_type": "code",
   "execution_count": 28,
   "metadata": {},
   "outputs": [
    {
     "data": {
      "text/plain": [
       "(tensor([], size=(0, 2)), tensor([]), tensor([]))"
      ]
     },
     "execution_count": 28,
     "metadata": {},
     "output_type": "execute_result"
    }
   ],
   "source": [
    "torch.empty(0, 2), torch.empty(0, 2)[:,0], torch.empty(0, 2)[:,1]"
   ]
  },
  {
   "cell_type": "code",
   "execution_count": null,
   "metadata": {},
   "outputs": [],
   "source": [
    "# create your own animation\n",
    "fig,ax = plt.subplots()\n",
    "\n",
    "ani = FuncAnimation(fig, plot_fn, frames=group_count-1, interval=1000, repeat=False)\n",
    "plt.close()\n",
    "HTML(ani.to_jshtml())"
   ]
  },
  {
   "cell_type": "code",
   "execution_count": null,
   "metadata": {},
   "outputs": [],
   "source": [
    "%timeit -n 5 _= dbscan(X, eps=0.5, min_pts=5)"
   ]
  },
  {
   "cell_type": "markdown",
   "metadata": {},
   "source": [
    "## Modifying for GPU parallelizability"
   ]
  },
  {
   "cell_type": "code",
   "execution_count": null,
   "metadata": {},
   "outputs": [],
   "source": [
    "import torch.nn as nn"
   ]
  },
  {
   "cell_type": "code",
   "execution_count": null,
   "metadata": {},
   "outputs": [],
   "source": [
    "X = data.clone()\n",
    "x = data[:5]"
   ]
  },
  {
   "cell_type": "code",
   "execution_count": null,
   "metadata": {},
   "outputs": [],
   "source": [
    "X.shape, x.shape, x[:,None,:].shape, X[None].shape, (x[:,None,:]-X[None]).shape"
   ]
  },
  {
   "cell_type": "code",
   "execution_count": null,
   "metadata": {},
   "outputs": [],
   "source": [
    "(((x[:,None,:]-X[None])**2).sum(dim=2).sqrt() <= eps).sum(dim=1) > 5"
   ]
  },
  {
   "cell_type": "code",
   "execution_count": null,
   "metadata": {},
   "outputs": [],
   "source": [
    "def euclidean_distance(points, other_points):\n",
    "    return torch.einsum('ijk,ijk->ij', points-other_points, points-other_points).sqrt()"
   ]
  },
  {
   "cell_type": "code",
   "execution_count": null,
   "metadata": {},
   "outputs": [],
   "source": [
    "def is_core_point(batch, other_points, eps=2, min_neighbours=5):\n",
    "    return (euclidean_distance(batch[:,None,:], other_points[None]) <= eps).sum(dim=1) >= min_neighbours"
   ]
  },
  {
   "cell_type": "code",
   "execution_count": null,
   "metadata": {},
   "outputs": [],
   "source": [
    "s = slice(0, 500)"
   ]
  },
  {
   "cell_type": "code",
   "execution_count": null,
   "metadata": {},
   "outputs": [],
   "source": [
    "X[s].shape, X[s][is_core_point(X[s], X)].shape"
   ]
  },
  {
   "cell_type": "code",
   "execution_count": null,
   "metadata": {},
   "outputs": [],
   "source": [
    "labels = -torch.ones(1500, dtype=torch.int32)\n",
    "labels"
   ]
  },
  {
   "cell_type": "code",
   "execution_count": null,
   "metadata": {},
   "outputs": [],
   "source": [
    "n = len(data)\n",
    "X = data.clone()\n",
    "labels = -torch.ones(n)\n",
    "\n",
    "core_point_mask = is_core_point(X, other_points=X, eps=eps, min_neighbours=min_pts)\n",
    "core_points = X[core_point_mask]\n",
    "noise = X[~core_point_mask]\n",
    "\n",
    "core_points.shape, noise.shape"
   ]
  },
  {
   "cell_type": "code",
   "execution_count": null,
   "metadata": {},
   "outputs": [],
   "source": [
    "def connections(points, other_points):\n",
    "    differences = points[:,None,:] - other_points[None]\n",
    "    return torch.einsum('ijk,ijk->ij', differences, differences).sqrt()"
   ]
  },
  {
   "cell_type": "code",
   "execution_count": null,
   "metadata": {},
   "outputs": [],
   "source": [
    "connections(core_points, core_points)"
   ]
  },
  {
   "cell_type": "code",
   "execution_count": null,
   "metadata": {},
   "outputs": [],
   "source": [
    "from scipy.sparse.csgraph import connected_components\n",
    "from scipy.sparse import csr_matrix"
   ]
  },
  {
   "cell_type": "code",
   "execution_count": null,
   "metadata": {},
   "outputs": [],
   "source": [
    "adjacency_graph = connections(core_points, core_points) <= eps\n",
    "adjacency_graph"
   ]
  },
  {
   "cell_type": "code",
   "execution_count": null,
   "metadata": {},
   "outputs": [],
   "source": [
    "torch.allclose(adjacency_graph, adjacency_graph.T)"
   ]
  },
  {
   "cell_type": "code",
   "execution_count": null,
   "metadata": {},
   "outputs": [],
   "source": [
    "labels_tensor = torch.tensor(labels)\n",
    "sorted_indices = torch.argsort(labels_tensor)\n",
    "sorted_labels = labels_tensor[sorted_indices]\n",
    "\n",
    "unique_labels, counts = torch.unique(sorted_labels, return_counts=True)\n",
    "index_groups = torch.split(sorted_indices, counts.tolist())\n",
    "\n",
    "index_groups[:10]"
   ]
  },
  {
   "cell_type": "code",
   "execution_count": null,
   "metadata": {},
   "outputs": [],
   "source": [
    "_,labels = connected_components(adjacency_graph, directed=False)\n",
    "labels[:20]"
   ]
  },
  {
   "cell_type": "code",
   "execution_count": null,
   "metadata": {},
   "outputs": [],
   "source": [
    "edge_analysis = connections(noise, core_points)\n",
    "core_points.shape, noise.shape, edge_analysis.shape"
   ]
  },
  {
   "cell_type": "code",
   "execution_count": null,
   "metadata": {},
   "outputs": [],
   "source": [
    "edge_adjacency = (edge_analysis <= eps).int()\n",
    "edge_adjacency"
   ]
  },
  {
   "cell_type": "code",
   "execution_count": null,
   "metadata": {},
   "outputs": [],
   "source": [
    "edges_and_noise = torch.where(\n",
    "    edge_adjacency.any(dim=1),  # Check if any column matches in each row\n",
    "    edge_adjacency.argmax(dim=1),  # Get index of first True\n",
    "    torch.tensor(-1)  # Set to -1 if no match\n",
    ")\n",
    "edges_and_noise[:10]"
   ]
  },
  {
   "cell_type": "code",
   "execution_count": null,
   "metadata": {},
   "outputs": [],
   "source": [
    "noise_mask = edges_and_noise == -1\n",
    "noise[noise_mask].shape"
   ]
  },
  {
   "cell_type": "code",
   "execution_count": null,
   "metadata": {},
   "outputs": [],
   "source": [
    "mask = torch.isin(edges_and_noise, index_groups[0])\n",
    "noise[mask][:10]"
   ]
  },
  {
   "cell_type": "code",
   "execution_count": null,
   "metadata": {},
   "outputs": [],
   "source": [
    "def euclidean_distances(points, other_points):\n",
    "    differences = points[:,None,:] - other_points[None]\n",
    "    return torch.einsum('ijk,ijk->ij', differences, differences).sqrt()"
   ]
  },
  {
   "cell_type": "code",
   "execution_count": null,
   "metadata": {},
   "outputs": [],
   "source": [
    "def is_core_point(batch, other_points, eps, min_neighbours):\n",
    "    return (euclidean_distances(batch, other_points) <= eps).sum(dim=1) - 1 >= min_neighbours"
   ]
  },
  {
   "cell_type": "code",
   "execution_count": null,
   "metadata": {},
   "outputs": [],
   "source": [
    "def connected_component_groups(core_points, eps):\n",
    "    adjacency_graph = euclidean_distances(core_points, core_points) <= eps\n",
    "    \n",
    "    _,labels = connected_components(csr_matrix(adjacency_graph), directed=False)\n",
    "    labels_tensor = torch.tensor(labels)\n",
    "    sorted_indices = torch.argsort(labels_tensor)\n",
    "    sorted_labels = labels_tensor[sorted_indices]\n",
    "    \n",
    "    unique_labels, counts = torch.unique(sorted_labels, return_counts=True)\n",
    "    \n",
    "    return torch.split(sorted_indices, counts.tolist())"
   ]
  },
  {
   "cell_type": "code",
   "execution_count": null,
   "metadata": {},
   "outputs": [],
   "source": [
    "def edge_links_to_core_points(noise, core_points, eps):\n",
    "    distances = euclidean_distances(noise, core_points)\n",
    "    is_edge = (distances <= eps).int()\n",
    "\n",
    "    return torch.where(\n",
    "        is_edge.any(dim=1),\n",
    "        is_edge.argmax(dim=1),\n",
    "        torch.tensor(-1)\n",
    "    )"
   ]
  },
  {
   "cell_type": "code",
   "execution_count": null,
   "metadata": {},
   "outputs": [],
   "source": [
    "def dbscan_parallelized(data, eps=0.5, min_pts=5): # Not sure how to support batching\n",
    "    n = len(data)\n",
    "    X = data.clone()\n",
    "    \n",
    "    core_point_mask = is_core_point(X, other_points=X, eps=eps, min_neighbours=min_pts)\n",
    "    \n",
    "    core_points = X[core_point_mask]\n",
    "    non_core_points = X[~core_point_mask]\n",
    "\n",
    "    ccgroups = connected_component_groups(core_points, eps)\n",
    "    edge_links = edge_links_to_core_points(non_core_points, core_points, eps)\n",
    "\n",
    "    result = []\n",
    "\n",
    "    for ccgroup in ccgroups: # Not sure how to avoid for loop for tensors of uneven lengths\n",
    "        result_group = core_points[ccgroup]\n",
    "        \n",
    "        edge_match_mask = torch.isin(edge_links, ccgroup)\n",
    "        edge_matches = non_core_points[edge_match_mask]\n",
    "\n",
    "        result.append(torch.cat([result_group, edge_matches]))\n",
    "         \n",
    "    noise_mask = edge_links == -1\n",
    "    result.append(non_core_points[noise_mask])\n",
    "    \n",
    "    return result"
   ]
  },
  {
   "cell_type": "code",
   "execution_count": null,
   "metadata": {},
   "outputs": [],
   "source": [
    "parallelized_clusters = dbscan_parallelized(X, eps=0.5, min_pts=5)\n",
    "parallelized_clusters[0][:5]"
   ]
  },
  {
   "cell_type": "code",
   "execution_count": null,
   "metadata": {},
   "outputs": [],
   "source": [
    "len(clusters), len(parallelized_clusters)"
   ]
  },
  {
   "cell_type": "code",
   "execution_count": null,
   "metadata": {},
   "outputs": [],
   "source": [
    "plot_data(parallelized_clusters)"
   ]
  },
  {
   "cell_type": "code",
   "execution_count": null,
   "metadata": {},
   "outputs": [],
   "source": [
    "plot_data(clusters)"
   ]
  },
  {
   "cell_type": "code",
   "execution_count": null,
   "metadata": {},
   "outputs": [],
   "source": [
    "%timeit -n 5 _= dbscan_parallelized(X, eps=0.5, min_pts=5)"
   ]
  },
  {
   "cell_type": "code",
   "execution_count": null,
   "metadata": {},
   "outputs": [],
   "source": [
    "%timeit -n 5 _= dbscan(X, eps=0.5, min_pts=5)"
   ]
  }
 ],
 "metadata": {
  "kernelspec": {
   "display_name": "Python ML",
   "language": "python",
   "name": "python3"
  },
  "language_info": {
   "codemirror_mode": {
    "name": "ipython",
    "version": 3
   },
   "file_extension": ".py",
   "mimetype": "text/x-python",
   "name": "python",
   "nbconvert_exporter": "python",
   "pygments_lexer": "ipython3",
   "version": "3.13.6"
  }
 },
 "nbformat": 4,
 "nbformat_minor": 4
}
