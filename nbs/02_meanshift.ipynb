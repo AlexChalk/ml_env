{
 "cells": [
  {
   "cell_type": "markdown",
   "metadata": {},
   "source": [
    "# Clustering"
   ]
  },
  {
   "cell_type": "markdown",
   "metadata": {},
   "source": [
    "Clustering techniques are unsupervised learning algorithms that try to group unlabelled data into \"clusters\", using the (typically spatial) structure of the data itself. It has many [applications](https://en.wikipedia.org/wiki/Cluster_analysis#Applications).\n",
    "\n",
    "The easiest way to demonstrate how clustering works is to simply generate some data and show them in action. We'll start off by importing the libraries we'll be using today."
   ]
  },
  {
   "cell_type": "code",
   "execution_count": 1,
   "metadata": {},
   "outputs": [],
   "source": [
    "import math, matplotlib.pyplot as plt, operator, torch\n",
    "from functools import partial"
   ]
  },
  {
   "cell_type": "code",
   "execution_count": 2,
   "metadata": {},
   "outputs": [],
   "source": [
    "torch.manual_seed(42)\n",
    "torch.set_printoptions(precision=3, linewidth=140, sci_mode=False)"
   ]
  },
  {
   "cell_type": "markdown",
   "metadata": {},
   "source": [
    "## Create data"
   ]
  },
  {
   "cell_type": "code",
   "execution_count": 3,
   "metadata": {},
   "outputs": [],
   "source": [
    "n_clusters=6\n",
    "n_samples =250"
   ]
  },
  {
   "cell_type": "markdown",
   "metadata": {},
   "source": [
    "To generate our data, we're going to pick 6 random points, which we'll call centroids, and for each point we're going to generate 250 random points about it."
   ]
  },
  {
   "cell_type": "code",
   "execution_count": 4,
   "metadata": {},
   "outputs": [],
   "source": [
    "centroids = torch.rand(n_clusters, 2)*70-35"
   ]
  },
  {
   "cell_type": "code",
   "execution_count": 5,
   "metadata": {},
   "outputs": [
    {
     "data": {
      "text/plain": [
       "(tensor([[0.869, 0.568],\n",
       "         [0.741, 0.429],\n",
       "         [0.885, 0.574],\n",
       "         [0.267, 0.627],\n",
       "         [0.270, 0.441],\n",
       "         [0.297, 0.832]]),\n",
       " tensor([[ 26.759,  29.050],\n",
       "         [ -8.200,  32.151],\n",
       "         [ -7.669,   7.063],\n",
       "         [-17.040,  20.555],\n",
       "         [ 30.854, -25.677],\n",
       "         [ 30.422,   6.551]]))"
      ]
     },
     "execution_count": 5,
     "metadata": {},
     "output_type": "execute_result"
    }
   ],
   "source": [
    "torch.rand(n_clusters, 2), centroids"
   ]
  },
  {
   "cell_type": "code",
   "execution_count": 6,
   "metadata": {},
   "outputs": [],
   "source": [
    "from torch.distributions.multivariate_normal import MultivariateNormal\n",
    "from torch import tensor"
   ]
  },
  {
   "cell_type": "code",
   "execution_count": 7,
   "metadata": {},
   "outputs": [
    {
     "data": {
      "text/plain": [
       "tensor([[5., 0.],\n",
       "        [0., 5.]])"
      ]
     },
     "execution_count": 7,
     "metadata": {},
     "output_type": "execute_result"
    }
   ],
   "source": [
    "torch.diag(tensor([5.,5.]))"
   ]
  },
  {
   "cell_type": "code",
   "execution_count": 8,
   "metadata": {},
   "outputs": [
    {
     "data": {
      "text/plain": [
       "\u001b[0;31mInit signature:\u001b[0m\n",
       "\u001b[0mMultivariateNormal\u001b[0m\u001b[0;34m(\u001b[0m\u001b[0;34m\u001b[0m\n",
       "\u001b[0;34m\u001b[0m    \u001b[0mloc\u001b[0m\u001b[0;34m,\u001b[0m\u001b[0;34m\u001b[0m\n",
       "\u001b[0;34m\u001b[0m    \u001b[0mcovariance_matrix\u001b[0m\u001b[0;34m=\u001b[0m\u001b[0;32mNone\u001b[0m\u001b[0;34m,\u001b[0m\u001b[0;34m\u001b[0m\n",
       "\u001b[0;34m\u001b[0m    \u001b[0mprecision_matrix\u001b[0m\u001b[0;34m=\u001b[0m\u001b[0;32mNone\u001b[0m\u001b[0;34m,\u001b[0m\u001b[0;34m\u001b[0m\n",
       "\u001b[0;34m\u001b[0m    \u001b[0mscale_tril\u001b[0m\u001b[0;34m=\u001b[0m\u001b[0;32mNone\u001b[0m\u001b[0;34m,\u001b[0m\u001b[0;34m\u001b[0m\n",
       "\u001b[0;34m\u001b[0m    \u001b[0mvalidate_args\u001b[0m\u001b[0;34m=\u001b[0m\u001b[0;32mNone\u001b[0m\u001b[0;34m,\u001b[0m\u001b[0;34m\u001b[0m\n",
       "\u001b[0;34m\u001b[0m\u001b[0;34m)\u001b[0m\u001b[0;34m\u001b[0m\u001b[0;34m\u001b[0m\u001b[0m\n",
       "\u001b[0;31mDocstring:\u001b[0m     \n",
       "Creates a multivariate normal (also called Gaussian) distribution\n",
       "parameterized by a mean vector and a covariance matrix.\n",
       "\n",
       "The multivariate normal distribution can be parameterized either\n",
       "in terms of a positive definite covariance matrix :math:`\\mathbf{\\Sigma}`\n",
       "or a positive definite precision matrix :math:`\\mathbf{\\Sigma}^{-1}`\n",
       "or a lower-triangular matrix :math:`\\mathbf{L}` with positive-valued\n",
       "diagonal entries, such that\n",
       ":math:`\\mathbf{\\Sigma} = \\mathbf{L}\\mathbf{L}^\\top`. This triangular matrix\n",
       "can be obtained via e.g. Cholesky decomposition of the covariance.\n",
       "\n",
       "Example:\n",
       "\n",
       "    >>> # xdoctest: +REQUIRES(env:TORCH_DOCTEST_LAPACK)\n",
       "    >>> # xdoctest: +IGNORE_WANT(\"non-deterministic\")\n",
       "    >>> m = MultivariateNormal(torch.zeros(2), torch.eye(2))\n",
       "    >>> m.sample()  # normally distributed with mean=`[0,0]` and covariance_matrix=`I`\n",
       "    tensor([-0.2102, -0.5429])\n",
       "\n",
       "Args:\n",
       "    loc (Tensor): mean of the distribution\n",
       "    covariance_matrix (Tensor): positive-definite covariance matrix\n",
       "    precision_matrix (Tensor): positive-definite precision matrix\n",
       "    scale_tril (Tensor): lower-triangular factor of covariance, with positive-valued diagonal\n",
       "\n",
       "Note:\n",
       "    Only one of :attr:`covariance_matrix` or :attr:`precision_matrix` or\n",
       "    :attr:`scale_tril` can be specified.\n",
       "\n",
       "    Using :attr:`scale_tril` will be more efficient: all computations internally\n",
       "    are based on :attr:`scale_tril`. If :attr:`covariance_matrix` or\n",
       "    :attr:`precision_matrix` is passed instead, it is only used to compute\n",
       "    the corresponding lower triangular matrices using a Cholesky decomposition.\n",
       "\u001b[0;31mFile:\u001b[0m           /venv/ml/lib/python3.12/site-packages/torch/distributions/multivariate_normal.py\n",
       "\u001b[0;31mType:\u001b[0m           type\n",
       "\u001b[0;31mSubclasses:\u001b[0m     "
      ]
     },
     "metadata": {},
     "output_type": "display_data"
    }
   ],
   "source": [
    "MultivariateNormal?"
   ]
  },
  {
   "cell_type": "code",
   "execution_count": 9,
   "metadata": {},
   "outputs": [],
   "source": [
    "def sample(m): return MultivariateNormal(m, torch.diag(tensor([5.,5.]))).sample((n_samples,))"
   ]
  },
  {
   "cell_type": "code",
   "execution_count": 10,
   "metadata": {},
   "outputs": [
    {
     "data": {
      "text/plain": [
       "torch.Size([1500, 2])"
      ]
     },
     "execution_count": 10,
     "metadata": {},
     "output_type": "execute_result"
    }
   ],
   "source": [
    "slices = [sample(c) for c in centroids]\n",
    "data = torch.cat(slices)\n",
    "data.shape"
   ]
  },
  {
   "cell_type": "code",
   "execution_count": 11,
   "metadata": {},
   "outputs": [
    {
     "data": {
      "text/plain": [
       "tensor([27.555, 27.515])"
      ]
     },
     "execution_count": 11,
     "metadata": {},
     "output_type": "execute_result"
    }
   ],
   "source": [
    "data[0]"
   ]
  },
  {
   "cell_type": "code",
   "execution_count": 12,
   "metadata": {},
   "outputs": [
    {
     "data": {
      "text/plain": [
       "torch.Size([1500])"
      ]
     },
     "execution_count": 12,
     "metadata": {},
     "output_type": "execute_result"
    }
   ],
   "source": [
    "data[:,0].shape # all xs, [:,1] all ys"
   ]
  },
  {
   "cell_type": "markdown",
   "metadata": {},
   "source": [
    "Below we can see each centroid marked w/ X, and the coloring associated to each respective cluster."
   ]
  },
  {
   "cell_type": "code",
   "execution_count": 13,
   "metadata": {},
   "outputs": [],
   "source": [
    "def plot_data(centroids, data, n_samples, ax=None):\n",
    "    if ax is None: _,ax = plt.subplots()\n",
    "    for i, centroid in enumerate(centroids):\n",
    "        samples = data[i*n_samples:(i+1)*n_samples]\n",
    "        ax.scatter(samples[:,0], samples[:,1], s=1)\n",
    "        ax.plot(*centroid, markersize=10, marker=\"x\", color='k', mew=5)\n",
    "        ax.plot(*centroid, markersize=5, marker=\"x\", color='m', mew=2)"
   ]
  },
  {
   "cell_type": "code",
   "execution_count": 14,
   "metadata": {},
   "outputs": [
    {
     "data": {
      "image/png": "[encoded data removed]",
      "text/plain": [
       "<Figure size 640x480 with 1 Axes>"
      ]
     },
     "metadata": {},
     "output_type": "display_data"
    }
   ],
   "source": [
    "plot_data(centroids, data, n_samples)"
   ]
  },
  {
   "cell_type": "markdown",
   "metadata": {},
   "source": [
    "## Mean shift"
   ]
  },
  {
   "cell_type": "markdown",
   "metadata": {},
   "source": [
    "Most people that have come across clustering algorithms have learnt about **k-means**. Mean shift clustering is a newer and less well-known approach, but it has some important advantages:\n",
    "* It doesn't require selecting the number of clusters in advance, but instead just requires a **bandwidth** to be specified, which can be easily chosen automatically\n",
    "* It can handle clusters of any shape, whereas k-means (without using special extensions) requires that clusters be roughly ball shaped."
   ]
  },
  {
   "cell_type": "markdown",
   "metadata": {},
   "source": [
    "The algorithm is as follows:\n",
    "* For each data point x in the sample X, find the distance between that point x and every other point in X\n",
    "* Create weights for each point in X by using the **Gaussian kernel** of that point's distance to x\n",
    "    * This weighting approach penalizes points further away from x\n",
    "    * The rate at which the weights fall to zero is determined by the **bandwidth**, which is the standard deviation of the Gaussian\n",
    "* Update x as the weighted average of all other points in X, weighted based on the previous step\n",
    "\n",
    "This will iteratively push points that are close together even closer until they are next to each other."
   ]
  },
  {
   "cell_type": "code",
   "execution_count": 15,
   "metadata": {},
   "outputs": [
    {
     "data": {
      "text/plain": [
       "tensor([ 9.226, 11.636])"
      ]
     },
     "execution_count": 15,
     "metadata": {},
     "output_type": "execute_result"
    }
   ],
   "source": [
    "midp = data.mean(0)\n",
    "midp"
   ]
  },
  {
   "cell_type": "code",
   "execution_count": 16,
   "metadata": {},
   "outputs": [
    {
     "data": {
      "image/png": "[encoded data removed]",
      "text/plain": [
       "<Figure size 640x480 with 1 Axes>"
      ]
     },
     "metadata": {},
     "output_type": "display_data"
    }
   ],
   "source": [
    "plot_data([midp]*6, data, n_samples)"
   ]
  },
  {
   "cell_type": "markdown",
   "metadata": {},
   "source": [
    "So here's the definition of the gaussian kernel, which you may remember from high school...\n",
    " This person at the science march certainly remembered!\n",
    "\n",
    "<img src=\"http://i.imgur.com/nijQLHw.jpg\" width=400>"
   ]
  },
  {
   "cell_type": "code",
   "execution_count": 17,
   "metadata": {},
   "outputs": [],
   "source": [
    "def gaussian(d, bw): return torch.exp(-0.5*((d/bw))**2) / (bw*math.sqrt(2*math.pi))"
   ]
  },
  {
   "cell_type": "code",
   "execution_count": 18,
   "metadata": {},
   "outputs": [],
   "source": [
    "def plot_func(f):\n",
    "    x = torch.linspace(0,10,100)\n",
    "    plt.plot(x, f(x))"
   ]
  },
  {
   "cell_type": "code",
   "execution_count": 19,
   "metadata": {},
   "outputs": [
    {
     "data": {
      "image/png": "[encoded data removed]",
      "text/plain": [
       "<Figure size 640x480 with 1 Axes>"
      ]
     },
     "metadata": {},
     "output_type": "display_data"
    }
   ],
   "source": [
    "plot_func(partial(gaussian, bw=2.5))"
   ]
  },
  {
   "cell_type": "code",
   "execution_count": 20,
   "metadata": {},
   "outputs": [
    {
     "data": {
      "text/plain": [
       "functools.partial"
      ]
     },
     "execution_count": 20,
     "metadata": {},
     "output_type": "execute_result"
    }
   ],
   "source": [
    "partial"
   ]
  },
  {
   "cell_type": "markdown",
   "metadata": {},
   "source": [
    "In our implementation, we choose the bandwidth to be 2.5. \n",
    "\n",
    "One easy way to choose bandwidth is to find which bandwidth covers one third of the data."
   ]
  },
  {
   "cell_type": "code",
   "execution_count": 21,
   "metadata": {},
   "outputs": [],
   "source": [
    "def tri(d, i): return (-d+i).clamp_min(0)/i"
   ]
  },
  {
   "cell_type": "code",
   "execution_count": 22,
   "metadata": {},
   "outputs": [
    {
     "data": {
      "image/png": "[encoded data removed]",
      "text/plain": [
       "<Figure size 640x480 with 1 Axes>"
      ]
     },
     "metadata": {},
     "output_type": "display_data"
    }
   ],
   "source": [
    "plot_func(partial(tri, i=8))"
   ]
  },
  {
   "cell_type": "code",
   "execution_count": 23,
   "metadata": {},
   "outputs": [],
   "source": [
    "X = data.clone()\n",
    "x = data[0]"
   ]
  },
  {
   "cell_type": "code",
   "execution_count": 24,
   "metadata": {},
   "outputs": [
    {
     "data": {
      "text/plain": [
       "tensor([27.555, 27.515])"
      ]
     },
     "execution_count": 24,
     "metadata": {},
     "output_type": "execute_result"
    }
   ],
   "source": [
    "x"
   ]
  },
  {
   "cell_type": "code",
   "execution_count": 25,
   "metadata": {},
   "outputs": [
    {
     "data": {
      "text/plain": [
       "(torch.Size([2]),\n",
       " torch.Size([1500, 2]),\n",
       " torch.Size([1, 2]),\n",
       " tensor([27.555, 27.515]))"
      ]
     },
     "execution_count": 25,
     "metadata": {},
     "output_type": "execute_result"
    }
   ],
   "source": [
    "x.shape,X.shape,x[None].shape,x"
   ]
  },
  {
   "cell_type": "code",
   "execution_count": 26,
   "metadata": {},
   "outputs": [
    {
     "data": {
      "text/plain": [
       "tensor([[ 0.000,  0.000],\n",
       "        [ 1.899, -2.075],\n",
       "        [ 3.280, -1.740],\n",
       "        [ 5.977, -1.051],\n",
       "        [ 1.488, -0.650],\n",
       "        [-1.001, -0.145],\n",
       "        [ 2.119, -1.394],\n",
       "        [ 2.648, -2.275]])"
      ]
     },
     "execution_count": 26,
     "metadata": {},
     "output_type": "execute_result"
    }
   ],
   "source": [
    "(x[None]-X)[:8]"
   ]
  },
  {
   "cell_type": "code",
   "execution_count": 27,
   "metadata": {},
   "outputs": [
    {
     "data": {
      "text/plain": [
       "tensor([[ 0.000,  0.000],\n",
       "        [ 1.899, -2.075],\n",
       "        [ 3.280, -1.740],\n",
       "        [ 5.977, -1.051],\n",
       "        [ 1.488, -0.650],\n",
       "        [-1.001, -0.145],\n",
       "        [ 2.119, -1.394],\n",
       "        [ 2.648, -2.275]])"
      ]
     },
     "execution_count": 27,
     "metadata": {},
     "output_type": "execute_result"
    }
   ],
   "source": [
    "(x-X)[:8]"
   ]
  },
  {
   "cell_type": "code",
   "execution_count": 28,
   "metadata": {},
   "outputs": [
    {
     "data": {
      "text/plain": [
       "tensor([0.000, 2.813, 3.713, 6.068, 1.624, 1.011, 2.537, 3.492])"
      ]
     },
     "execution_count": 28,
     "metadata": {},
     "output_type": "execute_result"
    }
   ],
   "source": [
    "# rewrite using torch.einsum\n",
    "dist = ((x-X)**2).sum(1).sqrt()\n",
    "dist[:8]"
   ]
  },
  {
   "cell_type": "code",
   "execution_count": 29,
   "metadata": {},
   "outputs": [
    {
     "data": {
      "text/plain": [
       "tensor([0.000, 2.813, 3.713, 6.068, 1.624, 1.011, 2.537, 3.492])"
      ]
     },
     "execution_count": 29,
     "metadata": {},
     "output_type": "execute_result"
    }
   ],
   "source": [
    "dist = torch.einsum('ik,ik->i', x-X, x-X).sqrt()\n",
    "dist[:8]"
   ]
  },
  {
   "cell_type": "code",
   "execution_count": 30,
   "metadata": {},
   "outputs": [
    {
     "data": {
      "text/plain": [
       "tensor([    0.160,     0.085,     0.053,  ...,     0.000,     0.000,     0.000])"
      ]
     },
     "execution_count": 30,
     "metadata": {},
     "output_type": "execute_result"
    }
   ],
   "source": [
    "weight = gaussian(dist, 2.5)\n",
    "weight"
   ]
  },
  {
   "cell_type": "code",
   "execution_count": 31,
   "metadata": {},
   "outputs": [
    {
     "data": {
      "text/plain": [
       "(torch.Size([1500]), torch.Size([1500, 2]))"
      ]
     },
     "execution_count": 31,
     "metadata": {},
     "output_type": "execute_result"
    }
   ],
   "source": [
    "weight.shape,X.shape"
   ]
  },
  {
   "cell_type": "code",
   "execution_count": 32,
   "metadata": {},
   "outputs": [
    {
     "data": {
      "text/plain": [
       "torch.Size([1500, 1])"
      ]
     },
     "execution_count": 32,
     "metadata": {},
     "output_type": "execute_result"
    }
   ],
   "source": [
    "weight[:,None].shape"
   ]
  },
  {
   "cell_type": "code",
   "execution_count": 33,
   "metadata": {},
   "outputs": [
    {
     "data": {
      "text/plain": [
       "tensor([[    4.397,     4.391],\n",
       "        [    2.174,     2.507],\n",
       "        [    1.286,     1.550],\n",
       "        ...,\n",
       "        [    0.000,     0.000],\n",
       "        [    0.000,     0.000],\n",
       "        [    0.000,     0.000]])"
      ]
     },
     "execution_count": 33,
     "metadata": {},
     "output_type": "execute_result"
    }
   ],
   "source": [
    "weight[:,None]*X"
   ]
  },
  {
   "cell_type": "code",
   "execution_count": 34,
   "metadata": {},
   "outputs": [],
   "source": [
    "def one_update(X):\n",
    "    for i, x in enumerate(X):\n",
    "        dist = torch.sqrt(((x-X)**2).sum(1))\n",
    "#         weight = gaussian(dist, 2.5)\n",
    "        weight = tri(dist, 8)\n",
    "        X[i] = (weight[:,None]*X).sum(0)/weight.sum()"
   ]
  },
  {
   "cell_type": "code",
   "execution_count": 35,
   "metadata": {},
   "outputs": [],
   "source": [
    "def meanshift(data):\n",
    "    X = data.clone()\n",
    "    for it in range(5): one_update(X)\n",
    "    return X"
   ]
  },
  {
   "cell_type": "code",
   "execution_count": 36,
   "metadata": {},
   "outputs": [
    {
     "name": "stdout",
     "output_type": "stream",
     "text": [
      "CPU times: user 491 ms, sys: 0 ns, total: 491 ms\n",
      "Wall time: 491 ms\n"
     ]
    }
   ],
   "source": [
    "%time X=meanshift(data)"
   ]
  },
  {
   "cell_type": "code",
   "execution_count": 37,
   "metadata": {},
   "outputs": [
    {
     "data": {
      "image/png": "[encoded data removed]",
      "text/plain": [
       "<Figure size 640x480 with 1 Axes>"
      ]
     },
     "metadata": {},
     "output_type": "display_data"
    }
   ],
   "source": [
    "plot_data(centroids+2, X, n_samples)"
   ]
  },
  {
   "cell_type": "markdown",
   "metadata": {},
   "source": [
    "## Animation"
   ]
  },
  {
   "cell_type": "code",
   "execution_count": 38,
   "metadata": {},
   "outputs": [],
   "source": [
    "from matplotlib.animation import FuncAnimation\n",
    "from IPython.display import HTML"
   ]
  },
  {
   "cell_type": "code",
   "execution_count": 39,
   "metadata": {},
   "outputs": [],
   "source": [
    "def do_one(d):\n",
    "    if d: one_update(X)\n",
    "    ax.clear()\n",
    "    plot_data(centroids+2, X, n_samples, ax=ax)"
   ]
  },
  {
   "cell_type": "code",
   "execution_count": 40,
   "metadata": {},
   "outputs": [
    {
     "data": {
      "text/html": [
       "\n",
       "<link rel=\"stylesheet\"\n",
       "href=\"https://maxcdn.bootstrapcdn.com/font-awesome/4.4.0/css/font-awesome.min.css\">\n",
       "<script language=\"javascript\">\n",
       "  function isInternetExplorer() {\n",
       "    ua = navigator.userAgent;\n",
       "    /* MSIE used to detect old browsers and Trident used to newer ones*/\n",
       "    return ua.indexOf(\"MSIE \") > -1 || ua.indexOf(\"Trident/\") > -1;\n",
       "  }\n",
       "\n",
       "  /* Define the Animation class */\n",
       "  function Animation(frames, img_id, slider_id, interval, loop_select_id){\n",
       "    this.img_id = img_id;\n",
       "    this.slider_id = slider_id;\n",
       "    this.loop_select_id = loop_select_id;\n",
       "    this.interval = interval;\n",
       "    this.current_frame = 0;\n",
       "    this.direction = 0;\n",
       "    this.timer = null;\n",
       "    this.frames = new Array(frames.length);\n",
       "\n",
       "    for (var i=0; i<frames.length; i++)\n",
       "    {\n",
       "     this.frames[i] = new Image();\n",
       "     this.frames[i].src = frames[i];\n",
       "    }\n",
       "    var slider = document.getElementById(this.slider_id);\n",
       "    slider.max = this.frames.length - 1;\n",
       "    if (isInternetExplorer()) {\n",
       "        // switch from oninput to onchange because IE <= 11 does not conform\n",
       "        // with W3C specification. It ignores oninput and onchange behaves\n",
       "        // like oninput. In contrast, Microsoft Edge behaves correctly.\n",
       "        slider.setAttribute('onchange', slider.getAttribute('oninput'));\n",
       "        slider.setAttribute('oninput', null);\n",
       "    }\n",
       "    this.set_frame(this.current_frame);\n",
       "  }\n",
       "\n",
       "  Animation.prototype.get_loop_state = function(){\n",
       "    var button_group = document[this.loop_select_id].state;\n",
       "    for (var i = 0; i < button_group.length; i++) {\n",
       "        var button = button_group[i];\n",
       "        if (button.checked) {\n",
       "            return button.value;\n",
       "        }\n",
       "    }\n",
       "    return undefined;\n",
       "  }\n",
       "\n",
       "  Animation.prototype.set_frame = function(frame){\n",
       "    this.current_frame = frame;\n",
       "    document.getElementById(this.img_id).src =\n",
       "            this.frames[this.current_frame].src;\n",
       "    document.getElementById(this.slider_id).value = this.current_frame;\n",
       "  }\n",
       "\n",
       "  Animation.prototype.next_frame = function()\n",
       "  {\n",
       "    this.set_frame(Math.min(this.frames.length - 1, this.current_frame + 1));\n",
       "  }\n",
       "\n",
       "  Animation.prototype.previous_frame = function()\n",
       "  {\n",
       "    this.set_frame(Math.max(0, this.current_frame - 1));\n",
       "  }\n",
       "\n",
       "  Animation.prototype.first_frame = function()\n",
       "  {\n",
       "    this.set_frame(0);\n",
       "  }\n",
       "\n",
       "  Animation.prototype.last_frame = function()\n",
       "  {\n",
       "    this.set_frame(this.frames.length - 1);\n",
       "  }\n",
       "\n",
       "  Animation.prototype.slower = function()\n",
       "  {\n",
       "    this.interval /= 0.7;\n",
       "    if(this.direction > 0){this.play_animation();}\n",
       "    else if(this.direction < 0){this.reverse_animation();}\n",
       "  }\n",
       "\n",
       "  Animation.prototype.faster = function()\n",
       "  {\n",
       "    this.interval *= 0.7;\n",
       "    if(this.direction > 0){this.play_animation();}\n",
       "    else if(this.direction < 0){this.reverse_animation();}\n",
       "  }\n",
       "\n",
       "  Animation.prototype.anim_step_forward = function()\n",
       "  {\n",
       "    this.current_frame += 1;\n",
       "    if(this.current_frame < this.frames.length){\n",
       "      this.set_frame(this.current_frame);\n",
       "    }else{\n",
       "      var loop_state = this.get_loop_state();\n",
       "      if(loop_state == \"loop\"){\n",
       "        this.first_frame();\n",
       "      }else if(loop_state == \"reflect\"){\n",
       "        this.last_frame();\n",
       "        this.reverse_animation();\n",
       "      }else{\n",
       "        this.pause_animation();\n",
       "        this.last_frame();\n",
       "      }\n",
       "    }\n",
       "  }\n",
       "\n",
       "  Animation.prototype.anim_step_reverse = function()\n",
       "  {\n",
       "    this.current_frame -= 1;\n",
       "    if(this.current_frame >= 0){\n",
       "      this.set_frame(this.current_frame);\n",
       "    }else{\n",
       "      var loop_state = this.get_loop_state();\n",
       "      if(loop_state == \"loop\"){\n",
       "        this.last_frame();\n",
       "      }else if(loop_state == \"reflect\"){\n",
       "        this.first_frame();\n",
       "        this.play_animation();\n",
       "      }else{\n",
       "        this.pause_animation();\n",
       "        this.first_frame();\n",
       "      }\n",
       "    }\n",
       "  }\n",
       "\n",
       "  Animation.prototype.pause_animation = function()\n",
       "  {\n",
       "    this.direction = 0;\n",
       "    if (this.timer){\n",
       "      clearInterval(this.timer);\n",
       "      this.timer = null;\n",
       "    }\n",
       "  }\n",
       "\n",
       "  Animation.prototype.play_animation = function()\n",
       "  {\n",
       "    this.pause_animation();\n",
       "    this.direction = 1;\n",
       "    var t = this;\n",
       "    if (!this.timer) this.timer = setInterval(function() {\n",
       "        t.anim_step_forward();\n",
       "    }, this.interval);\n",
       "  }\n",
       "\n",
       "  Animation.prototype.reverse_animation = function()\n",
       "  {\n",
       "    this.pause_animation();\n",
       "    this.direction = -1;\n",
       "    var t = this;\n",
       "    if (!this.timer) this.timer = setInterval(function() {\n",
       "        t.anim_step_reverse();\n",
       "    }, this.interval);\n",
       "  }\n",
       "</script>\n",
       "\n",
       "<style>\n",
       ".animation {\n",
       "    display: inline-block;\n",
       "    text-align: center;\n",
       "}\n",
       "input[type=range].anim-slider {\n",
       "    width: 374px;\n",
       "    margin-left: auto;\n",
       "    margin-right: auto;\n",
       "}\n",
       ".anim-buttons {\n",
       "    margin: 8px 0px;\n",
       "}\n",
       ".anim-buttons button {\n",
       "    padding: 0;\n",
       "    width: 36px;\n",
       "}\n",
       ".anim-state label {\n",
       "    margin-right: 8px;\n",
       "}\n",
       ".anim-state input {\n",
       "    margin: 0;\n",
       "    vertical-align: middle;\n",
       "}\n",
       "</style>\n",
       "\n",
       "<div class=\"animation\">\n",
       "  <img id=\"_anim_img856095eeaa0d4d80ba0f4dcdc617c321\">\n",
       "  <div class=\"anim-controls\">\n",
       "    <input id=\"_anim_slider856095eeaa0d4d80ba0f4dcdc617c321\" type=\"range\" class=\"anim-slider\"\n",
       "           name=\"points\" min=\"0\" max=\"1\" step=\"1\" value=\"0\"\n",
       "           oninput=\"anim856095eeaa0d4d80ba0f4dcdc617c321.set_frame(parseInt(this.value));\">\n",
       "    <div class=\"anim-buttons\">\n",
       "      <button title=\"Decrease speed\" aria-label=\"Decrease speed\" onclick=\"anim856095eeaa0d4d80ba0f4dcdc617c321.slower()\">\n",
       "          <i class=\"fa fa-minus\"></i></button>\n",
       "      <button title=\"First frame\" aria-label=\"First frame\" onclick=\"anim856095eeaa0d4d80ba0f4dcdc617c321.first_frame()\">\n",
       "        <i class=\"fa fa-fast-backward\"></i></button>\n",
       "      <button title=\"Previous frame\" aria-label=\"Previous frame\" onclick=\"anim856095eeaa0d4d80ba0f4dcdc617c321.previous_frame()\">\n",
       "          <i class=\"fa fa-step-backward\"></i></button>\n",
       "      <button title=\"Play backwards\" aria-label=\"Play backwards\" onclick=\"anim856095eeaa0d4d80ba0f4dcdc617c321.reverse_animation()\">\n",
       "          <i class=\"fa fa-play fa-flip-horizontal\"></i></button>\n",
       "      <button title=\"Pause\" aria-label=\"Pause\" onclick=\"anim856095eeaa0d4d80ba0f4dcdc617c321.pause_animation()\">\n",
       "          <i class=\"fa fa-pause\"></i></button>\n",
       "      <button title=\"Play\" aria-label=\"Play\" onclick=\"anim856095eeaa0d4d80ba0f4dcdc617c321.play_animation()\">\n",
       "          <i class=\"fa fa-play\"></i></button>\n",
       "      <button title=\"Next frame\" aria-label=\"Next frame\" onclick=\"anim856095eeaa0d4d80ba0f4dcdc617c321.next_frame()\">\n",
       "          <i class=\"fa fa-step-forward\"></i></button>\n",
       "      <button title=\"Last frame\" aria-label=\"Last frame\" onclick=\"anim856095eeaa0d4d80ba0f4dcdc617c321.last_frame()\">\n",
       "          <i class=\"fa fa-fast-forward\"></i></button>\n",
       "      <button title=\"Increase speed\" aria-label=\"Increase speed\" onclick=\"anim856095eeaa0d4d80ba0f4dcdc617c321.faster()\">\n",
       "          <i class=\"fa fa-plus\"></i></button>\n",
       "    </div>\n",
       "    <form title=\"Repetition mode\" aria-label=\"Repetition mode\" action=\"#n\" name=\"_anim_loop_select856095eeaa0d4d80ba0f4dcdc617c321\"\n",
       "          class=\"anim-state\">\n",
       "      <input type=\"radio\" name=\"state\" value=\"once\" id=\"_anim_radio1_856095eeaa0d4d80ba0f4dcdc617c321\"\n",
       "             checked>\n",
       "      <label for=\"_anim_radio1_856095eeaa0d4d80ba0f4dcdc617c321\">Once</label>\n",
       "      <input type=\"radio\" name=\"state\" value=\"loop\" id=\"_anim_radio2_856095eeaa0d4d80ba0f4dcdc617c321\"\n",
       "             >\n",
       "      <label for=\"_anim_radio2_856095eeaa0d4d80ba0f4dcdc617c321\">Loop</label>\n",
       "      <input type=\"radio\" name=\"state\" value=\"reflect\" id=\"_anim_radio3_856095eeaa0d4d80ba0f4dcdc617c321\"\n",
       "             >\n",
       "      <label for=\"_anim_radio3_856095eeaa0d4d80ba0f4dcdc617c321\">Reflect</label>\n",
       "    </form>\n",
       "  </div>\n",
       "</div>\n",
       "\n",
       "\n",
       "<script language=\"javascript\">\n",
       "  /* Instantiate the Animation class. */\n",
       "  /* The IDs given should match those used in the template above. */\n",
       "  (function() {\n",
       "    var img_id = \"_anim_img856095eeaa0d4d80ba0f4dcdc617c321\";\n",
       "    var slider_id = \"_anim_slider856095eeaa0d4d80ba0f4dcdc617c321\";\n",
       "    var loop_select_id = \"_anim_loop_select856095eeaa0d4d80ba0f4dcdc617c321\";\n",
       "    var frames = new Array(5);\n",
       "    \n",
       "  frames[0] = \"data:image/png;base64,iVBORw0KGgoAAAANSUhEUgAAAoAAAAHgCAYAAAA10dzkAAAAOnRFWHRTb2Z0d2FyZQBNYXRwbG90\\\n",
       "bGliIHZlcnNpb24zLjEwLjYsIGh0dHBzOi8vbWF0cGxvdGxpYi5vcmcvq6yFwwAAAAlwSFlzAAAP\\\n",
       "YQAAD2EBqD+naQAAad5JREFUeJzt3Xl8VOW9P/DPmSyThWQAAwmBVBCQLYoxVUQiRblEhFppi9zo\\\n",
       "rUIFqzYRcakUEZMUEVcUSaqoKKhXci1Xqb8L0lCtUFSQJSqLUkVZShLCmgkhmUky5/fH4Tk5Z+bM\\\n",
       "ZDKTZJI5n3dfecHMnOWZeaXOh++zSbIsyyAiIiIi07CEugFERERE1LEYAImIiIhMhgGQiIiIyGQY\\\n",
       "AImIiIhMhgGQiIiIyGQYAImIiIhMhgGQiIiIyGQYAImIiIhMhgGQiIiIyGQYAImIiIhMhgGQiIiI\\\n",
       "yGQYAImIiIhMhgGQiIiIyGQYAImIiIhMhgGQiIiIyGQYAImIiIhMhgGQiIiIyGQYAImIiIhMhgGQ\\\n",
       "iIiIyGQYAImIiIhMhgGQiIiIyGQYAImIiIhMhgGQiIiIyGQYAImIiIhMhgGQiIiIyGQYAImIiIhM\\\n",
       "hgGQiIiIyGQYAImIiIhMhgGQiIiIyGQYAImIiIhMhgGQiIiIyGQYAImIiIhMhgGQiIiIyGQYAImI\\\n",
       "iIhMhgGQiIiIyGQYAImIiIhMhgGQiIiIyGQYAImIiIhMhgGQiIiIyGQYAImIiIhMhgGQiIiIyGQY\\\n",
       "AImIiIhMhgGQiIiIyGQYAImIiIhMhgGQiIiIyGQYAImIiIhMhgGQiIiIyGQYAImIiIhMhgGQiIiI\\\n",
       "yGQYAImIiIhMhgGQiIiIyGQYAImIiIhMhgGQiIiIyGQYAImIiIhMhgGQiIiIyGQYAImIiIhMJjLU\\\n",
       "DejKXC4XysvLkZCQAEmSQt0cIiIi8oMsy6ipqUFqaiosFnPWwhgAg1BeXo60tLRQN4OIiIgCcOTI\\\n",
       "EfTr1y/UzQgJBsAgJCQkAFB+gRITE0PcGiIiIvKH3W5HWlqa+j1uRgyAQRDdvomJiQyAREREXYyZ\\\n",
       "h2+Zs+ObiIiIyMQYAImIiIhMhgGQiIiIyGQYAImIiIhMhgGQiIiIyGQYAImIiIhMhgGQiIiIyGQY\\\n",
       "AImIiIhMxhQBcPHixZAkCXPmzFGfk2UZBQUFSE1NRWxsLMaNG4e9e/eGrpFEREREHSTsA+D27dvx\\\n",
       "yiuv4NJLL9U9//TTT2PJkiUoKirC9u3bkZKSggkTJqCmpiZELSUiIiLqGGEdAM+ePYv/+q//wquv\\\n",
       "vooePXqoz8uyjBdeeAHz58/Hr371K6Snp2PVqlU4d+4c3nnnnRC2mIiIiKj9hXUAzM3NxeTJk/Ef\\\n",
       "//Efuud//PFHVFZWIjs7W33OarXiZz/7GT777DOv13M4HLDb7bofIiIioq4mbANgSUkJdu3ahcWL\\\n",
       "F3u8VllZCQBITk7WPZ+cnKy+ZmTx4sWw2WzqT1paWts2msxp+wrg+XTlTyIiog4QlgHwyJEjuO++\\\n",
       "+/D2228jJibG63GSJOkey7Ls8ZzWvHnzUF1drf4cOXKkzdpMJrbleaD6iPInERFRBwjLALhz505U\\\n",
       "VVUhMzMTkZGRiIyMxKZNm/Diiy8iMjJSrfy5V/uqqqo8qoJaVqsViYmJuh+ioGXdD9jSlD+JiIg6\\\n",
       "QGSoG9Aexo8fj927d+ue++1vf4uhQ4di7ty5uOiii5CSkoKNGzciIyMDAOB0OrFp0yY89dRToWgy\\\n",
       "mdkVM5UfIiKiDhKWATAhIQHp6em65+Lj43HBBReoz8+ZMwdPPPEEBg8ejMGDB+OJJ55AXFwcbr31\\\n",
       "1lA0mYiIiKjDhGUA9MfDDz+Muro6/P73v8fp06cxatQolJaWIiEhIdRNIyIiImpXkizLcqgb0VXZ\\\n",
       "7XbYbDZUV1dzPCAREVEXwe/vMJ0EQtQpcbkXIiLqJBgAiTpKRy73wrBJREQ+MAASdZSOXO6FawsS\\\n",
       "EZEPDIBE/miLitoVM4H793TMki9cW5CIiHzgJJAgcBCpiTyfrlTUbGlKiCMioi6L39+sAFI4a8tx\\\n",
       "cKyoERFRGGEApPDVFuPgRIgEOq77loiIqJ0xAFL4aouqnb8hsi2rjZzBS0RE7YwBkMKXP5MuWgpb\\\n",
       "/obItpx1yxm8RETUzhgAydx8ha3tK5Tns+5vueu3LccIcrwhERG1MwZAMre0UYAUofzprjWVuLZY\\\n",
       "4sXXeEN2CxMRURtiACRzO7INkJuUP921RSVu+wrgyf7AU/1bDm++Aie7hYmIqA0xAJK5GYU890oc\\\n",
       "EHj1bcvzQP1poO50c3gzqOYVFBSguGKk98CZdT+Kd8ehYN9FrW8DERGRGwZAMjejrlv3alsw1bes\\\n",
       "+4GYHkBsj+Zg53a9goICFBYWIu+Zd1AcfY9yjFtALP6iHnnvVaLwtf+HgoKCAN4oEbWVt7cewpgn\\\n",
       "P8bbWw+FuilEAWMAJHLnXhX01RXsbWyetor4x4PA3IPAoc+Awp5AfJJ6PRH+hLy8PBQ//rASED9a\\\n",
       "CAAoLi5GXl6eekxhYSFDIFEIvfTJARw9U4eXPjkQ6qYQBYwBkEjwNgnD1wQPb9VB8fz6PzSHw73v\\\n",
       "K+MNK74G7t+DgnVHdOFPyPvgFIq/cAJNDhT/uo8u/Am6EMgJIkQd6p5xA9G3eyzuGTcw1E0hChj3\\\n",
       "Ag4C9xIMM4Hs9+ttqZjtK5TwJzc1X2/NTCUEjvglCvakGYY/rWG9o/BNVYPPY/Lz81FgW8N9iomI\\\n",
       "WoHf36wAktlpq2divJ7zrP/VNG/VwStmApOe0XcdT10B5J8Cpq5Ar169vF4yHUoVUoQ/8dhIr169\\\n",
       "uG4gUQh09DhAjjuktsYASOam7cK9YiZg7aafsRsMH13Hubm5KCoq8nh+OqZjGZYhBzkAgBzkYBmW\\\n",
       "YTqmexxbVFSE3NzctlmDkIhapaPHAXLcIbU1BkAyt9ZM+PDG11p/PsbnuYfAdKRjBmYAAO7CXViL\\\n",
       "tbgLdwEAZmCGrhKohj8/72XYZo4bJApYR48D5LhDamscAxgEjiHohFqzfVtb3U+M9QP04/CMxgEa\\\n",
       "0M7yzUGOGvq0lmM5SlACwC38ad+vqGb6MxYwkPGORGHu7a2H8NInB3DPuIH4zVUXhs29yBO/v1kB\\\n",
       "pK7OvZIV6Jp94jprZrauMvbRwubwJ0UA1f9WrgEAH4vXJMBxflyhQeUt98oYDEu2AgBKUIJqVOtu\\\n",
       "UY1qNfwNGzZMX/nTvt/WVC85bpDIg69u1mDH4LmfH0yXLscDUltgAKSuzT3wuQeblro6xesfLVSu\\\n",
       "s/f95uv5000qaf4uNwGQlWtA+av6l/rz4wq1y8OcD5vFix7GN8ccAJQKoA023S1ssKljAr/55hsU\\\n",
       "Fxc3v6h9v60ZC8hxg0QefHWzBjsGz/18o3v5G+w4HpDaAruAg8AScifQUpdvS12d4vXYHkB0NyBt\\\n",
       "lLIvsK8uVXHPtFHA/vVAwzkgIkoJfK5GIPUyoPaE8rpY+0+KUGYFA5ouYwnFXziQ92E9AGUM4DIs\\\n",
       "U29TjWpdGLwX92IPlHYYjgFs7WdDRH4LtsvWn/PHPPkxjp6pQ9/usfj0j9e1W1uI398AA2BQ+AvU\\\n",
       "BbQUgjRr82GqwQQOcS7gOdZOitB3/4qxfkBzcMy6Hyh9FGioA9J/DZw6AJSXAZIFxdvq1fAnTMd0\\\n",
       "zMAMdcyfGBO4EiuxCqt0x7YYAjnOj6hLcQ92bR30GByb8fubATAo/AXqoowmTogKoAiK7sFRG6bE\\\n",
       "eWmjgAMfKZW/QeObK4eA/tzCns1VwPOBsfgLp0f4E9KRrlb6jB5r+QyBvsItEXV6/lYEQ3W9rozf\\\n",
       "3xwDSGYixvR9vNBz4oQM/VhCX2MLxfi5qSuUPX7/eBC48GplosfHyv69uvF1I34JQAIirWqF8Pg5\\\n",
       "l9dmirAnJoZ4C38AcPz4ce/v98g2JXAe2dbCB0NERkKx2PNlhaW4rLAUb289hHvGDUTTjncx6MSn\\\n",
       "Ps8rLi72a39wLiVDWgyAZB4i1MlQgljaqOYQOH6B9/UA/RlL9/FCZaKH0SLSU1cAtn7KWEEAmLwE\\\n",
       "BTcNRv618V6bWlRUhH2V9YaLRQv5420oiF1pPEll+wplR5OYHpzpSxSgUCz2fKauAWfqGvDSJwfw\\\n",
       "/YY38O+P3sSbzz2Gi26abRhExTJSuv3BvfjNVRfi0z9eZ/ruX1IwAJJ5iFA3foFSoTuyTb8LiLZq\\\n",
       "p32snbkrwpb7DOEGx/mbSPoZyE/1VxaJThuldDPXnlTCYtb9KHhqKfKzPbeEU7t118xE7okFKJp5\\\n",
       "lccx+dm9UJAle9+1ZMvzymvWbpwAQtRKovKXeWEPrxWz9qgO3jNuILrHRqF7bBSSv/9At1/4jx8s\\\n",
       "wx8XPqM7fvpDC9U1RAH4FQKJBAZAMg/3kJd1vxLKzp1UQpq2kua+RzAkpTv144XNCzxru4ijlO5a\\\n",
       "xHZvHkO47kElhNWfBr7/CKi3A43nlOfWPQgAKPhbFfLz89XbFt0Qg9zkXcqD8zOIc9P26yqB+bNu\\\n",
       "RMHji5XqXlRc8xqDWlznjyhgovK389BprxUzo+pgsKHwN1ddiIeuH4KT//xvvL9iqcfrR9cXq8tA\\\n",
       "TX9oId587jGPYxgCyV8MgGQORmv6XTFTmfjRcK55nT5BW/UDgKhY5c9GB/Dh3ObZv2mjlGs2OgBI\\\n",
       "wMDxzQGxeSFAZb1AcQ6gvHb+fgUFBcjPz0fRpFjkXhkN7FmjXGPEL5WJIyN+qWwb94ueyP9ZNAou\\\n",
       "3K6cO34BEHeB0vaPFurfXyDr/HF7OCIA/o2VMzqmLRaSnvfoY/j3R296fT0vLw/Dhw83DH9CVwuB\\\n",
       "XNg6NBgAyRy87RAiqoCRccqYORF+su5vnrW75Xkg4nyFr6EOcDU0n7/3faUq2HAOgKx0K295Xh/2\\\n",
       "YnsowVBH0t2voKAAuTdd2fzyxwuVa016Rp3Bm3t1AgrGxQCNdZ6TWCQEtgOKP58Rkcm4j5UzCihG\\\n",
       "4+l8Le787N/2+zWe8LrLBnl9TewH/s033+geG+nVy3N4SWfFha1DgwGQzCHrfqXL1HnWswo49yAQ\\\n",
       "f4F+PN0VM5srcPFJ53f8kADIgCWq+Xy5SSn0xfZQrp82SumSje0BpE9VumjrzigLRqskIKa7cj9t\\\n",
       "5a72xPmXIzxnJQPAdecnqqT/WrnXuZPK+Vn3N78WTJcvu42JDPkbUH5z1YW4Z9xAvPTJAY8t3wAY\\\n",
       "VhXdw+WqZxcYTv6ajulYhmXqrkA5yMEyLMN0TPc41q+F4jsRzk4ODa4DGASuI9TFGK3lJ8LORwuV\\\n",
       "fHfdAuXxlueVsFh3GmrwkyyA7AJSM4DffWI8O1jcQ+z8odn1A4DSlZz9OHDoM6V6GGlVqofubRKv\\\n",
       "e1vDT9wH4ELPRH4KdCFkf897e+sh5P91D5pkqGvttXSut7X5tGP82nyXIOL3N1gBpK5OO9O2pbFr\\\n",
       "2gqX6O78aKES0upPK+MBtbN+xXIxYvyffH7tvoqvlT+Nxtm5dx2LKmJkLABZGbN3xczmNfoa6gBI\\\n",
       "SuVQe72W1vATXdfaZV783feYY/zIpPyt5AU6Ju2lTw6gSQYiJKjVrJaWXhHVr8wLe+ju+X3SGPSc\\\n",
       "cDcAZS3Q5ViunqMNf8uxnOGPAsIASF2bWO7EfRKHEW3AEl3C9Wead+lwXwNQLBeT/bjyODVDOa7P\\\n",
       "pd6D1BUzlcqfCJpTVyiPo6z6sCaCImSoYwfdZx776o4VXdd/PNgcQFsaw8cxfmRy/nY1ugdF98fe\\\n",
       "AqK4fuFN6epWbuI493PEYwD49I/XYfO/juPomTo8+7f96rWGXnczUvsrYwJLUIJqVOvuV41qlKAE\\\n",
       "ADBs2DCGP2qVsA2AL730Ei699FIkJiYiMTERo0ePxocffqi+LssyCgoKkJqaitjYWIwbNw579+4N\\\n",
       "YYvJUEtVK6NKmD/XumKmskYe5ObuWqM1ALWPf/cJkH9KGasngtSa81u9rdFUAd3PN1qTTwRF7QSU\\\n",
       "jxbq1yUUlUpvCz27Vz5bCo0c40cm560a5x7O3INi5oU9ECEpfwLNgTD/r3t8TgzRBseWQqXgaHTh\\\n",
       "ssJSPPu3/Rh04lOUH/wegDLmT1v5A5RKoBgT+M0332D6Qws5m5b8FrYBsF+/fnjyySexY8cO7Nix\\\n",
       "A9dddx1uuukmNeQ9/fTTWLJkCYqKirB9+3akpKRgwoQJqKmpCXHLSaelqpVRJczfa4lApA1//hDV\\\n",
       "w3MnlSVb5CZlvB5gHFiz7lcmg1QfARb10S/Vop2AUn9GH2R9vXf3yqc/u5UEsjQMkQm4hzH3ILfz\\\n",
       "0Gk0ycqfgBIQIySgSYbPqqBY2LnW0YgL4qN1IVIbMsU5sVEW1DU04UxdA458+r5uDOBduEu9rrYS\\\n",
       "eBfuUmcDv/ncY/j2479wNi35JWwD4I033ohJkybh4osvxsUXX4xFixahW7du2Lp1K2RZxgsvvID5\\\n",
       "8+fjV7/6FdLT07Fq1SqcO3cO77zzTqibTlptWbVyv5Y2ELVmfJyoHoqt3QBlgsiamfoFokWV7qOF\\\n",
       "58f6QTlH7BcMKMc4zkKdaOKwA2VvAQXdAXs51PGBRu9FW/lk9y6RB3/H8rlX/LxVBMU4PQAovCld\\\n",
       "95xY5uXZv+1X9/MFgHhrJM7UNWBvebUuRGo9+7f9OFPXgPoGZZxxza7/w6mNL6uv78EerMRKAMqY\\\n",
       "vymYoo4JXImVuv3CT218GVH7S1v1/smcTDELuKmpCX/5y18wffp0lJWVISYmBgMHDsSuXbuQkZGh\\\n",
       "HnfTTTehe/fuWLVqleF1HA4HHA6H+thutyMtLc3Us4i6LPeKmXaGsD8zarevAP72qLKzhyAmf4gu\\\n",
       "ZRHKAKUCqAZGCZj8nP6+MT2U8KdbLPq8ltq0fYV+FjMrfEQAvM+wDfQ87fNiuZdaRyPO1DWge2wU\\\n",
       "4q2ROFXrQN35IKc9LvPCHth56LT6pzivb/dY9e+xURbU7FqHo+uLDduVjnRd2HN/rFVUVIR3aoYZ\\\n",
       "vo9AZ0OHE84CDuMKIADs3r0b3bp1g9Vqxd133433338fw4cPR2VlJQAgOTlZd3xycrL6mpHFixfD\\\n",
       "ZrOpP2lpae3afmpH7hWztFFKcDOqthm5YqbSdQsAkJSAF2FVqnKiS1lbpct+HJi8pHnih3s39PgF\\\n",
       "zZNHUpv/UYLIOM/qp3u1csvz+lnMRscQmZCvSR+zV5dh4Lx1mL26zPA80XXr3qUrqn75f92Do2fq\\\n",
       "UH0+/D10/ZDzIUtSj8+8sIfanfziLRm6yR61jkZESMAF8dEAgCiLhPoGF/rGNLg3RyXC3rBhw3SP\\\n",
       "jXxU9h1qHY3oHhvl8f6DXXiZlcXwENYBcMiQIfjyyy+xdetW3HPPPZg+fTr27dunvi5Jku54WZY9\\\n",
       "ntOaN28eqqur1Z8jR460W9upnbl3B/tadsVbmBLXmPycsrxL4zl9CBNj/MYvaA582hnC4hjRDa2d\\\n",
       "bGI7/4+L+As8K3rexjJqgyK7hIl8LsGy7utyNMnKn0bnia5bbUgS19v8r+NoOt93JrrQRNevdgvI\\\n",
       "D74q95j162hUqoMNLhlNMrD7aDXO1DWgwSVDBnDi4l/glzPv8/qeioqKsG/fPtz+4J+8HvPLmffh\\\n",
       "q14TcKauAfHWSI/3H+zCy9y5IzyEdQCMjo7GoEGD8NOf/hSLFy/GyJEjsXTpUqSkpACAR7WvqqrK\\\n",
       "oyqoZbVa1VnF4oe6KPfxf2L3DqOxhi2FqUOfKbN4vc1E1p7v77hD91C3fYUy4/ep/kqV0luINDqf\\\n",
       "1UAiD5MvTUWEpPxpxFsVEAAcjcpQjSiLhL7dlXVCz9Q14ExdA6yREbpj3Wf9WiMtiDhfZ4iQgJgo\\\n",
       "/ddwkwz0Gz8d+fn5Hm26/cE/4Z2aYXh76yHdOoFav5x5H35Im4QmWalFikkm2uVogu3+5c4d4SGs\\\n",
       "A6A7WZbhcDgwYMAApKSkYOPGjeprTqcTmzZtwtVXXx3CFlJIGHWhanmbiCKC3d73m5d5AYxnAfs6\\\n",
       "X0wY0Z5ntJRM/WnlPke2Kdf6aKESCL2tRyjOZzWQyMOLt2TgwOLJePEWZciFe7emCEdn6hrUtfm0\\\n",
       "a/cBygSPT/94HR66fgi6x0apXcG/GJkKCUpAFAFShKaHrh+iTiApvCkd8ycPR6xbCFz3dTkGTfwt\\\n",
       "+o2/XX2uqKgI3yeNUZefybywB9LG/FIXAm1jbsGxQb9ofhwbhd9cdaHhcjTuS9i0RkuLW1PXELYB\\\n",
       "8JFHHsE///lPHDx4ELt378b8+fPxySef4L/+678gSRLmzJmDJ554Au+//z727NmDGTNmIC4uDrfe\\\n",
       "emuom04dobWLLhstnyLOG/FLzx1GtKEO8H2+r1m84hppo5QKo6hSagOht2CnPZfr/xH55E+3pjim\\\n",
       "vsGlhj1ACURf5mfjoeuHqOfbYqPQ4JLVAOkrNInZv8KIVBte+uQAIn46Dd3H3ILbH/wTbJk/x6la\\\n",
       "JwClSvj/virHQ9cPwdI//REDfnEvrvzV7zDi57Nwz7iBGHtxL0RIwNiLewHQV+yMlrAhcwrbWcAz\\\n",
       "Z87ERx99hIqKCthsNlx66aWYO3cuJkyYAECpBhYWFmL58uU4ffo0Ro0aheLiYqSnp/t9D84i6sJa\\\n",
       "O+vXX9rZxSLUxfZQqou+1ujzto6fUTu3r1CWkmlwKDuMeJv5636uP2sFEpmUtmsUgG7mruguNdrr\\\n",
       "V+uywlKcqWsQizqpYqMs+GbhDR7HdY+NAqBUGbVEWNPeCwCOnqnTHdc9Ngpf5md7vJeWZj+L9+r+\\\n",
       "/syE399hHAA7An+BurCOCEPiHo6zSrUukLBp1E5/w2uwS90QdWHBjHXzFaBmry7Duq/LMfnSVLX7\\\n",
       "WBDBLjbKAmtkhBrs3IOa9rj6Bhfcv4R/MTIVVw7oiWf/th+OxiZYIyMw9uJe2Pyv43A0NqnLzMRG\\\n",
       "WdAz3qp7j29vPaR2WT90/RCf7z3QZXLCAb+/w7gLmMinjtgVQ9xj/ALvXbBGEzTct6zzNcHDn/uL\\\n",
       "c7kVHJlIMDNVvU1yeHvrId3sYfcxdA9dPwR9u8diwvAUxFsj8YuRqWqVT3usOA5orhRe2temTg7Z\\\n",
       "eeg0XvrkAM7UNcDZ6MKZugbsPHQaD10/BD3jrbi0rw0SgLoGl8d4PnGe+LuvcX6czGFurAAGgf+C\\\n",
       "oKAZVeVYqSMKWnssdiwqZoK3BZaNFnkWYwa1bRKVQHEtsWj0PeMG4osfT2Hd1+UYkWrDyVqn+trR\\\n",
       "M3UeXcyCtnJYXdcAGcpM48Kb0k3XxdsSfn+zAkgUnGCXWDGqyrVFpY5Lv5DJBTNT1dtCx6JiJip7\\\n",
       "7kvEiIBW62gE0LzIs/vromKnnT2ceWEPPPu3/eq5Yv/hk7VO9X2I+8dE6ZeaEdZ9Xa6uYSgCIid7\\\n",
       "kDcMgETuWhOefC2x4s91jLp426J7mku/kEl4C2vB7Fbh3n2sXf5F7OqhXShavJ55YQ/07R6LRpcS\\\n",
       "v/aWV6shz9HYhCp7PYDmUCZmD3+Zn42dh06rawmKKqBR96wSEGXERkUgNsqC7rFRavexWNNQG1QD\\\n",
       "6eLlTh/mwABI5K414clXtU5cZ/0fOr4Sx/F+ZBLexvoFMgZQBJ8L4qMRISlbuXm7ljagPfu3/Th6\\\n",
       "pg6b/3Ucn/7xOtw4Ur/IdE19A+oaXGg4HwwjJHiEMnEvQKkcaruK3956CJcVlmLB2j04U6dcq65B\\\n",
       "mQxSU9+AaVek6dY0FK4c0DOgKmhLnx0DYnhgACRy5094Mlrjz73il3W/svev3NT6SlywXbgdMcmF\\\n",
       "qBPwVikLZIKDCD67j1ajSQY2/+u47lqZF/ZQg4+3Lua3tx7CzkOnMfnSVOw8dBrP/m2/um0cAMRG\\\n",
       "RaDwJuW/HdoQtfPQafWYveXVugAmJna4j/vztp6fNsAFEtZa+uy4FVx4YACkTu90SQm+u248TpeU\\\n",
       "dMwN/QlPRlVC9+eumOm596+/2IVL5BdvQSyQMYDNY+z0X43iWjsPnTbsGh57cS91lw8RjtZ9Xa5O\\\n",
       "GOnbPVadDdwzPtpjdw5xbzEecPKl+q5b7Wuiu/cXI1PV7ey01UPt+9BOHGlNWGvps+Ps4fDAWcBB\\\n",
       "4CyijvHddePRWF6OyNRUDP74o7a7cDBrARqd25ZrC3LRZqKQMVooGYDH+npG6+iJdQK1s3dFN657\\\n",
       "t26wizH7s45fe8yGDgf8/mYADAp/gTrG6ZISnHjlVST97k70yMlpuwtzuRUi8kEbsAB4hC2jcNXa\\\n",
       "xZXF8YEs18JwFzh+fzMABoW/QF0cq2xE5IPR9nAtha2WQpl75S/zwh74f1+VQ4b3rd2o7fH7mwEw\\\n",
       "KPwFIiIKT76CnD+VN/ct2QDoFokWEzj6do/FqVoH6hpciI2yYP7k4R7Xbk13cWurgmatIvL7m5NA\\\n",
       "iIjIRPydFetr8oQ/EyvEzN0zdQ3I/+sedakYQAl92oke1khlYWdrZIR6nAiP2vuJiSUt3Vec7/4+\\\n",
       "jd47Z/SaFwMghVSHz/Dtyri7B1HQ/A08vma6+jMLVszclQB1GRgxU1gsJi1m2o69uBciJGDsxb18\\\n",
       "tsV9drCvYwF4vM+W1jMkc2EXcBBYQg5eu83w1Wi3SSRaHTGekJNWiILi3i3bEV2e/nSxaieOaPcD\\\n",
       "DqZ9Rvc1a3evEX5/MwAGhb9AweuIcNYRIbNV4SzQsMhJK0RBae0M3WD5G7gYzDoev7/ZBUwh1iMn\\\n",
       "B4M//shr+GuLLuKk392JyNRUJP3uzoCv0aLWbL0W6CLP3N2DKCgd3d3pb3dzIItWEwWLAdDEAg1X\\\n",
       "rTkv2AB34pVX0VhejhOvvBrQ+UDLIbNNtCaccZ9eopDwN2i11V63HF9HnRm7gIPQ1UvIgXaN7h91\\\n",
       "FVzV1bDYbBiybWu73EPokPF7REQaHd1VTB2vq39/twVWAE3M367RYKp44h5xGRkBXaNDqndERBqs\\\n",
       "3JEZsAIYBLP8C8K9ihdIVc6oElhQUIBevXrh1gsu8Hq9Z+64A4f/8Q/8afFihkAiImoTZvn+9oUV\\\n",
       "QGqRe6UwkKqc+zUKCgpQWFiIvLw8vPBYvuE4v+LiYjz8xhsoOngQj82b53FNriFIREQUGAZAEwk0\\\n",
       "MPXIyUHS7+7EiVdeDThsidAIAPcOGIDCwkL1tT999y+UuFy6ruji4mLk5eWpj4sOHkRBQYHumm0x\\\n",
       "QYSIiMiMGABNxFdgaikcas/1N0i6H3e6pASP3jsbRQcPehz7p+/+hddKS/HddePxzB136MKfUFhY\\\n",
       "qAuBHbK8CxERURjiGMAgdLUxBL7G7rU0zu90SQmqnn9BPd5VXQ1ERCBlwaMe1xLnNp0+DbmuTp0t\\\n",
       "fO+AAYbhT+ui6Gj84HT6PCY/P9+jGkhEROSvrvb93R5YAQxTRlU6X2P3tNW00yUlqFz4uK5aKM5x\\\n",
       "VVdDdjiAiAigqcmwmiiqhXJ9vXKO3Y7TJSVIuegir+1NRzoAqOFPPDYSf/gwx/4REREFgQEwTAUz\\\n",
       "Pu7EK68CTU1ARITavXq6pAQuux0AIFmtSFnwKCw2G1y1tbogdrqkBK7aWkgxMZBiYgBJAmQZVc+/\\\n",
       "gF9VHsOjvZM97jcd07EMy5ADJWTmIAfLsAzTMd3j2KKiIkw5eKjV3dFERETUjAEwTLU0Ps49OGkD\\\n",
       "ozhX27174pVXAVkGIiLQ+/456JGTA0t8PFzV1WrIFJVDUSWU6+qAyEggIkKpGjY14dakJDz929+q\\\n",
       "7UhHOmZgBgDgLtyFtViLu3AXAGAGZugqgUVFRcjNzdW9N04EISIiaj0GwDAlZu5WPf8C9o+6yqNC\\\n",
       "5h6cjALjue071JAYl5EBREQgceJEdUygq7YWFptN122Mpia16gcAaGwEmpogWa1qqPzD66+jqKgI\\\n",
       "ALAHe7Acy9V72mBT/74cy7EHewAAjw2+GLm5uep7E13ZnAhCRETUepwEEoTOPohUbNkGwGMrNn8m\\\n",
       "hIhxfpGpqQCgmyTiPmlEe46lWzd1kkjixIk4V1bmcZ+jDz6EsUVF+MHpAACsxVpd+KtGNaZgCgBl\\\n",
       "Ysi6YcOR/Me5rV4MmlvJERGRu87+/d0RWAE0Cfexev5MCEmcOFGtrrlX2sRjV20tvhk6TK0GWrp1\\\n",
       "Q7esLLXa1/e5ZxGXkYHKhY/jx6k3Y/+oq7B/1FV4+b/fVsNfDnJ04Q9QKoFiTOAPTif+u6Ii4PGM\\\n",
       "7CImIiLSYwAMY73vn4PI1FRlsoZmrF5LRDjs+9yzakh071IGgMEff6RWGF3V1eqYwLNbtuiuZ9+w\\\n",
       "AWhqQv2ePXBVV+Ptgwfx+LFjAJQxgGLMH6BU/oS7cJc6BvDxqmN4V2r9Z8AuYiIiIk8MgGFMBDkR\\\n",
       "BFsKQUYLN7tPFHFVV8NVXY1jTz6lBEFJSWXi+habDS67XVd1S5w4EYiIQEx6OlbX1+HxqmPqPfdg\\\n",
       "D1ZiJQBlzN8UTFHHBK7ESnUMIAA8+vHHeOaOO1o16zeQbeuIiIjCHccABiHcxhBox/GlLHhU7T7V\\\n",
       "Lg5dWfgnZYKHZqKHdnzhtxmXK7N/ASROnoy4K36qjsF75+RJwx0+AKUSqA177o+1Hu2djNtHjFBn\\\n",
       "AXN8HxERtUa4fX8HghVAE2lpzbyk392pW+DZvfu0R04OEidNUqp5I0YoY/7OzwIWRPgDgLNbtqgh\\\n",
       "snLh4zjw9n97bZsIexdFR+seGzkTF8slYIiIiILAAGgiLQWmHjk5SFnwqM/u4nNlZUBTExpPncKQ\\\n",
       "bVsxZNtWtfrmHixddru6fAyamnCn3Y7fX3CB1/Y9Nvhi/N/FQwwXixby8/Pxp8WLceKVVxGXkaFb\\\n",
       "jNoo4HKhaCIiIk9hGwAXL16MK664AgkJCejduzemTJmC/fv3646RZRkFBQVITU1FbGwsxo0bh717\\\n",
       "94aoxe3Pn8WhtV2qRoHR1zXU4yRJ7SI+V1amhsrEiRORl5xiGAIfTUnBnD8VwhIXh1t79DAMgbnJ\\\n",
       "ybhv6FC1XefKytSJJ5ULH0fV8y94tJdVQiIiIk9hGwA3bdqE3NxcbN26FRs3bkRjYyOys7NRW1ur\\\n",
       "HvP0009jyZIlKCoqwvbt25GSkoIJEyagpqYmhC1vPy1NiPBncWh/lo9JyX8MKfmPqedqZxWnLHjU\\\n",
       "IwQuuPBCPPD88+iRk4Pe98+BFBODW3v2RMFll6nH/P6CC5DbvQeqnn9B1y5ttzUAj/ZyFjAREZEB\\\n",
       "2SSqqqpkAPKmTZtkWZZll8slp6SkyE8++aR6TH19vWyz2eSXX37Zr2tWV1fLAOTq6uo2b++p1avl\\\n",
       "f117nXxq9Wqfz7XFdVtzz38/8KC8b+gw+ZvLMlrVNu3r4u8P//rXclFRkcex3145St43ZKi8b+gw\\\n",
       "+dHeyXJual9539Bh6nPu9zi1erX87ZWj5G+vHBXUZ0NERObQnt/fXYVpZgF///33GDx4MHbv3o30\\\n",
       "9HT88MMPGDhwIHbt2oWMjAz1uJtuugndu3fHqlWrWrxme84ict9pw9tzbXFdb7Tbu4njvxk23GP2\\\n",
       "r/Y4i80GS3w84jIy1PUAu2Vlwb5+PSDLkGJiENGzp1qRM5rFq84kjopCZK9e6rHubQn0fRERkblx\\\n",
       "FnAYdwFrybKMBx54AFlZWUhPVxYWrqysBAAkJ+vHmiUnJ6uvuXM4HLDb7bqf9mLUdRlsd+bRBx9C\\\n",
       "Y0UFpJgYj2sYTZY48cqrStdqRATiMjLw3XXjgchIXXuOPvgQKgsK1eMAZcs4+4YN6pqB9nXr1NAo\\\n",
       "OxxqN7O2y1l7f+n8TGBLXJwa5k688ioSJ07UTfrQtjsuI4NdvURERH4yRQDMy8vD119/jdWrV3u8\\\n",
       "Jkn67SVkWfZ4Tli8eDFsNpv6k5aW1i7tBYzH2gWyqLE2WNk3bABkGXJDA3rk5Ohecx//pw2LKQse\\\n",
       "xdktW9BYXg4pIkIZ51eQjx45OUpl77yUBY+qi06LsAbtZylJiBkxwnB7Oe39xTV63z8HAAwnfYh2\\\n",
       "al/jgs9ERET+CfsAeO+99+KDDz7AP/7xD/Tr1099PiUlBQA8qn1VVVUeVUFh3rx5qK6uVn+OHDnS\\\n",
       "fg1vI9pgJXbkSJw40eM19+qie1iUHcq+vXJTE1y1tah6/gUcffAhtbKHyEg1lIkJH0O2bUXMiBHq\\\n",
       "65BlNJ46pdteTvxde3/3oOs+6cNoT2JW/oiIiPwX2fIhXZMsy7j33nvx/vvv45NPPsGAAQN0rw8Y\\\n",
       "MAApKSnYuHGjOgbQ6XRi06ZNeOqppwyvabVaYbVa273tbcl9t4y+zz3r9TWgeSmXxIkTYd+wQQ2L\\\n",
       "ktUKub4eaGxU9/+1b9igXCgiApb4eDVMaqtw9d98o/zl/Ng9b0HN/f7ulU/3x/5yX9qGiIiIwrgC\\\n",
       "mJubi7fffhvvvPMOEhISUFlZicrKStSd36lCkiTMmTMHTzzxBN5//33s2bMHM2bMQFxcHG699dYQ\\\n",
       "t77taKtpp0tKsH/UVdg/6iqcLilRXwOUSRTHnnwKjeXlqHr+BfR97lkM27tHDYxq1+6kSeoOIIkT\\\n",
       "J6rdvQAgxcbqxucBQMywYcqfI0bo7mW0MLM/a/YdffAhfDMiXak++jhHdG8brQ1IRERkdmFbAXzp\\\n",
       "pZcAAOPGjdM9/8Ybb2DGjBkAgIcffhh1dXX4/e9/j9OnT2PUqFEoLS1FQkJCB7e2Y1Q9/4JavdNW\\\n",
       "6kSIgpexj4BnFU7ru+vGK9eNiIBcV6fM1j1/TuOpUwCg/inaUPX8C+q9RXVOW5H0xr5hA9DUBPuG\\\n",
       "Dej73LOIy8iA/dgxZccRDfGeLDYbu4iJiIjchG0FUJZlwx8R/gClClhQUICKigrU19dj06ZN6izh\\\n",
       "cKcNTGK7tsg+fQBJgux0+tw6zX3GcNLv7oTFZoMUFaWEyKYmVC58HKdLStTXRGVQdjoBALLT6VG9\\\n",
       "8zbJRXs/93GMYmu6c2VlunPE2MDe98/h5BAiIiI3YVsBJE+975+jrqWnDUzq/r7l5QAAua4OVc+/\\\n",
       "oNvjV1uZE9cQlT4AcJ09qywFI7aBa2pS9+vVVh2l6GjIdXWQoqP9qviJ80TXtCU+HikLHgUAdfmX\\\n",
       "c4DHNXxVLImIiMyOAdBEtF2+2sAUl5EB+/nwZ0QEsMqFj8PSrZu67ZoIeeLvAABZVheDTvrdnbqQ\\\n",
       "KO4pun8B+LVos+jmlR0ONGqWgGksL8c5P69BREREzcK2C5iMGXWzqtXAiAjEpKcDERHolpWlvm60\\\n",
       "327i5Mme+/Gev4a221Xtsp08Wa3KibX8qp5/Qe3aNVqIWte+piZIVqvX5WCIiIjIf6wAmpjo2tV2\\\n",
       "o4rdP7RdxO6VQ29dq9rKntD3uWd1S89Ac5+mU6fQeD4Iui8jo+12FhXAbllZumuxi5eIiCgwptkL\\\n",
       "uD109b0EjfbPDWbdvNbux7t/1FVwVVfDYrOh9/1zdPcV17LYbHDZ7WrX8pBtWwN6r0REREJX//5u\\\n",
       "C+wCDkO+ulO1jLpRA9luTtzTVVsLi82GpN/d6VcbtFu+edv9A0DzbiNERETUJlgBDEJn/ReEeyWu\\\n",
       "tVU991m//pyrrdhZ4uPhqq2Fq7raoxoYSFtE17IIikRERMHorN/fHYkVwDDkXtnzZ4cNLe3xLe20\\\n",
       "oV0LUFTsxHIyRpM0WtuWHjk5GLJtq9pF3FJVk4iIiFrGABiGvHWnepsx621hZ1dtLeIyMvwKcuKe\\\n",
       "2m5do67kQGbvni4pQeXCx7mlGxERURthADSBlsb1GYU5sVTLubIyddautvoW6DIsgYwxFDOTERHB\\\n",
       "ZV+IiIjaAAMgGYY57XNG3bbegpx21w5/JqK0pn0pCx7lGEAiIqI2wEkgQTDLINLWTNwQx3qbBNKR\\\n",
       "bSEiIjJilu9vXxgAg8BfIO/aK6i1dq1BIiIid/z+5k4g1E7Etm9tTXRJcywgERFR4DgGkAz5u5h0\\\n",
       "Rwt0oWoiIiJqxgBIhlq7Xl9rdNZwSUREZBYMgGQo0GVe/NGe4ZKIiIhaxgBIhtqzq7U9w2Vn9e7+\\\n",
       "d5G9Jhvv7n831E0hIiLiLOBgcBYR+St7TTYqaivQJ74PSqeWhro5RESmxu9vVgCJOsSsS2ahT3wf\\\n",
       "zLpkVqibQkRExApgMPgvCCIioq6H39+sABIRERGZDgMgERERkckwABIRERGZDAMgERERkckwABIR\\\n",
       "EZnIVxvX49XcO/DVxvWhbgqFEAMgERGRiXyxdg3sJ6rwxdo1oW4KhRADIBERkYlcOWUqEpN648op\\\n",
       "U0PdFAohBkCidsZt4IioMxk5YRLuLH4dIydM8niN3cPmwQBI1M5e2/0aKmor8Nru10LdFCIKc8EG\\\n",
       "OHYPmwcDIFE7EZW/jN4ZQW0DxwoiEfnLKMC1JhSye9g8GACJ2omo/JVVlaF0aimmDZkW1HVYQSQK\\\n",
       "H+3V1WoU4FpT1fPVPUzhhQGQqJ3MumRWUJU/IaN3BiySBRm9M1p9LquHRJ1Te3W1GgU4VvXIiCTL\\\n",
       "shzqRnRV3EyaOkL2mmxU1FagT3wflE4t7bBziaj9fLVxPb5YuwZXTpna5tW29rx2uOD3NyuARJ1e\\\n",
       "MJXEtqpCElHbas+uVlFd3LL6Lc7oJa8YAIk6uWlDpvkcQ+irmzeYc4mo8/Fn7OCVU6YiJj4B9efO\\\n",
       "BtTNzKVgzCFsA+DmzZtx4403IjU1FZIkYe3atbrXZVlGQUEBUlNTERsbi3HjxmHv3r2haSyRm4KC\\\n",
       "AhQXF/s8pri4GAUFBUFNEuEEE6K20VGhyZ+xgyMnTEJ0bCwgy5AsFsOxf77aq70Hw2D4CtsAWFtb\\\n",
       "i5EjR6KoqMjw9aeffhpLlixBUVERtm/fjpSUFEyYMAE1NTUd3FIKd62tshUUFKCwsBB5eXleQ2Bx\\\n",
       "cTHy8vJQWFgI2yc2dhEThVhbTurwFbr8ndAhjht/x92G3cy+2qu9B9cFDF+RoW5Ae7nhhhtwww03\\\n",
       "GL4myzJeeOEFzJ8/H7/61a8AAKtWrUJycjLeeecd3HXXXR3ZVApz2iqb6Iqdu3kuNhzcgIn9JyIz\\\n",
       "OROv7X4Nsy6ZhX2r96GwsFA9Ny8vDwCQm5urPifCn7CmeA0uqroIuKT1bZs2ZFqrlqd5d/+7alsD\\\n",
       "XdaGKByJsNQWM221ocs9vInHIpB5G0M4csIkr699tXE9nPXnEBOfYNhe93Pb6n1R5xK2FUBffvzx\\\n",
       "R1RWViI7O1t9zmq14mc/+xk+++yzELaMOhN/Knfejnl3/7sYs3oMslZnGS4EveHgBrhkF9b/uB5L\\\n",
       "dy1FRW0F5i2Ypwt/grYS6B7+hB/+8gPmLZgX6Fv1G7uMiYy15aSOlqp8wVblvli7BvVnzyrdxICu\\\n",
       "2tia4SdtgV3MoWPKAFhZWQkASE5O1j2fnJysvmbE4XDAbrfrfih8+RN2vB2zdNdS2J12VDurDReC\\\n",
       "nth/ovp3u9OOk389iR/+8oPX++Tl5WH48OGG4U/44S8/tNl/lL1hlzGR/wINN9owaXSNQNb1017H\\\n",
       "WxevdvjJPTdPAeAZNrXDT9rivzfsYg4dUwZAQZIk3WNZlj2e01q8eDFsNpv6k5aW1t5NpBDyFna0\\\n",
       "VT9xTEbvDF0lUIKk/jnrklkelcKnxj6FBVctUK8pdfP+e5eOdADAN998o3tspFevXgG8U/+1NKuY\\\n",
       "iJq1RbgxusbICZPU8PbVxvX4auN6FN9xC4pn5ngNm+7dyiJgijC40+7Q9UC8vOavmHfv73Vh0b0H\\\n",
       "oi1CIBepDh1TBsCUlBQA8Kj2VVVVeVQFtebNm4fq6mr158iRI+3aTup42qDmLey4j+krnVqKsqoy\\\n",
       "VNRW4MVdLyJ7TTbG9B2DPvF98OhVjwIAFm5diIraCjyz/Rn1OtOGTMOkAZNgkSy4Zto1GDpzqEd7\\\n",
       "pmM6lmEZcpADAMhBDpZhGaZjusexRUVFurGCRBRabRFurpwyFTHdusFZV6cLd9pA98XaNaivrUH9\\\n",
       "2bNe1/7z1paREybhaK+fYPnb73jc+8mil7DlXz/izuLXseVfPxr2QAQTArlgdWiZMgAOGDAAKSkp\\\n",
       "2Lhxo/qc0+nEpk2bcPXVV3s9z2q1IjExUfdD4cVXt68Ih0Zj+kQlUIbssf+v9lqOJofumpnJmUiO\\\n",
       "S8aRmiOIvCYSP7n9J+pr6UjHDMwAANyFu7AWa3EXlAlKMzBDVwn8jzn/gV7/0Ytr+hGFmLar1Z9x\\\n",
       "gdrjjbp7R06YhOiYONTX1uDvK15C8cwcrHvxaTjr6hDTrRuunDIVsee/iyyRkYAk6yqG4poAPNry\\\n",
       "1cb1uPGKDMOxx4I/w08CDYHs/g2tsA2AZ8+exZdffokvv/wSgDLx48svv8Thw4chSRLmzJmDJ554\\\n",
       "Au+//z727NmDGTNmIC4uDrfeemtoG04hpe32de+2FeGwrKoMsy6Zhdd2v6a+JiqB911+n2E4jImI\\\n",
       "gQQJNwzQz0wX15QgoU98HzzzyDPq0kV7sAfLsVw91gab+vflWI492AMA6PObPjh35Tks2rYIFbUV\\\n",
       "WLRtEUMgUYi0NtS4V/KMzr1yylRIFgsgy6g/exbffroZ9bU1iI6Jw8gJk1B1UBk/LLtcyMq5XVfp\\\n",
       "89WeL9auQVRTg9e2tffwE3b/hlbY7gX8ySef4Nprr/V4fvr06Vi5ciVkWUZhYSGWL1+O06dPY9So\\\n",
       "USguLkZ6uvdfcHfcSzC8ue+j++7+d/HirhchQ/m/jN1pN9xj19dSKe6veTs2qX8STh46CQBYi7W6\\\n",
       "8FeNakzBFABA34F9MfzJ4TjXcA7Vzmr1GO79SxQare3WFMenDhmKg1/tAmQJWbfc5nHuVxvX45O3\\\n",
       "VqDRcb4XQZLwHzPvwcgJk7Duxaex//MtGDI6C5NnP9xie7T3LN//LX6wxODJopd0503HdMzADCzH\\\n",
       "cpSgBDnIwV24CyuxEquwSndsVxx+wu/vMK4Ajhs3DrIse/ysXLkSgDIBpKCgABUVFaivr8emTZta\\\n",
       "Ff4o/LlPApk2ZBriouJgd9rVip3RbFhf3cjur+08thPHzh3DzmM71WOKi4vV8JeDHF34A5RKoBgT\\\n",
       "ePTAUdx07CbMvnw2+sT3waQBkzhLlyiE3Cdo+HP8ncWvo3z/t16XZhHHxSXYDK8xefbDeGD1Bx7h\\\n",
       "T3t993X97CeqUL7/W9xZ/DoWL/uzbtOE1gw/8RX+uMRL5xa2AZAoWNOGTPPo6hWhcPblsz0miPga\\\n",
       "IyjMumQWbNE2nK4/jazVWfjwxw/hkl3YcHADAP06f+lIV/+jCyiVP+Eu3KX+RzgvLw/H/34cpVNL\\\n",
       "8dTYpzhLlyjEAhnbpp3ssWX1W167gmPiE5QHsowtJW8G1D6jrtfc3NxWDz9pqfLHMX6dGwMghb1g\\\n",
       "FnQWFbuFWxdi7ua5asXuve/eQ/aabMzdPFc9TztGUHS/aq/57v531fUB65vqUe2shjXCCotkwcT+\\\n",
       "Ez2WWNiDPViJlQCU/+hOwRT1P8orsVL9jzAAn9vGEVHHCmRsm3ayByTZ43zRbZt1y22aEOh9+aiW\\\n",
       "7qWtCopKXdbFAzBs2DAAQAlKdP/oBJR/hJagBAAwbNgwZF08wGeFj2P8OrewHQPYETiGoGtwH8vX\\\n",
       "mmPe3f8uFm5dCACwSMq/l1yyS31dggQZMhKjE3Hf5fdh6a6lkCBh9uWz1UAorinuIc6zRlhhjbCi\\\n",
       "X0I//PPdf6L8rXLDtqUjXRf23B9rdcWxOESk8DV+8NXcO2A/UaVbwNnXOEN/xiKKY5z151B/9ix2\\\n",
       "VpzE6n9uBQB1zJ87MSYQAG655ipk9rkAiUm9cWfx68G89Q7H729WAMkE/Nm9wugYUdUbccEISJAQ\\\n",
       "bYnGsJ7DIEFCpBSJxOhEWCOsAJRAN23INMRHxaPaWY1F2xZ5dAXPumQWEqMTYYu24YYBN8DpcqLa\\\n",
       "WY29J/eiwe59Jp4Ie+Jf5t7CHwAcP37c/w+GiNpcIOPetEu1eBs/qK2mtTTO8KuN6/HR6y/DfqIK\\\n",
       "H73+Mta9+LRhm0QXbWNDAz79/pAa/vwdfrL6n1ux7XCFYYWP4/86P1YAg8B/QYQ3UbFLjE7E2Yaz\\\n",
       "cMku9InvAwBqZU+MEdTO6l20bZF6bEsVR4tkQXJcMipqKyD/Tcbe1XsNjxeVPW97AQNAfn5+u28F\\\n",
       "R0S+aSt1/lbFtOcAaPF8EfBklwuSxYLxd9wNANiy+i1AkgFZUrqSz5MsFsguF2K6dUN0TJw647jR\\\n",
       "2YDI6Chs2vc9/rJ1p+4ewc4CDuRz6Ej8/mYFkEzEn7GAWqIqKEGCS3ZBgoTahlpk9M6ALdqG2oZa\\\n",
       "ANBNupg2ZBrmj5pvWE3U3ltce2L/iaisVXaksVxvwdUzPBci1/7HNTc3F3csuMPjmItuvgjDbxnu\\\n",
       "8f5a+56JKDiBjHvTnqOdDOKrcie7lKEossuFT95aodsNpLHRCcliQfJFgxATn4CIqChl3KAswX6i\\\n",
       "SllH8OxZNDodhuEPAFZhFe7FvWp3bwlKcC/u9Qh/gPEYZI7/6/wYAMkURGXOfXkWXwFJLO4sllhJ\\\n",
       "iE6A3WlHWVUZHE0O2J123dZu4lrvffeebmkX7b3FIs1ihvGGgxvUdQVlyIifHI+Lbr5IveYdC+5Q\\\n",
       "w5+4/v5h+9HnN33UY9J+lYbFCxdj6a6lqKitwNJdS9XXfC1JQ0T+a88uTe2kDO1kkP2fb/E6G1hU\\\n",
       "CwGg0eFA6pChiIlPQEy3boiMjIbscqkLRDc6HIiOjUX/yzL0N5YknK2v99oudbH5HjbdYyPuw0/8\\\n",
       "2QWFQosBkEzhtd2vwSW7YJEsusqcNiB5C4NGu3yILd20W7uJa+09uRcu2YUPf/xQd29AmUAiwph4\\\n",
       "XoKEmIgY2KJtmHXJLCxeuBi9p/RGn9/0wY5BOzx2IpEho9eEXujzmz7odVMvDL1lKKYNmQYJyoxA\\\n",
       "8Sfge2cTIvKfv0uatMXSJyLgDRmd5XX/3juLX8fQMWPV58r3f4usW25DdEwc+l+WoXb7QpIRE58A\\\n",
       "Z/05HPyyrPki5xeSzv3t7ZgwfLDXttxyzVUoP3VGt06gu7t+cyv6Hj/sMxxzTGDnExnqBhB1BPex\\\n",
       "etrnX9z1ImobatUlWrQBLaN3hrr127Qh09Rz3/vuPew9uRcRUoRa0cvonYFjB48BMuCCS50gMuuS\\\n",
       "Weq4QItkQUbvDGSvyUbPmJ44du4YJvafiKfGPqVv8JNQz3lt92u6NQlFgF0apcw4Fo/FzGNtwNW2\\\n",
       "WYw7XLprqdedSojImHbmbVscZ0S7o4c/4+b6DUtXdw8R97WfqIL9RBWSLxqE6mPHgPM9DPVnzyKm\\\n",
       "WzelK1iS0X/k5coM4Lo6XJ9+MSRJQunef+mu/+srRmLuggUAoPZEuI9Bzs/PR9/jh9XQ663ipw3G\\\n",
       "rAp2DpwEEgQOIg0PY1aPgd1pR0xEDHrE9FCDlpikYTSh44q3r0B9k9J14r7MS2K08rvgbHLCGmHF\\\n",
       "7MtnY+exnfjwxw/VUFjfVK8uIeNtO7kXd70IR5NDvUagYU3MZhZhVmwbx+3iiNpXa5ZiuXLKVN3E\\\n",
       "jgdWf2B4vAiJvftfhKqDP6iTOwCg0dmARmdzr4SoAkZarWhqaFC3itNOIom0WtHodCIyOhrbjtux\\\n",
       "esPfAQC/zBiBMRcPQExcN93WdNqJaGLiWWvfZ2cIgPz+ZgWQwpSv/XjdabtMBRECRWgSVTvxWIQ/\\\n",
       "AMjonYF397+Lcw3n1PUAX9z1Iuqb6lHfVK9WFGXIuvMiLZFIik3yWJ7m3f3v4vGtj0OGDAmSeo2W\\\n",
       "9hX29rwIs6iCuqexe6WQiNqeqHptWf2W1/CjPSYiKgqNTieGjM7yes39n2+B7HLh2A/fA1BCnvus\\\n",
       "X0GEycioKDQ6HCjf/616T6V7WEKj0wnIMhodDmTaYnBi+GB0s0ZjzMUDAFlGfW0NtpS8qbZfVAKP\\\n",
       "Hz+urjogxi5S18IxgBSWWjP5QUzyiI6IVs8R4/4ykzMBAJ8e/RQVtRVY/+N6VNRWIMoSpZ5fVlWG\\\n",
       "F3e9iGpntboeoJjYIbpoxRZwidGJiImIAQBESBGobajFi7te1O0WsmjbIvX8CCkCfeL7qAFUO37P\\\n",
       "23t0f95oT2NuF0fUOoGMYVMna0iy13GB2mMaHQ4kXtDLcE9foXd/ZZKYNb4bJIsFQ0ZnKbuDnO/e\\\n",
       "HTpmLBKTeqt/jr/jbmTl3K4bSyjuGRkVDZzvBIzp1g0WSwSuT78YYwb3R0x8fHOX8fnZw6L9ubm5\\\n",
       "avjz93PhtnCdDwMghaWWFn/WTogwmuQhiDBV7dRvidTgUhZuFpNKxJIw4s/7Lr8PidGJancwAMRF\\\n",
       "xeG+y+/DH674A/rE94E1wgq7045qZ7XHxBAhPioepVNLUVZV5hH2vL1HBj6ithdIgBGTNdwDmPsx\\\n",
       "V06ZCsgSYrp1a3HsYJ3dDgBwnKuF7HLh4Fe7MHLCJOSuKEHu66sxefbD6vjBmlMnsPvjUo/qo2iX\\\n",
       "6PyItFqRu6IE0bHKP04hSeg/8nJEx8Qh65bbkHXLbV7bLz6Xj15/2WcI5LIwnQ/HAAaBYwi6Ll/b\\\n",
       "w7l3kYqt4CRISIlPQWVtpVqhs0XbMPvy2WqXLQBMGjAJmcmZugWhAahjCuePmg8AWLprqTpOcEzf\\\n",
       "MWpXs/hzy9Et6rZyAAKauNGarnAi8q49x7C1ZtFk0Y5z9mplvN/52bzubXruP3/uce7QMWN11cXi\\\n",
       "O25BfW0NYuITkPv6aqx78Wl8++lmAEoobHQ4PNqk/RwA4JM3V6jjDmPiExAdG+vxGXW28X8Av78B\\\n",
       "BsCg8Beo6/IVjLThMKN3Btb/qPyrdtKASXhq7FPNu3jAAheUgNczpif2nlR28dDu7iFBQkJ0ArL6\\\n",
       "ZmHDwQ2Gu4loJ5BoA6k/exi3RLvjyPxR8xkCiTpAawNPS8cbva6dyGEUHI0CoPvkEnHd1CFDUb7/\\\n",
       "Wzjr6prHEkoSYuLjAVlC/8syUL7/W91MY8ligTU2Xj1eslhgjYtD/dmzHu3pjLuC8PubXcAUZvxd\\\n",
       "685Xt6i2C3XDwQ2618asHqNMqICy1EtidCJmXTILp+pPqcdM7D8Rsy6ZhZiIGMiQ1cWjxQ4hGb0z\\\n",
       "UNtQC1u0TTe5xH2sn2iH9rlAdjMRM5lF9zHXAyQKTHuNd2tp0WRv17PGxSEmPsGwWzUy2qp51DzR\\\n",
       "7auN63V7D99Z/DoOfrVL2RO40YlIqxWQJAy9+hrDBamvnDLVY43BmG7dDMcaivukDhnK7t9OiAGQ\\\n",
       "wkprd74wCkPacDix/0T1+Q0HN8DutOvOj4+KV9cAFAs6ZyZnYtqQaXC6nOpx2m3jthzdArvTDhmy\\\n",
       "OravrKrMY6yfdrcQ8Vxr35/R1nTcHYQoML6CnTYcardza82kEfeAKR7HJiYCkoRzNdXqa1+sXYP6\\\n",
       "s2cRHRuLkRMm4auN61E8MwfFd9yCrzaux7jbZwKSCH7ndxtyufDF2jXYUvKmMvO45E0AQGNDg9qG\\\n",
       "cbfNREx8PA5+WaYGN+2C1CMnTML4O+5GYlJvZOXcjtzXVyN3RYk6E1gbZMXntf/zLZ2q+5cUDIAU\\\n",
       "Vlqa/AHoQ19LYeipsU9hwVULYIu2IdoSre7YMWnAJN0OG2JLN+2yLxP7T4RFsiAmIka3wLR2xw73\\\n",
       "9mb0zlAXiwY8dzDx5/25c692BnINIvI9kcF9oWNRPWvNpBH3gCkeVx38QV2q5Yu1a/DVxvU4e0bp\\\n",
       "dYg9330pAqG458gJk5QuXACWyEhAkhBptaoTTgAl+L2aewdcTU1KA2T9dcTOIf2GpeuCnb/bvGmr\\\n",
       "hZz92/lwHUAKK9qdL7zRhj733TW8XfO13a95XTw5e022uqWb6BIGlPCYmZyJpbuWwhphNdyxw729\\\n",
       "ZVVlcMkulFUp/+EVO5XIkLHz2E7driS++Brj6M9nRESefK13574DSCA7gni7RuqQoUoYk2T1OVdj\\\n",
       "IwCo+/1eOWWqUtE7vysIAGTl3O5z/UFnXR3sJ6rUSmFkdJTuOmL5Gu06gK2p4mkrgez+7Xw4CSQI\\\n",
       "HETaNQUyM9bXOe6vaR+LsNnSbGNx3tJdS9WZv+I57TZy4s+WJnR4m0ASzKxgzigmCl5bzIj9auN6\\\n",
       "fPLWCjQ6nUgeMBB1drvhzNstq98CJBlZObf7nFwiJoF4m70rJoeISRxtPcklFPj9zS5gMqFA1sVz\\\n",
       "P0d0I+f8Xw4WbVukdtlmr8nG0l1L1Qqje5eulnv382u7X4PdaUdcVJx6H20XsOhS1k7o8MZbN28w\\\n",
       "4/84dpAoeIGsJ2g0+SQyMhox8fGoPnbM8HpfrF2D+toa1J89q3vN6FruXbyCuo7hLbchJj4Bzvpz\\\n",
       "aphrzXvgItCdEwMgUQBEGNp7ci9csgsbDm5Qn3M2OWGRLOgZ01Nd+kV06Wq5h0OxW0htQ60641ds\\\n",
       "Lzd/1Hw8NfYpjwkd3ngLucGM/+PYQaLgBbIgstHYQBHuIMmG17tyylR1hm7qkKHqBBExAeSLtWs8\\\n",
       "rrvuxaex5JZfYN2LT+uuNXLCJECSUX/2LD55awWcdXV+LVodzHum9scu4CCwhBy+WuruFK/3jOmJ\\\n",
       "b059g4n9JyIzOROv7X4NtQ21sDvtXrtsxbnnGs6pO4z4Wjw6mHUAiSh02qrr02Px5bdWoNHhQKTV\\\n",
       "inG3zWzx2mIdPkBZHiYu0aZeS9u+Jbf8Qt0/WLteINC8aDQkCZDlTrWmXyD4/c1JIEQAPAOftrtT\\\n",
       "GwC1xxmFMu0YQLGrh/vYQBEQtdvEbTi4QZ0AImb8As27fwT6PogodNxnBgdKO/nk1dw70OhQdt6I\\\n",
       "S7D5dd0rp0zF31e8pMwkbnB6bAsnDBmdhf2fb8GQ0Vke18i65TaP8YLUtbECGAT+CyJ8jFk9Rg1l\\\n",
       "n97yqdcgFczuHOJcW7QNcVFxmHXJLOw8thMbDm7QVRCDCW9tsXsIEbWNtprwob3GVxvXq7N0s265\\\n",
       "TbczSEu7ifjaOaQtdcZJH+74/c0AGBT+AoWPrNVZqHZWwxZtw5Zbtng9rrPPomUFkCi8+NpGTRu0\\\n",
       "tqx+S7evr7uvNq5X9u1tcGLo1dfo9gTuyDZ3Fvz+ZhcwEQD92ny+BLOGXlusv9dSwOMaf0Qdrz0r\\\n",
       "Xr7WExRdzFtWv4X6c2eVJyXjms4Xa9eg0al0HZfv/9br/VpaGibYNlPnwVnARAhsaZi2MnfzXIx8\\\n",
       "cyTmbp4LwPdeve29FAv3CSZqvfZc5sTbrhtfbVwPZ/05xMQnKKFPliFZLMjKuV19Xbvci3ZWsK9g\\\n",
       "pt2+LdD35O9OIRRaDIBEISaWitlwcAMA3yHPfSmWtg5sXOuPqPVCscyJdi/grJzbkZjUG+PvuNtj\\\n",
       "H14R4EZOmKTbtxcwXhNQvBft/r9Gx1HXxzGAQeAYAmoLczfPVSeCPDX2qVaN42vrSR8cQ0jUNfgz\\\n",
       "6aOlbml/x+q1dkwfJ4F0DQyAQeAvEIUaAxsRBcrfoNbaQMdJIF0DA2AQ+AtERESh4iuYtdUSNEZL\\\n",
       "zgTTrs6C398cA0gUMpxwQdTxwmk8m6/JJ20xMUWMM6yvrWnVdTgJpGtgACTT6SzBixMuiDpee87Y\\\n",
       "7Wi+Jp+0xcSUK6dMRUy3boiJT/DrOuEUrs2AXcBBYAm5a+osu2Vw/B5Rx+sK3ZNdVVcY+yfw+5sB\\\n",
       "MCj8BeqaGLyIiNpeVwrX/P5mAMSf//xnPPPMM6ioqMCIESPwwgsv4JprrvHrXP4ChT+GRSKi8MPv\\\n",
       "b5OPAfyf//kfzJkzB/Pnz0dZWRmuueYa3HDDDTh8+HCom0adBMfpERFRODJ1AFyyZAlmzpyJWbNm\\\n",
       "YdiwYXjhhReQlpaGl156KdRNo07CfecNIiLyxAkgXY9pA6DT6cTOnTuRnZ2tez47OxufffZZiFpF\\\n",
       "nU0o9wgmIuoqwml2tVmYNgCeOHECTU1NSE5O1j2fnJyMyspKw3McDgfsdrvuh4iIyOxCsR8yBScy\\\n",
       "1A0INUmSdI9lWfZ4Tli8eDEKCws7ollERERdxsgJkzr9zF/SM20FMCkpCRERER7VvqqqKo+qoDBv\\\n",
       "3jxUV1erP0eOHOmIphIRERG1KdMGwOjoaGRmZmLjxo265zdu3Iirr77a8Byr1YrExETdDxEREVFX\\\n",
       "Y+ou4AceeAC33XYbfvrTn2L06NF45ZVXcPjwYdx9992hbhoRERFRuzF1APzP//xPnDx5En/6059Q\\\n",
       "UVGB9PR0rF+/HhdeeGGom0ZERETUbky/E0gwuJI4ERFR18PvbxOPASQiIiIyKwZAIiIiIpNhACQi\\\n",
       "IiIyGQZAIiIiIpNhACQiIiIyGQZAIiIiIpNhACQiIiIyGQZAIiIiIpNhACQiIiIyGQZAIiIiIpNh\\\n",
       "ACQiIiIyGQZAIiIiIpNhACQiIiIyGQZAIiIiIpNhACQiIiIyGQZAIiIiIpNhACQiIiIyGQZAIiIi\\\n",
       "IpNhACQiIiIyGQZAIiIiIpNhACQiIiIyGQZAIiIiIpNhACQiIiIyGQZAIiIiIpNhACQiIiIyGQZA\\\n",
       "IiIiIpNhACQiIiIyGQZAIiIiIpNhACQiIiIyGQZAIiIiIpNhACQiIiIyGQZAIiIiIpNhACQiIiIy\\\n",
       "GQZAIiIiIpNhACQiIiIyGQZAIiIiIpMJywC4aNEiXH311YiLi0P37t0Njzl8+DBuvPFGxMfHIykp\\\n",
       "CbNnz4bT6ezYhhIRERGFQGSoG9AenE4nbr75ZowePRorVqzweL2pqQmTJ09Gr169sGXLFpw8eRLT\\\n",
       "p0+HLMtYtmxZCFpMRERE1HHCMgAWFhYCAFauXGn4emlpKfbt24cjR44gNTUVAPDcc89hxowZWLRo\\\n",
       "ERITEzuqqUREREQdLiy7gFvy+eefIz09XQ1/AHD99dfD4XBg586dIWwZERERUfsLywpgSyorK5Gc\\\n",
       "nKx7rkePHoiOjkZlZaXX8xwOBxwOh/rYbre3WxuJiIiI2kuXqQAWFBRAkiSfPzt27PD7epIkeTwn\\\n",
       "y7Lh88LixYths9nUn7S0tIDeCxEREVEodZkKYF5eHnJycnwe079/f7+ulZKSgm3btumeO336NBoa\\\n",
       "Gjwqg1rz5s3DAw88oD622+0MgURERNTldJkAmJSUhKSkpDa51ujRo7Fo0SJUVFSgT58+AJSJIVar\\\n",
       "FZmZmV7Ps1qtsFqtbdIGIiIiolDpMgGwNQ4fPoxTp07h8OHDaGpqwpdffgkAGDRoELp164bs7GwM\\\n",
       "Hz4ct912G5555hmcOnUKDz30EO68807OACYiIqKwF5YB8LHHHsOqVavUxxkZGQCAf/zjHxg3bhwi\\\n",
       "IiKwbt06/P73v8eYMWMQGxuLW2+9Fc8++2yomkxERETUYSRZluVQN6KrstvtsNlsqK6uZuWQiIio\\\n",
       "i+D3dxeaBUxEREREbYMBkIiIiMhkGACJiIiITIYBkIiIiMhkGACJiIiITIYBkIiIiMhkGACJiIiI\\\n",
       "TIYBkIiIiMhkGACJiIiITIYBkIiIiMhkGACJiIiITIYBkIiIiMhkGACJiIiITIYBkIiIiMhkGACJ\\\n",
       "iIiITIYBkIiIiMhkGACJiIiITIYBkIiIiMhkGACJiIiITIYBkIiIiMhkGACJiIiITIYBkIiIiMhk\\\n",
       "GACJiIiITIYBkIiIiMhkGACJiIiITIYBkIiIiMhkGACJiIiITIYBkIiIiMhkGACJiIiITIYBkIiI\\\n",
       "iMhkGACJiIiITIYBkIiIiMhkGACJiIiITIYBkIiIyIT2bD6KNx/5FHs2Hw11UygEGACJiIhMaNeG\\\n",
       "g6g55cCuDQdD3RQKAQZAIiIiE7p8Yn8k9LTi8on9Q90UCoGwC4AHDx7EzJkzMWDAAMTGxmLgwIHI\\\n",
       "z8+H0+nUHXf48GHceOONiI+PR1JSEmbPnu1xDBERUbhKH9sXtz8xBulj+4a6KRQCkaFuQFv79ttv\\\n",
       "4XK5sHz5cgwaNAh79uzBnXfeidraWjz77LMAgKamJkyePBm9evXCli1bcPLkSUyfPh2yLGPZsmUh\\\n",
       "fgdERERE7UuSZVkOdSPa2zPPPIOXXnoJP/zwAwDgww8/xM9//nMcOXIEqampAICSkhLMmDEDVVVV\\\n",
       "SExM9Ou6drsdNpsN1dXVfp9DREREocXv7zDsAjZSXV2Nnj17qo8///xzpKenq+EPAK6//no4HA7s\\\n",
       "3LkzFE0kIiIi6jBh1wXs7sCBA1i2bBmee+459bnKykokJyfrjuvRoweio6NRWVnp9VoOhwMOh0N9\\\n",
       "bLfb277BRERERO2sy1QACwoKIEmSz58dO3bozikvL8fEiRNx8803Y9asWbrXJEnyuIcsy4bPC4sX\\\n",
       "L4bNZlN/0tLS2ubNEREREXWgLlMBzMvLQ05Ojs9j+vfvr/69vLwc1157LUaPHo1XXnlFd1xKSgq2\\\n",
       "bdume+706dNoaGjwqAxqzZs3Dw888ID62G63MwQSERFRl9NlAmBSUhKSkpL8Ovbo0aO49tprkZmZ\\\n",
       "iTfeeAMWi77QOXr0aCxatAgVFRXo06cPAKC0tBRWqxWZmZler2u1WmG1WgN/E0RERKSzZ/NR7Npw\\\n",
       "EJdP7M8laTpQl+kC9ld5eTnGjRuHtLQ0PPvsszh+/DgqKyt1Y/uys7MxfPhw3HbbbSgrK8NHH32E\\\n",
       "hx56CHfeeadpZwMREVHnFOyWbR255Vsg9+KOJKERdgGwtLQU33//PT7++GP069cPffr0UX+EiIgI\\\n",
       "rFu3DjExMRgzZgymTZuGKVOmqOsEEhERdRbBBqSODFiB3Is7koSGKdYBbC9cR4iIiNqbry5Sf7pP\\\n",
       "/e1iDbQrVnsegC7RncvvbwbAoPAXiIiIAhHMuDftuaLiltDTitufGBNUm9585NOArhXoeaHE7+8w\\\n",
       "7AImIiLq7ILpltWe25bdp4Fei124XVOXmQVMRETU1YnqXcrA7gDOBBSaROVPWz3UBkmjyqI/Fcf0\\\n",
       "sX11rxUUFKBXr17Izc312pbi4mIcP34cBU8UtPp9UGgxABIREXUQUb0DzgTcXeoe1NyrieLv3o7x\\\n",
       "p8u5oKAAhYWF6mOjEFhcXIy8vDzdOdR1sAuYiIiogwTbXWq0zIr2mt6u35r7uoe/vLw8zL9/ke4Y\\\n",
       "9/BXWFjIANjFcBJIEDiIlIiIOlJ7T7hwD39aRUVFyM3N9Qh/Wvn5+SgoKOj0izvz+5sBMCj8BSIi\\\n",
       "oo7kHqyMglag4ev3v30AL6183ucxw4YNwzfffOPzmPz8fFzknKALqp0tEPL7m13AREREXUb62L64\\\n",
       "/Ykxuskf7rOJA51hfLbcx32RDgBq+BOPjfTq1cujy5m7fXQ+nARCREQUQr6qeCkDu6PywBnEJETj\\\n",
       "xJEaDMpMRvbMEeq5YkZwysDuePORT9VxgNqFmVu6l/Dw/AcBAG+V6quA0zEdMzADy7EcJShBDnJw\\\n",
       "F+7CSqzEKqzSHSu6iQHoru+rTRQa7AIOAkvIREQULPdxfXs2H8Xmkv2QXYBkAWRX87GSBfj9n69T\\\n",
       "H4tA56xvguNco8fYQPddOsR1fY0hnH//IjzxwqMAlErfMixTX6tGNWywqY/vxb3Ygz0A9OGvs+P3\\\n",
       "N7uAiYiIfDKaeduWjLpLRfgblJmMhJ5WdOtpBQAkpSXozm1eVgbqNbTt1Xa9aq+rrcS5v79Fz89H\\\n",
       "UVGR8hr2YDmWq8dqw99yLG8x/LX3Z0eBYwUwCPwXBBFR+GvLmbeB7t0r2mCNi0R0TIRH13BSWgLq\\\n",
       "a5we28O5d70a3Vv7/rTHT7t7gjrmby3W6sJfNaoxBVMAKBND9u3b1+6fXVvi9zcrgERERD615VZn\\\n",
       "/kyGcJ/ooW0DoCz0/P3OY6g55cDxQzWQXcDxwzWoOeXA1rUHvLbX6Lp7Nh+Fs74J1rhIpAzsjs0l\\\n",
       "+1FzyoGnFz2nhr8c5OjCH6BUAnOQA0CZGFJcXNziGoXUubACGAT+C4KIiFriPg4v0K3atMelDOyO\\\n",
       "73ceU8cHWiIkuJpkWOMiMWvJWABA6Yq9+G77MQBKt+/YnCEe19ZW6AAlXG7etxbv/lMZ99eaMYC3\\\n",
       "Zd+PUQN+7le1L9TLwvD7mxVAIiKiduW+DZt7Fc79GHfaypo4P3vmCIzNGQLp/Le4xSIBEtDU4FIr\\\n",
       "cN/tOKZeQ3Y17xcsrle6Yq9a/ROzh7f9+H9q+AOUMYArsRKAMuZvCqaoYwJXYqUa/gBl9vC2H//P\\\n",
       "r2ofl4UJPS4DQ0RE1I68LYGirYL5WiZl69oDcJxrxNa1B3TBUfx969oDcNQ1AjLQ2OBSg2ZklAWN\\\n",
       "ThcsERKirBFw1jehdMVetXJ49swxdUZw+ti+KC4u9lgCBgBWYRV2Yqca9kpQgj3n/+furdLnMeoX\\\n",
       "A5E+1nhCiKheaoNnqKuBZsUKIBERUTvyp+rn7Zg9m48q4c6NqOIBQHRMBKAZzCVD6dodMLIXEnpa\\\n",
       "cc1/XoymRhcc5xrx3fbmbuP47lZIFiBlYHcAwPHjx72+BxH2hg0bpntsxNt1xPv9fucxOM41Ijom\\\n",
       "Aulj+7IaGCIMgERERCGQMrC7LoAZ2bXhoJLoJOWx6N4VoWlzyX7EJESrXcEAcPaUQw1aoqLY6HTB\\\n",
       "3dlTDsgu4Mcvj+PNRz7F1Wk3Y/KV0722paioCPv27VOXiDEi9gI2IiaEiKVtRNv8+Ryo7bELmIiI\\\n",
       "qANpF2+WXUDlgTMer4nuUNE1LBZ6FtXCyyf2Vxd1PnGkRr9YtARA0o/705Ggqxg2NrhQc8qBmlPH\\\n",
       "cEPG7XA1yfhw55u6U7Tr/P3skim4LfuAR3exe/hzfy/ix13lgTMenwO1P1YAiYiIOpDR4s3ur4ng\\\n",
       "JrqGr5oyEAk9reqWb4Ayq1dbUYuMVr7SZUBXZbt8Yn9ERimvRUZZ0OsnCZAsysxhldT85+QrpuOG\\\n",
       "zNvVlx6Z8zisBy7Baw9sVkPdqAE/x23Z96vH3DPjfhQUFBguQr117QGfi0FzqZjQYAWQiIioA2n3\\\n",
       "73WvenmbDCKqZ2LZll0bDqpjBvdsPorKA2cwYGQvdYJH5YEzuqVYNq3eD0Cp9tmP10F2AdFxEXDW\\\n",
       "N0J2AZGRFjQ1uTAoMxmpg7vDGjsTkVEWXHLVIAyJHacG1q1rDwAArHGR6t7BJ06exFV9fg1AH2C1\\\n",
       "1UvRXS3ei9F7o47FAEhERBQCh/eeVLt1geb1AY3W0BMVtZiEaJw949CNlxOh6+yZYxiUmYzKA2dw\\\n",
       "+cT+6ozfQZnJ6oxgwRoXiaYGFyIiLYiItKCp0QXZpbQpe+YIpI/ti1kYq95bBD8AcJxrVMccPjz/\\\n",
       "QWxdewDO+ibs2XxUF2BFsNPubSy6sCn02AVMRETUgYy6gFtaB1Ds0CF2/tBWDkUY1Fb+0sf2xXc7\\\n",
       "lGrgdzuOYczUwUoXsQT8ZMQFiI6JQGODSw2FjQ2ek0S0omMi8JMRF6iPZVdzNdBZ36gbn+g+mzl9\\\n",
       "bF+1u5rdvJ0HK4BEREQdyL1KJohKWumKvWoVTyyTopvkYYEuSIkwKGbSvvnIp8q4v0gLGhtcsEgS\\\n",
       "dm04iIhIpQooqoLO+pPNF5WV86+aMtCjvdoKo+yCbhKJaJt7m9z5283LNQE7DiuAREREHchblSw6\\\n",
       "JgKOc43qPr+iGigmSQy+QpnY4b6lm3h9bM4QVB44o5475ubBsMZFwiXLqDnlUNYTPD87+PDek4iO\\\n",
       "icBVUwaqE0yMtorT7hUsJpYM/qny51VTBuru3RaBjWsCdhxWAImIiNqZP5Ut98khoqImjvd2vnt1\\\n",
       "TXvcrg0H4Th3fiFpWZkFHJsQpU7M2LR6P6yxkfjJiAuwde0BbF17QK0CancYSehpRfbMER7vw9vM\\\n",
       "3kD52hGF2pYky7Lc8mFkhJtJExGRP8Ts3YSeVsNJHr6UrtiL77Yr+/p6O187UeMnIy7QBchdGw6i\\\n",
       "rqZBHec3+Aplpq+YmAFA162b0NMKAOo4RckCtcIn3oc1LhLRMRHq+oTaY7oCfn+zC5iIiKjdBbLW\\\n",
       "nVhT77sdx3TXMTpuc8l+OM4pkzG+23FMre4BwO1PjMGAy3qpx3+345g6MUOQJGVmsNif9/KJ/dXH\\\n",
       "2mAn3gegD4heF50OgnZNQWp77AImIiJqZ4GsdSfGw0VGK5M5xGLOotrX1OACpPMzeEVfngRYJAku\\\n",
       "WQbk5mVXtLOGIyMtaps2rd4PyEqAu2rKQI9xiYK26/f2J8aoj1MGdsfhvcpkkrbutnXfK5naFiuA\\\n",
       "REREnZCoto2ZOhgJPaxodLqwuWQ/Pv3Ld3Cca2xexuX8DF5rXCQgA1ExEbpqnriWeG7MzYPVewz+\\\n",
       "abL6910bDnqtuhlNznDWN+G7HcfgONeI6JgIAAiqYud+b+4Q0r5YASQiIupEtNU1Qbv3b6OreU2Y\\\n",
       "yGhlIWcxccPfiSJC9swRSB3cXbdzh1HVzX1yhm5yiQSf5/rL/XzuENK+GACJiIg6ARH8xMQKse6e\\\n",
       "2PYNOD+h42wDGp0uWOMiMWvJWN01vHXbegtS7seUf3cGZ88c04VPcV33QCi6j62xkR4zlQPBGcAd\\\n",
       "iwGQiIioA3kLZqICZo2LREJPK2ISonHiSI0axrRbq/kTlLQVtfLvzuC7HccQGWnBmJsH6wKbtupW\\\n",
       "eeCMx04jRowCX7AVO1b8OhbHABIREXUgb4sdizFvV00ZiNufGIP6GqcaxvZsPorXHtiM1x7YDAAe\\\n",
       "C0kb0Y6h+37nMUBWJoxo76s9Rrvosz9VOKMFrf3FGb6hxwogERFRB9CP7TvjEbKMulm1Y/PEmDt/\\\n",
       "x9hpK4YRERY0upSZxN7CnbiHWOblzUc+1S1K7V59DKZaxxm+occASERE1AFE6AHO+LUYtHsgFAs9\\\n",
       "i2qdv0Fs14aDaGxwGS4irQ1i7oFTu/+vCGptFdw43i/0wrIL+Be/+AV+8pOfICYmBn369MFtt92G\\\n",
       "8vJy3TGHDx/GjTfeiPj4eCQlJWH27NlwOp0hajEREYW7YJY1SR/bF7OWjMWsJWN1QWzr2gMtdqX6\\\n",
       "uq/2NW2Xrnhe7P8bSBdxS+8n0O5jahthWQG89tpr8cgjj6BPnz44evQoHnroIUydOhWfffYZAKCp\\\n",
       "qQmTJ09Gr169sGXLFpw8eRLTp0+HLMtYtmxZiFtPRETkm6igiT19fVXkfE2u8Paa0fNvPvKp2kXM\\\n",
       "4Nb1mWIv4A8++ABTpkyBw+FAVFQUPvzwQ/z85z/HkSNHkJqaCgAoKSnBjBkzUFVV5fe+gNxLkIiI\\\n",
       "/BXMfsDeBDomL5Dz2mr8X2fA7+8wrQBqnTp1Cv/93/+Nq6++GlFRUQCAzz//HOnp6Wr4A4Drr78e\\\n",
       "DocDO3fuxLXXXhuq5hIRUZhqj3FvgS6dEshYPvd7BbLOIHUeYTkGEADmzp2L+Ph4XHDBBTh8+DD+\\\n",
       "+te/qq9VVlYiOTlZd3yPHj0QHR2NyspKr9d0OByw2+26HyIiIn90pnFvbbHNmrflbFp7DIVGlwmA\\\n",
       "BQUFkCTJ58+OHTvU4//whz+grKwMpaWliIiIwO233w5tb7ckSR73kGXZ8Hlh8eLFsNls6k9aWlrb\\\n",
       "vkkiIqIO0BZhVITIlIHdvU5E4X6+nVeXGQN44sQJnDhxwucx/fv3R0xMjMfz//73v5GWlobPPvsM\\\n",
       "o0ePxmOPPYa//vWv+Oqrr9RjTp8+jZ49e+Ljjz/22gXscDjgcDjUx3a7HWlpaaYeQ0BEROGtpW7c\\\n",
       "9hjb2N44BrALjQFMSkpCUlJSQOeKjCvC2+jRo7Fo0SJUVFSgT58+AIDS0lJYrVZkZmZ6vY7VaoXV\\\n",
       "ag2oDURERF2FNvS1NF6Qa/p1TV2mAuivL774Al988QWysrLQo0cP/PDDD3jsscdQUVGBvXv3wmq1\\\n",
       "oqmpCZdddhmSk5PxzDPP4NSpU5gxYwamTJnSqmVg+C8IIiIKR9qqnjbgdYbxi22B399daAygv2Jj\\\n",
       "Y/Hee+9h/PjxGDJkCO644w6kp6dj06ZNavUuIiIC69atQ0xMDMaMGYNp06ZhypQpePbZZ0PceiIi\\\n",
       "It86Yh9dbwtEd9T9qf2FXQWwI/FfEERE1NFCPeYu1PdvC/z+DsMKIBERUTgL9czaUN+f2gYrgEHg\\\n",
       "vyCIiCgchfsCzvz+ZgWQiIiI3HAB5/DHAEhEREQ67OYNf11mHUAiIiLqGIHuMUxdByuARERERCbD\\\n",
       "AEhERERkMgyARERERCbDAEhERERkMgyARERERCbDAEhERERkMgyARERERCbDAEhERERkMgyARERE\\\n",
       "RCbDAEhERERkMgyARERERCbDAEhERERkMgyARERERCYTGeoGdGWyLAMA7HZ7iFtCRERE/hLf2+J7\\\n",
       "3IwYAINQU1MDAEhLSwtxS4iIiKi1ampqYLPZQt2MkJBkM8ffILlcLpSXlyMhIQGSJIW6Oa1it9uR\\\n",
       "lpaGI0eOIDExMdTN6dT4WbUOPy//8bPyHz+r1uHn5Zssy6ipqUFqaiosFnOOhmMFMAgWiwX9+vUL\\\n",
       "dTOCkpiYyP84+ImfVevw8/IfPyv/8bNqHX5e3pm18ieYM/YSERERmRgDIBEREZHJMACalNVqRX5+\\\n",
       "PqxWa6ib0unxs2odfl7+42flP35WrcPPi1rCSSBEREREJsMKIBEREZHJMAASERERmQwDIBEREZHJ\\\n",
       "MAASERERmQwDoMkcPHgQM2fOxIABAxAbG4uBAwciPz8fTqdTd9zhw4dx4403Ij4+HklJSZg9e7bH\\\n",
       "MWawaNEiXH311YiLi0P37t0Nj+Fn1ezPf/4zBgwYgJiYGGRmZuKf//xnqJvUKWzevBk33ngjUlNT\\\n",
       "IUkS1q5dq3tdlmUUFBQgNTUVsbGxGDduHPbu3RuaxobQ4sWLccUVVyAhIQG9e/fGlClTsH//ft0x\\\n",
       "/KyavfTSS7j00kvVxZ5Hjx6NDz/8UH2dnxX5wgBoMt9++y1cLheWL1+OvXv34vnnn8fLL7+MRx55\\\n",
       "RD2mqakJkydPRm1tLbZs2YKSkhL87//+Lx588MEQtjw0nE4nbr75Ztxzzz2Gr/OzavY///M/mDNn\\\n",
       "DubPn4+ysjJcc801uOGGG3D48OFQNy3kamtrMXLkSBQVFRm+/vTTT2PJkiUoKirC9u3bkZKSggkT\\\n",
       "Jqj7jZvFpk2bkJubi61bt2Ljxo1obGxEdnY2amtr1WP4WTXr168fnnzySezYsQM7duzAddddh5tu\\\n",
       "ukkNefysyCeZTO/pp5+WBwwYoD5ev369bLFY5KNHj6rPrV69WrZarXJ1dXUomhhyb7zxhmyz2Tye\\\n",
       "52fV7Morr5Tvvvtu3XNDhw6V//jHP4aoRZ0TAPn9999XH7tcLjklJUV+8skn1efq6+tlm80mv/zy\\\n",
       "yyFoYedRVVUlA5A3bdokyzI/K3/06NFDfu211/hZUYtYASRUV1ejZ8+e6uPPP/8c6enpSE1NVZ+7\\\n",
       "/vrr4XA4sHPnzlA0sdPiZ6VwOp3YuXMnsrOzdc9nZ2fjs88+C1GruoYff/wRlZWVus/OarXiZz/7\\\n",
       "mek/u+rqagBQ//vEz8q7pqYmlJSUoLa2FqNHj+ZnRS1iADS5AwcOYNmyZbj77rvV5yorK5GcnKw7\\\n",
       "rkePHoiOjkZlZWVHN7FT42elOHHiBJqamjw+i+TkZFN9DoEQnw8/Oz1ZlvHAAw8gKysL6enpAPhZ\\\n",
       "Gdm9eze6desGq9WKu+++G++//z6GDx/Oz4paxAAYJgoKCiBJks+fHTt26M4pLy/HxIkTcfPNN2PW\\\n",
       "rFm61yRJ8riHLMuGz3c1gXxWvoTzZ9Va7u/ZrJ9DIPjZ6eXl5eHrr7/G6tWrPV7jZ9VsyJAh+PLL\\\n",
       "L7F161bcc889mD59Ovbt26e+zs+KvIkMdQOobeTl5SEnJ8fnMf3791f/Xl5ejmuvvRajR4/GK6+8\\\n",
       "ojsuJSUF27Zt0z13+vRpNDQ0ePxrsitq7WflS7h/Vv5KSkpCRESER2WhqqrKVJ9DIFJSUgAo1a0+\\\n",
       "ffqoz5v5s7v33nvxwQcfYPPmzejXr5/6PD8rT9HR0Rg0aBAA4Kc//Sm2b9+OpUuXYu7cuQD4WZF3\\\n",
       "rACGiaSkJAwdOtTnT0xMDADg6NGjGDduHC6//HK88cYbsFj0vwajR4/Gnj17UFFRoT5XWloKq9WK\\\n",
       "zMzMDn1f7aE1n1VLwv2z8ld0dDQyMzOxceNG3fMbN27E1VdfHaJWdQ0DBgxASkqK7rNzOp3YtGmT\\\n",
       "6T47WZaRl5eH9957Dx9//DEGDBige52fVctkWYbD4eBnRS0L2fQTComjR4/KgwYNkq+77jr53//+\\\n",
       "t1xRUaH+CI2NjXJ6ero8fvx4edeuXfLf//53uV+/fnJeXl4IWx4ahw4dksvKyuTCwkK5W7ducllZ\\\n",
       "mVxWVibX1NTIsszPSqukpESOioqSV6xYIe/bt0+eM2eOHB8fLx88eDDUTQu5mpoa9XcHgLxkyRK5\\\n",
       "rKxMPnTokCzLsvzkk0/KNptNfu+99+Tdu3fLt9xyi9ynTx/ZbreHuOUd65577pFtNpv8ySef6P7b\\\n",
       "dO7cOfUYflbN5s2bJ2/evFn+8ccf5a+//lp+5JFHZIvFIpeWlsqyzM+KfGMANJk33nhDBmD4o3Xo\\\n",
       "0CF58uTJcmxsrNyzZ085Ly9Prq+vD1GrQ2f69OmGn9U//vEP9Rh+Vs2Ki4vlCy+8UI6OjpYvv/xy\\\n",
       "dfkOs/vHP/5h+Hs0ffp0WZaV5U3y8/PllJQU2Wq1ymPHjpV3794d2kaHgLf/Nr3xxhvqMfysmt1x\\\n",
       "xx3q/9969eoljx8/Xg1/sszPinyTZFmWO7DgSEREREQhxjGARERERCbDAEhERERkMgyARERERCbD\\\n",
       "AEhERERkMgyARERERCbDAEhERERkMgyARERERCbDAEhERERkMgyARERERCbDAEhERERkMgyARERE\\\n",
       "RCbDAEhERERkMgyARERERCbDAEhERERkMgyARERERCbDAEhERERkMgyARERERCbDAEhERERkMgyA\\\n",
       "RERERCbDAEhERERkMgyARERERCbDAEhERERkMgyARERERCbDAEhERERkMgyARERERCbDAEhERERk\\\n",
       "MgyARERERCbDAEhERERkMgyARERERCbDAEhERERkMgyARERERCbz/wHBgggr1eFq6wAAAABJRU5E\\\n",
       "rkJggg==\\\n",
       "\"\n",
       "  frames[1] = \"data:image/png;base64,iVBORw0KGgoAAAANSUhEUgAAAoAAAAHgCAYAAAA10dzkAAAAOnRFWHRTb2Z0d2FyZQBNYXRwbG90\\\n",
       "bGliIHZlcnNpb24zLjEwLjYsIGh0dHBzOi8vbWF0cGxvdGxpYi5vcmcvq6yFwwAAAAlwSFlzAAAP\\\n",
       "YQAAD2EBqD+naQAANmZJREFUeJzt3Xt8lPWB7/HvJCGTEMgYNiEhEiUHKIVNtYKXBimiHlCkrDn7\\\n",
       "Ujf6WhqOQBETPGhbLbo1k93lIlptTxIRqwW73Zq6VdFXvRSqCEVFAVEJiZzVKqSEFBA6oREmkDzn\\\n",
       "j3EeZzKT+2Uy8/u8fc0rea7zy2OY55vf7XFYlmUJAAAAxoiLdAEAAAAwsAiAAAAAhiEAAgAAGIYA\\\n",
       "CAAAYBgCIAAAgGEIgAAAAIYhAAIAABiGAAgAAGAYAiAAAIBhCIAAAACGIQACAAAYhgAIAABgGAIg\\\n",
       "AACAYQiAAAAAhiEAAgAAGIYACAAAYBgCIAAAgGEIgAAAAIYhAAIAABiGAAgAAGAYAiAAAIBhCIAA\\\n",
       "AACGIQACAAAYhgAIAABgGAIgAACAYQiAAAAAhiEAAgAAGIYACAAAYBgCIAAAgGEIgAAAAIYhAAIA\\\n",
       "ABiGAAgAAGAYAiAAAIBhCIAAAACGIQACAAAYhgAIAABgGAIgAACAYQiAAAAAhiEAAgAAGIYACAAA\\\n",
       "YBgCIAAAgGEIgAAAAIYhAAIAABiGAAgAAGAYAiAAAIBhCIAAAACGIQACAAAYhgAIAABgGAIgAACA\\\n",
       "YQiAAAAAhiEAAgAAGIYACAAAYBgCIAAAgGEIgAAAAIYhAAIAABiGAAgAAGCYhEgXIJq1traqvr5e\\\n",
       "w4cPl8PhiHRxAABAF1iWpZMnTyo7O1txcWbWhREAe6G+vl45OTmRLgYAAOiBuro6jR49OtLFiAgC\\\n",
       "YC8MHz5cku8XKDU1NcKlAQAAXdHY2KicnBz7Pm4iAmAv+Jt9U1NTCYAAAEQZk7tvmdnwDQAAYDAC\\\n",
       "IAAAgGEIgAAAAIYhAAIAABiGAAgAAGAYAiAAAIBhCIAAAACGIQACAAAYhgAIAABgGAIg0E1ut1uV\\\n",
       "lZUd7lNZWSm32z0wBQIAoJt4FBzQDW63W2VlZfZycXFxyD6VlZUqKSkJOgYAgMGEGkCgi9qGv5KS\\\n",
       "kpCawLbhr6ysjAAIABh0CICAJO18Unokz/c1jLbhzy8wBLYNf36EQADAYOOwLMuKdCGiVWNjo1wu\\\n",
       "lzwej1JTUyNdHPTGI3mSp05y5Uh3Vgdtai/8BZo4caJqa2s73Ke0tJQgCACDAPdvagABn2l3+sLf\\\n",
       "tDtDNmVkZLR7WJ7yJMkOf/7lcDo6DwAAA4kACEjSJQt8NX+XLAjZVFxcrIqKipD1RSpSucpVqEJJ\\\n",
       "UqEKVa5yFakoZN+KioqwA0YAAIgEmoB7gSpkswT28ctTnspVbm/zyCOXXPbyUi1VtXxNyYQ/ABhc\\\n",
       "uH9TAwh0WfGlSar4xyxJUrWqtU7r7G2B4W+d1hH+AACDGgEQ6Krtj6j4G19oYqZTklSlKnnkCdrF\\\n",
       "I4+qVCXJNzCE8AcAGIwIgIgtnUzn0ivT7lTl3qGq/YtXkq/PX2DNn+SrCfT3Caytre30iSEAAEQC\\\n",
       "ARCxZfsjvulctj/S9WO6GBor3z2tkucaJPn6AC7WYntbYE3gYi22RwOHmywaAIBIIwAitnQwnYuk\\\n",
       "8GGvC6Gx7STP1arWBm2Q5OvzV6ACu0/gBm2w+wBKhEAAwODDKOBeYBRRFAo34fPOJ33hb9qdX00D\\\n",
       "E7Cu8t3TYZ/wIflqAgPDXtvlQAwIAYDBgfs3NYAwQWCtX0q6b53/q+QLfdPu9AU+f81gQK3g0aNH\\\n",
       "2z21P+xNnDgxaDmcjs4DAMBAIgAitu18Unr5h74w99L3pfo9vvWHP/R9/e0CqWyEtOlffPu8/EPf\\\n",
       "MTmXSY54Kecyud1ulZaWtvsWFRUVqqmpCTtZtB+PgQMADCYJkS4A0KfaNuduf0SyWr7cGNDbYdQF\\\n",
       "XzUHS9KZL3yBz2qRXvs3ydvo+77uHUmyw1vbZwIHNuv6v7ZtLib8AQAGG2oAEVvaDujwDwrJu0FK\\\n",
       "GCrJ4Vuu3/NV+PPzB8UWr+97R3zQYJK2NYHh+vS1fWwc4Q/AYOV2uzsdoFZZWclnWIyiBhCxxd+X\\\n",
       "zx/cLlnw1cCO1WOks1+EBr+2zpzyfU1whmzyfxBmZGS0O6DDv/7o0aN8cAIYlNxud1CLRrjPs7az\\\n",
       "H/B5FlsYBdwLjCIaxNo2BT8+46v+f90xZKgU75Qckq768VdhEgCiVNvwJ4W2aLQNf1JstWhw/6YJ\\\n",
       "GLGqbVNwT8Kf5OsbePqEdOpE9yaXBoBBKFz4k4LnKw0X/iRfH+hYCYAgACJWtZ0QOm5IL07mkJLT\\\n",
       "2p9cGgCiQHvhz6+kpESTJk1qd95TiRAYS+gDiNgU2Pdv55NS4jBfTV5PZH9T+t4bfVUyAIiIjIyM\\\n",
       "drf5J7Gvra0NWu7ueRA9qAFE7Nv+iC/8JaXJ15mvm/xzBgJAFGs7S4FfkYpUrnIVqlCSVKhClatc\\\n",
       "RSoK2ZcnGsUOAiCiU7hn+rbHP6nzuKulpHO6/h5DhvqO+/v/9dX7/XZB198XAAaZtiEwT3mar/mS\\\n",
       "pMVarI3aqMVaLEmar/nKU569L+EvthAAEZ3aDvLoSN07X03qPO5qX6jLvsjXR3DI0PDHOOKlWf8u\\\n",
       "lR6Xbnjyq/fb93zX3xcABqHAEFitaq3TOnubSy77+3VaZzcDE/5iDwEQ0antII+OBDzWzQ6DTcek\\\n",
       "O6ulCdcFB8K8G3xfr3sweMoX//v9/f/q+vsCwCBVXFxsP8O8SlXyyBO03SOPqlQlyfesc8Jf7InZ\\\n",
       "ALh27VpdcMEFSk1NVWpqqvLz8/XKK6/Y2y3LktvtVnZ2tpKTkzVjxgzt27cvgiVGt1yywBfgujIv\\\n",
       "X2ANoD/I5Vzma8r95LXgQHjDk76vUnBTr//9/NuZDxBAFKusrLQHfBSqMKjmT/LVBPr7BNbW1nb6\\\n",
       "xBBEn5gNgKNHj9bq1au1a9cu7dq1S1dddZWuv/56O+StWbNGDz/8sCoqKrRz505lZWVp5syZOnny\\\n",
       "ZIRLjj4XWFvoD3J17/iaci2Fr9HrThMzAAwCv9pxQJevfl2/2nGgw/0C5/nLU57d509SUE3gYi22\\\n",
       "+wAGzhOIGGEZJC0tzXriiSes1tZWKysry1q9erW97fTp05bL5bIee+yxLp/P4/FYkiyPx9MfxUV/\\\n",
       "evcJy3r4731fe7IdAAaZqates86/53fW1FWvtbtPRUWFJd+fvvarSEXWFm2xClVoSbIKVWht0Rar\\\n",
       "SEUh+1ZUVAzgT9R/uH9blhGPgmtpadF//dd/qaioSHv27FFSUpLGjh2r9957TxdddJG93/XXX69z\\\n",
       "zjlHTz31VNjzeL1eeb1ee7mxsVE5OTlGP0oGADDwfrXjgNa+8YmWzBirf/7W+e2uC9TeEz6k0Hn/\\\n",
       "OpoHsLMBIZ2VYzDgUXAx3AQsSXv37tWwYcPkdDp122236fnnn9ekSZPU0NAgScrMzAzaPzMz094W\\\n",
       "zqpVq+RyuexXTk5Ov5Yf/aw7U8kAwCDgb+Z96Pf7deivp7T2jU/sbf/8rfP15o+u0rufHlfuj17S\\\n",
       "xB+/GtQcfPTo0XbP6w97/oEh7YW/zs4jSWvf+CSkbBh8YjoATpgwQe+//7527NihJUuWqKioSDU1\\\n",
       "NfZ2hyN4UmDLskLWBVq+fLk8Ho/9qqur67eyYwDQzw9AlPGHK0k695xkLZkx1t72qx0H9M2yTXrx\\\n",
       "g3pZkk6dadGPN1bbIdDtdqu0tLTdc1dUVKimpibsZNF+paWlnT4KbsmMsSFlw+AT04+CS0xM1Lhx\\\n",
       "4yRJF198sXbu3Kmf/exnuueeeyRJDQ0NGjVqlL3/kSNHQmoFAzmdTjmdzv4tNPrWzi/n8PMPAAk0\\\n",
       "7c6vtgFAFJhyfprq/3pK3rMt+sE1E/TP3zpfl69+TYf+ejrs/pakFS/V6KHf75ck/eDa/61SKeSZ\\\n",
       "wIHNuv6vbZuLuxL+JF9N5GBt+sVXYroGsC3LsuT1epWbm6usrCxt3rzZ3tbc3KytW7dq6tSpESwh\\\n",
       "uqyrzbcd1fJ1ZyoZAIiQwNG9uw+c+LJ2r1X/srFaY370Urvhz+/UmVb99dQZ/fXUGT30+/0hNYEV\\\n",
       "FRVyTflO0Ajitk8M6Wr4Q/SI2RrAe++9V7Nnz1ZOTo5OnjypqqoqvfHGG3r11VflcDi0bNkyrVy5\\\n",
       "UuPHj9f48eO1cuVKDR06VLfcckuki46uCAx2HQU4avkARLnAPnVLZozVv2xsv39eZ7xnW3X56te1\\\n",
       "5MuawIyMDBUXF+vy1a/b7+GvvfPXBB49epTwF4NiNgD+5S9/0bx583T48GG5XC5dcMEFevXVVzVz\\\n",
       "5kxJ0t13361Tp07p9ttv14kTJ3TZZZdp06ZNGj58eIRLji7parC7ZAE1fACiSttRtEtmjA1aXvFS\\\n",
       "jU6dae3h2S076L0ZEOoC3yMQTwCJXUZMA9NfGEYOAOhr/tq4c89J1ps/uipk+8Qfv9LjADgkzqEz\\\n",
       "rZYuONelF5dO621Roxb3b8P6AAIAMNh1NorWmRDfo/P6w58k7av3dLI3Yl3MNgEDABCN2htF+6sd\\\n",
       "B/TQ7/fLe7ZFcQ6ptZP2O/+kZklD4nXfnIlBU8jMuSC7j0uNaEMABAAgCqx94xP99dQZSV/NAeif\\\n",
       "3mX61zK0+8AJTTk/Tdv+n2+iZv80MW3PMZif0IGBQx/AXqAPAQBgoPhrAKXw4Q5dx/2bANgr/AIB\\\n",
       "ABB9uH8zCAQAAMA4BEAAAADDEAABAAAMQwAEAAAwDAEQAADAMARAAAAAwxAAAQAADEMABAAAMAwB\\\n",
       "EAAAwDAEQAAAAMMQAAEAAAxDAAQAADAMARAAAMAwBEAAAADDEAABAAAMQwAEAAAwDAEQAADAMARA\\\n",
       "AAAAwxAAAQAADEMABAAAMAwB0GBut1uVlZUd7lNZWSm32z0wBQIAAAMiIdIFQGS43W6VlZXZy8XF\\\n",
       "xSH7VFZWqqSkRJJ0qrpaC4+fUPr3FimtsHDAygkAAPoeNYAGahv+SkpKQmoCA8OfJK159ln99MMP\\\n",
       "dOzxnw9YOQEAQP+gBtAwbcOfX0lJib7YvVsFnx3QxjHn6+7160P2efTzzzVsRJoeGIiCAgCAfuOw\\\n",
       "LMuKdCGiVWNjo1wulzwej1JTUyNdnE61F/4C/Y/ERP2pubnDfUpLS+kXCACIWtF2/+4PNAEbJCMj\\\n",
       "o91tecqTJDv8+Ze7ex4AADD4EQANUlxcrIqKipD1RSpSucpVKN/gjkIVqlzlKlJRyL4VFRVhB4wA\\\n",
       "AIDoQRNwL0RrFXLgAI885alc5fY2jzxyyWUvL9VSVataEuEPABAbovX+3ZeoATRQYE1gtaq1Tuvs\\\n",
       "bYHhb53WEf4AAIhB1AD2QrT/BTFp0iTV1tZKkjZqY1D488ijAhVIkiZOnKiamppIFBEAgD4X7ffv\\\n",
       "vkANoKEqKyvt8FeowqDwJ/lqAv19Amtrazt9YggAAIgeBEBDnKiq0n9fdbVOVFWF9AFcrMX2fh55\\\n",
       "7O8Xa7E9GjjcZNEAACA6EQANcezxn+tsfb1+en9p0BM+qlWtDdogydfnr0AFdp/ADdpg9wGUCIEA\\\n",
       "AMQKngQSg05UVenIIz+VJI28c5kkqbWpSU+fPqV/O3AgZP+n9JR2a7cd9qpUpeov/2vLHx4ZEAIA\\\n",
       "QPQiAEaRE1VVOvb4z5X+vUWSFPR9YOA78shP1erxNeX+5YE1spqbpZYWnXA42j23P+xNnDhRtbW1\\\n",
       "YcOf39GjR/vixwEAABHCKOBeGOhRRP991dU6W1+vhOxsSdLZ+nrFuVxqbWyUOvvf6HAoLjVVv8gZ\\\n",
       "rTXPPht2F/9UL4F9BNviMXAAgGjHKGD6AEaV9O8t8gW+piYljBghSb6avq5k+Ph4tXo8urXuzyot\\\n",
       "LQ3ZHDjPX3tPDCH8AQAQGwiAUSStsFBxKSlq9Xh0urr9Jtqwzp61v3W73UEhMNwkz21DIOEPAIDY\\\n",
       "EbMBcNWqVbrkkks0fPhwjRw5UgUFBdq/f3/QPpZlye12Kzs7W8nJyZoxY4b27dsXoRIHC5y2JVD6\\\n",
       "9xZJ8fE9Omecy2UPCvGHwI6e8OEPgYQ/AABiS8z2Abz22mtVWFioSy65RGfPntV9992nvXv3qqam\\\n",
       "RikpKZKkBx54QCtWrNCGDRv0ta99Tf/+7/+ubdu2af/+/Ro+fHin79GffQgC+/uNf/21oJG9w6ZN\\\n",
       "U+Pvfx9Uq9dVqXPm6NyfPNSnZQUAIJrQBzCGA2BbR48e1ciRI7V161ZNnz5dlmUpOztby5Yt0z33\\\n",
       "3CNJ8nq9yszM1AMPPKDFixd3csb+/QUKHPGbVlhoB0JJkn80b0/+1zkcmljLY90AAOYiAMZwE3Bb\\\n",
       "ni+nRRnx5eCJTz/9VA0NDZo1a5a9j9Pp1BVXXKG33nor7Dm8Xq8aGxuDXv0lrbBQ419/TWmFvsex\\\n",
       "pX9vUXDw62FudzidfVVEAAAQpYwIgJZl6a677tK0adOUl+d7tFlDQ4MkKTMzM2jfzMxMe1tbq1at\\\n",
       "ksvlsl85OTn9W/AAaYWFyiq9/6sQKElx7fzvS0iQIykpZHWcy6XMH93TTyUEAADRwogAWFJSog8/\\\n",
       "/FBPP/10yDZHm8mRLcsKWee3fPlyeTwe+1VXV9cv5W1PWmGhUq+7TnI45EhOVlw7/RQTRo4MCXpZ\\\n",
       "7lJNeGeHXaMIAADMFfMBcOnSpXrxxRe1ZcsWjR492l6flZUlSSG1fUeOHAmpFfRzOp1KTU0Neg20\\\n",
       "L/bskSxL8WlpGnnnMsW5XIpzuZQ6Z479vb/fYOqcOVJ8vFLnzCH4AQAAW8w+Cs6yLC1dulTPP/+8\\\n",
       "3njjDeXm5gZtz83NVVZWljZv3qyLLrpIktTc3KytW7fqgQceiESRuyT9e4uCBod0FOzO/clDjPgF\\\n",
       "AAAhYjYAFhcX69e//rVeeOEFDR8+3K7pc7lcSk5OlsPh0LJly7Ry5UqNHz9e48eP18qVKzV06FDd\\\n",
       "csstES59+zoLfQAAAJ2J2QC4du1aSdKMGTOC1q9fv17z58+XJN199906deqUbr/9dp04cUKXXXaZ\\\n",
       "Nm3a1KU5AAEAAKKVMfMA9gfmEQIAIPpw/zZgEAgAAACCEQABAAAMQwAEAAAwDAEQAADAMARAAAAA\\\n",
       "wxAAAQAADEMABAAAMAwBEAAAwDAEQAAAAMMQAAEAAAxDAAQAADAMARAAAMAwBEAAAADDEAABAAAM\\\n",
       "QwAEAAAwDAEQAADAMARAAAAAwxAAAQAADEMABAAAMAwBEAAAwDAEQAAAAMMQAAEAAAxDAAQAADAM\\\n",
       "ARAAAMAwBEAAAADDEAABAAAMQwAEAAAwDAEQAADAMARAAAAAwxAAAQAADEMABAAAMAwBEAAAwDAE\\\n",
       "QAAAAMMQAAEAAAxDAAQAADAMARAAAMAwBEAAAADDEAABAAAMQwAEAAAwDAEQAADAMARAAAAAwxAA\\\n",
       "AQAADEMABAAAMEzMBsBt27Zp7ty5ys7OlsPh0MaNG4O2W5Ylt9ut7OxsJScna8aMGdq3b19kCgsA\\\n",
       "ADCAYjYANjU16cILL1RFRUXY7WvWrNHDDz+siooK7dy5U1lZWZo5c6ZOnjw5wCVFpD2z/xnN+u0s\\\n",
       "PbP/mR4d73a7VVlZ2eE+lZWVcrvdPTo/AAB9LSHSBegvs2fP1uzZs8NusyxLP/3pT3XffffpH//x\\\n",
       "HyVJTz31lDIzM/XrX/9aixcvHsiiIsKe2PuEDjcd1hN7n9BNE27q1rFut1tlZWX2cnFxccg+lZWV\\\n",
       "KikpCToGAIBIitkawI58+umnamho0KxZs+x1TqdTV1xxhd566612j/N6vWpsbAx6Ifot/MZCjUoZ\\\n",
       "pYXfWNit49qGv5KSkpCawLbhr6ysjAAIAF+iBSVyYrYGsCMNDQ2SpMzMzKD1mZmZOnDgQLvHrVq1\\\n",
       "KuiGj9hw04Sbel3z5+cPe8XFxSHhz89/HB9oAExGC0pkGVkD6OdwOIKWLcsKWRdo+fLl8ng89quu\\\n",
       "rq6/i4hBqL3w51dSUqJJkyaFDX9+1AQCMBktKJFnZADMysqS9FVNoN+RI0dCagUDOZ1OpaamBr1g\\\n",
       "noyMjHa35SlPklRbWxu03N3zAECs6qgFxR8CO2pBIQT2DSMDYG5urrKysrR582Z7XXNzs7Zu3aqp\\\n",
       "U6dGsGSIBsXFxWFHlxepSOUqV6EKJUmFKlS5ylWkopB9KyoqwjZ3AEAsowVl8IjZPoB/+9vf9PHH\\\n",
       "H9vLn376qd5//32NGDFC5513npYtW6aVK1dq/PjxGj9+vFauXKmhQ4fqlltuiWCpES384c3/IZWn\\\n",
       "PM3XfEnSYi1WoQrlkkuSNF/ztVu7Va1qSYQ/AObqrAWlWtVBLSj+z83unAddZMWoLVu2WJJCXkVF\\\n",
       "RZZlWVZra6tVWlpqZWVlWU6n05o+fbq1d+/ebr2Hx+OxJFkej6cffgJEg4qKCvt3q1CF1hZtCXkV\\\n",
       "qtDep6KiItJFBoCICvzctO/NKgr6vPR/nhapKGTfvvgc5f5tWQ7LsqyBjZyxo7GxUS6XSx6Ph/6A\\\n",
       "Bps0aZL9F+tGbbRr/iTJI48KVCBJmjhxompqaiJRRAAYVAL7+OUpT+Uqt7d55An6HF2qpX3egsL9\\\n",
       "29A+gEBfqaystMNfYLOvn0suu09gbW1tp/NdAYAJAvtSV6ta67TO3hb4ObpO6+g+008IgMCXuvtI\\\n",
       "uLZ/wS7WV0+Q8chjf79Yi+3RwOGmOgCAaPbB5pdVeevNqlxQqA82v9zl44qLizVx4kRJUpWqgj43\\\n",
       "Jd/naJWqJPlaUAh/fYsACHwp8JFwnWk7RUG1qrVBGyT5/mItUIH9F+0GbQjqyEwIBBALPtj8sn5e\\\n",
       "fKu2P/0fOt10Uqf/9je9u/G3XT6eFpTIitlRwEB3LfzGQj2x94lOHwnX3vxUT+mpoNG+VapS9Zf/\\\n",
       "tRX4xBAAiEbvbvytGo8dUdKwYUpKGS45LF1acEOXju2sBcUfBhdrsf05yudm3yIAAvI1//rD33P/\\\n",
       "/Zz+bce/KcGRoFljZmnPkT26aORF2nNkjxZ+Y6GOHj3a7nn8YS/l3BQ1HWpqdwoDSR2eBwAGu0sL\\\n",
       "btD2ql9KlkPTbp4nyRcK/1xbrfr9H+nSght04czrQo5rrwVlvuZrndapSlUqVKEWa3HYFhSJENgX\\\n",
       "GAXcC4wiih3Tnp4mT7NHDjlkqf1/EnGOON132X2qebqm3clM/R2V26splKTS0lImMgUwqH2w+WW9\\\n",
       "u/G37QY5Sfp58a1qPHZEqekjJUmNx47IERcnq7VVqekjtajyF0H7d/S52Hbev47mAeztgBDu3/QB\\\n",
       "BPTM/mfkafZ1PrZkKc7R/j+LVqtVT+x9Qm63W6WlpSHbAz+U2ntiCOEPwGDl79fnD3+Nx44E9esL\\\n",
       "3C75agFT00fq0oIbdGnBDUpKGS5HXJzkcCh7wtdDzt+VFhT/wBBaUPoXARDG8o/6XbFjRdD6Vqs1\\\n",
       "ZN/UxFRdl3udRqWMsvsItg2B4f4ibRsCCX8ABrPA0BcY7iRf+HvtF4+p8dgR/eGJR/XILQX6wxOP\\\n",
       "2q0m/qDYevasZFmq3/9R0Lk/2PyyMuo+0uxv/n27719RUaGampqwfzz78TnaN2gC7gWqkKNLYD+/\\\n",
       "mybcpMn/MVlnWs906djUxFS9efObYbe53W5lZGR02BxRWVmpo0eP8qEFYFAL1+zrX9d86pRON50M\\\n",
       "f6DDIX0ZJxKcTiUkJGrazfOCmo79zcWS9MafDul3u94POkXbP6LDNRf3Vfjj/k0A7BV+gaLHM/uf\\\n",
       "0Yp3VqjVapUr0SVvi1enW053+XhXokvbb94eEiIBIBYFBkF/rWBcQoKvdq8TSSnDVfyLp/XB5pe1\\\n",
       "/en/kByWphV+V5KCBo08/+a7dl/q9vr0BYbAvqz54/5NAOwVfoGix6zfztLhpsM9Pv663Ov0wPQH\\\n",
       "7POMShmlTTds6sMSAsDg4a+tc8TFaUL+NH286x2d9Xq7fLx/IIhfuAEhUuRaULh/EwB7hV+g6OGv\\\n",
       "uWtoauhwlG97XIkuDR0yNGg6GGoAAcQqf38/q7U1qHlXkuLiE9Ta2hK0rjP/c+Ht7Y4kjgTu3wwC\\\n",
       "gSFumnCTNt2wSbNzZ/foeG+LV4ebDuvNQ2/aNX/deWwcAESTC2dep6tvvS0k/H398ukaljaiW+EP\\\n",
       "gxMBEEZ5YPoDui63+3+FJsYnSpJde9idx8YBQLQInOblwpnXKSEx0d72Pxferjl33N3lp30Eeu0X\\\n",
       "j+ml/7smaAoZRBYBEMbwT/syJXOK9hbt1Y+/9WONShmlBEfoA3GS4pMU9+U/j1Epo/R/Jv8f+6vk\\\n",
       "e2xc4JQwABAL2s79l5DwZQB0OOx9Lpx5nTL/x7hunddqbdX+t7eHzCuIyCEAwhhta+38zcLLL1uu\\\n",
       "USmj9ONv/dgOhT+85IfKTMm0j/XvS78/ALGs7dx/026e55vY2bKCgts/r/qp/fSPziQ4nUpNH6kJ\\\n",
       "+dOUNGyYmk+dohZwECAAwhjt1dr5w52koCleOqrlowkYQCy6cOZ1WlT5C3vAhr8vYGAo9OtqU/CM\\\n",
       "eQu0qPIXmnPH3UpMGqrTTSepBRwEGAXcC4wiii3dmeKF+QABQHrp/67R/re3yxEXZ88RGJeQoK9d\\\n",
       "NlX7396uCfnTNOeOu+39u/J84YHA/ZsA2Cv8Ag1+3QlqhDoA6JkPNr8cNMlzYLgbLKEvEPdvAmCv\\\n",
       "8As0+DFxMwBEln9S6fYmg44E7t/0AUSMY7QuAERW24ElGByoAewF/oIAACD6cP+mBhAAAMA4BEAA\\\n",
       "AKJA4FM6gN4iAAIAEAXaPqUD6A0CIAAAUYDBFOhLDALpBTqRAgAQfbh/UwMIAABgHAIgAACAYQiA\\\n",
       "AAAAhiEAAgAAGIYACAAAYBgCIAAAgGEIgAAAAIYhAAIAABiGAAgAAGAYAiAAAIBhCIAAAACGIQAC\\\n",
       "AAAYhgAIAABgGAIgAACAYQiAAAAAhiEAAgAAGMb4APjoo48qNzdXSUlJmjJliv74xz9GukgAAAD9\\\n",
       "yugA+Jvf/EbLli3Tfffdpz179ujb3/62Zs+erYMHD0a6aAAAAP3GYVmWFelCRMpll12myZMna+3a\\\n",
       "tfa6iRMnqqCgQKtWrer0+MbGRrlcLnk8HqWmpvZnUQEAQB/h/m1wDWBzc7N2796tWbNmBa2fNWuW\\\n",
       "3nrrrQiVCgAAoP8lRLoAkXLs2DG1tLQoMzMzaH1mZqYaGhrCHuP1euX1eu3lxsbGfi0jAABAfzC2\\\n",
       "BtDP4XAELVuWFbLOb9WqVXK5XPYrJydnIIoIAADQp4wNgOnp6YqPjw+p7Tty5EhIraDf8uXL5fF4\\\n",
       "7FddXd1AFBUAAKBPGRsAExMTNWXKFG3evDlo/ebNmzV16tSwxzidTqWmpga9AAAAoo2xfQAl6a67\\\n",
       "7tK8efN08cUXKz8/X48//rgOHjyo2267LdJFAwAA6DdGB8B/+qd/0ueff65//dd/1eHDh5WXl6eX\\\n",
       "X35Z559/fqSLBgAA0G+Mngewt5hHCACA6MP92+A+gAAAAKYiAAIAABiGAAgAAGAYAiAAAIBhCIAA\\\n",
       "AACGIQACAAAYhgAIAABgGAIgAACAYQiAAAAAhiEAAgAAGIYACAAAYBgCIAAAgGEIgAAAAIYhAAIA\\\n",
       "ABiGAAgAAGAYAiAAAIBhCIAAAACGIQACAAAYhgAIAABgGAIgAACAYQiAAAAAhiEAAgAAGIYACAAA\\\n",
       "YBgCIAAAgGEIgAAAAIYhAAIAABiGAAgAAGAYAiAAAIBhCIAAAACGIQACAAAYhgAIAABgGAIgAACA\\\n",
       "YQiAAAAAhiEAAgAAGIYACAAAYBgCIAAAgGEIgAAAAIYhAAIAABiGAAgAAGAYAiAAAIBhCIAAAACG\\\n",
       "IQACAAAYhgAIAABgmJgMgCtWrNDUqVM1dOhQnXPOOWH3OXjwoObOnauUlBSlp6frjjvuUHNz88AW\\\n",
       "FAAAIAISIl2A/tDc3Kwbb7xR+fn5evLJJ0O2t7S0aM6cOcrIyND27dv1+eefq6ioSJZlqby8PAIl\\\n",
       "BgAAGDgxGQDLysokSRs2bAi7fdOmTaqpqVFdXZ2ys7MlST/5yU80f/58rVixQqmpqQNVVAAAgAEX\\\n",
       "k03AnXn77beVl5dnhz9Juuaaa+T1erV79+4IlgwAAKD/xWQNYGcaGhqUmZkZtC4tLU2JiYlqaGho\\\n",
       "9ziv1yuv12svNzY29lsZAQAA+kvU1AC63W45HI4OX7t27ery+RwOR8g6y7LCrvdbtWqVXC6X/crJ\\\n",
       "yenRzwIAABBJUVMDWFJSosLCwg73GTNmTJfOlZWVpXfeeSdo3YkTJ3TmzJmQmsFAy5cv11133WUv\\\n",
       "NzY2EgIBAEDUiZoAmJ6ervT09D45V35+vlasWKHDhw9r1KhRknwDQ5xOp6ZMmdLucU6nU06ns0/K\\\n",
       "AAAAEClREwC74+DBgzp+/LgOHjyolpYWvf/++5KkcePGadiwYZo1a5YmTZqkefPm6cEHH9Tx48f1\\\n",
       "gx/8QIsWLWIEMAAAiHkxGQDvv/9+PfXUU/byRRddJEnasmWLZsyYofj4eL300ku6/fbbdfnllys5\\\n",
       "OVm33HKLHnrooUgVGQAAYMA4LMuyIl2IaNXY2CiXyyWPx0PNIQAAUYL7dxSNAgYAAEDfIAACAAAY\\\n",
       "hgAIAABgGAIgAACAYQiAAAAAhiEAAgAAGIYACAAAYBgCIAAAgGEIgAAAAIYhAAIAABiGAAgAAGAY\\\n",
       "AiAAAIBhCIAAAACGIQACAAAYhgAIAABgGAIgAACAYQiAAAAAhiEAAgAAGIYACAAAYBgCIAAAgGEI\\\n",
       "gAAAAIYhAAIAABiGAAgAAGAYAiAAAIBhCIAAAACGIQACAAAYhgAIAABgGAIgAACAYQiAAAAAhiEA\\\n",
       "AgAAGIYACAAAYBgCIAAAgGEIgAAAAIYhAAIAABiGAAgAAGAYAiAAAIBhCIAAAACGIQACAAAYhgAI\\\n",
       "AABgGAIgAACAYQiAAAAAhiEAAgAAGIYACAAAYJiYC4CfffaZFixYoNzcXCUnJ2vs2LEqLS1Vc3Nz\\\n",
       "0H4HDx7U3LlzlZKSovT0dN1xxx0h+wAAAMSihEgXoK999NFHam1t1bp16zRu3DhVV1dr0aJFampq\\\n",
       "0kMPPSRJamlp0Zw5c5SRkaHt27fr888/V1FRkSzLUnl5eYR/AgAAgP7lsCzLinQh+tuDDz6otWvX\\\n",
       "6k9/+pMk6ZVXXtF3vvMd1dXVKTs7W5JUVVWl+fPn68iRI0pNTe3SeRsbG+VyueTxeLp8DAAAiCzu\\\n",
       "3zHYBByOx+PRiBEj7OW3335beXl5dviTpGuuuUZer1e7d++ORBEBAAAGTMw1Abf1ySefqLy8XD/5\\\n",
       "yU/sdQ0NDcrMzAzaLy0tTYmJiWpoaGj3XF6vV16v115ubGzs+wIDAAD0s6ipAXS73XI4HB2+du3a\\\n",
       "FXRMfX29rr32Wt14441auHBh0DaHwxHyHpZlhV3vt2rVKrlcLvuVk5PTNz8cAADAAIqaGsCSkhIV\\\n",
       "FhZ2uM+YMWPs7+vr63XllVcqPz9fjz/+eNB+WVlZeuedd4LWnThxQmfOnAmpGQy0fPly3XXXXfZy\\\n",
       "Y2MjIRAAAESdqAmA6enpSk9P79K+hw4d0pVXXqkpU6Zo/fr1iosLrujMz8/XihUrdPjwYY0aNUqS\\\n",
       "tGnTJjmdTk2ZMqXd8zqdTjmdzp7/EAAAAINAzI0Crq+v1xVXXKHzzjtPv/zlLxUfH29vy8rKkuSb\\\n",
       "Buab3/ymMjMz9eCDD+r48eOaP3++CgoKujUNDKOIAACIPty/o6gGsKs2bdqkjz/+WB9//LFGjx4d\\\n",
       "tM2fdePj4/XSSy/p9ttv1+WXX67k5GTdcsst9jyBAAAAsSzmagAHEn9BAAAQfbh/R9EoYAAAAPQN\\\n",
       "AiAAAIBhCIAAAACGIQACAAAYhgAIAAAizu12q7KyssN9Kisr5Xa7B6ZAMS7mpoEBAADRxe12q6ys\\\n",
       "zF4uLi4O2aeyslIlJSVBx6DnqAEEAAAR0zb8lZSUhNQEtg1/ZWVlBMBeIgACAICIaBv+/AJDYNvw\\\n",
       "50cI7B0mgu4FJpIEAKBn2gt/gSZOnKja2toO9yktLe12EOT+TQ0gAACIgIyMjHa35SlPkuzw51/u\\\n",
       "7nnQPgIgAAAYcMXFxaqoqAhZX6QilatchSqUJBWqUOUqV5GKQvatqKgIO2AEnaMJuBeoQgYAoHcC\\\n",
       "+/jlKU/lKre3eeSRSy57eamWqlrVknoX/rh/UwMIAAAiKLAmsFrVWqd19rbA8LdO6/ok/MGHGsBe\\\n",
       "4C8IAAD6xqRJk+w+fxu1MSj8eeRRgQok+QaG1NTU9Oq9uH9TAwgAACKssrLSDn+FKgwKf5KvJtDf\\\n",
       "J7C2trbTJ4agcwRAAAAQMW37AC7WYnubRx77+8VabI8GDjdZNLqHAAgAACKi7STP1arWBm2Q5Ovz\\\n",
       "V6ACu0/gBm2w+wBKhMDeog9gL9CHAACAnmnvCR+SryYwMOy1XQ7UkwEh3L+pAQQAAF1Qve2Qfnnv\\\n",
       "m6redqhPznf06NH23+vLsDdx4sSg5e6eB+0jAAIAgE699+pnOnncq/de/Sxkmz8cbnpyX5dDotvt\\\n",
       "VmlpabvbKyoqVFNTE3ayaL+ePAYOPgmRLgAAABj8Jl87Ru+9+pmyxp6jX977piZfO0Z5089V9bZD\\\n",
       "2la1X1ardPL4XyRJOzZ+IskXGidfOybo+7zp59rn9Ie3ts8EDmzW9X9t21xM+Osd+gD2An0IAACx\\\n",
       "qnrbobABzl8T6IiT0nOG6+iBk2GPj4t3qLUlOGIMH+HUd1deHrKv2+22Q2B7ffoC+wz2Nvxx/yYA\\\n",
       "9gq/QACAWPXLe9/UyeNeDR/hlCT7+8nXjtHWp/dLPUgPw0Y45ZBCagIlXwjMyMjocEBHZWWljh49\\\n",
       "2uuaP+7fBMBe4RcIABCr2qsBlNTjAOjnHJqghQ9P730he4j7N30AAQBAGHnTzw2ppXvv1c/UfLql\\\n",
       "V+EPgwOjgAEAQKf8ff8kydGL9JCQGKdvFYwNWd/X08ygYwRAAADQqcnXjtHwEU59q2Csxk3J7PF5\\\n",
       "zp5pDalZ9I8kbm+aGfQ9moABAECn/E3C1dsO6ePdf+nxeRKGhNY9vffqZ7JafTWL/n6G6F/UAAIA\\\n",
       "gC4JnPPPEeeb6sUvITEu6Gsg59AEyeHbdvkN40O2+2sXpxdOCKkdRP+gBhAAAHRJYE3d9MIJkmQH\\\n",
       "wviEOCUPGxI0QfTWX++XJHm/OCtJSh42xN4WODF0uAEn6F8EQAAA0CX+iaDbzuMXbl3e9HNV/99/\\\n",
       "1ce7/6L0nOE6fbJZk68dE1SL+N6rnxH8IoR5AHuBeYQAAOgaf61f8+kWeb84a9ciRiIAcv+mBhAA\\\n",
       "AAwA/zQyzqEJ9hNFqP2LHAIgAADod+01HyMyCIAAAKDfMdBjcGEaGAAAAMMQAAEAAAxDAAQAADAM\\\n",
       "ARAAAMAwBEAAAADDEAABAAAMQwAEAAAwDAEQAADAMDEZAP/hH/5B5513npKSkjRq1CjNmzdP9fX1\\\n",
       "QfscPHhQc+fOVUpKitLT03XHHXeoubk5QiUGAAAYODEZAK+88ko988wz2r9/v5599ll98sknuuGG\\\n",
       "G+ztLS0tmjNnjpqamrR9+3ZVVVXp2Wef1fe///0IlhoAAGBgOCzLsiJdiP724osvqqCgQF6vV0OG\\\n",
       "DNErr7yi73znO6qrq1N2drYkqaqqSvPnz9eRI0eUmprapfM2NjbK5XLJ4/F0+RgAABBZ3L9jtAYw\\\n",
       "0PHjx/Wf//mfmjp1qoYMGSJJevvtt5WXl2eHP0m65ppr5PV6tXv37kgVFQAAYEDEbAC85557lJKS\\\n",
       "or/7u7/TwYMH9cILL9jbGhoalJmZGbR/WlqaEhMT1dDQ0O45vV6vGhsbg14AAADRJiHSBegqt9ut\\\n",
       "srKyDvfZuXOnLr74YknSD3/4Qy1YsEAHDhxQWVmZvvvd7+p3v/udHA6HJNlfA1mWFXa936pVq8KW\\\n",
       "gSAIAED08N+3DegF166o6QN47NgxHTt2rMN9xowZo6SkpJD1f/7zn5WTk6O33npL+fn5uv/++/XC\\\n",
       "Cy/ogw8+sPc5ceKERowYoddff11XXnll2PN7vV55vV57+dChQ5o0aVIPfyIAABBJdXV1Gj16dKSL\\\n",
       "ERFRUwOYnp6u9PT0Hh3rz7j+8Jafn68VK1bo8OHDGjVqlCRp06ZNcjqdmjJlSrvncTqdcjqd9vKw\\\n",
       "YcNUV1en4cOHh605bGxsVE5Ojurq6oztZNqfuL79i+vbv7i+/Yvr27+i/fpalqWTJ08GjQUwTdQE\\\n",
       "wK5699139e6772ratGlKS0vTn/70J91///0aO3as8vPzJUmzZs3SpEmTNG/ePD344IM6fvy4fvCD\\\n",
       "H2jRokXd+kWOi4vr0l8OqampUfkPJFpwffsX17d/cX37F9e3f0Xz9XW5XJEuQkTF3CCQ5ORkPffc\\\n",
       "c7r66qs1YcIE3XrrrcrLy9PWrVvt2rv4+Hi99NJLSkpK0uWXX66bbrpJBQUFeuihhyJcegAAgP4X\\\n",
       "czWA3/jGN/T66693ut95552n3/3udwNQIgAAgMEl5moABxOn06nS0tKgfoPoO1zf/sX17V9c3/7F\\\n",
       "9e1fXN/oFzWjgAEAANA3qAEEAAAwDAEQAADAMARAAAAAwxAAAQAADEMA7AefffaZFixYoNzcXCUn\\\n",
       "J2vs2LEqLS1Vc3Nz0H4HDx7U3LlzlZKSovT0dN1xxx0h+yC8FStWaOrUqRo6dKjOOeecsPtwfXvn\\\n",
       "0UcfVW5urpKSkjRlyhT98Y9/jHSRotK2bds0d+5cZWdny+FwaOPGjUHbLcuS2+1Wdna2kpOTNWPG\\\n",
       "DO3bty8yhY0yq1at0iWXXKLhw4dr5MiRKigo0P79+4P24fr2ztq1a3XBBRfYEz7n5+frlVdesbdz\\\n",
       "faMXAbAffPTRR2ptbdW6deu0b98+PfLII3rsscd077332vu0tLRozpw5ampq0vbt21VVVaVnn31W\\\n",
       "3//+9yNY8ujR3NysG2+8UUuWLAm7nevbO7/5zW+0bNky3XfffdqzZ4++/e1va/bs2Tp48GCkixZ1\\\n",
       "mpqadOGFF6qioiLs9jVr1ujhhx9WRUWFdu7cqaysLM2cOVMnT54c4JJGn61bt6q4uFg7duzQ5s2b\\\n",
       "dfbsWc2aNUtNTU32Plzf3hk9erRWr16tXbt2adeuXbrqqqt0/fXX2yGP6xvFLAyINWvWWLm5ufby\\\n",
       "yy+/bMXFxVmHDh2y1z399NOW0+m0PB5PJIoYldavX2+5XK6Q9Vzf3rn00kut2267LWjd17/+detH\\\n",
       "P/pRhEoUGyRZzz//vL3c2tpqZWVlWatXr7bXnT592nK5XNZjjz0WgRJGtyNHjliSrK1bt1qWxfXt\\\n",
       "L2lpadYTTzzB9Y1y1AAOEI/HoxEjRtjLb7/9tvLy8oIeRH3NNdfI6/Vq9+7dkShiTOH69lxzc7N2\\\n",
       "796tWbNmBa2fNWuW3nrrrQiVKjZ9+umnamhoCLrWTqdTV1xxBde6BzwejyTZn7Vc377V0tKiqqoq\\\n",
       "NTU1KT8/n+sb5QiAA+CTTz5ReXm5brvtNntdQ0ODMjMzg/ZLS0tTYmKiGhoaBrqIMYfr23PHjh1T\\\n",
       "S0tLyPXLzMzk2vUx//XkWveeZVm66667NG3aNOXl5Uni+vaVvXv3atiwYXI6nbrtttv0/PPPa9Kk\\\n",
       "SVzfKEcA7Aa32y2Hw9Hha9euXUHH1NfX69prr9WNN96ohQsXBm1zOBwh72FZVtj1JujJ9e0I17d3\\\n",
       "2l4nrl3/4Vr3XklJiT788EM9/fTTIdu4vr0zYcIEvf/++9qxY4eWLFmioqIi1dTU2Nu5vtEpIdIF\\\n",
       "iCYlJSUqLCzscJ8xY8bY39fX1+vKK69Ufn6+Hn/88aD9srKy9M477wStO3HihM6cORPy15Qpunt9\\\n",
       "O8L17bn09HTFx8eH/AV/5MgRrl0fy8rKkuSrqRo1apS9nmvdPUuXLtWLL76obdu2afTo0fZ6rm/f\\\n",
       "SExM1Lhx4yRJF198sXbu3Kmf/exnuueeeyRxfaMVNYDdkJ6erq9//esdvpKSkiRJhw4d0owZMzR5\\\n",
       "8mStX79ecXHBlzo/P1/V1dU6fPiwvW7Tpk1yOp2aMmXKgP5cg0V3rm9nuL49l5iYqClTpmjz5s1B\\\n",
       "6zdv3qypU6dGqFSxKTc3V1lZWUHXurm5WVu3buVad4FlWSopKdFzzz2n119/Xbm5uUHbub79w7Is\\\n",
       "eb1erm+0i9jwkxh26NAha9y4cdZVV11l/fnPf7YOHz5sv/zOnj1r5eXlWVdffbX13nvvWX/4wx+s\\\n",
       "0aNHWyUlJREsefQ4cOCAtWfPHqusrMwaNmyYtWfPHmvPnj3WyZMnLcvi+vZWVVWVNWTIEOvJJ5+0\\\n",
       "ampqrGXLllkpKSnWZ599FumiRZ2TJ0/av5+SrIcfftjas2ePdeDAAcuyLGv16tWWy+WynnvuOWvv\\\n",
       "3r3WzTffbI0aNcpqbGyMcMkHvyVLllgul8t64403gj5nv/jiC3sfrm/vLF++3Nq2bZv16aefWh9+\\\n",
       "+KF17733WnFxcdamTZssy+L6RjMCYD9Yv369JSnsK9CBAwesOXPmWMnJydaIESOskpIS6/Tp0xEq\\\n",
       "dXQpKioKe323bNli78P17Z3Kykrr/PPPtxITE63JkyfbU2uge7Zs2RL2d7WoqMiyLN9UJaWlpVZW\\\n",
       "VpbldDqt6dOnW3v37o1soaNEe5+z69evt/fh+vbOrbfean8OZGRkWFdffbUd/iyL6xvNHJZlWQNY\\\n",
       "4QgAAIAIow8gAACAYQiAAAAAhiEAAgAAGIYACAAAYBgCIAAAgGEIgAAAAIYhAAIAABiGAAgAAGAY\\\n",
       "AiAAAIBhCIAAAACGIQACAAAYhgAIAABgGAIgAACAYQiAAAAAhiEAAgAAGIYACAAAYBgCIAAAgGEI\\\n",
       "gAAAAIYhAAIAABiGAAgAAGAYAiAAAIBhCIAAAACGIQACAAAYhgAIAABgGAIgAACAYQiAAAAAhiEA\\\n",
       "AgAAGIYACAAAYBgCIAAAgGEIgAAAAIYhAAIAABjm/wPM7Kbkf9M4rQAAAABJRU5ErkJggg==\\\n",
       "\"\n",
       "  frames[2] = \"data:image/png;base64,iVBORw0KGgoAAAANSUhEUgAAAoAAAAHgCAYAAAA10dzkAAAAOnRFWHRTb2Z0d2FyZQBNYXRwbG90\\\n",
       "bGliIHZlcnNpb24zLjEwLjYsIGh0dHBzOi8vbWF0cGxvdGxpYi5vcmcvq6yFwwAAAAlwSFlzAAAP\\\n",
       "YQAAD2EBqD+naQAAJjFJREFUeJzt3X1sXXdh//GP2yompbFpFWMTJdBoDZDMg5V0QwkPLUwN67qK\\\n",
       "CAnNqlQ52oYSahdFHYKVSvhmUpPSsgoUmy7Vpqb7owRNg4J+PCiRKAFUipqIioaESd06EtF6CbSy\\\n",
       "QwYOpPf3R+aLH9OkiX1z7/f1qq6U8+Cbb46qe9/+3nPObalWq9UAAFCMS+o9AAAA5pcABAAojAAE\\\n",
       "ACiMAAQAKIwABAAojAAEACiMAAQAKIwABAAojAAEACiMAAQAKIwABAAojAAEACiMAAQAKIwABAAo\\\n",
       "jAAEACiMAAQAKIwABAAojAAEACiMAAQAKIwABAAojAAEACiMAAQAKIwABAAojAAEACiMAAQAKIwA\\\n",
       "BAAojAAEACiMAAQAKIwABAAojAAEACiMAAQAKIwABAAojAAEACiMAAQAKIwABAAojAAEACiMAAQA\\\n",
       "KIwABAAojAAEACiMAAQAKIwABAAojAAEACiMAAQAKIwABAAojAAEACiMAAQAKIwABAAojAAEACiM\\\n",
       "AAQAKIwABAAojAAEACiMAAQAKIwABAAojAAEACiMAAQAKIwABAAozGX1HkAje/nll/P8889n0aJF\\\n",
       "aWlpqfdwAICzUK1Wc/z48SxZsiSXXFLmXJgAPA/PP/98li1bVu9hAACvwpEjR7J06dJ6D6MuBOB5\\\n",
       "WLRoUZLT/wO1tbXVeTQAwNkYHR3NsmXLau/jJRKA52H8Y9+2tjYBCAANpuTTt8r84BsAoGACEACg\\\n",
       "MAIQAKAwAhAAoDACEJJUKpUMDQ2dcZ+hoaFUKpX5GRAAzCFXAVO8SqWSLVu21Jb7+vqm7TM0NJT+\\\n",
       "/v5JPwMAjcoMIEWbGn/9/f3TZgKnxt+WLVsEIAANTQBSrKnxN25iBE6Nv3EiEIBG1lKtVqv1HkSj\\\n",
       "Gh0dTXt7e0ZGRtwIusHMFn8TrVy5MocOHTrjPgMDA0IQoMF4/zYDSKE6Ojpm3dad7iSpxd/48rk+\\\n",
       "DwBcrAQgRerr68vg4OC09b3pzfZsT096kiQ96cn2bE9veqftOzg4OOMFIwBwsfMR8Hkwhdz4Jp7j\\\n",
       "153ubM/22raRjKQ97bXlO3JHDuRAEvEH0Mi8f5sBpHATZwIP5EB2ZEdt28T425Ed4g+ApmEG8Dz4\\\n",
       "DaJ5rFq1qnbO32N5bFL8jWQk67M+yekLQw4ePFiPIQJwgXj/NgMIGRoaqsVfT3omxV9yeiZw/JzA\\\n",
       "Q4cOveI3hgDAxU4AUrSp5wBuzMbatpGM1P68MRtrVwPPdLNoAGgkApBiTb3J84EcyM7sTHL6nL/1\\\n",
       "WV87J3BndtbOAUxEIACNzTmA58E5BI1rtm/4SE7PBE6MvanLE7kgBKDxeP82A0ihjh07Nuu28dhb\\\n",
       "uXLlpOVzfR4AuFgJQIpUqVQyMDAw6/bBwcEcPHhwxptFj/M1cAA0KgFIsWaLwIkf6872jSHiD4BG\\\n",
       "JgAp2tQInOmcvqkRKP4AaHSX1XsAUG/jMdfR0THrBR3j648dOyb+gIZXqVTO+JqXnL5Yzmte8xKA\\\n",
       "kJzVC5yrfYFmUKlUsmXLltryTK9tU++UIAKbjwCk+VQmfJNHZWT2/QAKMzX+xiNvYgROjb/x/UVg\\\n",
       "c3EOIAAUYGr8jZt4Y/vZ7pG6ZcsWAdhkzAACQJObLf7GjUfg+Peiz8RMYHMxAwgATa6jo2PWbePf\\\n",
       "cz4ef+PL5/o8NBYBSPOpjPz+AcCs9zTtTW+2Z3t60pMk6UlPtmd7etM7bV9ffdlcfBfwefBdggA0\\\n",
       "konn+HWnO9uzvbZtJCNpz+8vorsjd9S+CrPZ4s/7txlAACjGxJnAAzmQHdlR2zYx/nZkR9PGH6eZ\\\n",
       "ATwPfoMAoBGtWrWqds7fY3lsUvyNZCTrsz5JsnLlyhw8eLAeQ5xT3r+beAbwwQcfzNve9ra0tbWl\\\n",
       "ra0ta9asyTe/+c3a9mq1mkqlkiVLlmThwoW54YYb8pOf/KSOIwaAuTfxat+e9EyKv+T0TOD4OYGH\\\n",
       "Dh2q3SKG5tK0Abh06dLce++92bdvX/bt25f3v//9+eAHP1iLvPvuuy8PPPBABgcH89RTT6Wrqys3\\\n",
       "3nhjjh8/XueRA8DcmHoO4MZsrG0bye8vnNuYjbWrgSfeJ5Dm0bQBeMstt+Qv/uIv8uY3vzlvfvOb\\\n",
       "c8899+SKK67Ik08+mWq1ms997nO5++6786EPfSjd3d155JFH8r//+7959NFH6z10ALjgpt7k+UAO\\\n",
       "ZGd2Jjl9zt/6rK+dE7gzO2vnACYisBkVcSPoU6dO5d/+7d9y4sSJrFmzJs8991yGh4ezbt262j6t\\\n",
       "ra25/vrr88QTT2Tjxo1neDYAaCyzfcPHI3kk+7O/Fnu7sisH/u+/qWb62jgaV9POACbJM888kyuu\\\n",
       "uCKtra3ZtGlTvvKVr2TVqlUZHh5OknR2dk7av7Ozs7ZtJmNjYxkdHZ30AICL3bFjx2bdNh57K1eu\\\n",
       "nLR8rs9DY2nqAHzLW96Sp59+Ok8++WQ++tGPpre3d9LVTC0tLZP2r1ar09ZNtG3btrS3t9cey5Yt\\\n",
       "m7OxA8CFUqlUMjAwMOv2wcHBHDx4cMabRY8bGBjwNXBNpKkDcMGCBbnmmmty3XXXZdu2bXn729+e\\\n",
       "z3/+8+nq6kqSabN9R48enTYrONFdd92VkZGR2uPIkSNzOn4AuFBmi8CJ9/mb7RtDxF/zaeoAnKpa\\\n",
       "rWZsbCzLly9PV1dX9uzZU9t28uTJ7N27N2vXrp3151tbW2u3lRl/AECjmBqBM93keWoEir/m1LQX\\\n",
       "gXzqU5/KTTfdlGXLluX48ePZtWtXvvOd7+Rb3/pWWlpasnnz5mzdujUrVqzIihUrsnXr1lx++eW5\\\n",
       "9dZb6z10ADgnV//91yct//e9N8+673jMdXR0zHpBx/j6Y8eOib8m1bQB+D//8z+57bbb8sILL6S9\\\n",
       "vT1ve9vb8q1vfSs33nhjkuQTn/hEfv3rX+f222/PSy+9lHe+853ZvXt3Fi1aVOeRA8DcOpuoc7Vv\\\n",
       "c/NVcOfBV8kAcDE4lxlAvH8nhZ0DCABAE38EDAClMOPHuTIDCABQGAEIAFAYAQgAUBgBCABQGAEI\\\n",
       "AFAYAQgAUBgBCABQGAEIAFAYAQgAUBgBCABQGAEIAFAYAQgAUBgBCABQGAEIAFAYAQgAUBgBCABQ\\\n",
       "GAEIAFAYAQgAUBgBCABQGAEIAFAYAQgAUBgBCABQGAEIAFAYAQgAUBgB2CQqlUqGhobOuM/Q0FAq\\\n",
       "lcr8DAgAuGhdVu8BcP4qlUq2bNlSW+7r65u2z9DQUPr7+yf9DABQJjOADW5q/PX390+bCZwaf1u2\\\n",
       "bBGAAFAwAdjApsbfuIkRODX+xolAAChXS7VardZ7EI1qdHQ07e3tGRkZSVtb27z+3bPF30QrV67M\\\n",
       "oUOHzrjPwMCAEASgKPV8/75YmAFsUB0dHbNu6053ktTib3z5XJ8HAGhOArBB9fX1ZXBwcNr63vRm\\\n",
       "e7anJz1Jkp70ZHu2pze90/YdHByc8YIRAKC5+Qj4PFwMU8gTz/HrTne2Z3tt20hG0p722vIduSMH\\\n",
       "ciCJ+AOgXBfD+3e9mQFscBNnAg/kQHZkR23bxPjbkR3iDwBIYgbwvFxMv0GsWrWqds7fY3lsUvyN\\\n",
       "ZCTrsz7J6QtDDh48WI8hAsBF4WJ6/64XM4BNYGhoqBZ/PemZFH/J6ZnA8XMCDx069IrfGAIANDcB\\\n",
       "2OCmngO4MRtr20YyUvvzxmysXQ08082iAYByCMAGNvUmzwdyIDuzM8npc/7WZ33tnMCd2Vk7BzAR\\\n",
       "gQBQMucAnod6nkMw2zd8JKdnAifG3tTliVwQAkBpnANoBrBhHTt2bNZt47G3cuXKScvn+jwAQHMS\\\n",
       "gA2qUqlkYGBg1u2Dg4M5ePDgjDeLHudr4ACgTAKwgc0WgRM/1p3tG0PEHwCUSwA2uKkRONM5fVMj\\\n",
       "UPwBQNkuq/cAOH/jMdfR0THrBR3j648dOyb+AKBwTXsV8LZt2/LlL385P/3pT7Nw4cKsXbs2n/nM\\\n",
       "Z/KWt7yltk+1Ws2WLVvy0EMP5aWXXso73/nODA0N5Q//8A/P6u+Yy6uIDr11Ze3PK3966II+NwCU\\\n",
       "zFXATfwR8N69e9PX15cnn3wye/bsye9+97usW7cuJ06cqO1z33335YEHHsjg4GCeeuqpdHV15cYb\\\n",
       "b8zx48frOHIAgLnVtDOAUx07diyvf/3rs3fv3rz3ve9NtVrNkiVLsnnz5nzyk59MkoyNjaWzszOf\\\n",
       "+cxnsnHjxld4RjOAANCIzAA28QzgVCMjp78W7aqrrkqSPPfccxkeHs66detq+7S2tub666/PE088\\\n",
       "UZcxTrTyp4dqDwCAC6mIi0Cq1WruvPPOvPvd70539+nvwx0eHk6SdHZ2Ttq3s7MzP/vZz2Z8nrGx\\\n",
       "sYyNjdWWR0dH52jEAABzp4gZwP7+/vz4xz/OF7/4xWnbWlpaJi1Xq9Vp68Zt27Yt7e3ttceyZcvm\\\n",
       "ZLwAAHOp6QPwjjvuyNe+9rU8/vjjWbp0aW19V1dXkt/PBI47evTotFnBcXfddVdGRkZqjyNHjszd\\\n",
       "wAEA5kjTBmC1Wk1/f3++/OUv59vf/naWL18+afvy5cvT1dWVPXv21NadPHkye/fuzdq1a2d8ztbW\\\n",
       "1rS1tU16AAA0mqY9B7Cvry+PPvpovvrVr2bRokW1mb729vYsXLgwLS0t2bx5c7Zu3ZoVK1ZkxYoV\\\n",
       "2bp1ay6//PLceuutdR49AMDcadoAfPDBB5MkN9xww6T1Dz/8cDZs2JAk+cQnPpFf//rXuf3222s3\\\n",
       "gt69e3cWLVo0z6MFAJg/xdwHcC64jxAANB7v3018DiAAADMTgAAAhRGAAACFEYAAAIURgAAAhRGA\\\n",
       "AACFEYAAAIURgAAAhRGAAACFEYAAAIURgAAAhRGAAACFEYAAAIURgAAAhRGAAACFEYAAAIURgAAA\\\n",
       "hRGAAACFEYAAAIURgAAAhRGAAACFEYAAAIURgAAAhRGAAACFEYAAAIURgAAAhRGAAACFEYAAAIUR\\\n",
       "gAAAhRGAAACFEYAAAIURgAAAhRGAAACFEYAAAIURgAAAhRGAAACFEYAAAIURgAAAhRGAAACFEYAA\\\n",
       "AIURgAAAhRGAAACFEYAAAIURgAAAhRGAAACFadoA/O53v5tbbrklS5YsSUtLSx577LFJ26vVaiqV\\\n",
       "SpYsWZKFCxfmhhtuyE9+8pP6DBYAYB41bQCeOHEib3/72zM4ODjj9vvuuy8PPPBABgcH89RTT6Wr\\\n",
       "qys33nhjjh8/Ps8j5WJVqVQyNDR0xn2GhoZSqVTmZ0AAcIFcVu8BzJWbbropN91004zbqtVqPve5\\\n",
       "z+Xuu+/Ohz70oSTJI488ks7Ozjz66KPZuHHjfA6Vi1ClUsmWLVtqy319fdP2GRoaSn9//6SfAYBG\\\n",
       "0LQzgGfy3HPPZXh4OOvWrauta21tzfXXX58nnniijiPjYjA1/vr7+6fNBE6Nvy1btghAABpGkQE4\\\n",
       "PDycJOns7Jy0vrOzs7ZtJmNjYxkdHZ30oLlMjb9xEyNwavyNE4EA58apNvXTtB8Bn42WlpZJy9Vq\\\n",
       "ddq6ibZt2zZjHNAcZou/ceMReOjQoVn3Gf95L1YAZ+ZUm/oqcgawq6srSabN9h09enTarOBEd911\\\n",
       "V0ZGRmqPI0eOzOk4mV8dHR2zbutOd5LU4m98+VyfBwCn2lwMigzA5cuXp6urK3v27KmtO3nyZPbu\\\n",
       "3Zu1a9fO+nOtra1pa2ub9KB59PX1zXjVeG96sz3b05OeJElPerI929Ob3mn7Dg4OzvhbLACnOdXm\\\n",
       "4tC0HwH/6le/yrPPPltbfu655/L000/nqquuyhvf+MZs3rw5W7duzYoVK7JixYps3bo1l19+eW69\\\n",
       "9dY6jpp6G4+38Ree7nRnQzYkSTZmY3rSk/a0J0k2ZEP2Z38O5EAS8QfwSpxqc/Fo2hnAffv25dpr\\\n",
       "r821116bJLnzzjtz7bXX5tOf/nSS5BOf+EQ2b96c22+/Pdddd11+/vOfZ/fu3Vm0aFE9h81FYOJM\\\n",
       "4IEcyI7sqG0bj78k2ZEd4g/gHDjV5uLRUq1Wq/UeRKMaHR1Ne3t7RkZGfBzchFatWlV7IXosj02K\\\n",
       "v5GMZH3WJ0lWrlyZgwcP1mOIAA1npo93e9ObDdmQHdmRXdmVnvRkYzZmZ3bmkTwyad8L8Qu39+8m\\\n",
       "ngGE8zHxI4iJH/uOa0977ZzAQ4cOveJtDAA4ber51lNPtXksj2VjTn8hw4ZsmDQT6NOWC0cAwhQT\\\n",
       "fzvtTnfthSg5PfM3bmM21l6YZrqCDYCZOdWm/gQgTDD1o4kDOZCd2Znk9AvR+qyvvVDtzM7aC1Mi\\\n",
       "AgHORV9fX1auXJkk2ZVdk37BTk7/wr0ru5KcPtVG/F1YAhD+z2y3HXgkj+SO3FF7IdqVXbkjd0w7\\\n",
       "LyURgQBny6k29SUA4f8cO3Zs1m3jM33jv61OnPk7l+cBwKk2FwMBCP+nUqlkYGBg1u2Dg4M5ePDg\\\n",
       "jDeLHjcwMODeVABn4FSbi4PbwJwHl5E3p5luVDr15OOZPi4WfwBnNtupNsnpmcCJsTd1eaLzvSDE\\\n",
       "+7cZQJhm6kzgTC80U29jIP4AXplTbS4eTftVcHA+xmOuo6Nj1t8yx9cfO3ZM/AGchfHXytm+Dm78\\\n",
       "F+4zzRT6hfvC8BHweTCFDADnrt6n2nj/NgNIE/ujR/5o0vIzvc/UaSQATDR1JnC2U22S1CLQzN+F\\\n",
       "JQABgHnnVJv6EoAAwKvyj3/1l5OW/+5L/++cfv5sos43gMwNAUjT8pEvAMzMbWAAAApjBhAAeFXO\\\n",
       "9SNfLh5mAAEACiMAAQAKIwABAAojAAEACiMAAQAKIwABAAojAAEACiMAAQAKIwABAAojAAEACiMA\\\n",
       "AQAKIwABAAojAAEACiMAAQAKIwABAAojAAEACiMAAQAKIwABAAojAAEACiMAAQAKIwABAAojAAEA\\\n",
       "CiMAAQAKIwABAAojAAEACiMAAQAKIwABAAojAAEACiMAAQAKU3wAfuELX8jy5cvzmte8JqtXr873\\\n",
       "vve9eg8JAGBOFR2AX/rSl7J58+bcfffd+dGPfpT3vOc9uemmm3L48OF6Dw0AYM60VKvVar0HUS/v\\\n",
       "fOc78453vCMPPvhgbd3KlSuzfv36bNu27RV/fnR0NO3t7RkZGUlbW9tcDhUAuEC8fxc8A3jy5Mns\\\n",
       "378/69atm7R+3bp1eeKJJ+o0KgCAuXdZvQdQL7/4xS9y6tSpdHZ2Tlrf2dmZ4eHhGX9mbGwsY2Nj\\\n",
       "teXR0dE5HSMAwFwodgZwXEtLy6TlarU6bd24bdu2pb29vfZYtmzZfAwRAOCCKjYAFy9enEsvvXTa\\\n",
       "bN/Ro0enzQqOu+uuuzIyMlJ7HDlyZD6GCgBwQRUbgAsWLMjq1auzZ8+eSev37NmTtWvXzvgzra2t\\\n",
       "aWtrm/QAAGg0xZ4DmCR33nlnbrvttlx33XVZs2ZNHnrooRw+fDibNm2q99AAAOZM0QH4V3/1V/nl\\\n",
       "L3+Zf/iHf8gLL7yQ7u7ufOMb38ib3vSmeg8NAGDOFH0fwPPlPkIA0Hi8fxd8DiAAQKkEIABAYQQg\\\n",
       "AEBhBCAAQGEEIABAYQQgAEBhBCAAQGEEIABAYQQgAEBhBCAAQGEEIABAYQQgAEBhBCAAQGEEIABA\\\n",
       "YQQgAEBhBCAAQGEEIABAYQQgAEBhBCAAQGEEIABAYQQgAEBhBCAAQGEEIABAYQQgAEBhBCAAQGEE\\\n",
       "IABAYQQgAEBhBCAAQGEEIABAYQQgAEBhBCAAQGEEIABAYQQgAEBhBCAAQGEEIABAYQQgAEBhBCAA\\\n",
       "QGEEIABAYQQgAEBhBCAAQGEEIABAYQQgAEBhBCAAQGEEIABAYQQgAEBhBCAAQGGaMgDvueeerF27\\\n",
       "Npdffnle97rXzbjP4cOHc8stt+S1r31tFi9enI997GM5efLk/A4UAKAOLqv3AObCyZMn8+EPfzhr\\\n",
       "1qzJv/zLv0zbfurUqdx8883p6OjI97///fzyl79Mb29vqtVqtm/fXocRAwDMn6YMwC1btiRJdu7c\\\n",
       "OeP23bt35+DBgzly5EiWLFmSJPnHf/zHbNiwIffcc0/a2trma6gAAPOuKT8CfiU/+MEP0t3dXYu/\\\n",
       "JPnABz6QsbGx7N+/f9afGxsby+jo6KQHAECjKTIAh4eH09nZOWndlVdemQULFmR4eHjWn9u2bVva\\\n",
       "29trj2XLls31UAEALriGCcBKpZKWlpYzPvbt23fWz9fS0jJtXbVanXH9uLvuuisjIyO1x5EjR17V\\\n",
       "vwUAoJ4a5hzA/v7+9PT0nHGfq6+++qyeq6urKz/84Q8nrXvppZfy29/+dtrM4EStra1pbW09q78D\\\n",
       "AOBi1TABuHjx4ixevPiCPNeaNWtyzz335IUXXsgb3vCGJKcvDGltbc3q1asvyN8BAHCxapgAPBeH\\\n",
       "Dx/Oiy++mMOHD+fUqVN5+umnkyTXXHNNrrjiiqxbty6rVq3Kbbfdlvvvvz8vvvhiPv7xj+cjH/mI\\\n",
       "K4ABgKbXlAH46U9/Oo888kht+dprr02SPP7447nhhhty6aWX5utf/3puv/32vOtd78rChQtz6623\\\n",
       "5rOf/Wy9hgwAMG9aqtVqtd6DaFSjo6Npb2/PyMiImUMAaBDevxvoKmAAAC4MAQgAUBgBCABQGAEI\\\n",
       "AFAYAQgAUBgBCABQGAEIAFAYAQgAUBgBCABQGAEIAFAYAQgAUBgBCABQGAEIAFAYAQgAUBgBCABQ\\\n",
       "GAEIAFAYAQgAUBgBCABQGAEIAFAYAQgAUBgBCABQGAEIAFAYAQgAUBgBCABQGAEIAFAYAQgAUBgB\\\n",
       "CABQGAEIAFAYAQgAUBgBCABQGAEIAFAYAQgAUBgBCABQGAEIAFAYAQgAUBgBCABQGAEIAFAYAQgA\\\n",
       "UBgBCABQGAEIAFAYAQgAUBgBCABQGAEIAFAYAQgAUBgBCABQmKYLwP/+7//O3/zN32T58uVZuHBh\\\n",
       "/uAP/iADAwM5efLkpP0OHz6cW265Ja997WuzePHifOxjH5u2DwBAM7qs3gO40H7605/m5Zdfzo4d\\\n",
       "O3LNNdfkwIED+chHPpITJ07ks5/9bJLk1KlTufnmm9PR0ZHvf//7+eUvf5ne3t5Uq9Vs3769zv8C\\\n",
       "AIC51VKtVqv1HsRcu//++/Pggw/mv/7rv5Ik3/zmN/OXf/mXOXLkSJYsWZIk2bVrVzZs2JCjR4+m\\\n",
       "ra3trJ53dHQ07e3tGRkZOeufAQDqy/t3E34EPJORkZFcddVVteUf/OAH6e7ursVfknzgAx/I2NhY\\\n",
       "9u/fP+vzjI2NZXR0dNIDAKDRNH0A/ud//me2b9+eTZs21dYNDw+ns7Nz0n5XXnllFixYkOHh4Vmf\\\n",
       "a9u2bWlvb689li1bNmfjBgCYKw0TgJVKJS0tLWd87Nu3b9LPPP/88/nzP//zfPjDH87f/u3fTtrW\\\n",
       "0tIy7e+oVqszrh931113ZWRkpPY4cuTIhfnHAQDMo4a5CKS/vz89PT1n3Ofqq6+u/fn555/P+973\\\n",
       "vqxZsyYPPfTQpP26urrywx/+cNK6l156Kb/97W+nzQxO1NramtbW1nMfPADARaRhAnDx4sVZvHjx\\\n",
       "We3785//PO973/uyevXqPPzww7nkkskTnWvWrMk999yTF154IW94wxuSJLt3705ra2tWr159wccO\\\n",
       "AHAxabqrgJ9//vlcf/31eeMb35h//dd/zaWXXlrb1tXVleT0bWD++I//OJ2dnbn//vvz4osvZsOG\\\n",
       "DVm/fv053QbGVUQA0Hi8fzfQDODZ2r17d5599tk8++yzWbp06aRt46176aWX5utf/3puv/32vOtd\\\n",
       "78rChQtz66231u4TCADQzJpuBnA++Q0CABqP9+8GugoYAIALQwACABRGAAIAFEYAAgAURgACABRG\\\n",
       "AAIAdVepVDI0NHTGfYaGhlKpVOZnQE2u6e4DCAA0lkqlki1bttSW+/r6pu0zNDSU/v7+ST/Dq2cG\\\n",
       "EACom6nx19/fP20mcGr8bdmyRQCeJwEIANTF1PgbNzECp8bfOBF4fnwTyHlwJ3EAeHVmi7+JVq5c\\\n",
       "mUOHDp1xn4GBgXMOQe/fZgABgDro6OiYdVt3upOkFn/jy+f6PMxOAAIA866vry+Dg4PT1vemN9uz\\\n",
       "PT3pSZL0pCfbsz296Z227+Dg4IwXjPDKfAR8HkwhA8D5mXiOX3e6sz3ba9tGMpL2tNeW78gdOZAD\\\n",
       "Sc4v/rx/mwEEAOpo4kzggRzIjuyobZsYfzuy44LEH6eZATwPfoMAgAtj1apVtXP+Hstjk+JvJCNZ\\\n",
       "n/VJTl8YcvDgwfP6u7x/mwEEAOpsaGioFn896ZkUf8npmcDxcwIPHTr0it8YwisTgABA3Uw9B3Bj\\\n",
       "Nta2jWSk9ueN2Vi7Gnimm0VzbgQgAFAXU2/yfCAHsjM7k5w+52991tfOCdyZnbVzABMReL6cA3ge\\\n",
       "nEMAAK/ObN/wkZyeCZwYe1OXJ3o1F4R4/zYDCADUwbFjx2bdNh57K1eunLR8rs/D7AQgADDvKpVK\\\n",
       "BgYGZt0+ODiYgwcPzniz6HGv5mvgOE0AAgB1MVsETvxYd7ZvDBF/50cAAgB1MzUCZzqnb2oEir/z\\\n",
       "d1m9BwAAlG085jo6Oma9oGN8/bFjx8TfBeAq4PPgKiIA+L2hTd+etNz3T++v00jOzPu3j4ABAIoj\\\n",
       "AAEACuMcQADggrhYP/JlOjOAAACFEYAAAIURgAAAhRGAAACFEYAAAIURgAAAhRGAAACFEYAAAIUR\\\n",
       "gAAAhRGAAACFEYAAAIURgAAAhRGAAACFuazeA2hk1Wo1STI6OlrnkQAAZ2v8fXv8fbxEAvA8HD9+\\\n",
       "PEmybNmyOo8EADhXx48fT3t7e72HURct1ZLz9zy9/PLLef7557No0aK0tLTUezhNYXR0NMuWLcuR\\\n",
       "I0fS1tZW7+E0Ncd6fjjO88exnj+Nfqyr1WqOHz+eJUuW5JJLyjwbzgzgebjkkkuydOnSeg+jKbW1\\\n",
       "tTXki0ojcqznh+M8fxzr+dPIx7rUmb9xZWYvAEDBBCAAQGEEIBeV1tbWDAwMpLW1td5DaXqO9fxw\\\n",
       "nOePYz1/HOvG5yIQAIDCmAEEACiMAAQAKIwABAAojAAEACiMAOSicc8992Tt2rW5/PLL87rXvW7G\\\n",
       "fQ4fPpxbbrklr33ta7N48eJ87GMfy8mTJ+d3oE3gC1/4QpYvX57XvOY1Wb16db73ve/Ve0gN77vf\\\n",
       "/W5uueWWLFmyJC0tLXnssccmba9Wq6lUKlmyZEkWLlyYG264IT/5yU/qM9gGtm3btvzJn/xJFi1a\\\n",
       "lNe//vVZv359/uM//mPSPo71hfHggw/mbW97W+1mz2vWrMk3v/nN2nbHubEJQC4aJ0+ezIc//OF8\\\n",
       "9KMfnXH7qVOncvPNN+fEiRP5/ve/n127duXf//3f83d/93fzPNLG9qUvfSmbN2/O3XffnR/96Ed5\\\n",
       "z3vek5tuuimHDx+u99Aa2okTJ/L2t789g4ODM26/77778sADD2RwcDBPPfVUurq6cuONN9a+U5yz\\\n",
       "s3fv3vT19eXJJ5/Mnj178rvf/S7r1q3LiRMnavs41hfG0qVLc++992bfvn3Zt29f3v/+9+eDH/xg\\\n",
       "LfIc5wZXhYvMww8/XG1vb5+2/hvf+Eb1kksuqf785z+vrfviF79YbW1trY6MjMzjCBvbn/7pn1Y3\\\n",
       "bdo0ad1b3/rW6t///d/XaUTNJ0n1K1/5Sm355ZdfrnZ1dVXvvffe2rrf/OY31fb29uo//dM/1WGE\\\n",
       "zePo0aPVJNW9e/dWq1XHeq5deeWV1X/+5392nJuAGUAaxg9+8IN0d3dnyZIltXUf+MAHMjY2lv37\\\n",
       "99dxZI3j5MmT2b9/f9atWzdp/bp16/LEE0/UaVTN77nnnsvw8PCk497a2prrr7/ecT9PIyMjSZKr\\\n",
       "rroqiWM9V06dOpVdu3blxIkTWbNmjePcBAQgDWN4eDidnZ2T1l155ZVZsGBBhoeH6zSqxvKLX/wi\\\n",
       "p06dmnYcOzs7HcM5NH5sHfcLq1qt5s4778y73/3udHd3J3GsL7RnnnkmV1xxRVpbW7Np06Z85Stf\\\n",
       "yapVqxznJiAAmVOVSiUtLS1nfOzbt++sn6+lpWXaumq1OuN6Zjf1eDmG88Nxv7D6+/vz4x//OF/8\\\n",
       "4henbXOsL4y3vOUtefrpp/Pkk0/mox/9aHp7e3Pw4MHadse5cV1W7wHQ3Pr7+9PT03PGfa6++uqz\\\n",
       "eq6urq788Ic/nLTupZdeym9/+9tpv4Uys8WLF+fSSy+d9hv60aNHHcM51NXVleT07NQb3vCG2nrH\\\n",
       "/dW744478rWvfS3f/e53s3Tp0tp6x/rCWrBgQa655pokyXXXXZennnoqn//85/PJT34yiePcyMwA\\\n",
       "MqcWL16ct771rWd8vOY1rzmr51qzZk0OHDiQF154obZu9+7daW1tzerVq+fqn9BUFixYkNWrV2fP\\\n",
       "nj2T1u/Zsydr166t06ia3/Lly9PV1TXpuJ88eTJ79+513M9RtVpNf39/vvzlL+fb3/52li9fPmm7\\\n",
       "Yz23qtVqxsbGHOcmYAaQi8bhw4fz4osv5vDhwzl16lSefvrpJMk111yTK664IuvWrcuqVaty2223\\\n",
       "5f7778+LL76Yj3/84/nIRz6Stra2+g6+gdx555257bbbct1112XNmjV56KGHcvjw4WzatKneQ2to\\\n",
       "v/rVr/Lss8/Wlp977rk8/fTTueqqq/LGN74xmzdvztatW7NixYqsWLEiW7duzeWXX55bb721jqNu\\\n",
       "PH19fXn00Ufz1a9+NYsWLarNZre3t2fhwoVpaWlxrC+QT33qU7npppuybNmyHD9+PLt27cp3vvOd\\\n",
       "fOtb33Kcm0H9LkCGyXp7e6tJpj0ef/zx2j4/+9nPqjfffHN14cKF1auuuqra399f/c1vflO/QTeo\\\n",
       "oaGh6pve9KbqggULqu94xztqt9Dg1Xv88cdn/P+3t7e3Wq2evj3JwMBAtaurq9ra2lp973vfW33m\\\n",
       "mWfqO+gGNNMxTlJ9+OGHa/s41hfGX//1X9deJzo6Oqp/9md/Vt29e3dtu+Pc2Fqq1Wp1/rMTAIB6\\\n",
       "cQ4gAEBhBCAAQGEEIABAYQQgAEBhBCAAQGEEIABAYQQgAEBhBCAAQGEEIABAYQQgAEBhBCAAQGEE\\\n",
       "IABAYQQgAEBhBCAAQGEEIABAYQQgAEBhBCAAQGEEIABAYQQgAEBhBCAAQGEEIABAYQQgAEBhBCAA\\\n",
       "QGEEIABAYQQgAEBhBCAAQGEEIABAYQQgAEBhBCAAQGEEIABAYQQgAEBh/j9iqAF2m5psYwAAAABJ\\\n",
       "RU5ErkJggg==\\\n",
       "\"\n",
       "  frames[3] = \"data:image/png;base64,iVBORw0KGgoAAAANSUhEUgAAAoAAAAHgCAYAAAA10dzkAAAAOnRFWHRTb2Z0d2FyZQBNYXRwbG90\\\n",
       "bGliIHZlcnNpb24zLjEwLjYsIGh0dHBzOi8vbWF0cGxvdGxpYi5vcmcvq6yFwwAAAAlwSFlzAAAP\\\n",
       "YQAAD2EBqD+naQAAJi5JREFUeJzt3X1snWdh//+P2yompbFpFWMTJdBoDZDMX1hJN5Tw0MLUdF1X\\\n",
       "ESGhWZUqR9tQQu2iqEOwUgmfTGpSWlaBYtOl2tR0f5SgaVDQjwclEiWASlETUdGQMKlbRyJaL4FW\\\n",
       "dsjAgfT8/sh85sc0aWKfnHO9XuhIPvd9++TqLXTO29e5H1qq1Wo1AAAU45J6DwAAgPklAAEACiMA\\\n",
       "AQAKIwABAAojAAEACiMAAQAKIwABAAojAAEACiMAAQAKIwABAAojAAEACiMAAQAKIwABAAojAAEA\\\n",
       "CiMAAQAKIwABAAojAAEACiMAAQAKIwABAAojAAEACiMAAQAKIwABAAojAAEACiMAAQAKIwABAAoj\\\n",
       "AAEACiMAAQAKIwABAAojAAEACiMAAQAKIwABAAojAAEACiMAAQAKIwABAAojAAEACiMAAQAKIwAB\\\n",
       "AAojAAEACiMAAQAKIwABAAojAAEACiMAAQAKIwABAAojAAEACiMAAQAKIwABAAojAAEACiMAAQAK\\\n",
       "IwABAAojAAEACiMAAQAKIwABAAojAAEACiMAAQAKIwABAAojAAEACnNZvQfQyF555ZW88MILWbRo\\\n",
       "UVpaWuo9HADgLFSr1Rw/fjxLlizJJZeUORcmAM/DCy+8kGXLltV7GADAa3DkyJEsXbq03sOoCwF4\\\n",
       "HhYtWpTk9P+B2tra6jwaAOBsjI6OZtmyZbXP8RIJwPMw/rVvW1ubAASABlPy4VtlfvENAFAwAQgA\\\n",
       "UBgBCABQGAEIAFAYAQhJKpVKhoaGzrjN0NBQKpXK/AwIAOaQs4ApXqVSyZYtW2rP+/r6pm0zNDSU\\\n",
       "/v7+Sb8DAI3KDCBFmxp//f3902YCp8bfli1bBCAADU0AUqyp8TduYgROjb9xIhCARtZSrVar9R5E\\\n",
       "oxodHU17e3tGRkZcCLrBzBZ/E61cuTKHDh064zYDAwNCEKDB+Pw2A0ihOjo6Zl3Xne4kqcXf+PNz\\\n",
       "fR0AuFgJQIrU19eXwcHBact705vt2Z6e9CRJetKT7dme3vRO23ZwcHDGE0YA4GLnK+DzYAq58U08\\\n",
       "xq873dme7bV1IxlJe9prz+/MnTmQA0nEH0Aj8/ltBpDCTZwJPJAD2ZEdtXUT429Hdog/AJqGGcDz\\\n",
       "4C+I5rFq1araMX+P5/FJ8TeSkazP+iSnTww5ePBgPYYIwAXi89sMIGRoaKgWfz3pmRR/yemZwPFj\\\n",
       "Ag8dOvSqdwwBgIudAKRoU48B3JiNtXUjGan9vDEba2cDz3SxaABoJAKQYk29yPOBHMjO7Exy+pi/\\\n",
       "9VlfOyZwZ3bWjgFMRCAAjc0xgOfBMQSNa7Y7fCSnZwInxt7U5xM5IQSg8fj8NgNIoY4dOzbruvHY\\\n",
       "W7ly5aTn5/o6AHCxEoAUqVKpZGBgYNb1g4ODOXjw4IwXix7nNnAANCoBSLFmi8CJX+vOdscQ8QdA\\\n",
       "IxOAFG1qBM50TN/UCBR/ADS6y+o9AKi38Zjr6OiY9YSO8eXHjh0Tf0DDq1QqZ3zPS06fLOc9r3kJ\\\n",
       "QEjO6g3O2b5AM6hUKtmyZUvt+UzvbVOvlCACm4+vgAGgEFPjb6Zrmk6Nvy1btgjAJmQGkOZTmXAr\\\n",
       "t8rI7NsBFGRq/I0bj72+vr5Zr5E6/ntCsHkIQABocrPF37jxmcDx+6LPRAQ2F18BA0CT6+jomHXd\\\n",
       "+H3Ox+Nv/Pm5vg6NRQDSfCoj//cAYNZrmvamN9uzPT3pSZL0pCfbsz296Z22rVtfNhf3Aj4P7iUI\\\n",
       "QCOZeIxfd7qzPdtr60Yykvb83zHUd+bO2q0wmy3+fH6bAQSAYkycCTyQA9mRHbV1E+NvR3Y0bfxx\\\n",
       "mhnA8+AvCAAa0apVq2rH/D2exyfF30hGsj7rkyQrV67MwYMH6zHEOeXzu4lnAB966KG84x3vSFtb\\\n",
       "W9ra2rJmzZp861vfqq2vVqupVCpZsmRJFi5cmBtuuCE//elP6zhiAJh7E8/27UnPpPhLTs8Ejh8T\\\n",
       "eOjQoWnXCaQ5NG0ALl26NPfdd1/27duXffv25YMf/GA+9KEP1SLv/vvvz4MPPpjBwcE8/fTT6erq\\\n",
       "yo033pjjx4/XeeQAMDemHgO4MRtr60byfyfObczG2tnAM10smsbXtAF466235s///M/z1re+NW99\\\n",
       "61tz77335oorrshTTz2VarWaz3/+87nnnnvy4Q9/ON3d3Xn00UfzP//zP3nsscfqPXQAuOCmXuT5\\\n",
       "QA5kZ3YmOX3M3/qsrx0TuDM7a8cAJiKwGRVxIehTp07lX//1X3PixImsWbMmzz//fIaHh7Nu3bra\\\n",
       "Nq2trbn++uvz5JNPZuPGjWd4NQBoLLPd4ePRPJr92V+LvV3ZlQP/+7+pJt4xhMbXtDOASfLss8/m\\\n",
       "iiuuSGtrazZt2pSvfvWrWbVqVYaHh5MknZ2dk7bv7OysrZvJ2NhYRkdHJz0A4GJ37NixWdeNx97K\\\n",
       "lSsnPT/X16GxNHUAvu1tb8szzzyTp556Kh/72MfS29s76WymlpaWSdtXq9Vpyybatm1b2tvba49l\\\n",
       "y5bN2dgB4EKpVCoZGBiYdf3g4GAOHjw448Wixw0MDLgNXBNp6gBcsGBBrrnmmlx33XXZtm1b3vnO\\\n",
       "d+YLX/hCurq6kmTabN/Ro0enzQpOdPfdd2dkZKT2OHLkyJyOHwAulNkicOJ1/ma7Y4j4az5NHYBT\\\n",
       "VavVjI2NZfny5enq6sqePXtq606ePJm9e/dm7dq1s/5+a2tr7bIy4w8AaBRTI3CmizxPjUDx15ya\\\n",
       "9iSQT3/607n55puzbNmyHD9+PLt27cp3v/vdfPvb305LS0s2b96crVu3ZsWKFVmxYkW2bt2ayy+/\\\n",
       "PLfddlu9hw4Ac2Y85jo6OmY9oWN8+bFjx8Rfk2raAPzv//7v3H777XnxxRfT3t6ed7zjHfn2t7+d\\\n",
       "G2+8MUnyyU9+Mr/5zW9yxx135OWXX8673/3u7N69O4sWLarzyAHg3F39d9+o/fxf991yxm3PJuqc\\\n",
       "7dvc3AruPLiVDAAXi3MJwNL5/C7sGEAAAJr4K2AAKIlZP86FGUAAgMIIQACAwghAAIDCCEAAgMII\\\n",
       "QACAwghAAIDCCEAAgMIIQACAwghAAIDCCEAAgMIIQACAwghAAIDCCEAAgMIIQACAwghAAIDCCEAA\\\n",
       "gMIIQACAwghAAIDCCEAAgMIIQACAwghAAIDCCEAAgMIIQACAwghAAIDCCMAmUalUMjQ0dMZthoaG\\\n",
       "UqlU5mdAAMBF67J6D4DzV6lUsmXLltrzvr6+adsMDQ2lv79/0u8AAGUyA9jgpsZff3//tJnAqfG3\\\n",
       "ZcsWAQgABROADWxq/I2bGIFT42+cCASAcrVUq9VqvQfRqEZHR9Pe3p6RkZG0tbXN6789W/xNtHLl\\\n",
       "yhw6dOiM2wwMDAhBAIpSz8/vi4UZwAbV0dEx67rudCdJLf7Gn5/r6wAAzUkANqi+vr4MDg5OW96b\\\n",
       "3mzP9vSkJ0nSk55sz/b0pnfatoODgzOeMAIANDdfAZ+Hi2EKeeIxft3pzvZsr60byUja0157fmfu\\\n",
       "zIEcSCL+ACjXxfD5XW9mABvcxJnAAzmQHdlRWzcx/nZkh/gDAJKYATwvF9NfEKtWraod8/d4Hp8U\\\n",
       "fyMZyfqsT3L6xJCDBw/WY4gAcFG4mD6/68UMYBMYGhqqxV9PeibFX3J6JnD8mMBDhw696h1DAIDm\\\n",
       "JgAb3NRjADdmY23dSEZqP2/MxtrZwDNdLBoAKIcAbGBTL/J8IAeyMzuTnD7mb33W144J3JmdtWMA\\\n",
       "ExEIACVzDOB5qOcxBLPd4SM5PRM4MfamPp/ICSEAlMYxgGYAG9axY8dmXTceeytXrpz0/FxfBwBo\\\n",
       "TgKwQVUqlQwMDMy6fnBwMAcPHpzxYtHj3AYOAMokABvYbBE48Wvd2e4YIv4AoFwCsMFNjcCZjumb\\\n",
       "GoHiDwDKdlm9B8D5G4+5jo6OWU/oGF9+7Ngx8QcAhWvas4C3bduWr3zlK/nZz36WhQsXZu3atfns\\\n",
       "Zz+bt73tbbVtqtVqtmzZkocffjgvv/xy3v3ud2doaCh/+Id/eFb/xlyeRXTo7StrP6/82aEL+toA\\\n",
       "UDJnATfxV8B79+5NX19fnnrqqezZsye///3vs27dupw4caK2zf33358HH3wwg4ODefrpp9PV1ZUb\\\n",
       "b7wxx48fr+PIAQDmVtPOAE517NixvPGNb8zevXvz/ve/P9VqNUuWLMnmzZvzqU99KkkyNjaWzs7O\\\n",
       "fPazn83GjRtf5RXNAAJAIzID2MQzgFONjJy+LdpVV12VJHn++eczPDycdevW1bZpbW3N9ddfnyef\\\n",
       "fLIuY5xo5c8O1R4AABdSESeBVKvV3HXXXXnve9+b7u7T98MdHh5OknR2dk7atrOzMz//+c9nfJ2x\\\n",
       "sbGMjY3Vno+Ojs7RiAEA5k4RM4D9/f35yU9+ki996UvT1rW0tEx6Xq1Wpy0bt23btrS3t9cey5Yt\\\n",
       "m5PxAgDMpaYPwDvvvDNf//rX88QTT2Tp0qW15V1dXUn+byZw3NGjR6fNCo67++67MzIyUnscOXJk\\\n",
       "7gYOADBHmjYAq9Vq+vv785WvfCXf+c53snz58knrly9fnq6uruzZs6e27OTJk9m7d2/Wrl0742u2\\\n",
       "tramra1t0gMAoNE07TGAfX19eeyxx/K1r30tixYtqs30tbe3Z+HChWlpacnmzZuzdevWrFixIitW\\\n",
       "rMjWrVtz+eWX57bbbqvz6AEA5k7TBuBDDz2UJLnhhhsmLX/kkUeyYcOGJMknP/nJ/OY3v8kdd9xR\\\n",
       "uxD07t27s2jRonkeLQDA/CnmOoBzwXWEAKDx+Pxu4mMAAQCYmQAEACiMAAQAKIwABAAojAAEACiM\\\n",
       "AAQAKIwABAAojAAEACiMAAQAKIwABAAojAAEACiMAAQAKIwABAAojAAEACiMAAQAKIwABAAojAAE\\\n",
       "ACiMAAQAKIwABAAojAAEACiMAAQAKIwABAAojAAEACiMAAQAKIwABAAojAAEACiMAAQAKIwABAAo\\\n",
       "jAAEACiMAAQAKIwABAAojAAEACiMAAQAKIwABAAojAAEACiMAAQAKIwABAAojAAEACiMAAQAKIwA\\\n",
       "BAAojAAEACiMAAQAKIwABAAojAAEACiMAAQAKEzTBuD3vve93HrrrVmyZElaWlry+OOPT1pfrVZT\\\n",
       "qVSyZMmSLFy4MDfccEN++tOf1mewAADzqGkD8MSJE3nnO9+ZwcHBGdfff//9efDBBzM4OJinn346\\\n",
       "XV1dufHGG3P8+PF5HikXq0qlkqGhoTNuMzQ0lEqlMj8DAoAL5LJ6D2Cu3Hzzzbn55ptnXFetVvP5\\\n",
       "z38+99xzTz784Q8nSR599NF0dnbmsccey8aNG+dzqFyEKpVKtmzZUnve19c3bZuhoaH09/dP+h0A\\\n",
       "aARNOwN4Js8//3yGh4ezbt262rLW1tZcf/31efLJJ+s4Mi4GU+Ovv79/2kzg1PjbsmWLAASgYRQZ\\\n",
       "gMPDw0mSzs7OScs7Oztr62YyNjaW0dHRSQ+ay9T4GzcxAqfG3zgRCHBuHGpTP037FfDZaGlpmfS8\\\n",
       "Wq1OWzbRtm3bZowDmsNs8TduPAIPHTo06zbjv+/NCuDMHGpTX0XOAHZ1dSXJtNm+o0ePTpsVnOju\\\n",
       "u+/OyMhI7XHkyJE5HSfzq6OjY9Z13elOklr8jT8/19cBwKE2F4MiA3D58uXp6urKnj17astOnjyZ\\\n",
       "vXv3Zu3atbP+Xmtra9ra2iY9aB59fX0znjXem95sz/b0pCdJ0pOebM/29KZ32raDg4Mz/hULwGkO\\\n",
       "tbk4NO1XwL/+9a/z3HPP1Z4///zzeeaZZ3LVVVflzW9+czZv3pytW7dmxYoVWbFiRbZu3ZrLL788\\\n",
       "t912Wx1HTb2Nx9v4G093urMhG5IkG7MxPelJe9qTJBuyIfuzPwdyIIn4A3g1DrW5eDTtDOC+ffty\\\n",
       "7bXX5tprr02S3HXXXbn22mvzmc98JknyyU9+Mps3b84dd9yR6667Lr/4xS+ye/fuLFq0qJ7D5iIw\\\n",
       "cSbwQA5kR3bU1o3HX5LsyA7xB3AOHGpz8WipVqvVeg+iUY2Ojqa9vT0jIyO+Dm5Cq1atqr0RPZ7H\\\n",
       "J8XfSEayPuuTJCtXrszBgwfrMUSAhjPT17u96c2GbMiO7Miu7EpPerIxG7MzO/NoHp207YX4g9vn\\\n",
       "dxPPAML5mPgVxMSvfce1p712TOChQ4de9TIGAJw29XjrqYfaPJ7HszGnb8iwIRsmzQT6tuXCEYAw\\\n",
       "xcS/TrvTXXsjSk7P/I3bmI21N6aZzmADYGYOtak/AQgTTP1q4kAOZGd2Jjn9RrQ+62tvVDuzs/bG\\\n",
       "lIhAgHPR19eXlStXJkl2ZdekP7CT039w78quJKcPtRF/F5YAhP8122UHHs2juTN31t6IdmVX7syd\\\n",
       "045LSUQgwNlyqE19CUD4X8eOHZt13fhM3/hfqxNn/s7ldQBwqM3FQADC/6pUKhkYGJh1/eDgYA4e\\\n",
       "PDjjxaLHDQwMuDYVwBk41Obi4DIw58Fp5M1ppguVTj34eKavi8UfwJnNdqhNcnomcGLsTX0+0fme\\\n",
       "EOLz2wwgTDN1JnCmN5qplzEQfwCvzqE2F4+mvRUcnI/xmOvo6Jj1r8zx5ceOHRN/AGdh/L1yttvB\\\n",
       "jf/BfaaZQn9wXxi+Aj4PppAB4NzV+1Abn99mAGli/+/R/1f7+dneZ+s4EgAmmjoTONuhNklqEWjm\\\n",
       "78ISgADAvHOoTX0JQADgNfmHv/yL2s9/++X/75x//2yizh1A5oYApGn52hcAZuYyMAAAhTEDCAC8\\\n",
       "Jq/la18uDmYAAQAKIwABAAojAAEACiMAAQAKIwABAAojAAEACiMAAQAKIwABAAojAAEACiMAAQAK\\\n",
       "IwABAAojAAEACiMAAQAKIwABAAojAAEACiMAAQAKIwABAAojAAEACiMAAQAKIwABAAojAAEACiMA\\\n",
       "AQAKIwABAAojAAEACiMAAQAKIwABAAojAAEACiMAAQAKIwABAAojAAEAClN8AH7xi1/M8uXL87rX\\\n",
       "vS6rV6/O97///XoPCQBgThUdgF/+8pezefPm3HPPPfnxj3+c973vfbn55ptz+PDheg8NAGDOtFSr\\\n",
       "1Wq9B1Ev7373u/Oud70rDz30UG3ZypUrs379+mzbtu1Vf390dDTt7e0ZGRlJW1vbXA4VALhAfH4X\\\n",
       "PAN48uTJ7N+/P+vWrZu0fN26dXnyySdn/J2xsbGMjo5OegAANJpiA/CXv/xlTp06lc7OzknLOzs7\\\n",
       "Mzw8POPvbNu2Le3t7bXHsmXL5mOoAAAXVLEBOK6lpWXS82q1Om3ZuLvvvjsjIyO1x5EjR+ZjiAAA\\\n",
       "F9Rl9R5AvSxevDiXXnrptNm+o0ePTpsVHNfa2prW1tb5GB4AwJwpdgZwwYIFWb16dfbs2TNp+Z49\\\n",
       "e7J27do6jQoAYO4VOwOYJHfddVduv/32XHfddVmzZk0efvjhHD58OJs2bar30AAA5kzRAfiXf/mX\\\n",
       "+dWvfpW///u/z4svvpju7u5885vfzFve8pZ6Dw0AYM4UfR3A8+U6QgDQeHx+F3wMIABAqQQgAEBh\\\n",
       "BCAAQGEEIABAYQQgAEBhBCAAQGEEIABAYQQgAEBhBCAAQGEEIABAYQQgAEBhBCAAQGEEIABAYQQg\\\n",
       "AEBhBCAAQGEEIABAYQQgAEBhBCAAQGEEIABAYQQgAEBhBCAAQGEEIABAYQQgAEBhBCAAQGEEIABA\\\n",
       "YQQgAEBhBCAAQGEEIABAYQQgAEBhBCAAQGEEIABAYQQgAEBhBCAAQGEEIABAYQQgAEBhBCAAQGEE\\\n",
       "IABAYQQgAEBhBCAAQGEEIABAYQQgAEBhBCAAQGEEIABAYQQgAEBhBCAAQGGaMgDvvfferF27Npdf\\\n",
       "fnne8IY3zLjN4cOHc+utt+b1r399Fi9enI9//OM5efLk/A4UAKAOLqv3AObCyZMn85GPfCRr1qzJ\\\n",
       "P//zP09bf+rUqdxyyy3p6OjID37wg/zqV79Kb29vqtVqtm/fXocRAwDMn6YMwC1btiRJdu7cOeP6\\\n",
       "3bt35+DBgzly5EiWLFmSJPmHf/iHbNiwIffee2/a2trma6gAAPOuKb8CfjU//OEP093dXYu/JLnp\\\n",
       "ppsyNjaW/fv3z/p7Y2NjGR0dnfQAAGg0RQbg8PBwOjs7Jy278sors2DBggwPD8/6e9u2bUt7e3vt\\\n",
       "sWzZsrkeKgDABdcwAVipVNLS0nLGx759+8769VpaWqYtq1arMy4fd/fdd2dkZKT2OHLkyGv6bwEA\\\n",
       "qKeGOQawv78/PT09Z9zm6quvPqvX6urqyo9+9KNJy15++eX87ne/mzYzOFFra2taW1vP6t8AALhY\\\n",
       "NUwALl68OIsXL74gr7VmzZrce++9efHFF/OmN70pyekTQ1pbW7N69eoL8m8AAFysGiYAz8Xhw4fz\\\n",
       "0ksv5fDhwzl16lSeeeaZJMk111yTK664IuvWrcuqVaty++2354EHHshLL72UT3ziE/noRz/qDGAA\\\n",
       "oOk1ZQB+5jOfyaOPPlp7fu211yZJnnjiidxwww259NJL841vfCN33HFH3vOe92ThwoW57bbb8rnP\\\n",
       "fa5eQwYAmDct1Wq1Wu9BNKrR0dG0t7dnZGTEzCEANAif3w10FjAAABeGAAQAKIwABAAojAAEACiM\\\n",
       "AAQAKIwABAAojAAEACiMAAQAKIwABAAojAAEACiMAAQAKIwABAAojAAEACiMAAQAKIwABAAojAAE\\\n",
       "ACiMAAQAKIwABAAojAAEACiMAAQAKIwABAAojAAEACiMAAQAKIwABAAojAAEACiMAAQAKIwABAAo\\\n",
       "jAAEACiMAAQAKIwABAAojAAEACiMAAQAKIwABAAojAAEACiMAAQAKIwABAAojAAEACiMAAQAKIwA\\\n",
       "BAAojAAEACiMAAQAKIwABAAojAAEACiMAAQAKIwABAAoTNMF4H/913/lr//6r7N8+fIsXLgwf/AH\\\n",
       "f5CBgYGcPHly0naHDx/Orbfemte//vVZvHhxPv7xj0/bBgCgGV1W7wFcaD/72c/yyiuvZMeOHbnm\\\n",
       "mmty4MCBfPSjH82JEyfyuc99Lkly6tSp3HLLLeno6MgPfvCD/OpXv0pvb2+q1Wq2b99e5/8CAIC5\\\n",
       "1VKtVqv1HsRce+CBB/LQQw/lP//zP5Mk3/rWt/IXf/EXOXLkSJYsWZIk2bVrVzZs2JCjR4+mra3t\\\n",
       "rF53dHQ07e3tGRkZOevfAQDqy+d3E34FPJORkZFcddVVtec//OEP093dXYu/JLnpppsyNjaW/fv3\\\n",
       "z/o6Y2NjGR0dnfQAAGg0TR+A//Ef/5Ht27dn06ZNtWXDw8Pp7OyctN2VV16ZBQsWZHh4eNbX2rZt\\\n",
       "W9rb22uPZcuWzdm4AQDmSsMEYKVSSUtLyxkf+/btm/Q7L7zwQv7sz/4sH/nIR/I3f/M3k9a1tLRM\\\n",
       "+zeq1eqMy8fdfffdGRkZqT2OHDlyYf7jAADmUcOcBNLf35+enp4zbnP11VfXfn7hhRfygQ98IGvW\\\n",
       "rMnDDz88abuurq786Ec/mrTs5Zdfzu9+97tpM4MTtba2prW19dwHDwBwEWmYAFy8eHEWL158Vtv+\\\n",
       "4he/yAc+8IGsXr06jzzySC65ZPJE55o1a3LvvffmxRdfzJve9KYkye7du9Pa2prVq1df8LEDAFxM\\\n",
       "mu4s4BdeeCHXX3993vzmN+df/uVfcumll9bWdXV1JTl9GZg/+qM/SmdnZx544IG89NJL2bBhQ9av\\\n",
       "X39Ol4FxFhEANB6f3w00A3i2du/eneeeey7PPfdcli5dOmndeOteeuml+cY3vpE77rgj73nPe7Jw\\\n",
       "4cLcdttttesEAgA0s6abAZxP/oIAgMbj87uBzgIGAODCEIAAAIURgAAAhRGAAACFEYAAAIURgABA\\\n",
       "3VUqlQwNDZ1xm6GhoVQqlfkZUJNruusAAgCNpVKpZMuWLbXnfX1907YZGhpKf3//pN/htTMDCADU\\\n",
       "zdT46+/vnzYTODX+tmzZIgDPkwAEAOpiavyNmxiBU+NvnAg8P+4Ech5cSRwAXpvZ4m+ilStX5tCh\\\n",
       "Q2fcZmBg4JxD0Oe3GUAAoA46OjpmXded7iSpxd/483N9HWYnAAGAedfX15fBwcFpy3vTm+3Znp70\\\n",
       "JEl60pPt2Z7e9E7bdnBwcMYTRnh1vgI+D6aQAeD8TDzGrzvd2Z7ttXUjGUl72mvP78ydOZADSc4v\\\n",
       "/nx+mwEEAOpo4kzggRzIjuyorZsYfzuy44LEH6eZATwP/oIAgAtj1apVtWP+Hs/jk+JvJCNZn/VJ\\\n",
       "Tp8YcvDgwfP6t3x+mwEEAOpsaGioFn896ZkUf8npmcDxYwIPHTr0qncM4dUJQACgbqYeA7gxG2vr\\\n",
       "RjJS+3ljNtbOBp7pYtGcGwEIANTF1Is8H8iB7MzOJKeP+Vuf9bVjAndmZ+0YwEQEni/HAJ4HxxAA\\\n",
       "wGsz2x0+ktMzgRNjb+rziV7LCSE+v80AAgB1cOzYsVnXjcfeypUrJz0/19dhdgIQAJh3lUolAwMD\\\n",
       "s64fHBzMwYMHZ7xY9LjXchs4ThOAAEBdzBaBE7/Wne2OIeLv/AhAAKBupkbgTMf0TY1A8Xf+Lqv3\\\n",
       "AACAso3HXEdHx6wndIwvP3bsmPi7AJwFfB6cRQQAkw1t+k7t575//GAdRzI7n9++AgYAKI4ABAAo\\\n",
       "jGMAAYAL5mL92pfJzAACABRGAAIAFEYAAgAURgACABRGAAIAFEYAAgAURgACABRGAAIAFEYAAgAU\\\n",
       "RgACABRGAAIAFEYAAgAURgACABTmsnoPoJFVq9UkyejoaJ1HAgCcrfHP7fHP8RIJwPNw/PjxJMmy\\\n",
       "ZcvqPBIA4FwdP3487e3t9R5GXbRUS87f8/TKK6/khRdeyKJFi9LS0lLv4TSF0dHRLFu2LEeOHElb\\\n",
       "W1u9h9O07Of5Y1/PH/t6/jT6vq5Wqzl+/HiWLFmSSy4p82g4M4Dn4ZJLLsnSpUvrPYym1NbW1pBv\\\n",
       "Ko3Gfp4/9vX8sa/nTyPv61Jn/saVmb0AAAUTgAAAhRGAXFRaW1szMDCQ1tbWeg+lqdnP88e+nj/2\\\n",
       "9fyxrxufk0AAAApjBhAAoDACEACgMAIQAKAwAhAAoDACkIvGvffem7Vr1+byyy/PG97whhm3OXz4\\\n",
       "cG699da8/vWvz+LFi/Pxj388J0+enN+BNoEvfvGLWb58eV73utdl9erV+f73v1/vITW8733ve7n1\\\n",
       "1luzZMmStLS05PHHH5+0vlqtplKpZMmSJVm4cGFuuOGG/PSnP63PYBvYtm3b8sd//MdZtGhR3vjG\\\n",
       "N2b9+vX593//90nb2NcXxkMPPZR3vOMdtYs9r1mzJt/61rdq6+3nxiYAuWicPHkyH/nIR/Kxj31s\\\n",
       "xvWnTp3KLbfckhMnTuQHP/hBdu3alX/7t3/L3/7t387zSBvbl7/85WzevDn33HNPfvzjH+d973tf\\\n",
       "br755hw+fLjeQ2toJ06cyDvf+c4MDg7OuP7+++/Pgw8+mMHBwTz99NPp6urKjTfeWLunOGdn7969\\\n",
       "6evry1NPPZU9e/bk97//fdatW5cTJ07UtrGvL4ylS5fmvvvuy759+7Jv37588IMfzIc+9KFa5NnP\\\n",
       "Da4KF5lHHnmk2t7ePm35N7/5zeoll1xS/cUvflFb9qUvfana2tpaHRkZmccRNrY/+ZM/qW7atGnS\\\n",
       "sre//e3Vv/u7v6vTiJpPkupXv/rV2vNXXnml2tXVVb3vvvtqy377299W29vbq//4j/9YhxE2j6NH\\\n",
       "j1aTVPfu3VutVu3ruXbllVdW/+mf/sl+bgJmAGkYP/zhD9Pd3Z0lS5bUlt10000ZGxvL/v376ziy\\\n",
       "xnHy5Mns378/69atm7R83bp1efLJJ+s0qub3/PPPZ3h4eNJ+b21tzfXXX2+/n6eRkZEkyVVXXZXE\\\n",
       "vp4rp06dyq5du3LixImsWbPGfm4CApCGMTw8nM7OzknLrrzyyixYsCDDw8N1GlVj+eUvf5lTp05N\\\n",
       "24+dnZ324Rwa37f2+4VVrVZz11135b3vfW+6u7uT2NcX2rPPPpsrrrgira2t2bRpU7761a9m1apV\\\n",
       "9nMTEIDMqUqlkpaWljM+9u3bd9av19LSMm1ZtVqdcTmzm7q/7MP5Yb9fWP39/fnJT36SL33pS9PW\\\n",
       "2dcXxtve9rY888wzeeqpp/Kxj30svb29OXjwYG29/dy4Lqv3AGhu/f396enpOeM2V1999Vm9VldX\\\n",
       "V370ox9NWvbyyy/nd7/73bS/QpnZ4sWLc+mll077C/3o0aP24Rzq6upKcnp26k1velNtuf3+2t15\\\n",
       "5535+te/nu9973tZunRpbbl9fWEtWLAg11xzTZLkuuuuy9NPP50vfOEL+dSnPpXEfm5kZgCZU4sX\\\n",
       "L87b3/72Mz5e97rXndVrrVmzJgcOHMiLL75YW7Z79+60trZm9erVc/Wf0FQWLFiQ1atXZ8+ePZOW\\\n",
       "79mzJ2vXrq3TqJrf8uXL09XVNWm/nzx5Mnv37rXfz1G1Wk1/f3++8pWv5Dvf+U6WL18+ab19Pbeq\\\n",
       "1WrGxsbs5yZgBpCLxuHDh/PSSy/l8OHDOXXqVJ555pkkyTXXXJMrrrgi69aty6pVq3L77bfngQce\\\n",
       "yEsvvZRPfOIT+ehHP5q2trb6Dr6B3HXXXbn99ttz3XXXZc2aNXn44Ydz+PDhbNq0qd5Da2i//vWv\\\n",
       "89xzz9WeP//883nmmWdy1VVX5c1vfnM2b96crVu3ZsWKFVmxYkW2bt2ayy+/PLfddlsdR914+vr6\\\n",
       "8thjj+VrX/taFi1aVJvNbm9vz8KFC9PS0mJfXyCf/vSnc/PNN2fZsmU5fvx4du3ale9+97v59re/\\\n",
       "bT83g/qdgAyT9fb2VpNMezzxxBO1bX7+859Xb7nllurChQurV111VbW/v7/629/+tn6DblBDQ0PV\\\n",
       "t7zlLdUFCxZU3/Wud9UuocFr98QTT8z4/9/e3t5qtXr68iQDAwPVrq6uamtra/X9739/9dlnn63v\\\n",
       "oBvQTPs4SfWRRx6pbWNfXxh/9Vd/VXuf6OjoqP7pn/5pdffu3bX19nNja6lWq9X5z04AAOrFMYAA\\\n",
       "AIURgAAAhRGAAACFEYAAAIURgAAAhRGAAACFEYAAAIURgAAAhRGAAACFEYAAAIURgAAAhRGAAACF\\\n",
       "EYAAAIURgAAAhRGAAACFEYAAAIURgAAAhRGAAACFEYAAAIURgAAAhRGAAACFEYAAAIURgAAAhRGA\\\n",
       "AACFEYAAAIURgAAAhRGAAACFEYAAAIURgAAAhRGAAACFEYAAAIX5/wGiYQZ6CI1umgAAAABJRU5E\\\n",
       "rkJggg==\\\n",
       "\"\n",
       "  frames[4] = \"data:image/png;base64,iVBORw0KGgoAAAANSUhEUgAAAoAAAAHgCAYAAAA10dzkAAAAOnRFWHRTb2Z0d2FyZQBNYXRwbG90\\\n",
       "bGliIHZlcnNpb24zLjEwLjYsIGh0dHBzOi8vbWF0cGxvdGxpYi5vcmcvq6yFwwAAAAlwSFlzAAAP\\\n",
       "YQAAD2EBqD+naQAAJi5JREFUeJzt3X1snWdh//+P2yompbFpFWMTJdBoDZDMX1hJN5Tw0MLUdF1X\\\n",
       "ESGhWZUqR9tQQu2iqEOwUgmfTGpSWlaBYtOl2tR0f5SgaVDQjwclEiWASlETUdGQMKlbRyJaL4FW\\\n",
       "dsjAgfT8/sh85sc0aWKfnHO9XuhIPvd9++TqLXTO29e5H1qq1Wo1AAAU45J6DwAAgPklAAEACiMA\\\n",
       "AQAKIwABAAojAAEACiMAAQAKIwABAAojAAEACiMAAQAKIwABAAojAAEACiMAAQAKIwABAAojAAEA\\\n",
       "CiMAAQAKIwABAAojAAEACiMAAQAKIwABAAojAAEACiMAAQAKIwABAAojAAEACiMAAQAKIwABAAoj\\\n",
       "AAEACiMAAQAKIwABAAojAAEACiMAAQAKIwABAAojAAEACiMAAQAKIwABAAojAAEACiMAAQAKIwAB\\\n",
       "AAojAAEACiMAAQAKIwABAAojAAEACiMAAQAKIwABAAojAAEACiMAAQAKIwABAAojAAEACiMAAQAK\\\n",
       "IwABAAojAAEACiMAAQAKIwABAAojAAEACiMAAQAKIwABAAojAAEACnNZvQfQyF555ZW88MILWbRo\\\n",
       "UVpaWuo9HADgLFSr1Rw/fjxLlizJJZeUORcmAM/DCy+8kGXLltV7GADAa3DkyJEsXbq03sOoCwF4\\\n",
       "HhYtWpTk9P+B2tra6jwaAOBsjI6OZtmyZbXP8RIJwPMw/rVvW1ubAASABlPy4VtlfvENAFAwAQgA\\\n",
       "UBgBCABQGAEIAFAYAQhJKpVKhoaGzrjN0NBQKpXK/AwIAOaQs4ApXqVSyZYtW2rP+/r6pm0zNDSU\\\n",
       "/v7+Sb8DAI3KDCBFmxp//f3902YCp8bfli1bBCAADU0AUqyp8TduYgROjb9xIhCARtZSrVar9R5E\\\n",
       "oxodHU17e3tGRkZcCLrBzBZ/E61cuTKHDh064zYDAwNCEKDB+Pw2A0ihOjo6Zl3Xne4kqcXf+PNz\\\n",
       "fR0AuFgJQIrU19eXwcHBact705vt2Z6e9CRJetKT7dme3vRO23ZwcHDGE0YA4GLnK+DzYAq58U08\\\n",
       "xq873dme7bV1IxlJe9prz+/MnTmQA0nEH0Aj8/ltBpDCTZwJPJAD2ZEdtXUT429Hdog/AJqGGcDz\\\n",
       "4C+I5rFq1araMX+P5/FJ8TeSkazP+iSnTww5ePBgPYYIwAXi89sMIGRoaKgWfz3pmRR/yemZwPFj\\\n",
       "Ag8dOvSqdwwBgIudAKRoU48B3JiNtXUjGan9vDEba2cDz3SxaABoJAKQYk29yPOBHMjO7Exy+pi/\\\n",
       "9VlfOyZwZ3bWjgFMRCAAjc0xgOfBMQSNa7Y7fCSnZwInxt7U5xM5IQSg8fj8NgNIoY4dOzbruvHY\\\n",
       "W7ly5aTn5/o6AHCxEoAUqVKpZGBgYNb1g4ODOXjw4IwXix7nNnAANCoBSLFmi8CJX+vOdscQ8QdA\\\n",
       "IxOAFG1qBM50TN/UCBR/ADS6y+o9AKi38Zjr6OiY9YSO8eXHjh0Tf0DDq1QqZ3zPS06fLOc9r3kJ\\\n",
       "QEjO6g3O2b5AM6hUKtmyZUvt+UzvbVOvlCACm4+vgAGgEFPjb6Zrmk6Nvy1btgjAJmQGkOZTmXAr\\\n",
       "t8rI7NsBFGRq/I0bj72+vr5Zr5E6/ntCsHkIQABocrPF37jxmcDx+6LPRAQ2F18BA0CT6+jomHXd\\\n",
       "+H3Ox+Nv/Pm5vg6NRQDSfCoj//cAYNZrmvamN9uzPT3pSZL0pCfbsz296Z22rVtfNhf3Aj4P7iUI\\\n",
       "QCOZeIxfd7qzPdtr60Yykvb83zHUd+bO2q0wmy3+fH6bAQSAYkycCTyQA9mRHbV1E+NvR3Y0bfxx\\\n",
       "mhnA8+AvCAAa0apVq2rH/D2exyfF30hGsj7rkyQrV67MwYMH6zHEOeXzu4lnAB966KG84x3vSFtb\\\n",
       "W9ra2rJmzZp861vfqq2vVqupVCpZsmRJFi5cmBtuuCE//elP6zhiAJh7E8/27UnPpPhLTs8Ejh8T\\\n",
       "eOjQoWnXCaQ5NG0ALl26NPfdd1/27duXffv25YMf/GA+9KEP1SLv/vvvz4MPPpjBwcE8/fTT6erq\\\n",
       "yo033pjjx4/XeeQAMDemHgO4MRtr60byfyfObczG2tnAM10smsbXtAF466235s///M/z1re+NW99\\\n",
       "61tz77335oorrshTTz2VarWaz3/+87nnnnvy4Q9/ON3d3Xn00UfzP//zP3nsscfqPXQAuOCmXuT5\\\n",
       "QA5kZ3YmOX3M3/qsrx0TuDM7a8cAJiKwGRVxIehTp07lX//1X3PixImsWbMmzz//fIaHh7Nu3bra\\\n",
       "Nq2trbn++uvz5JNPZuPGjWd4NQBoLLPd4ePRPJr92V+LvV3ZlQP/+7+pJt4xhMbXtDOASfLss8/m\\\n",
       "iiuuSGtrazZt2pSvfvWrWbVqVYaHh5MknZ2dk7bv7OysrZvJ2NhYRkdHJz0A4GJ37NixWdeNx97K\\\n",
       "lSsnPT/X16GxNHUAvu1tb8szzzyTp556Kh/72MfS29s76WymlpaWSdtXq9Vpyybatm1b2tvba49l\\\n",
       "y5bN2dgB4EKpVCoZGBiYdf3g4GAOHjw448Wixw0MDLgNXBNp6gBcsGBBrrnmmlx33XXZtm1b3vnO\\\n",
       "d+YLX/hCurq6kmTabN/Ro0enzQpOdPfdd2dkZKT2OHLkyJyOHwAulNkicOJ1/ma7Y4j4az5NHYBT\\\n",
       "VavVjI2NZfny5enq6sqePXtq606ePJm9e/dm7dq1s/5+a2tr7bIy4w8AaBRTI3CmizxPjUDx15ya\\\n",
       "9iSQT3/607n55puzbNmyHD9+PLt27cp3v/vdfPvb305LS0s2b96crVu3ZsWKFVmxYkW2bt2ayy+/\\\n",
       "PLfddlu9hw4Ac2Y85jo6OmY9oWN8+bFjx8Rfk2raAPzv//7v3H777XnxxRfT3t6ed7zjHfn2t7+d\\\n",
       "G2+8MUnyyU9+Mr/5zW9yxx135OWXX8673/3u7N69O4sWLarzyAHg3F39d9+o/fxf991yxm3PJuqc\\\n",
       "7dvc3AruPLiVDAAXi3MJwNL5/C7sGEAAAJr4K2AAKIlZP86FGUAAgMIIQACAwghAAIDCCEAAgMII\\\n",
       "QACAwghAAIDCCEAAgMIIQACAwghAAIDCCEAAgMIIQACAwghAAIDCCEAAgMIIQACAwghAAIDCCEAA\\\n",
       "gMIIQACAwghAAIDCCEAAgMIIQACAwghAAIDCCEAAgMIIQACAwghAAIDCCMAmUalUMjQ0dMZthoaG\\\n",
       "UqlU5mdAAMBF67J6D4DzV6lUsmXLltrzvr6+adsMDQ2lv79/0u8AAGUyA9jgpsZff3//tJnAqfG3\\\n",
       "ZcsWAQgABROADWxq/I2bGIFT42+cCASAcrVUq9VqvQfRqEZHR9Pe3p6RkZG0tbXN6789W/xNtHLl\\\n",
       "yhw6dOiM2wwMDAhBAIpSz8/vi4UZwAbV0dEx67rudCdJLf7Gn5/r6wAAzUkANqi+vr4MDg5OW96b\\\n",
       "3mzP9vSkJ0nSk55sz/b0pnfatoODgzOeMAIANDdfAZ+Hi2EKeeIxft3pzvZsr60byUja0157fmfu\\\n",
       "zIEcSCL+ACjXxfD5XW9mABvcxJnAAzmQHdlRWzcx/nZkh/gDAJKYATwvF9NfEKtWraod8/d4Hp8U\\\n",
       "fyMZyfqsT3L6xJCDBw/WY4gAcFG4mD6/68UMYBMYGhqqxV9PeibFX3J6JnD8mMBDhw696h1DAIDm\\\n",
       "JgAb3NRjADdmY23dSEZqP2/MxtrZwDNdLBoAKIcAbGBTL/J8IAeyMzuTnD7mb33W144J3JmdtWMA\\\n",
       "ExEIACVzDOB5qOcxBLPd4SM5PRM4MfamPp/ICSEAlMYxgGYAG9axY8dmXTceeytXrpz0/FxfBwBo\\\n",
       "TgKwQVUqlQwMDMy6fnBwMAcPHpzxYtHj3AYOAMokABvYbBE48Wvd2e4YIv4AoFwCsMFNjcCZjumb\\\n",
       "GoHiDwDKdlm9B8D5G4+5jo6OWU/oGF9+7Ngx8QcAhWvas4C3bduWr3zlK/nZz36WhQsXZu3atfns\\\n",
       "Zz+bt73tbbVtqtVqtmzZkocffjgvv/xy3v3ud2doaCh/+Id/eFb/xlyeRXTo7StrP6/82aEL+toA\\\n",
       "UDJnATfxV8B79+5NX19fnnrqqezZsye///3vs27dupw4caK2zf33358HH3wwg4ODefrpp9PV1ZUb\\\n",
       "b7wxx48fr+PIAQDmVtPOAE517NixvPGNb8zevXvz/ve/P9VqNUuWLMnmzZvzqU99KkkyNjaWzs7O\\\n",
       "fPazn83GjRtf5RXNAAJAIzID2MQzgFONjJy+LdpVV12VJHn++eczPDycdevW1bZpbW3N9ddfnyef\\\n",
       "fLIuY5xo5c8O1R4AABdSESeBVKvV3HXXXXnve9+b7u7T98MdHh5OknR2dk7atrOzMz//+c9nfJ2x\\\n",
       "sbGMjY3Vno+Ojs7RiAEA5k4RM4D9/f35yU9+ki996UvT1rW0tEx6Xq1Wpy0bt23btrS3t9cey5Yt\\\n",
       "m5PxAgDMpaYPwDvvvDNf//rX88QTT2Tp0qW15V1dXUn+byZw3NGjR6fNCo67++67MzIyUnscOXJk\\\n",
       "7gYOADBHmjYAq9Vq+vv785WvfCXf+c53snz58knrly9fnq6uruzZs6e27OTJk9m7d2/Wrl0742u2\\\n",
       "tramra1t0gMAoNE07TGAfX19eeyxx/K1r30tixYtqs30tbe3Z+HChWlpacnmzZuzdevWrFixIitW\\\n",
       "rMjWrVtz+eWX57bbbqvz6AEA5k7TBuBDDz2UJLnhhhsmLX/kkUeyYcOGJMknP/nJ/OY3v8kdd9xR\\\n",
       "uxD07t27s2jRonkeLQDA/CnmOoBzwXWEAKDx+Pxu4mMAAQCYmQAEACiMAAQAKIwABAAojAAEACiM\\\n",
       "AAQAKIwABAAojAAEACiMAAQAKIwABAAojAAEACiMAAQAKIwABAAojAAEACiMAAQAKIwABAAojAAE\\\n",
       "ACiMAAQAKIwABAAojAAEACiMAAQAKIwABAAojAAEACiMAAQAKIwABAAojAAEACiMAAQAKIwABAAo\\\n",
       "jAAEACiMAAQAKIwABAAojAAEACiMAAQAKIwABAAojAAEACiMAAQAKIwABAAojAAEACiMAAQAKIwA\\\n",
       "BAAojAAEACiMAAQAKIwABAAojAAEACiMAAQAKEzTBuD3vve93HrrrVmyZElaWlry+OOPT1pfrVZT\\\n",
       "qVSyZMmSLFy4MDfccEN++tOf1mewAADzqGkD8MSJE3nnO9+ZwcHBGdfff//9efDBBzM4OJinn346\\\n",
       "XV1dufHGG3P8+PF5HikXq0qlkqGhoTNuMzQ0lEqlMj8DAoAL5LJ6D2Cu3Hzzzbn55ptnXFetVvP5\\\n",
       "z38+99xzTz784Q8nSR599NF0dnbmsccey8aNG+dzqFyEKpVKtmzZUnve19c3bZuhoaH09/dP+h0A\\\n",
       "aARNOwN4Js8//3yGh4ezbt262rLW1tZcf/31efLJJ+s4Mi4GU+Ovv79/2kzg1PjbsmWLAASgYRQZ\\\n",
       "gMPDw0mSzs7OScs7Oztr62YyNjaW0dHRSQ+ay9T4GzcxAqfG3zgRCHBuHGpTP037FfDZaGlpmfS8\\\n",
       "Wq1OWzbRtm3bZowDmsNs8TduPAIPHTo06zbjv+/NCuDMHGpTX0XOAHZ1dSXJtNm+o0ePTpsVnOju\\\n",
       "u+/OyMhI7XHkyJE5HSfzq6OjY9Z13elOklr8jT8/19cBwKE2F4MiA3D58uXp6urKnj17astOnjyZ\\\n",
       "vXv3Zu3atbP+Xmtra9ra2iY9aB59fX0znjXem95sz/b0pCdJ0pOebM/29KZ32raDg4Mz/hULwGkO\\\n",
       "tbk4NO1XwL/+9a/z3HPP1Z4///zzeeaZZ3LVVVflzW9+czZv3pytW7dmxYoVWbFiRbZu3ZrLL788\\\n",
       "t912Wx1HTb2Nx9v4G093urMhG5IkG7MxPelJe9qTJBuyIfuzPwdyIIn4A3g1DrW5eDTtDOC+ffty\\\n",
       "7bXX5tprr02S3HXXXbn22mvzmc98JknyyU9+Mps3b84dd9yR6667Lr/4xS+ye/fuLFq0qJ7D5iIw\\\n",
       "cSbwQA5kR3bU1o3HX5LsyA7xB3AOHGpz8WipVqvVeg+iUY2Ojqa9vT0jIyO+Dm5Cq1atqr0RPZ7H\\\n",
       "J8XfSEayPuuTJCtXrszBgwfrMUSAhjPT17u96c2GbMiO7Miu7EpPerIxG7MzO/NoHp207YX4g9vn\\\n",
       "dxPPAML5mPgVxMSvfce1p712TOChQ4de9TIGAJw29XjrqYfaPJ7HszGnb8iwIRsmzQT6tuXCEYAw\\\n",
       "xcS/TrvTXXsjSk7P/I3bmI21N6aZzmADYGYOtak/AQgTTP1q4kAOZGd2Jjn9RrQ+62tvVDuzs/bG\\\n",
       "lIhAgHPR19eXlStXJkl2ZdekP7CT039w78quJKcPtRF/F5YAhP8122UHHs2juTN31t6IdmVX7syd\\\n",
       "045LSUQgwNlyqE19CUD4X8eOHZt13fhM3/hfqxNn/s7ldQBwqM3FQADC/6pUKhkYGJh1/eDgYA4e\\\n",
       "PDjjxaLHDQwMuDYVwBk41Obi4DIw58Fp5M1ppguVTj34eKavi8UfwJnNdqhNcnomcGLsTX0+0fme\\\n",
       "EOLz2wwgTDN1JnCmN5qplzEQfwCvzqE2F4+mvRUcnI/xmOvo6Jj1r8zx5ceOHRN/AGdh/L1yttvB\\\n",
       "jf/BfaaZQn9wXxi+Aj4PppAB4NzV+1Abn99mAGli/+/R/1f7+dneZ+s4EgAmmjoTONuhNklqEWjm\\\n",
       "78ISgADAvHOoTX0JQADgNfmHv/yL2s9/++X/75x//2yizh1A5oYApGn52hcAZuYyMAAAhTEDCAC8\\\n",
       "Jq/la18uDmYAAQAKIwABAAojAAEACiMAAQAKIwABAAojAAEACiMAAQAKIwABAAojAAEACiMAAQAK\\\n",
       "IwABAAojAAEACiMAAQAKIwABAAojAAEACiMAAQAKIwABAAojAAEACiMAAQAKIwABAAojAAEACiMA\\\n",
       "AQAKIwABAAojAAEACiMAAQAKIwABAAojAAEACiMAAQAKIwABAAojAAEAClN8AH7xi1/M8uXL87rX\\\n",
       "vS6rV6/O97///XoPCQBgThUdgF/+8pezefPm3HPPPfnxj3+c973vfbn55ptz+PDheg8NAGDOtFSr\\\n",
       "1Wq9B1Ev7373u/Oud70rDz30UG3ZypUrs379+mzbtu1Vf390dDTt7e0ZGRlJW1vbXA4VALhAfH4X\\\n",
       "PAN48uTJ7N+/P+vWrZu0fN26dXnyySdn/J2xsbGMjo5OegAANJpiA/CXv/xlTp06lc7OzknLOzs7\\\n",
       "Mzw8POPvbNu2Le3t7bXHsmXL5mOoAAAXVLEBOK6lpWXS82q1Om3ZuLvvvjsjIyO1x5EjR+ZjiAAA\\\n",
       "F9Rl9R5AvSxevDiXXnrptNm+o0ePTpsVHNfa2prW1tb5GB4AwJwpdgZwwYIFWb16dfbs2TNp+Z49\\\n",
       "e7J27do6jQoAYO4VOwOYJHfddVduv/32XHfddVmzZk0efvjhHD58OJs2bar30AAA5kzRAfiXf/mX\\\n",
       "+dWvfpW///u/z4svvpju7u5885vfzFve8pZ6Dw0AYM4UfR3A8+U6QgDQeHx+F3wMIABAqQQgAEBh\\\n",
       "BCAAQGEEIABAYQQgAEBhBCAAQGEEIABAYQQgAEBhBCAAQGEEIABAYQQgAEBhBCAAQGEEIABAYQQg\\\n",
       "AEBhBCAAQGEEIABAYQQgAEBhBCAAQGEEIABAYQQgAEBhBCAAQGEEIABAYQQgAEBhBCAAQGEEIABA\\\n",
       "YQQgAEBhBCAAQGEEIABAYQQgAEBhBCAAQGEEIABAYQQgAEBhBCAAQGEEIABAYQQgAEBhBCAAQGEE\\\n",
       "IABAYQQgAEBhBCAAQGEEIABAYQQgAEBhBCAAQGEEIABAYQQgAEBhBCAAQGGaMgDvvfferF27Npdf\\\n",
       "fnne8IY3zLjN4cOHc+utt+b1r399Fi9enI9//OM5efLk/A4UAKAOLqv3AObCyZMn85GPfCRr1qzJ\\\n",
       "P//zP09bf+rUqdxyyy3p6OjID37wg/zqV79Kb29vqtVqtm/fXocRAwDMn6YMwC1btiRJdu7cOeP6\\\n",
       "3bt35+DBgzly5EiWLFmSJPmHf/iHbNiwIffee2/a2trma6gAAPOuKb8CfjU//OEP093dXYu/JLnp\\\n",
       "ppsyNjaW/fv3z/p7Y2NjGR0dnfQAAGg0RQbg8PBwOjs7Jy278sors2DBggwPD8/6e9u2bUt7e3vt\\\n",
       "sWzZsrkeKgDABdcwAVipVNLS0nLGx759+8769VpaWqYtq1arMy4fd/fdd2dkZKT2OHLkyGv6bwEA\\\n",
       "qKeGOQawv78/PT09Z9zm6quvPqvX6urqyo9+9KNJy15++eX87ne/mzYzOFFra2taW1vP6t8AALhY\\\n",
       "NUwALl68OIsXL74gr7VmzZrce++9efHFF/OmN70pyekTQ1pbW7N69eoL8m8AAFysGiYAz8Xhw4fz\\\n",
       "0ksv5fDhwzl16lSeeeaZJMk111yTK664IuvWrcuqVaty++2354EHHshLL72UT3ziE/noRz/qDGAA\\\n",
       "oOk1ZQB+5jOfyaOPPlp7fu211yZJnnjiidxwww259NJL841vfCN33HFH3vOe92ThwoW57bbb8rnP\\\n",
       "fa5eQwYAmDct1Wq1Wu9BNKrR0dG0t7dnZGTEzCEANAif3w10FjAAABeGAAQAKIwABAAojAAEACiM\\\n",
       "AAQAKIwABAAojAAEACiMAAQAKIwABAAojAAEACiMAAQAKIwABAAojAAEACiMAAQAKIwABAAojAAE\\\n",
       "ACiMAAQAKIwABAAojAAEACiMAAQAKIwABAAojAAEACiMAAQAKIwABAAojAAEACiMAAQAKIwABAAo\\\n",
       "jAAEACiMAAQAKIwABAAojAAEACiMAAQAKIwABAAojAAEACiMAAQAKIwABAAojAAEACiMAAQAKIwA\\\n",
       "BAAojAAEACiMAAQAKIwABAAojAAEACiMAAQAKIwABAAoTNMF4H/913/lr//6r7N8+fIsXLgwf/AH\\\n",
       "f5CBgYGcPHly0naHDx/Orbfemte//vVZvHhxPv7xj0/bBgCgGV1W7wFcaD/72c/yyiuvZMeOHbnm\\\n",
       "mmty4MCBfPSjH82JEyfyuc99Lkly6tSp3HLLLeno6MgPfvCD/OpXv0pvb2+q1Wq2b99e5/8CAIC5\\\n",
       "1VKtVqv1HsRce+CBB/LQQw/lP//zP5Mk3/rWt/IXf/EXOXLkSJYsWZIk2bVrVzZs2JCjR4+mra3t\\\n",
       "rF53dHQ07e3tGRkZOevfAQDqy+d3E34FPJORkZFcddVVtec//OEP093dXYu/JLnpppsyNjaW/fv3\\\n",
       "z/o6Y2NjGR0dnfQAAGg0TR+A//Ef/5Ht27dn06ZNtWXDw8Pp7OyctN2VV16ZBQsWZHh4eNbX2rZt\\\n",
       "W9rb22uPZcuWzdm4AQDmSsMEYKVSSUtLyxkf+/btm/Q7L7zwQv7sz/4sH/nIR/I3f/M3k9a1tLRM\\\n",
       "+zeq1eqMy8fdfffdGRkZqT2OHDlyYf7jAADmUcOcBNLf35+enp4zbnP11VfXfn7hhRfygQ98IGvW\\\n",
       "rMnDDz88abuurq786Ec/mrTs5Zdfzu9+97tpM4MTtba2prW19dwHDwBwEWmYAFy8eHEWL158Vtv+\\\n",
       "4he/yAc+8IGsXr06jzzySC65ZPJE55o1a3LvvffmxRdfzJve9KYkye7du9Pa2prVq1df8LEDAFxM\\\n",
       "mu4s4BdeeCHXX3993vzmN+df/uVfcumll9bWdXV1JTl9GZg/+qM/SmdnZx544IG89NJL2bBhQ9av\\\n",
       "X39Ol4FxFhEANB6f3w00A3i2du/eneeeey7PPfdcli5dOmndeOteeuml+cY3vpE77rgj73nPe7Jw\\\n",
       "4cLcdttttesEAgA0s6abAZxP/oIAgMbj87uBzgIGAODCEIAAAIURgAAAhRGAAACFEYAAAIURgABA\\\n",
       "3VUqlQwNDZ1xm6GhoVQqlfkZUJNruusAAgCNpVKpZMuWLbXnfX1907YZGhpKf3//pN/htTMDCADU\\\n",
       "zdT46+/vnzYTODX+tmzZIgDPkwAEAOpiavyNmxiBU+NvnAg8P+4Ech5cSRwAXpvZ4m+ilStX5tCh\\\n",
       "Q2fcZmBg4JxD0Oe3GUAAoA46OjpmXded7iSpxd/483N9HWYnAAGAedfX15fBwcFpy3vTm+3Znp70\\\n",
       "JEl60pPt2Z7e9E7bdnBwcMYTRnh1vgI+D6aQAeD8TDzGrzvd2Z7ttXUjGUl72mvP78ydOZADSc4v\\\n",
       "/nx+mwEEAOpo4kzggRzIjuyorZsYfzuy44LEH6eZATwP/oIAgAtj1apVtWP+Hs/jk+JvJCNZn/VJ\\\n",
       "Tp8YcvDgwfP6t3x+mwEEAOpsaGioFn896ZkUf8npmcDxYwIPHTr0qncM4dUJQACgbqYeA7gxG2vr\\\n",
       "RjJS+3ljNtbOBp7pYtGcGwEIANTF1Is8H8iB7MzOJKeP+Vuf9bVjAndmZ+0YwEQEni/HAJ4HxxAA\\\n",
       "wGsz2x0+ktMzgRNjb+rziV7LCSE+v80AAgB1cOzYsVnXjcfeypUrJz0/19dhdgIQAJh3lUolAwMD\\\n",
       "s64fHBzMwYMHZ7xY9LjXchs4ThOAAEBdzBaBE7/Wne2OIeLv/AhAAKBupkbgTMf0TY1A8Xf+Lqv3\\\n",
       "AACAso3HXEdHx6wndIwvP3bsmPi7AJwFfB6cRQQAkw1t+k7t575//GAdRzI7n9++AgYAKI4ABAAo\\\n",
       "jGMAAYAL5mL92pfJzAACABRGAAIAFEYAAgAURgACABRGAAIAFEYAAgAURgACABRGAAIAFEYAAgAU\\\n",
       "RgACABRGAAIAFEYAAgAURgACABTmsnoPoJFVq9UkyejoaJ1HAgCcrfHP7fHP8RIJwPNw/PjxJMmy\\\n",
       "ZcvqPBIA4FwdP3487e3t9R5GXbRUS87f8/TKK6/khRdeyKJFi9LS0lLv4TSF0dHRLFu2LEeOHElb\\\n",
       "W1u9h9O07Of5Y1/PH/t6/jT6vq5Wqzl+/HiWLFmSSy4p82g4M4Dn4ZJLLsnSpUvrPYym1NbW1pBv\\\n",
       "Ko3Gfp4/9vX8sa/nTyPv61Jn/saVmb0AAAUTgAAAhRGAXFRaW1szMDCQ1tbWeg+lqdnP88e+nj/2\\\n",
       "9fyxrxufk0AAAApjBhAAoDACEACgMAIQAKAwAhAAoDACkIvGvffem7Vr1+byyy/PG97whhm3OXz4\\\n",
       "cG699da8/vWvz+LFi/Pxj388J0+enN+BNoEvfvGLWb58eV73utdl9erV+f73v1/vITW8733ve7n1\\\n",
       "1luzZMmStLS05PHHH5+0vlqtplKpZMmSJVm4cGFuuOGG/PSnP63PYBvYtm3b8sd//MdZtGhR3vjG\\\n",
       "N2b9+vX593//90nb2NcXxkMPPZR3vOMdtYs9r1mzJt/61rdq6+3nxiYAuWicPHkyH/nIR/Kxj31s\\\n",
       "xvWnTp3KLbfckhMnTuQHP/hBdu3alX/7t3/L3/7t387zSBvbl7/85WzevDn33HNPfvzjH+d973tf\\\n",
       "br755hw+fLjeQ2toJ06cyDvf+c4MDg7OuP7+++/Pgw8+mMHBwTz99NPp6urKjTfeWLunOGdn7969\\\n",
       "6evry1NPPZU9e/bk97//fdatW5cTJ07UtrGvL4ylS5fmvvvuy759+7Jv37588IMfzIc+9KFa5NnP\\\n",
       "Da4KF5lHHnmk2t7ePm35N7/5zeoll1xS/cUvflFb9qUvfana2tpaHRkZmccRNrY/+ZM/qW7atGnS\\\n",
       "sre//e3Vv/u7v6vTiJpPkupXv/rV2vNXXnml2tXVVb3vvvtqy377299W29vbq//4j/9YhxE2j6NH\\\n",
       "j1aTVPfu3VutVu3ruXbllVdW/+mf/sl+bgJmAGkYP/zhD9Pd3Z0lS5bUlt10000ZGxvL/v376ziy\\\n",
       "xnHy5Mns378/69atm7R83bp1efLJJ+s0qub3/PPPZ3h4eNJ+b21tzfXXX2+/n6eRkZEkyVVXXZXE\\\n",
       "vp4rp06dyq5du3LixImsWbPGfm4CApCGMTw8nM7OzknLrrzyyixYsCDDw8N1GlVj+eUvf5lTp05N\\\n",
       "24+dnZ324Rwa37f2+4VVrVZz11135b3vfW+6u7uT2NcX2rPPPpsrrrgira2t2bRpU7761a9m1apV\\\n",
       "9nMTEIDMqUqlkpaWljM+9u3bd9av19LSMm1ZtVqdcTmzm7q/7MP5Yb9fWP39/fnJT36SL33pS9PW\\\n",
       "2dcXxtve9rY888wzeeqpp/Kxj30svb29OXjwYG29/dy4Lqv3AGhu/f396enpOeM2V1999Vm9VldX\\\n",
       "V370ox9NWvbyyy/nd7/73bS/QpnZ4sWLc+mll077C/3o0aP24Rzq6upKcnp26k1velNtuf3+2t15\\\n",
       "5535+te/nu9973tZunRpbbl9fWEtWLAg11xzTZLkuuuuy9NPP50vfOEL+dSnPpXEfm5kZgCZU4sX\\\n",
       "L87b3/72Mz5e97rXndVrrVmzJgcOHMiLL75YW7Z79+60trZm9erVc/Wf0FQWLFiQ1atXZ8+ePZOW\\\n",
       "79mzJ2vXrq3TqJrf8uXL09XVNWm/nzx5Mnv37rXfz1G1Wk1/f3++8pWv5Dvf+U6WL18+ab19Pbeq\\\n",
       "1WrGxsbs5yZgBpCLxuHDh/PSSy/l8OHDOXXqVJ555pkkyTXXXJMrrrgi69aty6pVq3L77bfngQce\\\n",
       "yEsvvZRPfOIT+ehHP5q2trb6Dr6B3HXXXbn99ttz3XXXZc2aNXn44Ydz+PDhbNq0qd5Da2i//vWv\\\n",
       "89xzz9WeP//883nmmWdy1VVX5c1vfnM2b96crVu3ZsWKFVmxYkW2bt2ayy+/PLfddlsdR914+vr6\\\n",
       "8thjj+VrX/taFi1aVJvNbm9vz8KFC9PS0mJfXyCf/vSnc/PNN2fZsmU5fvx4du3ale9+97v59re/\\\n",
       "bT83g/qdgAyT9fb2VpNMezzxxBO1bX7+859Xb7nllurChQurV111VbW/v7/629/+tn6DblBDQ0PV\\\n",
       "t7zlLdUFCxZU3/Wud9UuocFr98QTT8z4/9/e3t5qtXr68iQDAwPVrq6uamtra/X9739/9dlnn63v\\\n",
       "oBvQTPs4SfWRRx6pbWNfXxh/9Vd/VXuf6OjoqP7pn/5pdffu3bX19nNja6lWq9X5z04AAOrFMYAA\\\n",
       "AIURgAAAhRGAAACFEYAAAIURgAAAhRGAAACFEYAAAIURgAAAhRGAAACFEYAAAIURgAAAhRGAAACF\\\n",
       "EYAAAIURgAAAhRGAAACFEYAAAIURgAAAhRGAAACFEYAAAIURgAAAhRGAAACFEYAAAIURgAAAhRGA\\\n",
       "AACFEYAAAIURgAAAhRGAAACFEYAAAIURgAAAhRGAAACFEYAAAIX5/wGiYQZ6CI1umgAAAABJRU5E\\\n",
       "rkJggg==\\\n",
       "\"\n",
       "\n",
       "\n",
       "    /* set a timeout to make sure all the above elements are created before\n",
       "       the object is initialized. */\n",
       "    setTimeout(function() {\n",
       "        anim856095eeaa0d4d80ba0f4dcdc617c321 = new Animation(frames, img_id, slider_id, 500.0,\n",
       "                                 loop_select_id);\n",
       "    }, 0);\n",
       "  })()\n",
       "</script>\n"
      ],
      "text/plain": [
       "<IPython.core.display.HTML object>"
      ]
     },
     "execution_count": 40,
     "metadata": {},
     "output_type": "execute_result"
    }
   ],
   "source": [
    "# create your own animation\n",
    "X = data.clone()\n",
    "fig,ax = plt.subplots()\n",
    "ani = FuncAnimation(fig, do_one, frames=5, interval=500, repeat=False)\n",
    "plt.close()\n",
    "HTML(ani.to_jshtml())"
   ]
  },
  {
   "cell_type": "markdown",
   "metadata": {},
   "source": [
    "## GPU batched algorithm"
   ]
  },
  {
   "cell_type": "markdown",
   "metadata": {},
   "source": [
    "To truly accelerate the algorithm, we need to be performing updates on a batch of points per iteration, instead of just one as we were doing."
   ]
  },
  {
   "cell_type": "code",
   "execution_count": 41,
   "metadata": {},
   "outputs": [
    {
     "data": {
      "text/plain": [
       "(torch.Size([5, 2]), torch.Size([1500, 2]))"
      ]
     },
     "execution_count": 41,
     "metadata": {},
     "output_type": "execute_result"
    }
   ],
   "source": [
    "bs=5\n",
    "X = data.clone()\n",
    "x = X[:bs]\n",
    "x.shape,X.shape"
   ]
  },
  {
   "cell_type": "code",
   "execution_count": 42,
   "metadata": {},
   "outputs": [],
   "source": [
    "def dist_b(a,b): return (((a[None]-b[:,None])**2).sum(2)).sqrt()"
   ]
  },
  {
   "cell_type": "code",
   "execution_count": 43,
   "metadata": {},
   "outputs": [
    {
     "data": {
      "text/plain": [
       "tensor([[ 0.000,  2.813,  3.713,  ..., 17.468, 21.972, 19.654],\n",
       "        [ 2.813,  0.000,  1.421,  ..., 20.034, 24.335, 22.111],\n",
       "        [ 3.713,  1.421,  0.000,  ..., 20.239, 24.322, 22.194],\n",
       "        [ 6.068,  4.204,  2.783,  ..., 20.885, 24.503, 22.583],\n",
       "        [ 1.624,  1.483,  2.097,  ..., 18.554, 22.858, 20.629]])"
      ]
     },
     "execution_count": 43,
     "metadata": {},
     "output_type": "execute_result"
    }
   ],
   "source": [
    "dist_b(X, x)"
   ]
  },
  {
   "cell_type": "code",
   "execution_count": 44,
   "metadata": {},
   "outputs": [
    {
     "data": {
      "text/plain": [
       "torch.Size([5, 1500])"
      ]
     },
     "execution_count": 44,
     "metadata": {},
     "output_type": "execute_result"
    }
   ],
   "source": [
    "dist_b(X, x).shape"
   ]
  },
  {
   "cell_type": "code",
   "execution_count": 45,
   "metadata": {},
   "outputs": [
    {
     "data": {
      "text/plain": [
       "(torch.Size([1, 1500, 2]), torch.Size([5, 1, 2]), torch.Size([5, 1500, 2]))"
      ]
     },
     "execution_count": 45,
     "metadata": {},
     "output_type": "execute_result"
    }
   ],
   "source": [
    "X[None,:].shape, x[:,None].shape, (X[None,:]-x[:,None]).shape"
   ]
  },
  {
   "cell_type": "code",
   "execution_count": 46,
   "metadata": {},
   "outputs": [
    {
     "data": {
      "text/plain": [
       "tensor([[    0.199,     0.074,     0.036,  ...,     0.000,     0.000,     0.000],\n",
       "        [    0.074,     0.199,     0.155,  ...,     0.000,     0.000,     0.000],\n",
       "        [    0.036,     0.155,     0.199,  ...,     0.000,     0.000,     0.000],\n",
       "        [    0.002,     0.022,     0.076,  ...,     0.000,     0.000,     0.000],\n",
       "        [    0.143,     0.152,     0.115,  ...,     0.000,     0.000,     0.000]])"
      ]
     },
     "execution_count": 46,
     "metadata": {},
     "output_type": "execute_result"
    }
   ],
   "source": [
    "weight = gaussian(dist_b(X, x), 2)\n",
    "weight"
   ]
  },
  {
   "cell_type": "code",
   "execution_count": 47,
   "metadata": {},
   "outputs": [
    {
     "data": {
      "text/plain": [
       "(torch.Size([5, 1500]), torch.Size([1500, 2]))"
      ]
     },
     "execution_count": 47,
     "metadata": {},
     "output_type": "execute_result"
    }
   ],
   "source": [
    "weight.shape,X.shape"
   ]
  },
  {
   "cell_type": "code",
   "execution_count": 48,
   "metadata": {},
   "outputs": [
    {
     "data": {
      "text/plain": [
       "(torch.Size([5, 1500, 1]), torch.Size([1, 1500, 2]))"
      ]
     },
     "execution_count": 48,
     "metadata": {},
     "output_type": "execute_result"
    }
   ],
   "source": [
    "weight[...,None].shape, X[None].shape"
   ]
  },
  {
   "cell_type": "code",
   "execution_count": 49,
   "metadata": {},
   "outputs": [
    {
     "data": {
      "text/plain": [
       "torch.Size([5, 2])"
      ]
     },
     "execution_count": 49,
     "metadata": {},
     "output_type": "execute_result"
    }
   ],
   "source": [
    "num = (weight[...,None]*X[None]).sum(1)\n",
    "num.shape"
   ]
  },
  {
   "cell_type": "code",
   "execution_count": 50,
   "metadata": {},
   "outputs": [
    {
     "data": {
      "text/plain": [
       "tensor([[548.960, 569.866],\n",
       "        [555.972, 620.585],\n",
       "        [405.019, 464.326],\n",
       "        [117.351, 141.431],\n",
       "        [569.842, 616.567]])"
      ]
     },
     "execution_count": 50,
     "metadata": {},
     "output_type": "execute_result"
    }
   ],
   "source": [
    "num"
   ]
  },
  {
   "cell_type": "code",
   "execution_count": 51,
   "metadata": {},
   "outputs": [
    {
     "data": {
      "text/plain": [
       "tensor([[548.960, 569.866],\n",
       "        [555.972, 620.585],\n",
       "        [405.019, 464.326],\n",
       "        [117.351, 141.431],\n",
       "        [569.842, 616.567]])"
      ]
     },
     "execution_count": 51,
     "metadata": {},
     "output_type": "execute_result"
    }
   ],
   "source": [
    "torch.einsum('ij,jk->ik', weight, X)"
   ]
  },
  {
   "cell_type": "code",
   "execution_count": 52,
   "metadata": {},
   "outputs": [
    {
     "data": {
      "text/plain": [
       "tensor([[548.960, 569.866],\n",
       "        [555.972, 620.585],\n",
       "        [405.019, 464.326],\n",
       "        [117.351, 141.431],\n",
       "        [569.842, 616.567]])"
      ]
     },
     "execution_count": 52,
     "metadata": {},
     "output_type": "execute_result"
    }
   ],
   "source": [
    "weight@X"
   ]
  },
  {
   "cell_type": "code",
   "execution_count": 53,
   "metadata": {},
   "outputs": [
    {
     "data": {
      "text/plain": [
       "torch.Size([5, 1])"
      ]
     },
     "execution_count": 53,
     "metadata": {},
     "output_type": "execute_result"
    }
   ],
   "source": [
    "div = weight.sum(1, keepdim=True)\n",
    "div.shape"
   ]
  },
  {
   "cell_type": "code",
   "execution_count": 54,
   "metadata": {},
   "outputs": [
    {
     "data": {
      "text/plain": [
       "tensor([[27.350, 28.392],\n",
       "        [26.251, 29.302],\n",
       "        [25.429, 29.153],\n",
       "        [23.879, 28.779],\n",
       "        [26.490, 28.662]])"
      ]
     },
     "execution_count": 54,
     "metadata": {},
     "output_type": "execute_result"
    }
   ],
   "source": [
    "num/div"
   ]
  },
  {
   "cell_type": "code",
   "execution_count": 55,
   "metadata": {},
   "outputs": [],
   "source": [
    "def meanshift(data, bs=500):\n",
    "    n = len(data)\n",
    "    X = data.clone()\n",
    "    for it in range(5):\n",
    "        for i in range(0, n, bs):\n",
    "            s = slice(i, min(i+bs,n))\n",
    "            weight = gaussian(dist_b(X, X[s]), 2.5)\n",
    "#             weight = tri(dist_b(X, X[s]), 8)\n",
    "            div = weight.sum(1, keepdim=True)\n",
    "            X[s] = weight@X/div\n",
    "    return X"
   ]
  },
  {
   "cell_type": "code",
   "execution_count": 56,
   "metadata": {},
   "outputs": [
    {
     "data": {
      "text/plain": [
       "\u001b[0;31mInit signature:\u001b[0m \u001b[0mslice\u001b[0m\u001b[0;34m(\u001b[0m\u001b[0mself\u001b[0m\u001b[0;34m,\u001b[0m \u001b[0;34m/\u001b[0m\u001b[0;34m,\u001b[0m \u001b[0;34m*\u001b[0m\u001b[0margs\u001b[0m\u001b[0;34m,\u001b[0m \u001b[0;34m**\u001b[0m\u001b[0mkwargs\u001b[0m\u001b[0;34m)\u001b[0m\u001b[0;34m\u001b[0m\u001b[0;34m\u001b[0m\u001b[0m\n",
       "\u001b[0;31mDocstring:\u001b[0m     \n",
       "slice(stop)\n",
       "slice(start, stop[, step])\n",
       "\n",
       "Create a slice object.  This is used for extended slicing (e.g. a[0:10:2]).\n",
       "\u001b[0;31mType:\u001b[0m           type\n",
       "\u001b[0;31mSubclasses:\u001b[0m     "
      ]
     },
     "metadata": {},
     "output_type": "display_data"
    }
   ],
   "source": [
    "slice?"
   ]
  },
  {
   "cell_type": "markdown",
   "metadata": {},
   "source": [
    "Although each iteration still has to launch a new cuda kernel, there are now fewer iterations, and the acceleration from updating a batch of points more than makes up for it."
   ]
  },
  {
   "cell_type": "code",
   "execution_count": 57,
   "metadata": {},
   "outputs": [],
   "source": [
    "data = data.cuda()"
   ]
  },
  {
   "cell_type": "code",
   "execution_count": 58,
   "metadata": {},
   "outputs": [],
   "source": [
    "X = meanshift(data).cpu()"
   ]
  },
  {
   "cell_type": "code",
   "execution_count": 59,
   "metadata": {},
   "outputs": [
    {
     "name": "stdout",
     "output_type": "stream",
     "text": [
      "1.92 ms ± 484 µs per loop (mean ± std. dev. of 7 runs, 5 loops each)\n"
     ]
    }
   ],
   "source": [
    "%timeit -n 5 _=meanshift(data, 1250).cpu()"
   ]
  },
  {
   "cell_type": "code",
   "execution_count": 60,
   "metadata": {},
   "outputs": [
    {
     "data": {
      "image/png": "[encoded data removed]",
      "text/plain": [
       "<Figure size 640x480 with 1 Axes>"
      ]
     },
     "metadata": {},
     "output_type": "display_data"
    }
   ],
   "source": [
    "plot_data(centroids+2, X, n_samples)"
   ]
  },
  {
   "cell_type": "markdown",
   "metadata": {},
   "source": [
    "**Homework:** implement k-means clustering, dbscan, locality sensitive hashing, or some other clustering, fast nearest neighbors, or similar algorithm of your choice, on the GPU. Check if your version is faster than a pure python or CPU version.\n",
    "\n",
    "Bonus: Implement it in APL too!\n",
    "\n",
    "Super bonus: Invent a new meanshift algorithm which picks only the closest points, to avoid quadratic time.\n",
    "\n",
    "Super super bonus: Publish a paper that describes it :D"
   ]
  }
 ],
 "metadata": {
  "kernelspec": {
   "display_name": "Python (ML)",
   "language": "python",
   "name": "ml"
  },
  "language_info": {
   "codemirror_mode": {
    "name": "ipython",
    "version": 3
   },
   "file_extension": ".py",
   "mimetype": "text/x-python",
   "name": "python",
   "nbconvert_exporter": "python",
   "pygments_lexer": "ipython3",
   "version": "3.12.11"
  }
 },
 "nbformat": 4,
 "nbformat_minor": 4
}
