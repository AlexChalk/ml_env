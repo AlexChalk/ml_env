{
 "cells": [
  {
   "cell_type": "code",
   "execution_count": 1,
   "id": "b613689d-a92e-42fd-a813-acbb0abee41c",
   "metadata": {},
   "outputs": [],
   "source": [
    "import pickle,gzip,math,os,time,shutil,torch,matplotlib as mpl, numpy as np\n",
    "from pathlib import Path\n",
    "from torch import tensor,nn\n",
    "from fastcore.test import test_close\n",
    "import torch.nn.functional as F\n",
    "torch.manual_seed(42)\n",
    "\n",
    "mpl.rcParams['image.cmap'] = 'gray'\n",
    "torch.set_printoptions(precision=2, linewidth=125, sci_mode=False)\n",
    "np.set_printoptions(precision=2, linewidth=125)"
   ]
  },
  {
   "cell_type": "code",
   "execution_count": 2,
   "id": "64a500d0-ee2c-42c4-ba3e-9b65358d1ad9",
   "metadata": {},
   "outputs": [],
   "source": [
    "MNIST_URL='https://github.com/mnielsen/neural-networks-and-deep-learning/blob/master/data/mnist.pkl.gz?raw=true'\n",
    "path_data = Path('data')\n",
    "path_data.mkdir(exist_ok=True)\n",
    "path_gz = path_data/'mnist.pkl.gz'"
   ]
  },
  {
   "cell_type": "code",
   "execution_count": 3,
   "id": "3f77807a-8c0f-437d-a629-4cf7e7ebf4e8",
   "metadata": {},
   "outputs": [],
   "source": [
    "from urllib.request import urlretrieve\n",
    "if not path_gz.exists(): urlretrieve(MNIST_URL, path_gz)"
   ]
  },
  {
   "cell_type": "code",
   "execution_count": 4,
   "id": "dc602e32-cdeb-4084-8ee8-08e1c694318e",
   "metadata": {},
   "outputs": [],
   "source": [
    "path_data = Path('data')\n",
    "path_gz = path_data/'mnist.pkl.gz'\n",
    "with gzip.open(path_gz, 'rb') as f: ((x_train, y_train), (x_valid, y_valid), _) = pickle.load(f, encoding='latin-1')\n",
    "x_train, y_train, x_valid, y_valid = map(tensor, [x_train, y_train, x_valid, y_valid])"
   ]
  },
  {
   "cell_type": "code",
   "execution_count": 5,
   "id": "1376c5ed-b03d-472e-8278-004a13839a8d",
   "metadata": {},
   "outputs": [],
   "source": [
    "n,m = x_train.shape\n",
    "c = y_train.max()+1\n",
    "nh = 50"
   ]
  },
  {
   "cell_type": "code",
   "execution_count": 6,
   "id": "fcfbb260-13ba-4aa4-a4da-515b841aa5e1",
   "metadata": {},
   "outputs": [],
   "source": [
    "class Model(nn.Module):\n",
    "    def __init__(self, n_in, nh, n_out):\n",
    "        super().__init__()\n",
    "        self.layers = [nn.Linear(n_in,nh), nn.ReLU(), nn.Linear(nh,n_out)]\n",
    "        \n",
    "    def __call__(self, x):\n",
    "        for l in self.layers: x = l(x)\n",
    "        return x"
   ]
  },
  {
   "cell_type": "code",
   "execution_count": 7,
   "id": "ebf39ad3-152e-44ac-9981-642dce6ddfb0",
   "metadata": {},
   "outputs": [
    {
     "data": {
      "text/plain": [
       "torch.Size([50000, 10])"
      ]
     },
     "execution_count": 7,
     "metadata": {},
     "output_type": "execute_result"
    }
   ],
   "source": [
    "model = Model(m, nh, 10)\n",
    "pred = model(x_train)\n",
    "pred.shape"
   ]
  },
  {
   "cell_type": "code",
   "execution_count": 8,
   "id": "35a25207-1dbe-4f1b-ac8b-0aaad2f4c091",
   "metadata": {},
   "outputs": [
    {
     "data": {
      "text/plain": [
       "\u001b[31mDocstring:\u001b[39m\n",
       "log(x, [base=math.e])\n",
       "Return the logarithm of x to the given base.\n",
       "\n",
       "If the base is not specified, returns the natural logarithm (base e) of x.\n",
       "\u001b[31mType:\u001b[39m      builtin_function_or_method"
      ]
     },
     "metadata": {},
     "output_type": "display_data"
    }
   ],
   "source": [
    "math.log?"
   ]
  },
  {
   "cell_type": "code",
   "execution_count": 9,
   "id": "94503e28-5f7c-4da9-a3aa-0fd8398960be",
   "metadata": {},
   "outputs": [
    {
     "data": {
      "text/plain": [
       "(tensor([[-0.05,  0.03,  0.22,  ..., -0.12, -0.15,  0.20],\n",
       "         [-0.07,  0.05,  0.21,  ..., -0.16, -0.12,  0.19],\n",
       "         [-0.04, -0.02,  0.15,  ..., -0.14, -0.19,  0.15],\n",
       "         ...,\n",
       "         [ 0.08,  0.08,  0.21,  ..., -0.03, -0.19,  0.16],\n",
       "         [-0.07,  0.02,  0.14,  ..., -0.06, -0.10,  0.21],\n",
       "         [-0.07,  0.08,  0.18,  ..., -0.05, -0.13,  0.09]], grad_fn=<AddmmBackward0>),\n",
       " tensor([[0.95, 1.03, 1.25,  ..., 0.89, 0.86, 1.22],\n",
       "         [0.94, 1.05, 1.24,  ..., 0.85, 0.89, 1.21],\n",
       "         [0.96, 0.98, 1.16,  ..., 0.87, 0.83, 1.16],\n",
       "         ...,\n",
       "         [1.08, 1.09, 1.23,  ..., 0.97, 0.83, 1.18],\n",
       "         [0.93, 1.02, 1.15,  ..., 0.94, 0.90, 1.24],\n",
       "         [0.93, 1.08, 1.19,  ..., 0.95, 0.88, 1.10]], grad_fn=<ExpBackward0>))"
      ]
     },
     "execution_count": 9,
     "metadata": {},
     "output_type": "execute_result"
    }
   ],
   "source": [
    "pred, pred.exp()"
   ]
  },
  {
   "cell_type": "code",
   "execution_count": 10,
   "id": "50a25271-2779-40c9-9667-bc341d6ac261",
   "metadata": {},
   "outputs": [],
   "source": [
    "def log_softmax(x):\n",
    "    return (x.exp() / x.exp().sum(dim=1, keepdim=True)).log()"
   ]
  },
  {
   "cell_type": "code",
   "execution_count": 11,
   "id": "b00af5e2-106e-4e17-aa45-25a4c998745d",
   "metadata": {},
   "outputs": [
    {
     "data": {
      "text/plain": [
       "(torch.Size([50000, 1]), torch.Size([50000, 10]))"
      ]
     },
     "execution_count": 11,
     "metadata": {},
     "output_type": "execute_result"
    }
   ],
   "source": [
    "pred.exp().sum(dim=1, keepdim=True).shape, pred.exp().shape"
   ]
  },
  {
   "cell_type": "code",
   "execution_count": 12,
   "id": "6b135aaa-4b93-4b0e-bcef-c23890def6b3",
   "metadata": {},
   "outputs": [
    {
     "data": {
      "text/plain": [
       "(tensor([[-2.36, -2.28, -2.09,  ..., -2.43, -2.47, -2.11],\n",
       "         [-2.37, -2.25, -2.09,  ..., -2.46, -2.43, -2.11],\n",
       "         [-2.34, -2.31, -2.14,  ..., -2.44, -2.48, -2.14],\n",
       "         ...,\n",
       "         [-2.26, -2.25, -2.13,  ..., -2.36, -2.53, -2.17],\n",
       "         [-2.39, -2.30, -2.18,  ..., -2.38, -2.42, -2.11],\n",
       "         [-2.40, -2.25, -2.14,  ..., -2.38, -2.45, -2.23]], grad_fn=<LogBackward0>),\n",
       " torch.Size([50000, 10]))"
      ]
     },
     "execution_count": 12,
     "metadata": {},
     "output_type": "execute_result"
    }
   ],
   "source": [
    "log_softmax(pred), log_softmax(pred).shape"
   ]
  },
  {
   "cell_type": "code",
   "execution_count": 13,
   "id": "940474f8-4dad-4663-a3b2-77b758f7765d",
   "metadata": {},
   "outputs": [],
   "source": [
    "def log_softmax_simplified(x):\n",
    "    return x - x.exp().sum(dim=1, keepdim=True).log()"
   ]
  },
  {
   "cell_type": "code",
   "execution_count": 14,
   "id": "b30b90f9-2dc2-420a-ab0e-3c09b5c010a6",
   "metadata": {},
   "outputs": [],
   "source": [
    "test_close(log_softmax(pred), log_softmax_simplified(pred))"
   ]
  },
  {
   "cell_type": "code",
   "execution_count": 15,
   "id": "faf8ceb2-7d19-4730-8cf5-813092161e11",
   "metadata": {},
   "outputs": [
    {
     "data": {
      "text/plain": [
       "(torch.return_types.max(\n",
       " values=tensor([0.22, 0.21, 0.15,  ..., 0.21, 0.21, 0.18], grad_fn=<MaxBackward0>),\n",
       " indices=tensor([2, 2, 4,  ..., 2, 9, 2])),\n",
       " torch.Size([50000]))"
      ]
     },
     "execution_count": 15,
     "metadata": {},
     "output_type": "execute_result"
    }
   ],
   "source": [
    "pred.max(dim=1), pred.max(dim=1)[0].shape"
   ]
  },
  {
   "cell_type": "code",
   "execution_count": 16,
   "id": "9975769c-4b46-40d0-94ce-686c5415a80b",
   "metadata": {},
   "outputs": [
    {
     "data": {
      "text/plain": [
       "(tensor([[0.22],\n",
       "         [0.21],\n",
       "         [0.15],\n",
       "         ...,\n",
       "         [0.21],\n",
       "         [0.21],\n",
       "         [0.18]], grad_fn=<MaxBackward0>),\n",
       " torch.Size([50000, 1]),\n",
       " torch.Size([50000, 1]))"
      ]
     },
     "execution_count": 16,
     "metadata": {},
     "output_type": "execute_result"
    }
   ],
   "source": [
    "pred.max(dim=1, keepdim=True)[0], pred.max(dim=1, keepdim=True)[0].shape, pred.max(dim=1)[0].unsqueeze(dim=1).shape"
   ]
  },
  {
   "cell_type": "code",
   "execution_count": 17,
   "id": "f9fd96fa-1fec-4d36-8165-3b70b1e0df4c",
   "metadata": {},
   "outputs": [],
   "source": [
    "def logsumexp(x):\n",
    "    c = x.max(dim=1)[0]\n",
    "    return c + (x - c.unsqueeze(dim=1)).exp().sum(dim=1).log()"
   ]
  },
  {
   "cell_type": "code",
   "execution_count": 18,
   "id": "3946cdbc-2687-4d19-8ce6-0db3cff8d4a9",
   "metadata": {},
   "outputs": [
    {
     "data": {
      "text/plain": [
       "torch.Size([50000])"
      ]
     },
     "execution_count": 18,
     "metadata": {},
     "output_type": "execute_result"
    }
   ],
   "source": [
    "(pred - pred.max(dim=1, keepdim=True)[0]).exp().sum(dim=1).log().shape"
   ]
  },
  {
   "cell_type": "code",
   "execution_count": 19,
   "id": "0f4e918f-e582-474c-b9d1-8b865f01db0d",
   "metadata": {},
   "outputs": [
    {
     "data": {
      "text/plain": [
       "torch.Size([50000])"
      ]
     },
     "execution_count": 19,
     "metadata": {},
     "output_type": "execute_result"
    }
   ],
   "source": [
    "pred.logsumexp(-1).shape"
   ]
  },
  {
   "cell_type": "code",
   "execution_count": 20,
   "id": "f2e757ba-72be-4056-bdfe-51dd724768b2",
   "metadata": {},
   "outputs": [],
   "source": [
    "test_close(logsumexp(pred), pred.logsumexp(-1))"
   ]
  },
  {
   "cell_type": "code",
   "execution_count": 21,
   "id": "1eeb7f49-1918-4817-bfe0-b577a510e422",
   "metadata": {},
   "outputs": [],
   "source": [
    "def log_softmax_w_sumexp(x):\n",
    "    return x - logsumexp(x).unsqueeze(dim=1)"
   ]
  },
  {
   "cell_type": "code",
   "execution_count": 22,
   "id": "8e217f55-c8fe-4a58-80a4-fd0270cf6bb0",
   "metadata": {},
   "outputs": [],
   "source": [
    "test_close(log_softmax_w_sumexp(pred), nn.LogSoftmax(dim=1)(pred))"
   ]
  },
  {
   "cell_type": "code",
   "execution_count": 23,
   "id": "4baf45b9-2f10-4d28-95d9-5ab67c65f1b0",
   "metadata": {},
   "outputs": [
    {
     "data": {
      "text/plain": [
       "tensor([[-2.36, -2.28, -2.09,  ..., -2.43, -2.47, -2.11],\n",
       "        [-2.37, -2.25, -2.09,  ..., -2.46, -2.43, -2.11],\n",
       "        [-2.34, -2.31, -2.14,  ..., -2.44, -2.48, -2.14],\n",
       "        ...,\n",
       "        [-2.26, -2.25, -2.13,  ..., -2.36, -2.53, -2.17],\n",
       "        [-2.39, -2.30, -2.18,  ..., -2.38, -2.42, -2.11],\n",
       "        [-2.40, -2.25, -2.14,  ..., -2.38, -2.45, -2.23]], grad_fn=<SubBackward0>)"
      ]
     },
     "execution_count": 23,
     "metadata": {},
     "output_type": "execute_result"
    }
   ],
   "source": [
    "sm_pred = log_softmax_w_sumexp(pred)\n",
    "sm_pred"
   ]
  },
  {
   "cell_type": "code",
   "execution_count": 24,
   "id": "e79085a9-6aec-46c8-a1bf-4d5d7686c269",
   "metadata": {},
   "outputs": [
    {
     "data": {
      "text/plain": [
       "tensor([5, 0, 4])"
      ]
     },
     "execution_count": 24,
     "metadata": {},
     "output_type": "execute_result"
    }
   ],
   "source": [
    "y_train[:3]"
   ]
  },
  {
   "cell_type": "code",
   "execution_count": 25,
   "id": "378c7cbe-1523-4eba-a187-25e6a62d44c0",
   "metadata": {},
   "outputs": [
    {
     "data": {
      "text/plain": [
       "(tensor(-2.40, grad_fn=<SelectBackward0>),\n",
       " tensor(-2.37, grad_fn=<SelectBackward0>),\n",
       " tensor(-2.14, grad_fn=<SelectBackward0>))"
      ]
     },
     "execution_count": 25,
     "metadata": {},
     "output_type": "execute_result"
    }
   ],
   "source": [
    "sm_pred[0,5],sm_pred[1,0],sm_pred[2,4]"
   ]
  },
  {
   "cell_type": "code",
   "execution_count": 26,
   "id": "a0870cb8-e9a8-44d0-9f8c-cd609d3f038b",
   "metadata": {},
   "outputs": [
    {
     "data": {
      "text/plain": [
       "tensor([-2.40, -2.37, -2.14], grad_fn=<IndexBackward0>)"
      ]
     },
     "execution_count": 26,
     "metadata": {},
     "output_type": "execute_result"
    }
   ],
   "source": [
    "sm_pred[[0,1,2], y_train[:3]]"
   ]
  },
  {
   "cell_type": "code",
   "execution_count": 27,
   "id": "ed19c2a0-3c27-471f-992d-36f0c7172eed",
   "metadata": {},
   "outputs": [
    {
     "data": {
      "text/plain": [
       "(torch.Size([50000, 10]), torch.Size([50000]))"
      ]
     },
     "execution_count": 27,
     "metadata": {},
     "output_type": "execute_result"
    }
   ],
   "source": [
    "sm_pred.shape, y_train.shape"
   ]
  },
  {
   "cell_type": "code",
   "execution_count": 28,
   "id": "9d1e98dc-6060-4611-b78f-51dd98994943",
   "metadata": {},
   "outputs": [
    {
     "data": {
      "text/plain": [
       "(torch.Size([50000, 10]), torch.Size([10, 50000]))"
      ]
     },
     "execution_count": 28,
     "metadata": {},
     "output_type": "execute_result"
    }
   ],
   "source": [
    "F.one_hot(y_train).shape, F.one_hot(y_train).T.shape"
   ]
  },
  {
   "cell_type": "code",
   "execution_count": 29,
   "id": "080539b2-add0-40e2-a587-c9b78fb69699",
   "metadata": {},
   "outputs": [
    {
     "data": {
      "text/plain": [
       "tensor([[0., 1., 0.,  ..., 0., 0., 0.],\n",
       "        [0., 0., 0.,  ..., 0., 0., 0.],\n",
       "        [0., 0., 0.,  ..., 0., 0., 0.],\n",
       "        ...,\n",
       "        [0., 0., 0.,  ..., 0., 0., 0.],\n",
       "        [0., 0., 0.,  ..., 1., 0., 1.],\n",
       "        [0., 0., 0.,  ..., 0., 0., 0.]])"
      ]
     },
     "execution_count": 29,
     "metadata": {},
     "output_type": "execute_result"
    }
   ],
   "source": [
    "F.one_hot(y_train).T.float()"
   ]
  },
  {
   "cell_type": "code",
   "execution_count": 30,
   "id": "54f1e15c-1bc4-48ea-b1d8-ac0100c09f2a",
   "metadata": {},
   "outputs": [
    {
     "data": {
      "text/plain": [
       "(torch.Size([50000, 10]), torch.Size([50000, 50000]))"
      ]
     },
     "execution_count": 30,
     "metadata": {},
     "output_type": "execute_result"
    }
   ],
   "source": [
    "sm_pred.shape, sm_pred[:, torch.ones(50000).int()].shape"
   ]
  },
  {
   "cell_type": "code",
   "execution_count": 31,
   "id": "43f6fda6-5981-4467-8cac-6c73b7ce60b1",
   "metadata": {},
   "outputs": [],
   "source": [
    "def nll(pred, y):\n",
    "    return -(pred * F.one_hot(y).float()).sum()/y.shape[0]"
   ]
  },
  {
   "cell_type": "code",
   "execution_count": 32,
   "id": "88231630-7021-48bd-8e3d-0ca0d0b78d76",
   "metadata": {},
   "outputs": [
    {
     "data": {
      "text/plain": [
       "tensor(2.30, grad_fn=<DivBackward0>)"
      ]
     },
     "execution_count": 32,
     "metadata": {},
     "output_type": "execute_result"
    }
   ],
   "source": [
    "loss = nll(sm_pred, y_train)\n",
    "loss"
   ]
  },
  {
   "cell_type": "code",
   "execution_count": 33,
   "id": "6dbd7152-0389-446f-abd0-f4bcda174ca7",
   "metadata": {},
   "outputs": [
    {
     "data": {
      "text/plain": [
       "torch.Size([])"
      ]
     },
     "execution_count": 33,
     "metadata": {},
     "output_type": "execute_result"
    }
   ],
   "source": [
    "loss.shape"
   ]
  },
  {
   "cell_type": "code",
   "execution_count": 34,
   "id": "b8176bb6-7b8d-4375-b885-da2a8fc7a482",
   "metadata": {},
   "outputs": [
    {
     "data": {
      "text/plain": [
       "(tensor(2.30, grad_fn=<DivBackward0>),\n",
       " tensor(2.30, grad_fn=<NllLossBackward0>))"
      ]
     },
     "execution_count": 34,
     "metadata": {},
     "output_type": "execute_result"
    }
   ],
   "source": [
    "loss, F.nll_loss(F.log_softmax(pred, -1), y_train)"
   ]
  },
  {
   "cell_type": "code",
   "execution_count": 35,
   "id": "d722155b-3293-4615-9e1b-7c67efecc692",
   "metadata": {},
   "outputs": [],
   "source": [
    "test_close(F.nll_loss(F.log_softmax(pred, -1), y_train), loss, 1e-3)"
   ]
  },
  {
   "cell_type": "code",
   "execution_count": 36,
   "id": "9c47770d-7078-49c7-8821-05937fb4bc83",
   "metadata": {},
   "outputs": [
    {
     "data": {
      "text/plain": [
       "(range(0, 50000), tensor([5, 0, 4,  ..., 8, 4, 8]))"
      ]
     },
     "execution_count": 36,
     "metadata": {},
     "output_type": "execute_result"
    }
   ],
   "source": [
    "range(y_train.shape[0]), y_train"
   ]
  },
  {
   "cell_type": "code",
   "execution_count": 37,
   "id": "c78e1b00-d73f-459a-bc6f-108f8d1697de",
   "metadata": {},
   "outputs": [],
   "source": [
    "def nll_via_indexing(pred, y):\n",
    "    return -pred[range(y.shape[0]), y].mean()"
   ]
  },
  {
   "cell_type": "code",
   "execution_count": 38,
   "id": "5312d5c7-81c4-4c46-9845-0f5a9d9917cf",
   "metadata": {},
   "outputs": [],
   "source": [
    "test_close(nll(sm_pred, y_train), nll_via_indexing(sm_pred, y_train))"
   ]
  },
  {
   "cell_type": "code",
   "execution_count": 39,
   "id": "7aa1b87a-2f99-4df5-8593-dd1c30ed6ea7",
   "metadata": {},
   "outputs": [],
   "source": [
    "test_close(F.cross_entropy(pred, y_train), loss, 1e-3)"
   ]
  },
  {
   "cell_type": "code",
   "execution_count": 40,
   "id": "535342f1-e9fa-49c1-8ea2-abacd30032cc",
   "metadata": {},
   "outputs": [
    {
     "data": {
      "text/plain": [
       "(torch.Size([50000, 50000]), torch.Size([50000]))"
      ]
     },
     "execution_count": 40,
     "metadata": {},
     "output_type": "execute_result"
    }
   ],
   "source": [
    "sm_pred[:, y_train].shape, sm_pred[range(sm_pred.shape[0]), y_train].shape"
   ]
  },
  {
   "cell_type": "markdown",
   "id": "a144cd8d-f426-4831-a451-19e91db2e704",
   "metadata": {},
   "source": [
    "Above seems to need two lists two activate zipping/parallel indexing, as opposed to using `:` which activates broadcasting."
   ]
  },
  {
   "cell_type": "code",
   "execution_count": 41,
   "id": "225ea60c-5037-40e5-b69f-265382420256",
   "metadata": {},
   "outputs": [],
   "source": [
    "loss_func = F.cross_entropy"
   ]
  },
  {
   "cell_type": "code",
   "execution_count": 42,
   "id": "a856637b-372f-43a8-9628-e4967b30769a",
   "metadata": {},
   "outputs": [
    {
     "data": {
      "text/plain": [
       "(tensor([-0.05,  0.03,  0.22,  0.02,  0.00, -0.09, -0.04, -0.12, -0.15,  0.20], grad_fn=<SelectBackward0>),\n",
       " torch.Size([50, 10]))"
      ]
     },
     "execution_count": 42,
     "metadata": {},
     "output_type": "execute_result"
    }
   ],
   "source": [
    "bs=50                  # batch size\n",
    "\n",
    "xb = x_train[0:bs]     # a mini-batch from x\n",
    "preds = model(xb)      # predictions\n",
    "preds[0], preds.shape"
   ]
  },
  {
   "cell_type": "code",
   "execution_count": 43,
   "id": "9bd1435a-bd51-4202-9760-3382a3438384",
   "metadata": {},
   "outputs": [
    {
     "data": {
      "text/plain": [
       "tensor([5, 0, 4, 1, 9, 2, 1, 3, 1, 4, 3, 5, 3, 6, 1, 7, 2, 8, 6, 9, 4, 0, 9, 1, 1, 2, 4, 3, 2, 7, 3, 8, 6, 9, 0, 5, 6, 0, 7,\n",
       "        6, 1, 8, 7, 9, 3, 9, 8, 5, 9, 3])"
      ]
     },
     "execution_count": 43,
     "metadata": {},
     "output_type": "execute_result"
    }
   ],
   "source": [
    "yb = y_train[0:bs]\n",
    "yb"
   ]
  },
  {
   "cell_type": "code",
   "execution_count": 44,
   "id": "3b8111a7-bfbd-4aa6-958c-e3b7d806ad9e",
   "metadata": {},
   "outputs": [
    {
     "data": {
      "text/plain": [
       "tensor(2.28, grad_fn=<NllLossBackward0>)"
      ]
     },
     "execution_count": 44,
     "metadata": {},
     "output_type": "execute_result"
    }
   ],
   "source": [
    "loss_func(preds, yb)"
   ]
  },
  {
   "cell_type": "code",
   "execution_count": null,
   "id": "5324713f-2f9a-4172-91d2-e117f9dc6b40",
   "metadata": {},
   "outputs": [],
   "source": []
  }
 ],
 "metadata": {
  "kernelspec": {
   "display_name": "Python ML",
   "language": "python",
   "name": "python3"
  },
  "language_info": {
   "codemirror_mode": {
    "name": "ipython",
    "version": 3
   },
   "file_extension": ".py",
   "mimetype": "text/x-python",
   "name": "python",
   "nbconvert_exporter": "python",
   "pygments_lexer": "ipython3",
   "version": "3.13.6"
  }
 },
 "nbformat": 4,
 "nbformat_minor": 5
}
