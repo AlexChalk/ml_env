{
  "cells": [
    {
      "cell_type": "code",
      "execution_count": 1,
      "id": "e1108cbb-cf4a-4ba2-a448-3adbb2ccf976",
      "metadata": {
        "id": "e1108cbb-cf4a-4ba2-a448-3adbb2ccf976",
        "colab": {
          "base_uri": "https://localhost:8080/"
        },
        "outputId": "a1004150-30d4-416b-a3e2-75e7c0c1ab17"
      },
      "outputs": [
        {
          "output_type": "stream",
          "name": "stdout",
          "text": [
            "\u001b[2K     \u001b[90m━━━━━━━━━━━━━━━━━━━━━━━━━━━━━━━━━━━━━━━━\u001b[0m \u001b[32m43.6/43.6 kB\u001b[0m \u001b[31m1.4 MB/s\u001b[0m eta \u001b[36m0:00:00\u001b[0m\n",
            "\u001b[2K   \u001b[90m━━━━━━━━━━━━━━━━━━━━━━━━━━━━━━━━━━━━━━━━\u001b[0m \u001b[32m497.9/497.9 kB\u001b[0m \u001b[31m10.4 MB/s\u001b[0m eta \u001b[36m0:00:00\u001b[0m\n",
            "\u001b[2K   \u001b[90m━━━━━━━━━━━━━━━━━━━━━━━━━━━━━━━━━━━━━━━━\u001b[0m \u001b[32m19.7/19.7 MB\u001b[0m \u001b[31m10.9 MB/s\u001b[0m eta \u001b[36m0:00:00\u001b[0m\n",
            "\u001b[2K   \u001b[90m━━━━━━━━━━━━━━━━━━━━━━━━━━━━━━━━━━━━━━━━\u001b[0m \u001b[32m179.2/179.2 kB\u001b[0m \u001b[31m4.5 MB/s\u001b[0m eta \u001b[36m0:00:00\u001b[0m\n",
            "\u001b[?25h"
          ]
        }
      ],
      "source": [
        "try: import fastkaggle\n",
        "except ModuleNotFoundError:\n",
        "    !pip install -Uq fastkaggle\n",
        "\n",
        "try: import timm\n",
        "except ModuleNotFoundError:\n",
        "    !pip install -Uq \"timm==0.6.2.dev0\"\n",
        "\n",
        "try: import tensorflow\n",
        "except ModuleNotFoundError:\n",
        "    !pip install -Uq tensorflow\n",
        "\n",
        "try: import torcheval\n",
        "except ModuleNotFoundError:\n",
        "    !pip install -Uq torcheval\n",
        "\n",
        "try: import huggingface_hub\n",
        "except ModuleNotFoundError:\n",
        "    !pip install -Uq huggingface_hub"
      ]
    },
    {
      "cell_type": "code",
      "execution_count": 2,
      "id": "b8ac0cf0-1940-4697-ab59-28bc295ed937",
      "metadata": {
        "id": "b8ac0cf0-1940-4697-ab59-28bc295ed937"
      },
      "outputs": [],
      "source": [
        "from fastkaggle import *"
      ]
    },
    {
      "cell_type": "code",
      "execution_count": 3,
      "id": "595598f8-40e7-46a8-9e1f-63806360e161",
      "metadata": {
        "id": "595598f8-40e7-46a8-9e1f-63806360e161"
      },
      "outputs": [],
      "source": [
        "# for working with paths in Python, I recommend using `pathlib.Path`\n",
        "from pathlib import Path\n",
        "\n",
        "cred_path = Path('~/.kaggle/kaggle.json').expanduser()\n",
        "if not iskaggle and not cred_path.exists():\n",
        "    creds = '{\"username\":\"alexchalk\",\"key\":\"4320b3bb98c3460501e0eb8393828540\"}'\n",
        "    cred_path.parent.mkdir(exist_ok=True)\n",
        "    cred_path.write_text(creds)\n",
        "    cred_path.chmod(0o600)"
      ]
    },
    {
      "cell_type": "code",
      "execution_count": 4,
      "id": "a76bfabb-7412-4bfe-82e2-b06550b67d31",
      "metadata": {
        "id": "a76bfabb-7412-4bfe-82e2-b06550b67d31",
        "colab": {
          "base_uri": "https://localhost:8080/"
        },
        "outputId": "caa2d8eb-414e-4eee-c496-6ceabb87f602"
      },
      "outputs": [
        {
          "output_type": "stream",
          "name": "stdout",
          "text": [
            "Downloading tpu-getting-started.zip to /content\n"
          ]
        },
        {
          "output_type": "stream",
          "name": "stderr",
          "text": [
            "100%|██████████| 4.79G/4.79G [00:43<00:00, 118MB/s]\n"
          ]
        },
        {
          "output_type": "stream",
          "name": "stdout",
          "text": [
            "\n"
          ]
        }
      ],
      "source": [
        "comp = 'tpu-getting-started'\n",
        "\n",
        "path = setup_comp(comp, install='fastai tensorflow \"timm==0.6.2.dev0\"')\n",
        "classes = [\"pink primrose\",\"hard-leaved pocket orchid\",\"canterbury bells\",\"sweet pea\",\"wild geranium\",\"tiger lily\",\"moon orchid\",\"bird of paradise\",\"monkshood\",\"globe thistle\",\"snapdragon\",\"colt's foot\",\"king protea\",\"spear thistle\",\"yellow iris\",\"globe-flower\",\"purple coneflower\",\"peruvian lily\",\"balloon flower\",\"giant white arum lily\",\"fire lily\",\"pincushion flower\",\"fritillary\",\"red ginger\",\"grape hyacinth\",\"corn poppy\",\"prince of wales feathers\",\"stemless gentian\",\"artichoke\",\"sweet william\",\"carnation\",\"garden phlox\",\"love in the mist\",\"cosmos\",\"alpine sea holly\",\"ruby-lipped cattleya\",\"cape flower\",\"great masterwort\",\"siam tulip\",\"lenten rose\",\"barberton daisy\",\"daffodil\",\"sword lily\",\"poinsettia\",\"bolero deep blue\",\"wallflower\",\"marigold\",\"buttercup\",\"daisy\",\"common dandelion\",\"petunia\",\"wild pansy\",\"primula\",\"sunflower\",\"lilac hibiscus\",\"bishop of llandaff\",\"gaura\",\"geranium\",\"orange dahlia\",\"pink-yellow dahlia\",\"cautleya spicata\",\"japanese anemone\",\"black-eyed susan\",\"silverbush\",\"californian poppy\",\"osteospermum\",\"spring crocus\",\"iris\",\"windflower\",\"tree poppy\",\"gazania\",\"azalea\",\"water lily\",\"rose\",\"thorn apple\",\"morning glory\",\"passion flower\",\"lotus\",\"toad lily\",\"anthurium\",\"frangipani\",\"clematis\",\"hibiscus\",\"columbine\",\"desert-rose\",\"tree mallow\",\"magnolia\",\"cyclamen \",\"watercress\",\"canna lily\",\"hippeastrum \",\"bee balm\",\"pink quill\",\"foxglove\",\"bougainvillea\",\"camellia\",\"mallow\",\"mexican petunia\",\"bromelia\",\"blanket flower\",\"trumpet creeper\",\"blackberry lily\",\"common tulip\",\"wild rose\"]"
      ]
    },
    {
      "cell_type": "code",
      "execution_count": 5,
      "id": "1689e644-d791-4466-84a7-49d0134a4798",
      "metadata": {
        "colab": {
          "base_uri": "https://localhost:8080/"
        },
        "id": "1689e644-d791-4466-84a7-49d0134a4798",
        "outputId": "45b34f31-fda7-4686-873e-59b3ac0d051a"
      },
      "outputs": [
        {
          "output_type": "execute_result",
          "data": {
            "text/plain": [
              "Path('tpu-getting-started')"
            ]
          },
          "metadata": {},
          "execution_count": 5
        }
      ],
      "source": [
        "path"
      ]
    },
    {
      "cell_type": "code",
      "execution_count": 6,
      "id": "f540eae7-1edf-42cc-9f9f-9d43063c7e65",
      "metadata": {
        "colab": {
          "base_uri": "https://localhost:8080/"
        },
        "id": "f540eae7-1edf-42cc-9f9f-9d43063c7e65",
        "outputId": "0eafccb3-8d78-4edc-f1a4-1f82cd6ecc7a"
      },
      "outputs": [
        {
          "output_type": "execute_result",
          "data": {
            "text/plain": [
              "(#5) [Path('tpu-getting-started/tfrecords-jpeg-512x512'),Path('tpu-getting-started/tfrecords-jpeg-224x224'),Path('tpu-getting-started/tfrecords-jpeg-331x331'),Path('tpu-getting-started/tfrecords-jpeg-192x192'),Path('tpu-getting-started/sample_submission.csv')]"
            ]
          },
          "metadata": {},
          "execution_count": 6
        }
      ],
      "source": [
        "import timm\n",
        "import functools\n",
        "import itertools\n",
        "from fastai.vision.all import *\n",
        "\n",
        "path.ls()"
      ]
    },
    {
      "cell_type": "code",
      "execution_count": 7,
      "id": "85e70e04-c063-4b01-865b-d62ddad4a156",
      "metadata": {
        "id": "85e70e04-c063-4b01-865b-d62ddad4a156"
      },
      "outputs": [],
      "source": [
        "data_paths = list(filter(lambda x: str(x) != \"tpu-getting-started/sample_submission.csv\", path.ls()))\n",
        "data_paths = [path/'tfrecords-jpeg-224x224']\n",
        "data_paths = functools.reduce(lambda acc, path: list(itertools.chain(acc, (path/'train').ls(), (path/'val').ls())), data_paths, [])"
      ]
    },
    {
      "cell_type": "code",
      "execution_count": 8,
      "id": "f9c4a44e-e789-4bb2-8751-0cb3e6e41907",
      "metadata": {
        "colab": {
          "base_uri": "https://localhost:8080/"
        },
        "id": "f9c4a44e-e789-4bb2-8751-0cb3e6e41907",
        "outputId": "82815038-a453-4821-c320-9a6a6cdc3cab"
      },
      "outputs": [
        {
          "output_type": "execute_result",
          "data": {
            "text/plain": [
              "16465"
            ]
          },
          "metadata": {},
          "execution_count": 8
        }
      ],
      "source": [
        "import tensorflow as tf\n",
        "\n",
        "# https://www.tensorflow.org/tutorials/load_data/tfrecord#reading_a_tfrecord_file_in_python\n",
        "def load_tfrecs(data_paths, is_test=False):\n",
        "    data = []\n",
        "    raw_dataset = tf.data.TFRecordDataset(data_paths)\n",
        "\n",
        "    for record in raw_dataset:\n",
        "        example = tf.train.Example()\n",
        "        example.ParseFromString(record.numpy())\n",
        "        datum = [\n",
        "            None if is_test else example.features.feature['class'].int64_list.value[0],\n",
        "            example.features.feature['image'].bytes_list.value[0],\n",
        "            example.features.feature['id'].bytes_list.value[0],\n",
        "        ]\n",
        "        data.append(datum)\n",
        "\n",
        "    return data\n",
        "\n",
        "data = load_tfrecs(data_paths)\n",
        "\n",
        "len(data)"
      ]
    },
    {
      "cell_type": "code",
      "execution_count": 9,
      "id": "eced8870-bcfe-491d-b195-273bbeb6bc09",
      "metadata": {
        "colab": {
          "base_uri": "https://localhost:8080/",
          "height": 162
        },
        "id": "eced8870-bcfe-491d-b195-273bbeb6bc09",
        "outputId": "c1cfa56c-e49e-4203-e6b3-eae401079815"
      },
      "outputs": [
        {
          "output_type": "stream",
          "name": "stdout",
          "text": [
            "(224, 224)\n"
          ]
        },
        {
          "output_type": "execute_result",
          "data": {
            "text/plain": [
              "<PIL.Image.Image image mode=RGB size=128x128>"
            ],
            "image/png": "[encoded data removed]"
          },
          "metadata": {},
          "execution_count": 9
        }
      ],
      "source": [
        "img = PILImage.create(data[0][1])\n",
        "print(img.size)\n",
        "img.to_thumb(128)"
      ]
    },
    {
      "cell_type": "code",
      "execution_count": 10,
      "id": "f96188fe-3371-4f5b-a66b-8e3400d9f08e",
      "metadata": {
        "colab": {
          "base_uri": "https://localhost:8080/",
          "height": 170
        },
        "id": "f96188fe-3371-4f5b-a66b-8e3400d9f08e",
        "outputId": "66d8d21a-1098-42df-df51-fe18c473035b"
      },
      "outputs": [
        {
          "output_type": "stream",
          "name": "stderr",
          "text": [
            "/usr/lib/python3.10/multiprocessing/popen_fork.py:66: RuntimeWarning: os.fork() was called. os.fork() is incompatible with multithreaded code, and JAX is multithreaded, so this will likely lead to a deadlock.\n",
            "  self.pid = os.fork()\n"
          ]
        },
        {
          "output_type": "execute_result",
          "data": {
            "text/plain": [
              "(224, 224)    16465\n",
              "Name: count, dtype: int64"
            ],
            "text/html": [
              "<table border=\"1\" class=\"dataframe\">\n",
              "  <thead>\n",
              "    <tr style=\"text-align: right;\">\n",
              "      <th></th>\n",
              "      <th>count</th>\n",
              "    </tr>\n",
              "  </thead>\n",
              "  <tbody>\n",
              "    <tr>\n",
              "      <th>(224, 224)</th>\n",
              "      <td>16465</td>\n",
              "    </tr>\n",
              "  </tbody>\n",
              "</table><br><label><b>dtype:</b> int64</label>"
            ]
          },
          "metadata": {},
          "execution_count": 10
        }
      ],
      "source": [
        "from fastcore.parallel import *\n",
        "\n",
        "def f(o): return PILImage.create(o[1]).size\n",
        "sizes = parallel(f, data, n_workers=8)\n",
        "pd.Series(sizes).value_counts()"
      ]
    },
    {
      "cell_type": "code",
      "execution_count": 11,
      "id": "96c92cfc-9d3c-4efa-865d-f7640e22ea0a",
      "metadata": {
        "id": "96c92cfc-9d3c-4efa-865d-f7640e22ea0a"
      },
      "outputs": [],
      "source": [
        "def get_items(data, *args, **kwargs): return data\n",
        "\n",
        "get_x = lambda entry: PILImage.create(io.BytesIO(entry[1]))\n",
        "get_y = lambda entry: entry[0]"
      ]
    },
    {
      "cell_type": "code",
      "execution_count": null,
      "id": "ea53d736-3249-4322-967a-66134beb84a2",
      "metadata": {
        "colab": {
          "base_uri": "https://localhost:8080/",
          "height": 1000
        },
        "id": "ea53d736-3249-4322-967a-66134beb84a2",
        "outputId": "a7a524fc-3071-4a55-df33-5a4884c4d422"
      },
      "outputs": [
        {
          "output_type": "stream",
          "name": "stdout",
          "text": [
            "--- convnext_large_in22k\n",
            "--- 128\n"
          ]
        },
        {
          "output_type": "stream",
          "name": "stderr",
          "text": [
            "Downloading: \"https://dl.fbaipublicfiles.com/convnext/convnext_large_22k_224.pth\" to /root/.cache/torch/hub/checkpoints/convnext_large_22k_224.pth\n"
          ]
        },
        {
          "output_type": "display_data",
          "data": {
            "text/plain": [
              "<IPython.core.display.HTML object>"
            ],
            "text/html": [
              "\n",
              "<style>\n",
              "    /* Turns off some styling */\n",
              "    progress {\n",
              "        /* gets rid of default border in Firefox and Opera. */\n",
              "        border: none;\n",
              "        /* Needs to be in here for Safari polyfill so background images work as expected. */\n",
              "        background-size: auto;\n",
              "    }\n",
              "    progress:not([value]), progress:not([value])::-webkit-progress-bar {\n",
              "        background: repeating-linear-gradient(45deg, #7e7e7e, #7e7e7e 10px, #5c5c5c 10px, #5c5c5c 20px);\n",
              "    }\n",
              "    .progress-bar-interrupted, .progress-bar-interrupted::-webkit-progress-bar {\n",
              "        background: #F44336;\n",
              "    }\n",
              "</style>\n"
            ]
          },
          "metadata": {}
        },
        {
          "output_type": "display_data",
          "data": {
            "text/plain": [
              "<IPython.core.display.HTML object>"
            ],
            "text/html": [
              "<table border=\"1\" class=\"dataframe\">\n",
              "  <thead>\n",
              "    <tr style=\"text-align: left;\">\n",
              "      <th>epoch</th>\n",
              "      <th>train_loss</th>\n",
              "      <th>valid_loss</th>\n",
              "      <th>multiclass_f1_score</th>\n",
              "      <th>time</th>\n",
              "    </tr>\n",
              "  </thead>\n",
              "  <tbody>\n",
              "    <tr>\n",
              "      <td>0</td>\n",
              "      <td>0.372771</td>\n",
              "      <td>0.190068</td>\n",
              "      <td>0.957974</td>\n",
              "      <td>01:45</td>\n",
              "    </tr>\n",
              "  </tbody>\n",
              "</table>"
            ]
          },
          "metadata": {}
        },
        {
          "output_type": "stream",
          "name": "stderr",
          "text": [
            "/usr/lib/python3.10/multiprocessing/popen_fork.py:66: RuntimeWarning: os.fork() was called. os.fork() is incompatible with multithreaded code, and JAX is multithreaded, so this will likely lead to a deadlock.\n",
            "  self.pid = os.fork()\n"
          ]
        },
        {
          "output_type": "display_data",
          "data": {
            "text/plain": [
              "<IPython.core.display.HTML object>"
            ],
            "text/html": [
              "\n",
              "<style>\n",
              "    /* Turns off some styling */\n",
              "    progress {\n",
              "        /* gets rid of default border in Firefox and Opera. */\n",
              "        border: none;\n",
              "        /* Needs to be in here for Safari polyfill so background images work as expected. */\n",
              "        background-size: auto;\n",
              "    }\n",
              "    progress:not([value]), progress:not([value])::-webkit-progress-bar {\n",
              "        background: repeating-linear-gradient(45deg, #7e7e7e, #7e7e7e 10px, #5c5c5c 10px, #5c5c5c 20px);\n",
              "    }\n",
              "    .progress-bar-interrupted, .progress-bar-interrupted::-webkit-progress-bar {\n",
              "        background: #F44336;\n",
              "    }\n",
              "</style>\n"
            ]
          },
          "metadata": {}
        },
        {
          "output_type": "display_data",
          "data": {
            "text/plain": [
              "<IPython.core.display.HTML object>"
            ],
            "text/html": [
              "<table border=\"1\" class=\"dataframe\">\n",
              "  <thead>\n",
              "    <tr style=\"text-align: left;\">\n",
              "      <th>epoch</th>\n",
              "      <th>train_loss</th>\n",
              "      <th>valid_loss</th>\n",
              "      <th>multiclass_f1_score</th>\n",
              "      <th>time</th>\n",
              "    </tr>\n",
              "  </thead>\n",
              "  <tbody>\n",
              "    <tr>\n",
              "      <td>0</td>\n",
              "      <td>0.158387</td>\n",
              "      <td>0.167044</td>\n",
              "      <td>0.963901</td>\n",
              "      <td>02:39</td>\n",
              "    </tr>\n",
              "    <tr>\n",
              "      <td>1</td>\n",
              "      <td>0.195173</td>\n",
              "      <td>0.164374</td>\n",
              "      <td>0.965787</td>\n",
              "      <td>02:37</td>\n",
              "    </tr>\n",
              "    <tr>\n",
              "      <td>2</td>\n",
              "      <td>0.107741</td>\n",
              "      <td>0.151529</td>\n",
              "      <td>0.966864</td>\n",
              "      <td>02:36</td>\n",
              "    </tr>\n",
              "    <tr>\n",
              "      <td>3</td>\n",
              "      <td>0.073056</td>\n",
              "      <td>0.153783</td>\n",
              "      <td>0.967403</td>\n",
              "      <td>02:36</td>\n",
              "    </tr>\n",
              "    <tr>\n",
              "      <td>4</td>\n",
              "      <td>0.050528</td>\n",
              "      <td>0.151707</td>\n",
              "      <td>0.969019</td>\n",
              "      <td>02:34</td>\n",
              "    </tr>\n",
              "  </tbody>\n",
              "</table>"
            ]
          },
          "metadata": {}
        },
        {
          "output_type": "display_data",
          "data": {
            "text/plain": [
              "<IPython.core.display.HTML object>"
            ],
            "text/html": [
              "\n",
              "<style>\n",
              "    /* Turns off some styling */\n",
              "    progress {\n",
              "        /* gets rid of default border in Firefox and Opera. */\n",
              "        border: none;\n",
              "        /* Needs to be in here for Safari polyfill so background images work as expected. */\n",
              "        background-size: auto;\n",
              "    }\n",
              "    progress:not([value]), progress:not([value])::-webkit-progress-bar {\n",
              "        background: repeating-linear-gradient(45deg, #7e7e7e, #7e7e7e 10px, #5c5c5c 10px, #5c5c5c 20px);\n",
              "    }\n",
              "    .progress-bar-interrupted, .progress-bar-interrupted::-webkit-progress-bar {\n",
              "        background: #F44336;\n",
              "    }\n",
              "</style>\n"
            ]
          },
          "metadata": {}
        },
        {
          "output_type": "display_data",
          "data": {
            "text/plain": [
              "<IPython.core.display.HTML object>"
            ],
            "text/html": [
              "\n",
              "    <div>\n",
              "      <progress value='0' class='' max='5' style='width:300px; height:20px; vertical-align: middle;'></progress>\n",
              "      \n",
              "    </div>\n",
              "    \n"
            ]
          },
          "metadata": {}
        },
        {
          "output_type": "display_data",
          "data": {
            "text/plain": [
              "<IPython.core.display.HTML object>"
            ],
            "text/html": [
              "\n",
              "<style>\n",
              "    /* Turns off some styling */\n",
              "    progress {\n",
              "        /* gets rid of default border in Firefox and Opera. */\n",
              "        border: none;\n",
              "        /* Needs to be in here for Safari polyfill so background images work as expected. */\n",
              "        background-size: auto;\n",
              "    }\n",
              "    progress:not([value]), progress:not([value])::-webkit-progress-bar {\n",
              "        background: repeating-linear-gradient(45deg, #7e7e7e, #7e7e7e 10px, #5c5c5c 10px, #5c5c5c 20px);\n",
              "    }\n",
              "    .progress-bar-interrupted, .progress-bar-interrupted::-webkit-progress-bar {\n",
              "        background: #F44336;\n",
              "    }\n",
              "</style>\n"
            ]
          },
          "metadata": {}
        },
        {
          "output_type": "display_data",
          "data": {
            "text/plain": [
              "<IPython.core.display.HTML object>"
            ],
            "text/html": []
          },
          "metadata": {}
        },
        {
          "output_type": "stream",
          "name": "stdout",
          "text": [
            "--- vit_large_patch16_224\n",
            "--- 224\n"
          ]
        },
        {
          "output_type": "display_data",
          "data": {
            "text/plain": [
              "<IPython.core.display.HTML object>"
            ],
            "text/html": [
              "\n",
              "<style>\n",
              "    /* Turns off some styling */\n",
              "    progress {\n",
              "        /* gets rid of default border in Firefox and Opera. */\n",
              "        border: none;\n",
              "        /* Needs to be in here for Safari polyfill so background images work as expected. */\n",
              "        background-size: auto;\n",
              "    }\n",
              "    progress:not([value]), progress:not([value])::-webkit-progress-bar {\n",
              "        background: repeating-linear-gradient(45deg, #7e7e7e, #7e7e7e 10px, #5c5c5c 10px, #5c5c5c 20px);\n",
              "    }\n",
              "    .progress-bar-interrupted, .progress-bar-interrupted::-webkit-progress-bar {\n",
              "        background: #F44336;\n",
              "    }\n",
              "</style>\n"
            ]
          },
          "metadata": {}
        },
        {
          "output_type": "display_data",
          "data": {
            "text/plain": [
              "<IPython.core.display.HTML object>"
            ],
            "text/html": [
              "<table border=\"1\" class=\"dataframe\">\n",
              "  <thead>\n",
              "    <tr style=\"text-align: left;\">\n",
              "      <th>epoch</th>\n",
              "      <th>train_loss</th>\n",
              "      <th>valid_loss</th>\n",
              "      <th>multiclass_f1_score</th>\n",
              "      <th>time</th>\n",
              "    </tr>\n",
              "  </thead>\n",
              "  <tbody>\n",
              "    <tr>\n",
              "      <td>0</td>\n",
              "      <td>0.445464</td>\n",
              "      <td>0.186988</td>\n",
              "      <td>0.962554</td>\n",
              "      <td>06:12</td>\n",
              "    </tr>\n",
              "  </tbody>\n",
              "</table>"
            ]
          },
          "metadata": {}
        },
        {
          "output_type": "display_data",
          "data": {
            "text/plain": [
              "<IPython.core.display.HTML object>"
            ],
            "text/html": [
              "\n",
              "<style>\n",
              "    /* Turns off some styling */\n",
              "    progress {\n",
              "        /* gets rid of default border in Firefox and Opera. */\n",
              "        border: none;\n",
              "        /* Needs to be in here for Safari polyfill so background images work as expected. */\n",
              "        background-size: auto;\n",
              "    }\n",
              "    progress:not([value]), progress:not([value])::-webkit-progress-bar {\n",
              "        background: repeating-linear-gradient(45deg, #7e7e7e, #7e7e7e 10px, #5c5c5c 10px, #5c5c5c 20px);\n",
              "    }\n",
              "    .progress-bar-interrupted, .progress-bar-interrupted::-webkit-progress-bar {\n",
              "        background: #F44336;\n",
              "    }\n",
              "</style>\n"
            ]
          },
          "metadata": {}
        },
        {
          "output_type": "display_data",
          "data": {
            "text/plain": [
              "<IPython.core.display.HTML object>"
            ],
            "text/html": [
              "<table border=\"1\" class=\"dataframe\">\n",
              "  <thead>\n",
              "    <tr style=\"text-align: left;\">\n",
              "      <th>epoch</th>\n",
              "      <th>train_loss</th>\n",
              "      <th>valid_loss</th>\n",
              "      <th>multiclass_f1_score</th>\n",
              "      <th>time</th>\n",
              "    </tr>\n",
              "  </thead>\n",
              "  <tbody>\n",
              "    <tr>\n",
              "      <td>0</td>\n",
              "      <td>0.155605</td>\n",
              "      <td>0.143448</td>\n",
              "      <td>0.972791</td>\n",
              "      <td>08:06</td>\n",
              "    </tr>\n",
              "    <tr>\n",
              "      <td>1</td>\n",
              "      <td>0.131044</td>\n",
              "      <td>0.131936</td>\n",
              "      <td>0.973599</td>\n",
              "      <td>08:04</td>\n",
              "    </tr>\n",
              "    <tr>\n",
              "      <td>2</td>\n",
              "      <td>0.094615</td>\n",
              "      <td>0.126581</td>\n",
              "      <td>0.976832</td>\n",
              "      <td>08:02</td>\n",
              "    </tr>\n",
              "    <tr>\n",
              "      <td>3</td>\n",
              "      <td>0.066632</td>\n",
              "      <td>0.128350</td>\n",
              "      <td>0.975754</td>\n",
              "      <td>08:01</td>\n",
              "    </tr>\n",
              "    <tr>\n",
              "      <td>4</td>\n",
              "      <td>0.027861</td>\n",
              "      <td>0.127531</td>\n",
              "      <td>0.976293</td>\n",
              "      <td>08:01</td>\n",
              "    </tr>\n",
              "  </tbody>\n",
              "</table>"
            ]
          },
          "metadata": {}
        },
        {
          "output_type": "display_data",
          "data": {
            "text/plain": [
              "<IPython.core.display.HTML object>"
            ],
            "text/html": [
              "\n",
              "<style>\n",
              "    /* Turns off some styling */\n",
              "    progress {\n",
              "        /* gets rid of default border in Firefox and Opera. */\n",
              "        border: none;\n",
              "        /* Needs to be in here for Safari polyfill so background images work as expected. */\n",
              "        background-size: auto;\n",
              "    }\n",
              "    progress:not([value]), progress:not([value])::-webkit-progress-bar {\n",
              "        background: repeating-linear-gradient(45deg, #7e7e7e, #7e7e7e 10px, #5c5c5c 10px, #5c5c5c 20px);\n",
              "    }\n",
              "    .progress-bar-interrupted, .progress-bar-interrupted::-webkit-progress-bar {\n",
              "        background: #F44336;\n",
              "    }\n",
              "</style>\n"
            ]
          },
          "metadata": {}
        },
        {
          "output_type": "display_data",
          "data": {
            "text/plain": [
              "<IPython.core.display.HTML object>"
            ],
            "text/html": [
              "\n",
              "    <div>\n",
              "      <progress value='0' class='' max='5' style='width:300px; height:20px; vertical-align: middle;'></progress>\n",
              "      \n",
              "    </div>\n",
              "    \n"
            ]
          },
          "metadata": {}
        },
        {
          "output_type": "display_data",
          "data": {
            "text/plain": [
              "<IPython.core.display.HTML object>"
            ],
            "text/html": [
              "\n",
              "<style>\n",
              "    /* Turns off some styling */\n",
              "    progress {\n",
              "        /* gets rid of default border in Firefox and Opera. */\n",
              "        border: none;\n",
              "        /* Needs to be in here for Safari polyfill so background images work as expected. */\n",
              "        background-size: auto;\n",
              "    }\n",
              "    progress:not([value]), progress:not([value])::-webkit-progress-bar {\n",
              "        background: repeating-linear-gradient(45deg, #7e7e7e, #7e7e7e 10px, #5c5c5c 10px, #5c5c5c 20px);\n",
              "    }\n",
              "    .progress-bar-interrupted, .progress-bar-interrupted::-webkit-progress-bar {\n",
              "        background: #F44336;\n",
              "    }\n",
              "</style>\n"
            ]
          },
          "metadata": {}
        },
        {
          "output_type": "display_data",
          "data": {
            "text/plain": [
              "<IPython.core.display.HTML object>"
            ],
            "text/html": []
          },
          "metadata": {}
        },
        {
          "output_type": "stream",
          "name": "stdout",
          "text": [
            "--- swinv2_large_window12_192_22k\n",
            "--- 192\n"
          ]
        },
        {
          "output_type": "stream",
          "name": "stderr",
          "text": [
            "/usr/local/lib/python3.10/dist-packages/torch/functional.py:512: UserWarning: torch.meshgrid: in an upcoming release, it will be required to pass the indexing argument. (Triggered internally at ../aten/src/ATen/native/TensorShape.cpp:3587.)\n",
            "  return _VF.meshgrid(tensors, **kwargs)  # type: ignore[attr-defined]\n",
            "Downloading: \"https://github.com/SwinTransformer/storage/releases/download/v2.0.0/swinv2_large_patch4_window12_192_22k.pth\" to /root/.cache/torch/hub/checkpoints/swinv2_large_patch4_window12_192_22k.pth\n"
          ]
        },
        {
          "output_type": "display_data",
          "data": {
            "text/plain": [
              "<IPython.core.display.HTML object>"
            ],
            "text/html": [
              "\n",
              "<style>\n",
              "    /* Turns off some styling */\n",
              "    progress {\n",
              "        /* gets rid of default border in Firefox and Opera. */\n",
              "        border: none;\n",
              "        /* Needs to be in here for Safari polyfill so background images work as expected. */\n",
              "        background-size: auto;\n",
              "    }\n",
              "    progress:not([value]), progress:not([value])::-webkit-progress-bar {\n",
              "        background: repeating-linear-gradient(45deg, #7e7e7e, #7e7e7e 10px, #5c5c5c 10px, #5c5c5c 20px);\n",
              "    }\n",
              "    .progress-bar-interrupted, .progress-bar-interrupted::-webkit-progress-bar {\n",
              "        background: #F44336;\n",
              "    }\n",
              "</style>\n"
            ]
          },
          "metadata": {}
        },
        {
          "output_type": "display_data",
          "data": {
            "text/plain": [
              "<IPython.core.display.HTML object>"
            ],
            "text/html": [
              "<table border=\"1\" class=\"dataframe\">\n",
              "  <thead>\n",
              "    <tr style=\"text-align: left;\">\n",
              "      <th>epoch</th>\n",
              "      <th>train_loss</th>\n",
              "      <th>valid_loss</th>\n",
              "      <th>multiclass_f1_score</th>\n",
              "      <th>time</th>\n",
              "    </tr>\n",
              "  </thead>\n",
              "  <tbody>\n",
              "    <tr>\n",
              "      <td>0</td>\n",
              "      <td>0.325645</td>\n",
              "      <td>0.172591</td>\n",
              "      <td>0.966595</td>\n",
              "      <td>05:46</td>\n",
              "    </tr>\n",
              "  </tbody>\n",
              "</table>"
            ]
          },
          "metadata": {}
        },
        {
          "output_type": "display_data",
          "data": {
            "text/plain": [
              "<IPython.core.display.HTML object>"
            ],
            "text/html": [
              "\n",
              "<style>\n",
              "    /* Turns off some styling */\n",
              "    progress {\n",
              "        /* gets rid of default border in Firefox and Opera. */\n",
              "        border: none;\n",
              "        /* Needs to be in here for Safari polyfill so background images work as expected. */\n",
              "        background-size: auto;\n",
              "    }\n",
              "    progress:not([value]), progress:not([value])::-webkit-progress-bar {\n",
              "        background: repeating-linear-gradient(45deg, #7e7e7e, #7e7e7e 10px, #5c5c5c 10px, #5c5c5c 20px);\n",
              "    }\n",
              "    .progress-bar-interrupted, .progress-bar-interrupted::-webkit-progress-bar {\n",
              "        background: #F44336;\n",
              "    }\n",
              "</style>\n"
            ]
          },
          "metadata": {}
        },
        {
          "output_type": "display_data",
          "data": {
            "text/plain": [
              "<IPython.core.display.HTML object>"
            ],
            "text/html": [
              "<table border=\"1\" class=\"dataframe\">\n",
              "  <thead>\n",
              "    <tr style=\"text-align: left;\">\n",
              "      <th>epoch</th>\n",
              "      <th>train_loss</th>\n",
              "      <th>valid_loss</th>\n",
              "      <th>multiclass_f1_score</th>\n",
              "      <th>time</th>\n",
              "    </tr>\n",
              "  </thead>\n",
              "  <tbody>\n",
              "    <tr>\n",
              "      <td>0</td>\n",
              "      <td>0.198891</td>\n",
              "      <td>0.141914</td>\n",
              "      <td>0.971444</td>\n",
              "      <td>07:02</td>\n",
              "    </tr>\n",
              "    <tr>\n",
              "      <td>1</td>\n",
              "      <td>0.188292</td>\n",
              "      <td>0.130506</td>\n",
              "      <td>0.976024</td>\n",
              "      <td>07:01</td>\n",
              "    </tr>\n",
              "    <tr>\n",
              "      <td>2</td>\n",
              "      <td>0.091077</td>\n",
              "      <td>0.125399</td>\n",
              "      <td>0.977371</td>\n",
              "      <td>07:01</td>\n",
              "    </tr>\n",
              "    <tr>\n",
              "      <td>3</td>\n",
              "      <td>0.030365</td>\n",
              "      <td>0.122111</td>\n",
              "      <td>0.977101</td>\n",
              "      <td>07:01</td>\n",
              "    </tr>\n",
              "    <tr>\n",
              "      <td>4</td>\n",
              "      <td>0.059652</td>\n",
              "      <td>0.123257</td>\n",
              "      <td>0.977371</td>\n",
              "      <td>07:01</td>\n",
              "    </tr>\n",
              "  </tbody>\n",
              "</table>"
            ]
          },
          "metadata": {}
        },
        {
          "output_type": "display_data",
          "data": {
            "text/plain": [
              "<IPython.core.display.HTML object>"
            ],
            "text/html": [
              "\n",
              "<style>\n",
              "    /* Turns off some styling */\n",
              "    progress {\n",
              "        /* gets rid of default border in Firefox and Opera. */\n",
              "        border: none;\n",
              "        /* Needs to be in here for Safari polyfill so background images work as expected. */\n",
              "        background-size: auto;\n",
              "    }\n",
              "    progress:not([value]), progress:not([value])::-webkit-progress-bar {\n",
              "        background: repeating-linear-gradient(45deg, #7e7e7e, #7e7e7e 10px, #5c5c5c 10px, #5c5c5c 20px);\n",
              "    }\n",
              "    .progress-bar-interrupted, .progress-bar-interrupted::-webkit-progress-bar {\n",
              "        background: #F44336;\n",
              "    }\n",
              "</style>\n"
            ]
          },
          "metadata": {}
        },
        {
          "output_type": "display_data",
          "data": {
            "text/plain": [
              "<IPython.core.display.HTML object>"
            ],
            "text/html": [
              "\n",
              "    <div>\n",
              "      <progress value='0' class='' max='5' style='width:300px; height:20px; vertical-align: middle;'></progress>\n",
              "      \n",
              "    </div>\n",
              "    \n"
            ]
          },
          "metadata": {}
        },
        {
          "output_type": "display_data",
          "data": {
            "text/plain": [
              "<IPython.core.display.HTML object>"
            ],
            "text/html": [
              "\n",
              "<style>\n",
              "    /* Turns off some styling */\n",
              "    progress {\n",
              "        /* gets rid of default border in Firefox and Opera. */\n",
              "        border: none;\n",
              "        /* Needs to be in here for Safari polyfill so background images work as expected. */\n",
              "        background-size: auto;\n",
              "    }\n",
              "    progress:not([value]), progress:not([value])::-webkit-progress-bar {\n",
              "        background: repeating-linear-gradient(45deg, #7e7e7e, #7e7e7e 10px, #5c5c5c 10px, #5c5c5c 20px);\n",
              "    }\n",
              "    .progress-bar-interrupted, .progress-bar-interrupted::-webkit-progress-bar {\n",
              "        background: #F44336;\n",
              "    }\n",
              "</style>\n"
            ]
          },
          "metadata": {}
        },
        {
          "output_type": "display_data",
          "data": {
            "text/plain": [
              "<IPython.core.display.HTML object>"
            ],
            "text/html": [
              "\n",
              "    <div>\n",
              "      <progress value='4' class='' max='4' style='width:300px; height:20px; vertical-align: middle;'></progress>\n",
              "      100.00% [4/4 05:12&lt;00:00]\n",
              "    </div>\n",
              "    \n",
              "\n",
              "\n",
              "    <div>\n",
              "      <progress value='446' class='' max='462' style='width:300px; height:20px; vertical-align: middle;'></progress>\n",
              "      96.54% [446/462 01:09&lt;00:02 0.0597]\n",
              "    </div>\n",
              "    "
            ]
          },
          "metadata": {}
        }
      ],
      "source": [
        "from torcheval.metrics.functional import multiclass_f1_score\n",
        "import gc\n",
        "\n",
        "models = {\n",
        "    'convnext_large_in22k': 128,\n",
        "    'vit_large_patch16_224': 224,\n",
        "    'swinv2_large_window12_192_22k': 192,\n",
        "    'swin_large_patch4_window7_224': 224,\n",
        "}\n",
        "\n",
        "tta_res = []\n",
        "\n",
        "test_paths = [(path/'tfrecords-jpeg-224x224/test').ls()]\n",
        "test_data = load_tfrecs(test_paths, is_test=True)\n",
        "\n",
        "def train(arch, size):\n",
        "    block = DataBlock(blocks=(ImageBlock, CategoryBlock),\n",
        "                      get_items=get_items,\n",
        "                      get_x=get_x,\n",
        "                      get_y=get_y,\n",
        "                      splitter=IndexSplitter(range(12753, len(data))),\n",
        "                      item_tfms=[],\n",
        "                      batch_tfms=[*aug_transforms(size=size, min_scale=0.75)])\n",
        "    dls = block.dataloaders(data, bs=16)\n",
        "\n",
        "    learn = vision_learner(dls, arch, metrics=multiclass_f1_score, path='.', cbs=GradientAccumulation(64)).to_fp16()\n",
        "    learn.fine_tune(5, 0.001)\n",
        "\n",
        "    return learn.tta(dl=dls.test_dl(test_data))\n",
        "\n",
        "for arch,size in models.items():\n",
        "      print('---',arch)\n",
        "      print('---',size)\n",
        "      tta_res.append(train(arch, size))\n",
        "      gc.collect()\n",
        "      torch.cuda.empty_cache()"
      ]
    },
    {
      "cell_type": "code",
      "execution_count": null,
      "id": "MqOyAzs5SRCl",
      "metadata": {
        "id": "MqOyAzs5SRCl"
      },
      "outputs": [],
      "source": [
        "tta_prs = first(zip(*tta_res))\n",
        "avg_pr = torch.stack(tta_prs).mean(0)\n",
        "avg_pr.shape"
      ]
    },
    {
      "cell_type": "code",
      "execution_count": null,
      "id": "8f2a072a-b97a-4190-8e00-48ce150619bb",
      "metadata": {
        "id": "8f2a072a-b97a-4190-8e00-48ce150619bb"
      },
      "outputs": [],
      "source": [
        "sample_submission = pd.read_csv(path/'sample_submission.csv')\n",
        "sample_submission"
      ]
    },
    {
      "cell_type": "code",
      "execution_count": null,
      "id": "bc4b58ef-2ec4-4a30-abcb-14f2eaf9e22d",
      "metadata": {
        "id": "bc4b58ef-2ec4-4a30-abcb-14f2eaf9e22d"
      },
      "outputs": [],
      "source": [
        "# torch.save(learn.model.state_dict(), '03.pth')\n",
        "# from google.colab import files\n",
        "# files.download('model_state_dict.pth')\n",
        "# learn = vision_learner(dls, 'convnext_small_in22k', metrics=multiclass_f1_score, path='.').to_fp16()\n",
        "# learn.model.load_state_dict(torch.load('01.pth'))\n",
        "\n",
        "# learn = vision_learner(dls, 'convnext_small_in22k', metrics=multiclass_f1_score, path='.').to_fp16()\n",
        "# learn.model.load_state_dict(torch.load('01.pth', map_location=torch.device('cpu')))"
      ]
    },
    {
      "cell_type": "code",
      "execution_count": null,
      "id": "54a0c08c-abfc-44fe-aafb-5c5726dc251a",
      "metadata": {
        "id": "54a0c08c-abfc-44fe-aafb-5c5726dc251a"
      },
      "outputs": [],
      "source": [
        "idxs = avg_pr.argmax(dim=1)"
      ]
    },
    {
      "cell_type": "code",
      "execution_count": null,
      "id": "47fa75f2-4930-4b8d-917d-e2828d74233a",
      "metadata": {
        "id": "47fa75f2-4930-4b8d-917d-e2828d74233a"
      },
      "outputs": [],
      "source": [
        "idxs"
      ]
    },
    {
      "cell_type": "code",
      "execution_count": null,
      "id": "bd568c2a-6fa9-4c1f-8b40-2632952c3056",
      "metadata": {
        "id": "bd568c2a-6fa9-4c1f-8b40-2632952c3056"
      },
      "outputs": [],
      "source": [
        "block = DataBlock(blocks=(ImageBlock, CategoryBlock),\n",
        "                    get_items=get_items,\n",
        "                    get_x=get_x,\n",
        "                    get_y=get_y,\n",
        "                    splitter=IndexSplitter(range(12753, len(data))),\n",
        "                    item_tfms=[],\n",
        "                    batch_tfms=[*aug_transforms(size=144, min_scale=0.75)])\n",
        "dls = block.dataloaders(data, bs=16)\n",
        "vocab = np.array(dls.vocab)\n",
        "results = pd.Series(vocab[idxs], name=\"label\")\n",
        "results"
      ]
    },
    {
      "cell_type": "code",
      "execution_count": null,
      "id": "40afb95e-a07a-4237-a474-e62ff6b27f6d",
      "metadata": {
        "id": "40afb95e-a07a-4237-a474-e62ff6b27f6d"
      },
      "outputs": [],
      "source": [
        "ids = pd.Series([datum[2].decode('utf-8') for datum in test_data], name=\"id\")\n",
        "ids"
      ]
    },
    {
      "cell_type": "code",
      "execution_count": null,
      "id": "0b93aaf6-65ef-419d-8e46-27de4af77c91",
      "metadata": {
        "id": "0b93aaf6-65ef-419d-8e46-27de4af77c91"
      },
      "outputs": [],
      "source": [
        "submission = pd.DataFrame({'id': ids, 'label': results})\n",
        "submission.to_csv('submission.csv', header=True, index=False)"
      ]
    },
    {
      "cell_type": "code",
      "execution_count": null,
      "id": "4a6727d8-3c41-48f5-a370-c7ffeb464030",
      "metadata": {
        "id": "4a6727d8-3c41-48f5-a370-c7ffeb464030"
      },
      "outputs": [],
      "source": [
        "!head submission.csv"
      ]
    },
    {
      "cell_type": "code",
      "execution_count": null,
      "id": "ac79b8be-c13c-4d16-a042-ec7c44e77c80",
      "metadata": {
        "id": "ac79b8be-c13c-4d16-a042-ec7c44e77c80"
      },
      "outputs": [],
      "source": [
        "# if not iskaggle:\n",
        "#    from kaggle import api\n",
        "#    api.competition_submit_cli('submission.csv', 'petals-to-the-metal-01', comp)"
      ]
    },
    {
      "cell_type": "code",
      "execution_count": null,
      "id": "2d55d64f-05c6-41c1-93b4-ccd814fa2602",
      "metadata": {
        "id": "2d55d64f-05c6-41c1-93b4-ccd814fa2602"
      },
      "outputs": [],
      "source": [
        "if not iskaggle:\n",
        "    push_notebook('alexchalk', 'petals-to-the-metal-submission-03',\n",
        "                  title='Petals to the Metal Submission 03',\n",
        "                  file='03.ipynb',\n",
        "                  competition=comp, private=True, gpu=False)"
      ]
    },
    {
      "cell_type": "code",
      "source": [],
      "metadata": {
        "id": "BrV6PCwWTX91"
      },
      "id": "BrV6PCwWTX91",
      "execution_count": null,
      "outputs": []
    }
  ],
  "metadata": {
    "accelerator": "GPU",
    "colab": {
      "gpuType": "T4",
      "provenance": []
    },
    "kernelspec": {
      "display_name": "Python ML",
      "language": "python",
      "name": "python3"
    },
    "language_info": {
      "codemirror_mode": {
        "name": "ipython",
        "version": 3
      },
      "file_extension": ".py",
      "mimetype": "text/x-python",
      "name": "python",
      "nbconvert_exporter": "python",
      "pygments_lexer": "ipython3",
      "version": "3.11.9"
    }
  },
  "nbformat": 4,
  "nbformat_minor": 5
}