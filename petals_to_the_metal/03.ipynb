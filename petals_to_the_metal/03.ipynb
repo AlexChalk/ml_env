{
 "cells": [
  {
   "cell_type": "code",
   "execution_count": null,
   "id": "e1108cbb-cf4a-4ba2-a448-3adbb2ccf976",
   "metadata": {
    "id": "e1108cbb-cf4a-4ba2-a448-3adbb2ccf976"
   },
   "outputs": [],
   "source": [
    "try: import fastkaggle\n",
    "except ModuleNotFoundError:\n",
    "    !pip install -Uq fastkaggle\n",
    "\n",
    "try: import timm\n",
    "except ModuleNotFoundError:\n",
    "    !pip install -Uq \"timm==0.6.2.dev0\"\n",
    "\n",
    "try: import tensorflow\n",
    "except ModuleNotFoundError:\n",
    "    !pip install -Uq tensorflow\n",
    "\n",
    "try: import torcheval\n",
    "except ModuleNotFoundError:\n",
    "    !pip install -Uq torcheval\n",
    "\n",
    "try: import huggingface_hub\n",
    "except ModuleNotFoundError:\n",
    "    !pip install -Uq huggingface_hub"
   ]
  },
  {
   "cell_type": "code",
   "execution_count": 1,
   "id": "b8ac0cf0-1940-4697-ab59-28bc295ed937",
   "metadata": {
    "id": "b8ac0cf0-1940-4697-ab59-28bc295ed937"
   },
   "outputs": [],
   "source": [
    "from fastkaggle import *"
   ]
  },
  {
   "cell_type": "code",
   "execution_count": null,
   "id": "595598f8-40e7-46a8-9e1f-63806360e161",
   "metadata": {
    "id": "595598f8-40e7-46a8-9e1f-63806360e161"
   },
   "outputs": [],
   "source": [
    "# for working with paths in Python, I recommend using `pathlib.Path`\n",
    "from pathlib import Path\n",
    "\n",
    "cred_path = Path('~/.kaggle/kaggle.json').expanduser()\n",
    "if not iskaggle and not cred_path.exists():\n",
    "    creds = ''\n",
    "    cred_path.parent.mkdir(exist_ok=True)\n",
    "    cred_path.write_text(creds)\n",
    "    cred_path.chmod(0o600)"
   ]
  },
  {
   "cell_type": "code",
   "execution_count": null,
   "id": "a76bfabb-7412-4bfe-82e2-b06550b67d31",
   "metadata": {
    "id": "a76bfabb-7412-4bfe-82e2-b06550b67d31"
   },
   "outputs": [],
   "source": [
    "comp = 'tpu-getting-started'\n",
    "\n",
    "path = setup_comp(comp, install='fastai tensorflow \"timm==0.6.2.dev0\"')\n",
    "classes = [\"pink primrose\",\"hard-leaved pocket orchid\",\"canterbury bells\",\"sweet pea\",\"wild geranium\",\"tiger lily\",\"moon orchid\",\"bird of paradise\",\"monkshood\",\"globe thistle\",\"snapdragon\",\"colt's foot\",\"king protea\",\"spear thistle\",\"yellow iris\",\"globe-flower\",\"purple coneflower\",\"peruvian lily\",\"balloon flower\",\"giant white arum lily\",\"fire lily\",\"pincushion flower\",\"fritillary\",\"red ginger\",\"grape hyacinth\",\"corn poppy\",\"prince of wales feathers\",\"stemless gentian\",\"artichoke\",\"sweet william\",\"carnation\",\"garden phlox\",\"love in the mist\",\"cosmos\",\"alpine sea holly\",\"ruby-lipped cattleya\",\"cape flower\",\"great masterwort\",\"siam tulip\",\"lenten rose\",\"barberton daisy\",\"daffodil\",\"sword lily\",\"poinsettia\",\"bolero deep blue\",\"wallflower\",\"marigold\",\"buttercup\",\"daisy\",\"common dandelion\",\"petunia\",\"wild pansy\",\"primula\",\"sunflower\",\"lilac hibiscus\",\"bishop of llandaff\",\"gaura\",\"geranium\",\"orange dahlia\",\"pink-yellow dahlia\",\"cautleya spicata\",\"japanese anemone\",\"black-eyed susan\",\"silverbush\",\"californian poppy\",\"osteospermum\",\"spring crocus\",\"iris\",\"windflower\",\"tree poppy\",\"gazania\",\"azalea\",\"water lily\",\"rose\",\"thorn apple\",\"morning glory\",\"passion flower\",\"lotus\",\"toad lily\",\"anthurium\",\"frangipani\",\"clematis\",\"hibiscus\",\"columbine\",\"desert-rose\",\"tree mallow\",\"magnolia\",\"cyclamen \",\"watercress\",\"canna lily\",\"hippeastrum \",\"bee balm\",\"pink quill\",\"foxglove\",\"bougainvillea\",\"camellia\",\"mallow\",\"mexican petunia\",\"bromelia\",\"blanket flower\",\"trumpet creeper\",\"blackberry lily\",\"common tulip\",\"wild rose\"]"
   ]
  },
  {
   "cell_type": "code",
   "execution_count": null,
   "id": "1689e644-d791-4466-84a7-49d0134a4798",
   "metadata": {
    "colab": {
     "base_uri": "https://localhost:8080/"
    },
    "id": "1689e644-d791-4466-84a7-49d0134a4798",
    "outputId": "a97c1785-a367-406c-976d-7a912ad51007"
   },
   "outputs": [],
   "source": [
    "path"
   ]
  },
  {
   "cell_type": "code",
   "execution_count": null,
   "id": "f540eae7-1edf-42cc-9f9f-9d43063c7e65",
   "metadata": {
    "colab": {
     "base_uri": "https://localhost:8080/"
    },
    "id": "f540eae7-1edf-42cc-9f9f-9d43063c7e65",
    "outputId": "e321d1a2-c93b-4e51-e911-e29294e375e9"
   },
   "outputs": [],
   "source": [
    "import timm\n",
    "import functools\n",
    "import itertools\n",
    "from fastai.vision.all import *\n",
    "\n",
    "path.ls()"
   ]
  },
  {
   "cell_type": "code",
   "execution_count": null,
   "id": "85e70e04-c063-4b01-865b-d62ddad4a156",
   "metadata": {
    "id": "85e70e04-c063-4b01-865b-d62ddad4a156"
   },
   "outputs": [],
   "source": [
    "data_paths = list(filter(lambda x: str(x) != \"tpu-getting-started/sample_submission.csv\", path.ls()))\n",
    "data_paths = [path/'tfrecords-jpeg-331x331']\n",
    "data_paths = functools.reduce(lambda acc, path: list(itertools.chain(acc, (path/'train').ls(), (path/'val').ls())), data_paths, [])"
   ]
  },
  {
   "cell_type": "code",
   "execution_count": null,
   "id": "f9c4a44e-e789-4bb2-8751-0cb3e6e41907",
   "metadata": {
    "colab": {
     "base_uri": "https://localhost:8080/"
    },
    "id": "f9c4a44e-e789-4bb2-8751-0cb3e6e41907",
    "outputId": "c57e6edc-267e-4646-9c86-996c7654c6f1"
   },
   "outputs": [],
   "source": [
    "import tensorflow as tf\n",
    "\n",
    "# https://www.tensorflow.org/tutorials/load_data/tfrecord#reading_a_tfrecord_file_in_python\n",
    "def load_tfrecs(data_paths, is_test=False):\n",
    "    data = []\n",
    "    raw_dataset = tf.data.TFRecordDataset(data_paths)\n",
    "\n",
    "    for record in raw_dataset:\n",
    "        example = tf.train.Example()\n",
    "        example.ParseFromString(record.numpy())\n",
    "        datum = [\n",
    "            None if is_test else example.features.feature['class'].int64_list.value[0],\n",
    "            example.features.feature['image'].bytes_list.value[0],\n",
    "            example.features.feature['id'].bytes_list.value[0],\n",
    "        ]\n",
    "        data.append(datum)\n",
    "\n",
    "    return data\n",
    "\n",
    "data = load_tfrecs(data_paths)\n",
    "\n",
    "len(data)"
   ]
  },
  {
   "cell_type": "code",
   "execution_count": null,
   "id": "eced8870-bcfe-491d-b195-273bbeb6bc09",
   "metadata": {
    "colab": {
     "base_uri": "https://localhost:8080/",
     "height": 162
    },
    "id": "eced8870-bcfe-491d-b195-273bbeb6bc09",
    "outputId": "35ccd74e-e931-4789-c1a9-ca5ebd199817"
   },
   "outputs": [],
   "source": [
    "img = PILImage.create(data[0][1])\n",
    "print(img.size)\n",
    "img.to_thumb(128)"
   ]
  },
  {
   "cell_type": "code",
   "execution_count": null,
   "id": "f96188fe-3371-4f5b-a66b-8e3400d9f08e",
   "metadata": {
    "colab": {
     "base_uri": "https://localhost:8080/",
     "height": 170
    },
    "id": "f96188fe-3371-4f5b-a66b-8e3400d9f08e",
    "outputId": "e2652a68-b63a-42de-99fa-96df542f3f34"
   },
   "outputs": [],
   "source": [
    "from fastcore.parallel import *\n",
    "\n",
    "def f(o): return PILImage.create(o[1]).size\n",
    "sizes = parallel(f, data, n_workers=8)\n",
    "pd.Series(sizes).value_counts()"
   ]
  },
  {
   "cell_type": "code",
   "execution_count": null,
   "id": "96c92cfc-9d3c-4efa-865d-f7640e22ea0a",
   "metadata": {
    "id": "96c92cfc-9d3c-4efa-865d-f7640e22ea0a"
   },
   "outputs": [],
   "source": [
    "def get_items(data, *args, **kwargs): return data\n",
    "\n",
    "get_x = lambda entry: PILImage.create(io.BytesIO(entry[1]))\n",
    "get_y = lambda entry: entry[0]"
   ]
  },
  {
   "cell_type": "code",
   "execution_count": null,
   "id": "ea53d736-3249-4322-967a-66134beb84a2",
   "metadata": {
    "colab": {
     "base_uri": "https://localhost:8080/",
     "height": 373,
     "referenced_widgets": [
      "b2a94a37172e4a648ed24b59f6b18cb6",
      "b85483b6182346b8a169940808c712f9",
      "978e75181c9f492e873fba6542e7e8d0",
      "a7c9b4a3985c4ef7a9ef68504769e4a3",
      "2d582a839f96438e9579ec41682bf8ad",
      "21ebbe1897174c6ca4596ec8dd5d0af0",
      "2ed5dc948bb64c43aebfe57b6ea5062f",
      "867be2f71a674beba27bd4c175ebe685",
      "192989ea5abd4952968e95037ec1a6be",
      "80432b8d96dc45d091dda8bef7632031",
      "bc97e19601324e0c904c4502c571a4f3"
     ]
    },
    "id": "ea53d736-3249-4322-967a-66134beb84a2",
    "outputId": "aa9d75e1-7860-48be-edcc-770f54b6f895"
   },
   "outputs": [],
   "source": [
    "from torcheval.metrics.functional import multiclass_f1_score\n",
    "import gc\n",
    "\n",
    "res = 320,320\n",
    "models = {\n",
    "    'convnext_large_in22k': {\n",
    "        (Resize(res), 224),\n",
    "    }, 'vit_large_patch16_224': {\n",
    "        (Resize(res), 224),\n",
    "    }, 'swinv2_large_window12_192_22k': {\n",
    "        (Resize(res), 192),\n",
    "    }, 'swin_large_patch4_window7_224': {\n",
    "        (Resize(res), 224),\n",
    "    }\n",
    "}\n",
    "\n",
    "tta_res = []\n",
    "\n",
    "test_paths = [(path/'tfrecords-jpeg-331x331/test').ls()]\n",
    "test_data = load_tfrecs(test_paths, is_test=True)\n",
    "\n",
    "def train(arch, size, item=Resize(512, method='squish')):\n",
    "    block = DataBlock(blocks=(ImageBlock, CategoryBlock),\n",
    "                      get_items=get_items,\n",
    "                      get_x=get_x,\n",
    "                      get_y=get_y,\n",
    "                      splitter=IndexSplitter(range(12753, len(data))),\n",
    "                      item_tfms=item,\n",
    "                      batch_tfms=[*aug_transforms(size=size, min_scale=0.75)])\n",
    "    dls = block.dataloaders(data, bs=16)\n",
    "\n",
    "    learn = vision_learner(dls, arch, metrics=multiclass_f1_score, path='.', cbs=GradientAccumulation(64)).to_fp16()\n",
    "    learn.fine_tune(5, 0.001)\n",
    "\n",
    "    return learn.tta(dl=dls.test_dl(test_data))\n",
    "\n",
    "for arch,details in models.items():\n",
    "    for item,size in details:\n",
    "        print('---',arch)\n",
    "        print(size)\n",
    "        print(item.name)\n",
    "        tta_res.append(train(arch, size, item=item))\n",
    "        gc.collect()\n",
    "        torch.cuda.empty_cache()"
   ]
  },
  {
   "cell_type": "code",
   "execution_count": null,
   "id": "MqOyAzs5SRCl",
   "metadata": {
    "id": "MqOyAzs5SRCl"
   },
   "outputs": [],
   "source": [
    "tta_prs = first(zip(*tta_res))\n",
    "avg_pr = torch.stack(tta_prs).mean(0)\n",
    "avg_pr.shape"
   ]
  },
  {
   "cell_type": "code",
   "execution_count": null,
   "id": "8f2a072a-b97a-4190-8e00-48ce150619bb",
   "metadata": {
    "id": "8f2a072a-b97a-4190-8e00-48ce150619bb"
   },
   "outputs": [],
   "source": [
    "sample_submission = pd.read_csv(path/'sample_submission.csv')\n",
    "sample_submission"
   ]
  },
  {
   "cell_type": "code",
   "execution_count": null,
   "id": "bc4b58ef-2ec4-4a30-abcb-14f2eaf9e22d",
   "metadata": {
    "id": "bc4b58ef-2ec4-4a30-abcb-14f2eaf9e22d"
   },
   "outputs": [],
   "source": [
    "# torch.save(learn.model.state_dict(), '01.pth')\n",
    "# from google.colab import files\n",
    "# files.download('model_state_dict.pth')\n",
    "# learn = vision_learner(dls, 'convnext_small_in22k', metrics=multiclass_f1_score, path='.').to_fp16()\n",
    "# learn.model.load_state_dict(torch.load('01.pth'))\n",
    "\n",
    "# learn = vision_learner(dls, 'convnext_small_in22k', metrics=multiclass_f1_score, path='.').to_fp16()\n",
    "# learn.model.load_state_dict(torch.load('01.pth', map_location=torch.device('cpu')))"
   ]
  },
  {
   "cell_type": "code",
   "execution_count": null,
   "id": "54a0c08c-abfc-44fe-aafb-5c5726dc251a",
   "metadata": {
    "id": "54a0c08c-abfc-44fe-aafb-5c5726dc251a"
   },
   "outputs": [],
   "source": [
    "idxs = avg_pr.argmax(dim=1)"
   ]
  },
  {
   "cell_type": "code",
   "execution_count": null,
   "id": "47fa75f2-4930-4b8d-917d-e2828d74233a",
   "metadata": {
    "id": "47fa75f2-4930-4b8d-917d-e2828d74233a"
   },
   "outputs": [],
   "source": [
    "idxs"
   ]
  },
  {
   "cell_type": "code",
   "execution_count": null,
   "id": "33e55c40-4ea4-4ad7-af5e-89768164c722",
   "metadata": {
    "id": "33e55c40-4ea4-4ad7-af5e-89768164c722"
   },
   "outputs": [],
   "source": [
    "learn.dls.vocab"
   ]
  },
  {
   "cell_type": "code",
   "execution_count": null,
   "id": "bd568c2a-6fa9-4c1f-8b40-2632952c3056",
   "metadata": {
    "id": "bd568c2a-6fa9-4c1f-8b40-2632952c3056"
   },
   "outputs": [],
   "source": [
    "vocab = np.array(learn.dls.vocab)\n",
    "results = pd.Series(vocab[idxs], name=\"label\")\n",
    "results"
   ]
  },
  {
   "cell_type": "code",
   "execution_count": null,
   "id": "40afb95e-a07a-4237-a474-e62ff6b27f6d",
   "metadata": {
    "id": "40afb95e-a07a-4237-a474-e62ff6b27f6d"
   },
   "outputs": [],
   "source": [
    "ids = pd.Series([datum[2].decode('utf-8') for datum in test_data], name=\"id\")\n",
    "ids"
   ]
  },
  {
   "cell_type": "code",
   "execution_count": null,
   "id": "0b93aaf6-65ef-419d-8e46-27de4af77c91",
   "metadata": {
    "id": "0b93aaf6-65ef-419d-8e46-27de4af77c91"
   },
   "outputs": [],
   "source": [
    "submission = pd.DataFrame({'id': ids, 'label': results})\n",
    "submission.to_csv('submission.csv', header=True, index=False)"
   ]
  },
  {
   "cell_type": "code",
   "execution_count": null,
   "id": "4a6727d8-3c41-48f5-a370-c7ffeb464030",
   "metadata": {
    "id": "4a6727d8-3c41-48f5-a370-c7ffeb464030"
   },
   "outputs": [],
   "source": [
    "!head submission.csv"
   ]
  },
  {
   "cell_type": "code",
   "execution_count": null,
   "id": "ac79b8be-c13c-4d16-a042-ec7c44e77c80",
   "metadata": {
    "id": "ac79b8be-c13c-4d16-a042-ec7c44e77c80"
   },
   "outputs": [],
   "source": [
    "# if not iskaggle:\n",
    "#    from kaggle import api\n",
    "#    api.competition_submit_cli('submission.csv', 'petals-to-the-metal-01', comp)"
   ]
  },
  {
   "cell_type": "code",
   "execution_count": null,
   "id": "2d55d64f-05c6-41c1-93b4-ccd814fa2602",
   "metadata": {
    "id": "2d55d64f-05c6-41c1-93b4-ccd814fa2602",
    "outputId": "e772eb52-c3e6-4b8d-c85f-1c3c20b50bc6"
   },
   "outputs": [],
   "source": [
    "if not iskaggle:\n",
    "    push_notebook('alexchalk', 'petals-to-the-metal-submission-03',\n",
    "                  title='Petals to the Metal Submission 03',\n",
    "                  file='03.ipynb',\n",
    "                  competition=comp, private=True, gpu=False)"
   ]
  }
 ],
 "metadata": {
  "accelerator": "GPU",
  "colab": {
   "gpuType": "T4",
   "provenance": []
  },
  "kernelspec": {
   "display_name": "Python ML",
   "language": "python",
   "name": "python3"
  },
  "language_info": {
   "codemirror_mode": {
    "name": "ipython",
    "version": 3
   },
   "file_extension": ".py",
   "mimetype": "text/x-python",
   "name": "python",
   "nbconvert_exporter": "python",
   "pygments_lexer": "ipython3",
   "version": "3.11.9"
  },
  "widgets": {
   "application/vnd.jupyter.widget-state+json": {
    "192989ea5abd4952968e95037ec1a6be": {
     "model_module": "@jupyter-widgets/controls",
     "model_module_version": "1.5.0",
     "model_name": "ProgressStyleModel",
     "state": {
      "_model_module": "@jupyter-widgets/controls",
      "_model_module_version": "1.5.0",
      "_model_name": "ProgressStyleModel",
      "_view_count": null,
      "_view_module": "@jupyter-widgets/base",
      "_view_module_version": "1.2.0",
      "_view_name": "StyleView",
      "bar_color": null,
      "description_width": ""
     }
    },
    "21ebbe1897174c6ca4596ec8dd5d0af0": {
     "model_module": "@jupyter-widgets/base",
     "model_module_version": "1.2.0",
     "model_name": "LayoutModel",
     "state": {
      "_model_module": "@jupyter-widgets/base",
      "_model_module_version": "1.2.0",
      "_model_name": "LayoutModel",
      "_view_count": null,
      "_view_module": "@jupyter-widgets/base",
      "_view_module_version": "1.2.0",
      "_view_name": "LayoutView",
      "align_content": null,
      "align_items": null,
      "align_self": null,
      "border": null,
      "bottom": null,
      "display": null,
      "flex": null,
      "flex_flow": null,
      "grid_area": null,
      "grid_auto_columns": null,
      "grid_auto_flow": null,
      "grid_auto_rows": null,
      "grid_column": null,
      "grid_gap": null,
      "grid_row": null,
      "grid_template_areas": null,
      "grid_template_columns": null,
      "grid_template_rows": null,
      "height": null,
      "justify_content": null,
      "justify_items": null,
      "left": null,
      "margin": null,
      "max_height": null,
      "max_width": null,
      "min_height": null,
      "min_width": null,
      "object_fit": null,
      "object_position": null,
      "order": null,
      "overflow": null,
      "overflow_x": null,
      "overflow_y": null,
      "padding": null,
      "right": null,
      "top": null,
      "visibility": null,
      "width": null
     }
    },
    "2d582a839f96438e9579ec41682bf8ad": {
     "model_module": "@jupyter-widgets/base",
     "model_module_version": "1.2.0",
     "model_name": "LayoutModel",
     "state": {
      "_model_module": "@jupyter-widgets/base",
      "_model_module_version": "1.2.0",
      "_model_name": "LayoutModel",
      "_view_count": null,
      "_view_module": "@jupyter-widgets/base",
      "_view_module_version": "1.2.0",
      "_view_name": "LayoutView",
      "align_content": null,
      "align_items": null,
      "align_self": null,
      "border": null,
      "bottom": null,
      "display": null,
      "flex": null,
      "flex_flow": null,
      "grid_area": null,
      "grid_auto_columns": null,
      "grid_auto_flow": null,
      "grid_auto_rows": null,
      "grid_column": null,
      "grid_gap": null,
      "grid_row": null,
      "grid_template_areas": null,
      "grid_template_columns": null,
      "grid_template_rows": null,
      "height": null,
      "justify_content": null,
      "justify_items": null,
      "left": null,
      "margin": null,
      "max_height": null,
      "max_width": null,
      "min_height": null,
      "min_width": null,
      "object_fit": null,
      "object_position": null,
      "order": null,
      "overflow": null,
      "overflow_x": null,
      "overflow_y": null,
      "padding": null,
      "right": null,
      "top": null,
      "visibility": null,
      "width": null
     }
    },
    "2ed5dc948bb64c43aebfe57b6ea5062f": {
     "model_module": "@jupyter-widgets/controls",
     "model_module_version": "1.5.0",
     "model_name": "DescriptionStyleModel",
     "state": {
      "_model_module": "@jupyter-widgets/controls",
      "_model_module_version": "1.5.0",
      "_model_name": "DescriptionStyleModel",
      "_view_count": null,
      "_view_module": "@jupyter-widgets/base",
      "_view_module_version": "1.2.0",
      "_view_name": "StyleView",
      "description_width": ""
     }
    },
    "80432b8d96dc45d091dda8bef7632031": {
     "model_module": "@jupyter-widgets/base",
     "model_module_version": "1.2.0",
     "model_name": "LayoutModel",
     "state": {
      "_model_module": "@jupyter-widgets/base",
      "_model_module_version": "1.2.0",
      "_model_name": "LayoutModel",
      "_view_count": null,
      "_view_module": "@jupyter-widgets/base",
      "_view_module_version": "1.2.0",
      "_view_name": "LayoutView",
      "align_content": null,
      "align_items": null,
      "align_self": null,
      "border": null,
      "bottom": null,
      "display": null,
      "flex": null,
      "flex_flow": null,
      "grid_area": null,
      "grid_auto_columns": null,
      "grid_auto_flow": null,
      "grid_auto_rows": null,
      "grid_column": null,
      "grid_gap": null,
      "grid_row": null,
      "grid_template_areas": null,
      "grid_template_columns": null,
      "grid_template_rows": null,
      "height": null,
      "justify_content": null,
      "justify_items": null,
      "left": null,
      "margin": null,
      "max_height": null,
      "max_width": null,
      "min_height": null,
      "min_width": null,
      "object_fit": null,
      "object_position": null,
      "order": null,
      "overflow": null,
      "overflow_x": null,
      "overflow_y": null,
      "padding": null,
      "right": null,
      "top": null,
      "visibility": null,
      "width": null
     }
    },
    "867be2f71a674beba27bd4c175ebe685": {
     "model_module": "@jupyter-widgets/base",
     "model_module_version": "1.2.0",
     "model_name": "LayoutModel",
     "state": {
      "_model_module": "@jupyter-widgets/base",
      "_model_module_version": "1.2.0",
      "_model_name": "LayoutModel",
      "_view_count": null,
      "_view_module": "@jupyter-widgets/base",
      "_view_module_version": "1.2.0",
      "_view_name": "LayoutView",
      "align_content": null,
      "align_items": null,
      "align_self": null,
      "border": null,
      "bottom": null,
      "display": null,
      "flex": null,
      "flex_flow": null,
      "grid_area": null,
      "grid_auto_columns": null,
      "grid_auto_flow": null,
      "grid_auto_rows": null,
      "grid_column": null,
      "grid_gap": null,
      "grid_row": null,
      "grid_template_areas": null,
      "grid_template_columns": null,
      "grid_template_rows": null,
      "height": null,
      "justify_content": null,
      "justify_items": null,
      "left": null,
      "margin": null,
      "max_height": null,
      "max_width": null,
      "min_height": null,
      "min_width": null,
      "object_fit": null,
      "object_position": null,
      "order": null,
      "overflow": null,
      "overflow_x": null,
      "overflow_y": null,
      "padding": null,
      "right": null,
      "top": null,
      "visibility": null,
      "width": null
     }
    },
    "978e75181c9f492e873fba6542e7e8d0": {
     "model_module": "@jupyter-widgets/controls",
     "model_module_version": "1.5.0",
     "model_name": "FloatProgressModel",
     "state": {
      "_dom_classes": [],
      "_model_module": "@jupyter-widgets/controls",
      "_model_module_version": "1.5.0",
      "_model_name": "FloatProgressModel",
      "_view_count": null,
      "_view_module": "@jupyter-widgets/controls",
      "_view_module_version": "1.5.0",
      "_view_name": "ProgressView",
      "bar_style": "success",
      "description": "",
      "description_tooltip": null,
      "layout": "IPY_MODEL_867be2f71a674beba27bd4c175ebe685",
      "max": 919234676,
      "min": 0,
      "orientation": "horizontal",
      "style": "IPY_MODEL_192989ea5abd4952968e95037ec1a6be",
      "value": 919234676
     }
    },
    "a7c9b4a3985c4ef7a9ef68504769e4a3": {
     "model_module": "@jupyter-widgets/controls",
     "model_module_version": "1.5.0",
     "model_name": "HTMLModel",
     "state": {
      "_dom_classes": [],
      "_model_module": "@jupyter-widgets/controls",
      "_model_module_version": "1.5.0",
      "_model_name": "HTMLModel",
      "_view_count": null,
      "_view_module": "@jupyter-widgets/controls",
      "_view_module_version": "1.5.0",
      "_view_name": "HTMLView",
      "description": "",
      "description_tooltip": null,
      "layout": "IPY_MODEL_80432b8d96dc45d091dda8bef7632031",
      "placeholder": "​",
      "style": "IPY_MODEL_bc97e19601324e0c904c4502c571a4f3",
      "value": " 919M/919M [01:07&lt;00:00, 13.2MB/s]"
     }
    },
    "b2a94a37172e4a648ed24b59f6b18cb6": {
     "model_module": "@jupyter-widgets/controls",
     "model_module_version": "1.5.0",
     "model_name": "HBoxModel",
     "state": {
      "_dom_classes": [],
      "_model_module": "@jupyter-widgets/controls",
      "_model_module_version": "1.5.0",
      "_model_name": "HBoxModel",
      "_view_count": null,
      "_view_module": "@jupyter-widgets/controls",
      "_view_module_version": "1.5.0",
      "_view_name": "HBoxView",
      "box_style": "",
      "children": [
       "IPY_MODEL_b85483b6182346b8a169940808c712f9",
       "IPY_MODEL_978e75181c9f492e873fba6542e7e8d0",
       "IPY_MODEL_a7c9b4a3985c4ef7a9ef68504769e4a3"
      ],
      "layout": "IPY_MODEL_2d582a839f96438e9579ec41682bf8ad"
     }
    },
    "b85483b6182346b8a169940808c712f9": {
     "model_module": "@jupyter-widgets/controls",
     "model_module_version": "1.5.0",
     "model_name": "HTMLModel",
     "state": {
      "_dom_classes": [],
      "_model_module": "@jupyter-widgets/controls",
      "_model_module_version": "1.5.0",
      "_model_name": "HTMLModel",
      "_view_count": null,
      "_view_module": "@jupyter-widgets/controls",
      "_view_module_version": "1.5.0",
      "_view_name": "HTMLView",
      "description": "",
      "description_tooltip": null,
      "layout": "IPY_MODEL_21ebbe1897174c6ca4596ec8dd5d0af0",
      "placeholder": "​",
      "style": "IPY_MODEL_2ed5dc948bb64c43aebfe57b6ea5062f",
      "value": "model.safetensors: 100%"
     }
    },
    "bc97e19601324e0c904c4502c571a4f3": {
     "model_module": "@jupyter-widgets/controls",
     "model_module_version": "1.5.0",
     "model_name": "DescriptionStyleModel",
     "state": {
      "_model_module": "@jupyter-widgets/controls",
      "_model_module_version": "1.5.0",
      "_model_name": "DescriptionStyleModel",
      "_view_count": null,
      "_view_module": "@jupyter-widgets/base",
      "_view_module_version": "1.2.0",
      "_view_name": "StyleView",
      "description_width": ""
     }
    }
   }
  }
 },
 "nbformat": 4,
 "nbformat_minor": 5
}
