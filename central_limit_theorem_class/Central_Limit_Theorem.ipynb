{
 "cells": [
  {
   "cell_type": "code",
   "execution_count": 1,
   "id": "c6403291-dc2e-4736-9752-3a324a7c8b67",
   "metadata": {
    "editable": true,
    "slideshow": {
     "slide_type": ""
    },
    "tags": []
   },
   "outputs": [],
   "source": [
    "import matplotlib.pyplot as plt\n",
    "import numpy as np\n",
    "import math as math\n",
    "from sklearn.datasets import fetch_california_housing"
   ]
  },
  {
   "cell_type": "code",
   "execution_count": 2,
   "id": "5bbfd045-312b-42c3-8175-53afc0addd80",
   "metadata": {
    "editable": true,
    "slideshow": {
     "slide_type": ""
    },
    "tags": []
   },
   "outputs": [],
   "source": [
    "def four_million_sample_means(population, sample_size):\n",
    "    \"A true sample distribution of means is too large to calculate in class\"\n",
    "    return np.mean(np.random.choice(population, size=(4000000, sample_size)), axis=1)"
   ]
  },
  {
   "cell_type": "code",
   "execution_count": 3,
   "id": "8956232b-f2eb-47e6-b848-9851e6b79b64",
   "metadata": {
    "editable": true,
    "slideshow": {
     "slide_type": ""
    },
    "tags": []
   },
   "outputs": [],
   "source": [
    "def plot_histogram(title, distribution):\n",
    "    \"Plots a simple histogram with 300 bins\"\n",
    "    fig, axis = plt.subplots()\n",
    "    axis.set_title(title)\n",
    "    axis.hist(distribution, bins=300)\n",
    "\n",
    "def print_calculation(title, calculation):\n",
    "    print(title + \": \" + str(calculation))"
   ]
  },
  {
   "cell_type": "markdown",
   "id": "0cd4d6a7-e667-4dce-b7d7-5eeb84fd3606",
   "metadata": {
    "editable": true,
    "slideshow": {
     "slide_type": "slide"
    },
    "tags": []
   },
   "source": [
    "# The Central Limit Theorem"
   ]
  },
  {
   "attachments": {},
   "cell_type": "markdown",
   "id": "1c415281-4ed3-4824-ba67-e729446cc195",
   "metadata": {
    "editable": true,
    "slideshow": {
     "slide_type": "slide"
    },
    "tags": []
   },
   "source": [
    "## The Goal: How Do We Test for Statistical Significance?"
   ]
  },
  {
   "cell_type": "markdown",
   "id": "1c9c6496-9162-4ed8-80dc-614f8ec44d19",
   "metadata": {
    "editable": true,
    "slideshow": {
     "slide_type": "slide"
    },
    "tags": []
   },
   "source": [
    "## Our Method\n",
    "\n",
    "<div style=\"display: flex; align-items: center;\">\n",
    "  <div style=\"flex: 1;\">\n",
    "    <img src=\"normal_distribution.jpg\" alt=\"Normal Distribution diagram with μ, σ, and percentages\" width=\"2000\">\n",
    "      <span style=\"font-size: 0.8em; font-style: italic; text-align: left; display: block;\">(Image source: https://static.vecteezy.com/system/resources/previews/007/695/520/original/gauss-distribution-standard-normal-distribution-gaussian-bell-graph-curve-business-and-marketing-concept-math-probability-theory-editable-stroke-illustration-isolated-on-white-background-vector.jpg)</span>\n",
    "  </div>\n",
    "  <div style=\"flex: 1\">\n",
    "    <ol style=\"margin-top: 0;\">\n",
    "      <li>Represent our problem as a normal distribution.</li>\n",
    "      <li>Estimate the σ² (the variance) of that distribution.</li>\n",
    "      <li>Estimate the distance of our result from μ (the mean), measured in σ (standard deviations).</li>\n",
    "      <li>Check if this distance exceeds our threshold of statistical significance.</li>\n",
    "    </ol>\n",
    "  </div>\n",
    "</div>"
   ]
  },
  {
   "cell_type": "markdown",
   "id": "80fe7167-ad60-4c3f-a6b8-9dff7dc76a69",
   "metadata": {
    "editable": true,
    "slideshow": {
     "slide_type": "slide"
    },
    "tags": []
   },
   "source": [
    "**What is \"statistical significance?\"**\n",
    "\n",
    "When a relationship we observe in our data is likely not present due to random chance.\n",
    "\n",
    "**How likely?**\n",
    "\n",
    "We get to decide, but in the social sciences, the threshold is usually 0.95 or 95%.\n",
    "\n",
    "**Used in a sentence:**\n",
    "\n",
    "\"Our level of confidence that the relationship in our data *did not occur by random chance* is 95%.\"\n",
    "\n",
    "**Another common formulation:**\n",
    "\n",
    "You will also see statistical significance expressed in inverse terms using α. e.g. if we want 95% confidence our result didn't occur due to random chance, we would decide \"to conduct our study using α = 0.05.\""
   ]
  },
  {
   "cell_type": "markdown",
   "id": "48ee9e92-338f-4f93-befa-f10fe68e371f",
   "metadata": {
    "editable": true,
    "slideshow": {
     "slide_type": "slide"
    },
    "tags": []
   },
   "source": [
    "## What is the normal distribution?\n",
    "\n",
    "<img src=\"normal_distribution.jpg\" alt=\"Normal Distribution diagram with μ, σ, and percentages\" width=\"80%\">"
   ]
  },
  {
   "cell_type": "markdown",
   "id": "2279eb9b-b9d5-4e4b-b157-056178353a2a",
   "metadata": {
    "editable": true,
    "slideshow": {
     "slide_config": {
      "center": false
     },
     "slide_type": "slide"
    },
    "tags": []
   },
   "source": [
    "### An experiment to check μ:"
   ]
  },
  {
   "cell_type": "code",
   "execution_count": 4,
   "id": "866b6ff8-e8ff-4566-976a-d4140bd7a5d2",
   "metadata": {
    "editable": true,
    "slideshow": {
     "slide_config": {
      "center": false
     },
     "slide_type": ""
    },
    "tags": []
   },
   "outputs": [
    {
     "data": {
      "image/png": "[encoded data removed]",
      "text/plain": [
       "<Figure size 640x480 with 1 Axes>"
      ]
     },
     "metadata": {},
     "output_type": "display_data"
    }
   ],
   "source": [
    "normally_distributed_data = np.random.normal(loc=10, scale=2, size=500000)\n",
    "plot_histogram(\"My (approximately) normally distributed data\", normally_distributed_data)"
   ]
  },
  {
   "cell_type": "code",
   "execution_count": null,
   "id": "20ff09aa-82b1-4d09-95e2-793f298f492b",
   "metadata": {
    "editable": true,
    "slideshow": {
     "slide_type": ""
    },
    "tags": []
   },
   "outputs": [],
   "source": []
  },
  {
   "cell_type": "code",
   "execution_count": null,
   "id": "d792170a-35f3-4d03-8172-5f3b99053da9",
   "metadata": {
    "editable": true,
    "slideshow": {
     "slide_type": ""
    },
    "tags": []
   },
   "outputs": [],
   "source": []
  },
  {
   "cell_type": "code",
   "execution_count": 5,
   "id": "c2950c96-17f2-418f-af88-d6b8acee5c31",
   "metadata": {
    "editable": true,
    "slideshow": {
     "slide_config": {
      "center": false
     },
     "slide_type": ""
    },
    "tags": []
   },
   "outputs": [
    {
     "name": "stdout",
     "output_type": "stream",
     "text": [
      "μ (mean) of the data: 9.997462190834797\n"
     ]
    }
   ],
   "source": [
    "print_calculation(title=\"μ (mean) of the data\", calculation=np.mean(normally_distributed_data)) "
   ]
  },
  {
   "cell_type": "code",
   "execution_count": null,
   "id": "b03c826a-a0ab-41da-b82e-b8a720eaddf8",
   "metadata": {
    "editable": true,
    "slideshow": {
     "slide_type": ""
    },
    "tags": []
   },
   "outputs": [],
   "source": []
  },
  {
   "cell_type": "markdown",
   "id": "20861e7f-e3fa-46d9-a170-39978e59aae7",
   "metadata": {
    "editable": true,
    "slideshow": {
     "slide_type": "slide"
    },
    "tags": []
   },
   "source": [
    "### An experiment to check σ:\n",
    "\n",
    "<img src=\"normal_distribution.jpg\" alt=\"Normal Distribution diagram with μ, σ, and percentages\" width=\"80%\">"
   ]
  },
  {
   "cell_type": "code",
   "execution_count": 6,
   "id": "22449da4-b6f9-4732-b1b2-7d493ce735f2",
   "metadata": {
    "editable": true,
    "slideshow": {
     "slide_type": "slide"
    },
    "tags": []
   },
   "outputs": [
    {
     "data": {
      "image/png": "[encoded data removed]",
      "text/plain": [
       "<Figure size 640x480 with 1 Axes>"
      ]
     },
     "metadata": {},
     "output_type": "display_data"
    }
   ],
   "source": [
    "normally_distributed_data = np.random.normal(loc=10, scale=2, size=500000)\n",
    "plot_histogram(\"My (approximately) normally distributed data\", normally_distributed_data)"
   ]
  },
  {
   "cell_type": "code",
   "execution_count": null,
   "id": "9761e0aa-cdea-45c0-9f6e-152fc99cfab4",
   "metadata": {
    "editable": true,
    "slideshow": {
     "slide_type": ""
    },
    "tags": []
   },
   "outputs": [],
   "source": []
  },
  {
   "cell_type": "code",
   "execution_count": null,
   "id": "b0bd5659-302c-40ed-b2dd-1e5ef5619022",
   "metadata": {
    "editable": true,
    "slideshow": {
     "slide_type": ""
    },
    "tags": []
   },
   "outputs": [],
   "source": []
  },
  {
   "cell_type": "code",
   "execution_count": 7,
   "id": "d5db9ecd-4854-4018-840f-ed47fd8b7ee8",
   "metadata": {
    "editable": true,
    "slideshow": {
     "slide_type": "slide"
    },
    "tags": []
   },
   "outputs": [],
   "source": [
    "def percentage_within(distribution, lower_bound, upper_bound):\n",
    "    values_between = 0\n",
    "    total_values = len(distribution)\n",
    "    \n",
    "    for datapoint in distribution:\n",
    "        if datapoint >= lower_bound and datapoint <= upper_bound:\n",
    "            values_between += 1\n",
    "        else:\n",
    "            values_between += 0\n",
    "            \n",
    "    return values_between / total_values"
   ]
  },
  {
   "cell_type": "markdown",
   "id": "58711229-efd0-4f08-b158-a3515b17cc97",
   "metadata": {
    "editable": true,
    "slideshow": {
     "slide_type": "slide"
    },
    "tags": []
   },
   "source": [
    "<img src=\"normal_distribution.jpg\" alt=\"Normal Distribution diagram with μ, σ, and percentages\" width=\"50%\">"
   ]
  },
  {
   "cell_type": "code",
   "execution_count": 8,
   "id": "f83fdcbe-6a5d-4b27-afc1-94b8b4588b87",
   "metadata": {
    "editable": true,
    "slideshow": {
     "slide_type": ""
    },
    "tags": []
   },
   "outputs": [
    {
     "name": "stdout",
     "output_type": "stream",
     "text": [
      "Percentage within 1σ of μ: 0.682088\n"
     ]
    }
   ],
   "source": [
    "mean = np.mean(normally_distributed_data)\n",
    "standard_deviation = np.std(normally_distributed_data)\n",
    "\n",
    "print_calculation(\n",
    "    \"Percentage within 1σ of μ\", \n",
    "    percentage_within(\n",
    "        normally_distributed_data,\n",
    "        mean - (1 * standard_deviation), \n",
    "        mean + (1 * standard_deviation)\n",
    "    )\n",
    ")"
   ]
  },
  {
   "cell_type": "code",
   "execution_count": null,
   "id": "2f2ae18a-6a27-4992-a79a-11309dc5afcf",
   "metadata": {
    "editable": true,
    "slideshow": {
     "slide_type": ""
    },
    "tags": []
   },
   "outputs": [],
   "source": []
  },
  {
   "cell_type": "markdown",
   "id": "fdb332b1-11ac-4600-ae00-b666a82e5bb9",
   "metadata": {
    "editable": true,
    "slideshow": {
     "slide_type": "slide"
    },
    "tags": []
   },
   "source": [
    "## Our Method\n",
    "\n",
    "<div style=\"display: flex; align-items: center;\">\n",
    "  <div style=\"flex: 1;\">\n",
    "    <img src=\"normal_distribution.jpg\" alt=\"Normal Distribution diagram with μ, σ, and percentages\" width=\"2000\">\n",
    "  </div>\n",
    "  <div style=\"flex: 1\">\n",
    "    <ol style=\"margin-top: 0;\">\n",
    "          <li>Represent our problem as a normal distribution.</li>\n",
    "          <li>Estimate the σ² (the variance) of that distribution.</li>\n",
    "          <li>Estimate the distance of our result from μ (the mean), measured in σ (standard deviations).</li>\n",
    "        <li>Check if this distance exceeds our threshold of statistical significance.</li>\n",
    "    </ol>\n",
    "  </div>\n",
    "</div>"
   ]
  },
  {
   "cell_type": "markdown",
   "id": "511066ad-8422-437d-81bd-c66606c107d7",
   "metadata": {
    "editable": true,
    "slideshow": {
     "slide_type": "slide"
    },
    "tags": []
   },
   "source": [
    "# (Finally) The Central Limit Theorem\n",
    "\n",
    "Given a sufficiently large sample:\n",
    "1. The means of the samples in a set of samples (the\n",
    "sample means) will be approximately normally\n",
    "distributed,\n",
    "2. This normal distribution will have a mean close to the\n",
    "mean the population, and\n",
    "3. The variance of the sample means will be close to the\n",
    "variance of the population divided by the square root of\n",
    "the sample size.\n",
    "\n",
    "<span style=\"font-size: 0.8em; font-style: italic; text-align: left; display: block;\">(Source https://ocw.mit.edu/courses/6-0002-introduction-to-computational-thinking-and-data-science-fall-2016/resources/mit6_0002f16_lec8/)</span>"
   ]
  },
  {
   "cell_type": "markdown",
   "id": "190196de-d069-46f6-8aef-fcdee5473f1c",
   "metadata": {
    "editable": true,
    "slideshow": {
     "slide_type": "slide"
    },
    "tags": []
   },
   "source": [
    "# What does this mean?\n",
    "\n",
    "Given a sufficiently large sample:\n",
    "1. The means of the samples in a set of samples (the\n",
    "sample means) will be approximately normally\n",
    "distributed,"
   ]
  },
  {
   "cell_type": "markdown",
   "id": "cbe87ab0-d149-4612-877b-13a43bbc545e",
   "metadata": {
    "editable": true,
    "slideshow": {
     "slide_type": "slide"
    },
    "tags": []
   },
   "source": [
    "# Demonstration!"
   ]
  },
  {
   "cell_type": "code",
   "execution_count": null,
   "id": "a16cb891-a7a4-4f49-9b3a-ca9863aa7843",
   "metadata": {
    "editable": true,
    "slideshow": {
     "slide_type": ""
    },
    "tags": []
   },
   "outputs": [],
   "source": [
    "bimodal_population = np.concatenate([np.random.standard_normal(5000), 10 + 2 * np.random.standard_normal(5000)])\n",
    "plot_histogram(\"Bimodal Population\", bimodal_population)"
   ]
  },
  {
   "cell_type": "code",
   "execution_count": null,
   "id": "774d304e-c148-4489-8b9d-e79daaf63031",
   "metadata": {
    "editable": true,
    "slideshow": {
     "slide_type": ""
    },
    "tags": []
   },
   "outputs": [],
   "source": []
  },
  {
   "cell_type": "code",
   "execution_count": null,
   "id": "26892402-4b1b-4b46-b69b-ab1a5ae21882",
   "metadata": {
    "editable": true,
    "slideshow": {
     "slide_type": ""
    },
    "tags": []
   },
   "outputs": [],
   "source": []
  },
  {
   "cell_type": "markdown",
   "id": "fb81d325-9c31-4755-b764-9abbf525cd1f",
   "metadata": {
    "editable": true,
    "slideshow": {
     "slide_type": "slide"
    },
    "tags": []
   },
   "source": [
    "# Demonstration!"
   ]
  },
  {
   "cell_type": "code",
   "execution_count": null,
   "id": "038a188f-0eaa-423f-a50e-7585c7e03fdc",
   "metadata": {
    "editable": true,
    "scrolled": true,
    "slideshow": {
     "slide_type": ""
    },
    "tags": []
   },
   "outputs": [],
   "source": [
    "sample_sizes = [1,2,4,10,30,60,120,200]\n",
    "\n",
    "for sample_size in sample_sizes:\n",
    "    plot_histogram(\n",
    "        f\"Rough sampling distribution of the mean for sample size {sample_size}:\", \n",
    "        four_million_sample_means(bimodal_population, sample_size)\n",
    "    )"
   ]
  },
  {
   "cell_type": "code",
   "execution_count": null,
   "id": "dd1d50bc-54a5-4976-bee2-c55eea561fd1",
   "metadata": {
    "editable": true,
    "slideshow": {
     "slide_type": ""
    },
    "tags": []
   },
   "outputs": [],
   "source": []
  },
  {
   "cell_type": "code",
   "execution_count": null,
   "id": "5f2dc42d-842d-4173-89dd-42b15fd266c5",
   "metadata": {
    "editable": true,
    "slideshow": {
     "slide_type": ""
    },
    "tags": []
   },
   "outputs": [],
   "source": []
  },
  {
   "cell_type": "markdown",
   "id": "895defd7-8c8f-4868-a93c-8c49138286a4",
   "metadata": {
    "editable": true,
    "slideshow": {
     "slide_type": "slide"
    },
    "tags": []
   },
   "source": [
    "# Demonstration #2!"
   ]
  },
  {
   "cell_type": "code",
   "execution_count": 72,
   "id": "d7291c86-6ac3-44f3-a325-b6098e0f9067",
   "metadata": {
    "editable": true,
    "slideshow": {
     "slide_type": ""
    },
    "tags": []
   },
   "outputs": [
    {
     "data": {
      "image/png": "[encoded data removed]",
      "text/plain": [
       "<Figure size 640x480 with 1 Axes>"
      ]
     },
     "metadata": {},
     "output_type": "display_data"
    }
   ],
   "source": [
    "exponential_population = np.random.exponential(size=10000) + 5\n",
    "plot_histogram(\"Exponential Population\", exponential_population)"
   ]
  },
  {
   "cell_type": "code",
   "execution_count": null,
   "id": "c7a8cbb3-6eed-45d0-a581-bc1368c95a49",
   "metadata": {
    "editable": true,
    "slideshow": {
     "slide_type": ""
    },
    "tags": []
   },
   "outputs": [],
   "source": []
  },
  {
   "cell_type": "code",
   "execution_count": null,
   "id": "2bc3bb7d-a9d4-4b15-bc47-2a18ad734dcc",
   "metadata": {
    "editable": true,
    "slideshow": {
     "slide_type": ""
    },
    "tags": []
   },
   "outputs": [],
   "source": []
  },
  {
   "cell_type": "markdown",
   "id": "e948dab2-517a-4ba6-9ef6-5c3af3b9ec42",
   "metadata": {
    "editable": true,
    "slideshow": {
     "slide_type": "slide"
    },
    "tags": []
   },
   "source": [
    "# Demonstration #2!"
   ]
  },
  {
   "cell_type": "code",
   "execution_count": null,
   "id": "6a9b4480-7b82-4230-9ca1-0fcc97ccab6a",
   "metadata": {
    "editable": true,
    "scrolled": true,
    "slideshow": {
     "slide_type": ""
    },
    "tags": []
   },
   "outputs": [],
   "source": [
    "sample_sizes = [1,2,4,10,30,60,120,200]\n",
    "\n",
    "for sample_size in sample_sizes:\n",
    "    plot_histogram(\n",
    "        f\"Rough sampling distribution of the mean for sample size {sample_size}:\", \n",
    "        four_million_sample_means(exponential_population, sample_size)\n",
    "    )"
   ]
  },
  {
   "cell_type": "code",
   "execution_count": null,
   "id": "c2ff06ee-37fc-4662-a841-48989a0586b4",
   "metadata": {
    "editable": true,
    "slideshow": {
     "slide_type": ""
    },
    "tags": []
   },
   "outputs": [],
   "source": []
  },
  {
   "cell_type": "code",
   "execution_count": null,
   "id": "f97b0d76-d6b9-4f55-8972-0dacec2aa17d",
   "metadata": {
    "editable": true,
    "slideshow": {
     "slide_type": ""
    },
    "tags": []
   },
   "outputs": [],
   "source": []
  },
  {
   "cell_type": "markdown",
   "id": "46b3f9cf-3774-4792-ac99-34fbab40e0c9",
   "metadata": {
    "editable": true,
    "slideshow": {
     "slide_type": "slide"
    },
    "tags": []
   },
   "source": [
    "# Why \"four million samples\"?"
   ]
  },
  {
   "cell_type": "markdown",
   "id": "a6a6694f-ecec-468a-a089-fcd3cba7e693",
   "metadata": {},
   "source": [
    "- The \"sampling distribution of the mean\" is the distribution we would get if we collected **every possible** sample of our chosen sample size from the population and plotted their means.\n",
    "- The formula for how many samples this would be is C(p,n) = p! / (n! * (p-n)!).\n",
    "- 4! means four factorial, e.g. 1 x 2 x 3 x 4."
   ]
  },
  {
   "cell_type": "code",
   "execution_count": 21,
   "id": "b8161374-f57b-488d-9788-5a5eb3772e8c",
   "metadata": {},
   "outputs": [
    {
     "data": {
      "text/plain": [
       "24"
      ]
     },
     "execution_count": 21,
     "metadata": {},
     "output_type": "execute_result"
    }
   ],
   "source": [
    "import math\n",
    "\n",
    "math.factorial(4)"
   ]
  },
  {
   "cell_type": "code",
   "execution_count": 22,
   "id": "0057adff-23a2-4485-874c-00127e1418c6",
   "metadata": {},
   "outputs": [
    {
     "name": "stdout",
     "output_type": "stream",
     "text": [
      "72,992,339,297,213,570,723,254,202,373,472,021,299,701,224,084,300,031,456,672,032,247,147,510,771,563,159,117,677,316,779,904,341,486,629,475,390,518,373,774,139,742,822,756,825,565,113,120,541,493,582,788,180,844,121,989,145,504,182,838,601,594,728,784,436,865,033,569,806,974,956,054,207,059,954,000,438,626,604,768,005,012,720,823,788,448,421,592,468,041,613,682,147,328\n"
     ]
    }
   ],
   "source": [
    "population_size = 10_000\n",
    "sample_size = 120\n",
    "\n",
    "total_samples = math.factorial(population_size) / (math.factorial(sample_size) * math.factorial(population_size - sample_size))\n",
    "print(f\"{total_samples:,.0f}\")"
   ]
  },
  {
   "cell_type": "code",
   "execution_count": null,
   "id": "436e6a3e-9afa-412b-b23b-9f848a0a6070",
   "metadata": {},
   "outputs": [],
   "source": []
  },
  {
   "cell_type": "code",
   "execution_count": null,
   "id": "ab0f4ad9-7d7a-405a-ac17-ef6d2bf2ab0c",
   "metadata": {},
   "outputs": [],
   "source": []
  },
  {
   "cell_type": "markdown",
   "id": "f1956763-8418-478d-8eee-e5c81044756e",
   "metadata": {
    "editable": true,
    "slideshow": {
     "slide_type": "slide"
    },
    "tags": []
   },
   "source": [
    "# (Or, according to https://benpittstoller.com/Misc/LargeNumbers.html):\n",
    "\n",
    "seventy-two duononagintillion nine hundred ninety-two unnonagintillion three hundred thirty-nine nonagintillion two hundred ninety-seven novemoctogintillion two hundred thirteen octooctogintillion five hundred seventy septemoctogintillion seven hundred twenty-three sexoctogintillion two hundred fifty-four quinquaoctogintillion two hundred two quattuoroctogintillion three hundred seventy-three treoctogintillion four hundred seventy-two duooctogintillion twenty-one unoctogintillion two hundred ninety-nine octogintillion seven hundred one novenseptuagintillion two hundred twenty-four octoseptuagintillion eighty-four septenseptuagintillion three hundred seseptuagintillion thirty-one quinquaseptuagintillion four hundred fifty-six quattuorseptuagintillion six hundred seventy-two treseptuagintillion thirty-two duoseptuagintillion two hundred forty-seven unseptuagintillion one hundred forty-seven septuagintillion five hundred ten novensexagintillion seven hundred seventy-one octosexagintillion five hundred sixty-three septensexagintillion one hundred fifty-nine sesexagintillion one hundred seventeen quinquasexagintillion six hundred seventy-seven quattuorsexagintillion three hundred sixteen tresexagintillion seven hundred seventy-nine duosexagintillion nine hundred four unsexagintillion three hundred forty-one sexagintillion four hundred eighty-six novenquinquagintillion six hundred twenty-nine octoquinquagintillion four hundred seventy-five septenquinquagintillion three hundred ninety sesquinquagintillion five hundred eighteen quinquaquinquagintillion three hundred seventy-three quattuorquinquagintillion seven hundred seventy-four tresquinquagintillion one hundred thirty-nine duoquinquagintillion seven hundred forty-two unquinquagintillion eight hundred twenty-two quinquagintillion seven hundred fifty-six novenquadragintillion eight hundred twenty-five octoquadragintillion five hundred sixty-five septenquadragintillion one hundred thirteen sesquadragintillion one hundred twenty quinquaquadragintillion five hundred forty-one quattuorquadragintillion four hundred ninety-three tresquadragintillion five hundred eighty-two duoquadragintillion seven hundred eighty-eight unquadragintillion one hundred eighty quadragintillion eight hundred forty-four noventrigintillion one hundred twenty-one octotrigintillion nine hundred eighty-nine septentrigintillion one hundred forty-five sestrigintillion five hundred four quinquatrigintillion one hundred eighty-two quattuortrigintillion eight hundred thirty-eight trestrigintillion six hundred one duotrigintillion five hundred ninety-four untrigintillion seven hundred twenty-eight trigintillion seven hundred eighty-four novemvigintillion four hundred thirty-six octovigintillion eight hundred sixty-five septemvigintillion thirty-three sesvigintillion five hundred sixty-nine quinquavigintillion eight hundred six quattuorvigintillion nine hundred seventy-four tresvigintillion nine hundred fifty-six duovigintillion fifty-four unvigintillion two hundred seven vigintillion fifty-nine novendecillion nine hundred fifty-four octodecillion four hundred thirty-eight sedecillion six hundred twenty-six quinquadecillion six hundred four quattuordecillion seven hundred sixty-eight tredecillion five duodecillion twelve undecillion seven hundred twenty decillion eight hundred twenty-three nonillion seven hundred eighty-eight octillion four hundred forty-eight septillion four hundred twenty-one sextillion five hundred ninety-two quintillion four hundred sixty-eight quadrillion forty-one trillion six hundred thirteen billion six hundred eighty-two million one hundred forty-seven thousand three hundred twenty-eight"
   ]
  },
  {
   "cell_type": "markdown",
   "id": "c7923c65-30c2-4bbc-846c-653830b8e8a2",
   "metadata": {
    "editable": true,
    "slideshow": {
     "slide_type": "slide"
    },
    "tags": []
   },
   "source": [
    "# How many samples do we actually take?"
   ]
  },
  {
   "cell_type": "markdown",
   "id": "50ffa224-16ea-4e80-b145-4b5cf177da67",
   "metadata": {
    "editable": true,
    "slideshow": {
     "slide_type": "fragment"
    },
    "tags": []
   },
   "source": [
    "- One!"
   ]
  },
  {
   "cell_type": "markdown",
   "id": "a51befa7-0fe8-400a-b529-ab44d2e6adf5",
   "metadata": {
    "editable": true,
    "slideshow": {
     "slide_type": "fragment"
    },
    "tags": []
   },
   "source": [
    "- And if we were going to take the crazy number of samples mentioned above, it would be **much** easier just to measure the entire population."
   ]
  },
  {
   "cell_type": "markdown",
   "id": "7f8ffb7e-a940-4c54-be19-dc2b437a01f5",
   "metadata": {
    "editable": true,
    "slideshow": {
     "slide_type": "fragment"
    },
    "tags": []
   },
   "source": [
    "- As researchers, we likely do not have the resources to measure an entire population, or even to take more than one, or (if we are lucky) a small handful of samples."
   ]
  },
  {
   "cell_type": "markdown",
   "id": "71e4fc89-4788-4e94-b36b-fdbd4e8b623a",
   "metadata": {
    "editable": true,
    "slideshow": {
     "slide_type": "slide"
    },
    "tags": []
   },
   "source": [
    "## However, our result is still very helpful for our method!\n",
    "\n",
    "<div style=\"display: flex; align-items: center;\">\n",
    "  <div style=\"flex: 1;\">\n",
    "    <img src=\"normal_distribution.jpg\" alt=\"Normal Distribution diagram with μ, σ, and percentages\" width=\"2000\">\n",
    "      <span style=\"font-size: 0.8em; font-style: italic; text-align: left; display: block;\">(Image source: https://static.vecteezy.com/system/resources/previews/007/695/520/original/gauss-distribution-standard-normal-distribution-gaussian-bell-graph-curve-business-and-marketing-concept-math-probability-theory-editable-stroke-illustration-isolated-on-white-background-vector.jpg)</span>\n",
    "  </div>\n",
    "  <div style=\"flex: 1\">\n",
    "    <ol style=\"margin-top: 0;\">\n",
    "      <li>Represent our problem as a normal distribution.</li>\n",
    "      <li>Estimate the σ² (the variance) of that distribution.</li>\n",
    "      <li>Estimate the distance of our result from μ (the mean), measured in σ (standard deviations).</li>\n",
    "      <li>Check if this distance exceeds our threshold of statistical significance.</li>\n",
    "    </ol>\n",
    "  </div>\n",
    "</div>"
   ]
  },
  {
   "cell_type": "markdown",
   "id": "74ee694d-f9d6-4d99-900d-dedeec62dc2a",
   "metadata": {
    "editable": true,
    "slideshow": {
     "slide_type": "slide"
    },
    "tags": []
   },
   "source": [
    "Certainly. Let's break this down in a simple, intuitive way:\n",
    "\n",
    "1. Binary outcomes:\n",
    "   We're dealing with only two possible results: success (1) or failure (0).\n",
    "\n",
    "2. Probability:\n",
    "   p = probability of success\n",
    "   1-p = probability of failure\n",
    "\n",
    "3. Variance calculation:\n",
    "   Variance measures the average squared deviation from the mean.\n",
    "\n",
    "4. Mean for binary outcome:\n",
    "   The mean (μ) is simply p, as that's the expected value.\n",
    "\n",
    "5. Calculating deviations:\n",
    "   - For a success (1): The deviation is (1 - p)\n",
    "   - For a failure (0): The deviation is (0 - p) = -p\n",
    "\n",
    "6. Squaring these deviations:\n",
    "   - For success: (1 - p)²\n",
    "   - For failure: (-p)² = p²\n",
    "\n",
    "7. Weighted average of squared deviations:\n",
    "   Variance = p(1 - p)² + (1-p)(p²)\n",
    "\n",
    "8. Simplifying:\n",
    "   = p(1 - 2p + p²) + p² - p³\n",
    "   = p - 2p² + p³ + p² - p³\n",
    "   = p - p²\n",
    "   = p(1 - p)\n",
    "\n",
    "This p(1-p) formula captures the spread of binary data elegantly:\n",
    "- When p = 0.5, variance is at its maximum (0.25), reflecting maximum uncertainty.\n",
    "- As p approaches 0 or 1, variance decreases, reflecting more certainty.\n",
    "\n",
    "This simple formula encapsulates the variability inherent in binary outcomes, which is why it's used as the variance in the standard error calculation for proportions."
   ]
  },
  {
   "cell_type": "markdown",
   "id": "55b22034-594b-4472-9474-321ede85dd5d",
   "metadata": {},
   "source": [
    "We don't know what the mean is, but we can approximate the stdev so that we *catch* the population within a certain range of the confidence interval we construct."
   ]
  }
 ],
 "metadata": {
  "kernelspec": {
   "display_name": "Python ML",
   "language": "python",
   "name": "python3"
  },
  "language_info": {
   "codemirror_mode": {
    "name": "ipython",
    "version": 3
   },
   "file_extension": ".py",
   "mimetype": "text/x-python",
   "name": "python",
   "nbconvert_exporter": "python",
   "pygments_lexer": "ipython3",
   "version": "3.11.9"
  }
 },
 "nbformat": 4,
 "nbformat_minor": 5
}
