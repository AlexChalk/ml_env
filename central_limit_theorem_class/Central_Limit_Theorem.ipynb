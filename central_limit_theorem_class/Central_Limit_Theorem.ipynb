{
 "cells": [
  {
   "cell_type": "code",
   "execution_count": null,
   "id": "c6403291-dc2e-4736-9752-3a324a7c8b67",
   "metadata": {
    "editable": true,
    "slideshow": {
     "slide_type": ""
    },
    "tags": []
   },
   "outputs": [],
   "source": [
    "import matplotlib.pyplot as plt\n",
    "import numpy as np\n",
    "import math as math\n",
    "from sklearn.datasets import fetch_california_housing"
   ]
  },
  {
   "cell_type": "code",
   "execution_count": null,
   "id": "5bbfd045-312b-42c3-8175-53afc0addd80",
   "metadata": {
    "editable": true,
    "slideshow": {
     "slide_type": ""
    },
    "tags": []
   },
   "outputs": [],
   "source": [
    "def four_million_sample_means(population, sample_size):\n",
    "    \"A true sample distribution of means is too large to calculate in class\"\n",
    "    return np.mean(np.random.choice(population, size=(4000000, sample_size)), axis=1)"
   ]
  },
  {
   "cell_type": "code",
   "execution_count": null,
   "id": "8956232b-f2eb-47e6-b848-9851e6b79b64",
   "metadata": {
    "editable": true,
    "slideshow": {
     "slide_type": ""
    },
    "tags": []
   },
   "outputs": [],
   "source": [
    "def plot_histogram(title, distribution):\n",
    "    \"Plots a simple histogram with 300 bins\"\n",
    "    fig, axis = plt.subplots()\n",
    "    axis.set_title(title)\n",
    "    axis.hist(distribution, bins=300)\n",
    "\n",
    "def print_calculation(title, calculation):\n",
    "    print(title + \": \" + str(calculation))"
   ]
  },
  {
   "cell_type": "markdown",
   "id": "0cd4d6a7-e667-4dce-b7d7-5eeb84fd3606",
   "metadata": {
    "editable": true,
    "slideshow": {
     "slide_type": "slide"
    },
    "tags": []
   },
   "source": [
    "# The Central Limit Theorem"
   ]
  },
  {
   "attachments": {},
   "cell_type": "markdown",
   "id": "1c415281-4ed3-4824-ba67-e729446cc195",
   "metadata": {
    "editable": true,
    "slideshow": {
     "slide_type": "slide"
    },
    "tags": []
   },
   "source": [
    "## The Goal: How Do We Test for Statistical Significance?"
   ]
  },
  {
   "cell_type": "markdown",
   "id": "1c9c6496-9162-4ed8-80dc-614f8ec44d19",
   "metadata": {
    "editable": true,
    "slideshow": {
     "slide_type": "slide"
    },
    "tags": []
   },
   "source": [
    "## Our Method\n",
    "\n",
    "<div style=\"display: flex; align-items: center;\">\n",
    "  <div style=\"flex: 1;\">\n",
    "    <img src=\"normal_distribution.jpg\" alt=\"Normal Distribution diagram with μ, σ, and percentages\" width=\"2000\">\n",
    "      <span style=\"font-size: 0.8em; font-style: italic; text-align: left; display: block;\">(Image source: https://static.vecteezy.com/system/resources/previews/007/695/520/original/gauss-distribution-standard-normal-distribution-gaussian-bell-graph-curve-business-and-marketing-concept-math-probability-theory-editable-stroke-illustration-isolated-on-white-background-vector.jpg)</span>\n",
    "  </div>\n",
    "  <div style=\"flex: 1\">\n",
    "    <ol style=\"margin-top: 0;\">\n",
    "      <li>Represent our problem as a normal distribution.</li>\n",
    "      <li>Find the μ (the mean) of that distribution.</li>\n",
    "      <li>Find the σ² (the variance) of that distribution.</li>\n",
    "      <li>Check if the distance of our result from μ, measured in σ (standard deviations), exceeds our threshold of statistical significance.</li>\n",
    "    </ol>\n",
    "  </div>\n",
    "</div>"
   ]
  },
  {
   "cell_type": "markdown",
   "id": "80fe7167-ad60-4c3f-a6b8-9dff7dc76a69",
   "metadata": {
    "editable": true,
    "slideshow": {
     "slide_type": "slide"
    },
    "tags": []
   },
   "source": [
    "**What is \"statistical significance?\"**\n",
    "\n",
    "When a relationship we observe in our data is likely not present due to random chance.\n",
    "\n",
    "**How likely?**\n",
    "\n",
    "We get to decide, but in the social sciences, the threshold is usually 0.95 or 95%.\n",
    "\n",
    "**Used in a sentence:**\n",
    "\n",
    "\"Our level of confidence that the relationship in our data *did not occur by random chance* is 95%.\"\n",
    "\n",
    "**Another common formulation:**\n",
    "\n",
    "You will also see statistical significance expressed in inverse terms using α. e.g. if we want 95% confidence our result didn't occur due to random chance, we would decide \"to conduct our study using α = 0.05.\""
   ]
  },
  {
   "cell_type": "markdown",
   "id": "48ee9e92-338f-4f93-befa-f10fe68e371f",
   "metadata": {
    "editable": true,
    "slideshow": {
     "slide_type": "slide"
    },
    "tags": []
   },
   "source": [
    "## What is the normal distribution?\n",
    "\n",
    "<img src=\"normal_distribution.jpg\" alt=\"Normal Distribution diagram with μ, σ, and percentages\" width=\"80%\">"
   ]
  },
  {
   "cell_type": "markdown",
   "id": "2279eb9b-b9d5-4e4b-b157-056178353a2a",
   "metadata": {
    "editable": true,
    "slideshow": {
     "slide_config": {
      "center": false
     },
     "slide_type": "slide"
    },
    "tags": []
   },
   "source": [
    "### An experiment to check μ:"
   ]
  },
  {
   "cell_type": "code",
   "execution_count": null,
   "id": "866b6ff8-e8ff-4566-976a-d4140bd7a5d2",
   "metadata": {
    "editable": true,
    "slideshow": {
     "slide_config": {
      "center": false
     },
     "slide_type": ""
    },
    "tags": []
   },
   "outputs": [],
   "source": [
    "normally_distributed_data = np.random.normal(loc=10, scale=2, size=500000)\n",
    "plot_histogram(\"My (approximately) normally distributed data\", normally_distributed_data)"
   ]
  },
  {
   "cell_type": "code",
   "execution_count": null,
   "id": "20ff09aa-82b1-4d09-95e2-793f298f492b",
   "metadata": {
    "editable": true,
    "slideshow": {
     "slide_type": ""
    },
    "tags": []
   },
   "outputs": [],
   "source": []
  },
  {
   "cell_type": "code",
   "execution_count": null,
   "id": "d792170a-35f3-4d03-8172-5f3b99053da9",
   "metadata": {
    "editable": true,
    "slideshow": {
     "slide_type": ""
    },
    "tags": []
   },
   "outputs": [],
   "source": []
  },
  {
   "cell_type": "code",
   "execution_count": null,
   "id": "c2950c96-17f2-418f-af88-d6b8acee5c31",
   "metadata": {
    "editable": true,
    "slideshow": {
     "slide_config": {
      "center": false
     },
     "slide_type": ""
    },
    "tags": []
   },
   "outputs": [],
   "source": [
    "print_calculation(title=\"μ (mean) of the data\", calculation=np.mean(normally_distributed_data)) "
   ]
  },
  {
   "cell_type": "code",
   "execution_count": null,
   "id": "b03c826a-a0ab-41da-b82e-b8a720eaddf8",
   "metadata": {
    "editable": true,
    "slideshow": {
     "slide_type": ""
    },
    "tags": []
   },
   "outputs": [],
   "source": []
  },
  {
   "cell_type": "markdown",
   "id": "20861e7f-e3fa-46d9-a170-39978e59aae7",
   "metadata": {
    "editable": true,
    "slideshow": {
     "slide_type": "slide"
    },
    "tags": []
   },
   "source": [
    "### An experiment to check σ:\n",
    "\n",
    "<img src=\"normal_distribution.jpg\" alt=\"Normal Distribution diagram with μ, σ, and percentages\" width=\"80%\">"
   ]
  },
  {
   "cell_type": "code",
   "execution_count": null,
   "id": "22449da4-b6f9-4732-b1b2-7d493ce735f2",
   "metadata": {
    "editable": true,
    "slideshow": {
     "slide_type": "slide"
    },
    "tags": []
   },
   "outputs": [],
   "source": [
    "normally_distributed_data = np.random.normal(loc=10, scale=2, size=500000)\n",
    "plot_histogram(\"My (approximately) normally distributed data\", normally_distributed_data)"
   ]
  },
  {
   "cell_type": "code",
   "execution_count": null,
   "id": "9761e0aa-cdea-45c0-9f6e-152fc99cfab4",
   "metadata": {
    "editable": true,
    "slideshow": {
     "slide_type": ""
    },
    "tags": []
   },
   "outputs": [],
   "source": []
  },
  {
   "cell_type": "code",
   "execution_count": null,
   "id": "b0bd5659-302c-40ed-b2dd-1e5ef5619022",
   "metadata": {
    "editable": true,
    "slideshow": {
     "slide_type": ""
    },
    "tags": []
   },
   "outputs": [],
   "source": []
  },
  {
   "cell_type": "code",
   "execution_count": null,
   "id": "d5db9ecd-4854-4018-840f-ed47fd8b7ee8",
   "metadata": {
    "editable": true,
    "slideshow": {
     "slide_type": "slide"
    },
    "tags": []
   },
   "outputs": [],
   "source": [
    "def percentage_within(distribution, lower_bound, upper_bound):\n",
    "    values_between = 0\n",
    "    total_values = len(distribution)\n",
    "    \n",
    "    for datapoint in distribution:\n",
    "        if datapoint >= lower_bound and datapoint <= upper_bound:\n",
    "            values_between += 1\n",
    "        else:\n",
    "            values_between += 0\n",
    "            \n",
    "    return values_between / total_values"
   ]
  },
  {
   "cell_type": "markdown",
   "id": "58711229-efd0-4f08-b158-a3515b17cc97",
   "metadata": {
    "editable": true,
    "slideshow": {
     "slide_type": "slide"
    },
    "tags": []
   },
   "source": [
    "<img src=\"normal_distribution.jpg\" alt=\"Normal Distribution diagram with μ, σ, and percentages\" width=\"50%\">"
   ]
  },
  {
   "cell_type": "code",
   "execution_count": null,
   "id": "f83fdcbe-6a5d-4b27-afc1-94b8b4588b87",
   "metadata": {
    "editable": true,
    "slideshow": {
     "slide_type": ""
    },
    "tags": []
   },
   "outputs": [],
   "source": [
    "mean = np.mean(normally_distributed_data)\n",
    "standard_deviation = np.std(normally_distributed_data)\n",
    "\n",
    "print_calculation(\n",
    "    \"Percentage within 1σ of μ\", \n",
    "    percentage_within(\n",
    "        normally_distributed_data,\n",
    "        mean - (1 * standard_deviation), \n",
    "        mean + (1 * standard_deviation)\n",
    "    )\n",
    ")"
   ]
  },
  {
   "cell_type": "code",
   "execution_count": null,
   "id": "2f2ae18a-6a27-4992-a79a-11309dc5afcf",
   "metadata": {
    "editable": true,
    "slideshow": {
     "slide_type": ""
    },
    "tags": []
   },
   "outputs": [],
   "source": []
  },
  {
   "cell_type": "markdown",
   "id": "fdb332b1-11ac-4600-ae00-b666a82e5bb9",
   "metadata": {
    "editable": true,
    "slideshow": {
     "slide_type": "slide"
    },
    "tags": []
   },
   "source": [
    "## Our Method\n",
    "\n",
    "<div style=\"display: flex; align-items: center;\">\n",
    "  <div style=\"flex: 1;\">\n",
    "    <img src=\"normal_distribution.jpg\" alt=\"Normal Distribution diagram with μ, σ, and percentages\" width=\"2000\">\n",
    "  </div>\n",
    "  <div style=\"flex: 1\">\n",
    "    <ol style=\"margin-top: 0;\">\n",
    "      <li>Represent our problem as a normal distribution.</li>\n",
    "      <li>Find the μ (the mean) of that distribution.</li>\n",
    "      <li>Find the σ² (the variance) of that distribution.</li>\n",
    "      <li>Check if the distance of our result from μ, measured in σ (standard deviations), exceeds our threshold of statistical significance.</li>\n",
    "    </ol>\n",
    "  </div>\n",
    "</div>"
   ]
  },
  {
   "cell_type": "markdown",
   "id": "511066ad-8422-437d-81bd-c66606c107d7",
   "metadata": {
    "editable": true,
    "slideshow": {
     "slide_type": "slide"
    },
    "tags": []
   },
   "source": [
    "# (Finally) The Central Limit Theorem\n",
    "\n",
    "Given a sufficiently large sample:\n",
    "1. The means of the samples in a set of samples (the\n",
    "sample means) will be approximately normally\n",
    "distributed,\n",
    "2. This normal distribution will have a mean close to the\n",
    "mean the population, and\n",
    "3. The variance of the sample means will be close to the\n",
    "variance of the population divided by the sample size.\n",
    "\n",
    "<span style=\"font-size: 0.8em; font-style: italic; text-align: left; display: block;\">(Source https://ocw.mit.edu/courses/6-0002-introduction-to-computational-thinking-and-data-science-fall-2016/resources/mit6_0002f16_lec8/)</span>"
   ]
  },
  {
   "cell_type": "code",
   "execution_count": null,
   "id": "038a188f-0eaa-423f-a50e-7585c7e03fdc",
   "metadata": {
    "editable": true,
    "slideshow": {
     "slide_type": ""
    },
    "tags": []
   },
   "outputs": [],
   "source": []
  }
 ],
 "metadata": {
  "kernelspec": {
   "display_name": "Python ML",
   "language": "python",
   "name": "python3"
  },
  "language_info": {
   "codemirror_mode": {
    "name": "ipython",
    "version": 3
   },
   "file_extension": ".py",
   "mimetype": "text/x-python",
   "name": "python",
   "nbconvert_exporter": "python",
   "pygments_lexer": "ipython3",
   "version": "3.11.9"
  }
 },
 "nbformat": 4,
 "nbformat_minor": 5
}
